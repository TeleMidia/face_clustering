{
 "cells": [
  {
   "cell_type": "code",
   "execution_count": 1,
   "metadata": {},
   "outputs": [],
   "source": [
    "import os\n",
    "import pandas as pd\n",
    "import cv2"
   ]
  },
  {
   "cell_type": "code",
   "execution_count": 2,
   "metadata": {},
   "outputs": [
    {
     "name": "stderr",
     "output_type": "stream",
     "text": [
      "Using TensorFlow backend.\n"
     ]
    }
   ],
   "source": [
    "from modules.feature_extractor import FeatureExtractor"
   ]
  },
  {
   "cell_type": "code",
   "execution_count": 3,
   "metadata": {},
   "outputs": [],
   "source": [
    "dataset_dir = \"/home/paulo/Imagens/telemidia_faces\""
   ]
  },
  {
   "cell_type": "code",
   "execution_count": 4,
   "metadata": {},
   "outputs": [],
   "source": [
    "_,_,img_urls = next(os.walk(dataset_dir))"
   ]
  },
  {
   "cell_type": "code",
   "execution_count": 5,
   "metadata": {},
   "outputs": [],
   "source": [
    "complete_urls = [dataset_dir+\"/\"+i for i in img_urls]"
   ]
  },
  {
   "cell_type": "code",
   "execution_count": 6,
   "metadata": {},
   "outputs": [
    {
     "data": {
      "text/plain": [
       "['/home/paulo/Imagens/telemidia_faces/paulo.jpeg',\n",
       " '/home/paulo/Imagens/telemidia_faces/alan.jpeg',\n",
       " '/home/paulo/Imagens/telemidia_faces/paulo3.jpg',\n",
       " '/home/paulo/Imagens/telemidia_faces/arthur.jpg',\n",
       " '/home/paulo/Imagens/telemidia_faces/paulo2.jpeg',\n",
       " '/home/paulo/Imagens/telemidia_faces/arthur2.jpeg',\n",
       " '/home/paulo/Imagens/telemidia_faces/busson2.jpeg',\n",
       " '/home/paulo/Imagens/telemidia_faces/busson.jpeg']"
      ]
     },
     "execution_count": 6,
     "metadata": {},
     "output_type": "execute_result"
    }
   ],
   "source": [
    "complete_urls"
   ]
  },
  {
   "cell_type": "code",
   "execution_count": 7,
   "metadata": {},
   "outputs": [],
   "source": [
    "extractor = FeatureExtractor()"
   ]
  },
  {
   "cell_type": "code",
   "execution_count": 8,
   "metadata": {},
   "outputs": [
    {
     "name": "stdout",
     "output_type": "stream",
     "text": [
      "/home/paulo/Imagens/telemidia_faces/paulo.jpeg\n",
      "/home/paulo/Imagens/telemidia_faces/alan.jpeg\n",
      "/home/paulo/Imagens/telemidia_faces/paulo3.jpg\n",
      "/home/paulo/Imagens/telemidia_faces/arthur.jpg\n",
      "/home/paulo/Imagens/telemidia_faces/paulo2.jpeg\n",
      "/home/paulo/Imagens/telemidia_faces/arthur2.jpeg\n",
      "/home/paulo/Imagens/telemidia_faces/busson2.jpeg\n",
      "/home/paulo/Imagens/telemidia_faces/busson.jpeg\n"
     ]
    },
    {
     "data": {
      "text/html": [
       "<div>\n",
       "<style scoped>\n",
       "    .dataframe tbody tr th:only-of-type {\n",
       "        vertical-align: middle;\n",
       "    }\n",
       "\n",
       "    .dataframe tbody tr th {\n",
       "        vertical-align: top;\n",
       "    }\n",
       "\n",
       "    .dataframe thead th {\n",
       "        text-align: right;\n",
       "    }\n",
       "</style>\n",
       "<table border=\"1\" class=\"dataframe\">\n",
       "  <thead>\n",
       "    <tr style=\"text-align: right;\">\n",
       "      <th></th>\n",
       "      <th>urls</th>\n",
       "      <th>embeddings</th>\n",
       "    </tr>\n",
       "  </thead>\n",
       "  <tbody>\n",
       "    <tr>\n",
       "      <th>0</th>\n",
       "      <td>/home/paulo/Imagens/telemidia_faces/paulo.jpeg</td>\n",
       "      <td>[0.3936015, 1.934996, 0.02074972, 0.0022750613...</td>\n",
       "    </tr>\n",
       "    <tr>\n",
       "      <th>1</th>\n",
       "      <td>/home/paulo/Imagens/telemidia_faces/alan.jpeg</td>\n",
       "      <td>[0.07129635, 0.45440206, 0.12062807, 0.0014702...</td>\n",
       "    </tr>\n",
       "    <tr>\n",
       "      <th>2</th>\n",
       "      <td>/home/paulo/Imagens/telemidia_faces/paulo3.jpg</td>\n",
       "      <td>[6.9614115, 0.00635334, 0.034645002, 0.0026545...</td>\n",
       "    </tr>\n",
       "    <tr>\n",
       "      <th>3</th>\n",
       "      <td>/home/paulo/Imagens/telemidia_faces/arthur.jpg</td>\n",
       "      <td>[0.060384333, 0.001768318, 0.017961854, 0.0215...</td>\n",
       "    </tr>\n",
       "    <tr>\n",
       "      <th>4</th>\n",
       "      <td>/home/paulo/Imagens/telemidia_faces/paulo2.jpeg</td>\n",
       "      <td>[5.696418, 0.11141231, 0.0011405002, 1.9031645...</td>\n",
       "    </tr>\n",
       "    <tr>\n",
       "      <th>5</th>\n",
       "      <td>/home/paulo/Imagens/telemidia_faces/arthur2.jpeg</td>\n",
       "      <td>[0.043833684, 0.10171245, 0.051434282, 0.07916...</td>\n",
       "    </tr>\n",
       "    <tr>\n",
       "      <th>6</th>\n",
       "      <td>/home/paulo/Imagens/telemidia_faces/busson2.jpeg</td>\n",
       "      <td>[0.05473873, 10.174869, 0.021578057, 0.0115803...</td>\n",
       "    </tr>\n",
       "    <tr>\n",
       "      <th>7</th>\n",
       "      <td>/home/paulo/Imagens/telemidia_faces/busson.jpeg</td>\n",
       "      <td>[0.04206134, 9.835452, 0.054919325, 0.09857783...</td>\n",
       "    </tr>\n",
       "  </tbody>\n",
       "</table>\n",
       "</div>"
      ],
      "text/plain": [
       "                                               urls  \\\n",
       "0    /home/paulo/Imagens/telemidia_faces/paulo.jpeg   \n",
       "1     /home/paulo/Imagens/telemidia_faces/alan.jpeg   \n",
       "2    /home/paulo/Imagens/telemidia_faces/paulo3.jpg   \n",
       "3    /home/paulo/Imagens/telemidia_faces/arthur.jpg   \n",
       "4   /home/paulo/Imagens/telemidia_faces/paulo2.jpeg   \n",
       "5  /home/paulo/Imagens/telemidia_faces/arthur2.jpeg   \n",
       "6  /home/paulo/Imagens/telemidia_faces/busson2.jpeg   \n",
       "7   /home/paulo/Imagens/telemidia_faces/busson.jpeg   \n",
       "\n",
       "                                          embeddings  \n",
       "0  [0.3936015, 1.934996, 0.02074972, 0.0022750613...  \n",
       "1  [0.07129635, 0.45440206, 0.12062807, 0.0014702...  \n",
       "2  [6.9614115, 0.00635334, 0.034645002, 0.0026545...  \n",
       "3  [0.060384333, 0.001768318, 0.017961854, 0.0215...  \n",
       "4  [5.696418, 0.11141231, 0.0011405002, 1.9031645...  \n",
       "5  [0.043833684, 0.10171245, 0.051434282, 0.07916...  \n",
       "6  [0.05473873, 10.174869, 0.021578057, 0.0115803...  \n",
       "7  [0.04206134, 9.835452, 0.054919325, 0.09857783...  "
      ]
     },
     "execution_count": 8,
     "metadata": {},
     "output_type": "execute_result"
    }
   ],
   "source": [
    "extractor.extract(complete_urls)"
   ]
  },
  {
   "cell_type": "code",
   "execution_count": 9,
   "metadata": {},
   "outputs": [
    {
     "name": "stdout",
     "output_type": "stream",
     "text": [
      "/home/paulo/Imagens/telemidia_faces/paulo.jpeg\n"
     ]
    },
    {
     "data": {
      "text/plain": [
       "array([0.3936015 , 1.934996  , 0.02074972, ..., 0.32952586, 0.04720065,\n",
       "       0.56368387], dtype=float32)"
      ]
     },
     "execution_count": 9,
     "metadata": {},
     "output_type": "execute_result"
    }
   ],
   "source": [
    "extractor.get_embeddings(complete_urls[0])"
   ]
  },
  {
   "cell_type": "code",
   "execution_count": null,
   "metadata": {},
   "outputs": [],
   "source": []
  }
 ],
 "metadata": {
  "kernelspec": {
   "display_name": "Python 3",
   "language": "python",
   "name": "python3"
  },
  "language_info": {
   "codemirror_mode": {
    "name": "ipython",
    "version": 3
   },
   "file_extension": ".py",
   "mimetype": "text/x-python",
   "name": "python",
   "nbconvert_exporter": "python",
   "pygments_lexer": "ipython3",
   "version": "3.6.8"
  }
 },
 "nbformat": 4,
 "nbformat_minor": 4
}
