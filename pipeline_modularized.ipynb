{
 "cells": [
  {
   "cell_type": "code",
   "execution_count": 1,
   "metadata": {},
   "outputs": [],
   "source": [
    "import os\n",
    "import pandas as pd\n",
    "import cv2"
   ]
  },
  {
   "cell_type": "code",
   "execution_count": 2,
   "metadata": {},
   "outputs": [
    {
     "name": "stderr",
     "output_type": "stream",
     "text": [
      "Using TensorFlow backend.\n"
     ]
    }
   ],
   "source": [
    "from modules.clustering import Clusterer"
   ]
  },
  {
   "cell_type": "code",
   "execution_count": 3,
   "metadata": {},
   "outputs": [],
   "source": [
    "dataset_dir = \"/home/paulo/Imagens/telemidia_faces\"\n",
    "_,_,img_urls = next(os.walk(dataset_dir))\n",
    "complete_urls = [dataset_dir+\"/\"+i for i in img_urls]"
   ]
  },
  {
   "cell_type": "code",
   "execution_count": 6,
   "metadata": {},
   "outputs": [],
   "source": [
    "clusters = Clusterer(n_clusters=4, urls=complete_urls).clusterize()"
   ]
  },
  {
   "cell_type": "code",
   "execution_count": 7,
   "metadata": {},
   "outputs": [
    {
     "data": {
      "text/html": [
       "<div>\n",
       "<style scoped>\n",
       "    .dataframe tbody tr th:only-of-type {\n",
       "        vertical-align: middle;\n",
       "    }\n",
       "\n",
       "    .dataframe tbody tr th {\n",
       "        vertical-align: top;\n",
       "    }\n",
       "\n",
       "    .dataframe thead th {\n",
       "        text-align: right;\n",
       "    }\n",
       "</style>\n",
       "<table border=\"1\" class=\"dataframe\">\n",
       "  <thead>\n",
       "    <tr style=\"text-align: right;\">\n",
       "      <th></th>\n",
       "      <th>urls</th>\n",
       "      <th>embeddings</th>\n",
       "      <th>cluster_kmeans</th>\n",
       "      <th>cluster_gmm</th>\n",
       "      <th>cluster_affinity</th>\n",
       "      <th>cluster_agglomerative</th>\n",
       "    </tr>\n",
       "  </thead>\n",
       "  <tbody>\n",
       "    <tr>\n",
       "      <th>2</th>\n",
       "      <td>/home/paulo/Imagens/telemidia_faces/alan.jpeg</td>\n",
       "      <td>[0.07129635, 0.45440206, 0.12062807, 0.0014702...</td>\n",
       "      <td>3</td>\n",
       "      <td>1</td>\n",
       "      <td>0</td>\n",
       "      <td>3</td>\n",
       "    </tr>\n",
       "    <tr>\n",
       "      <th>4</th>\n",
       "      <td>/home/paulo/Imagens/telemidia_faces/arthur.jpg</td>\n",
       "      <td>[0.060384333, 0.001768318, 0.017961854, 0.0215...</td>\n",
       "      <td>0</td>\n",
       "      <td>2</td>\n",
       "      <td>2</td>\n",
       "      <td>0</td>\n",
       "    </tr>\n",
       "    <tr>\n",
       "      <th>6</th>\n",
       "      <td>/home/paulo/Imagens/telemidia_faces/arthur2.jpeg</td>\n",
       "      <td>[0.043833684, 0.10171245, 0.051434282, 0.07916...</td>\n",
       "      <td>0</td>\n",
       "      <td>2</td>\n",
       "      <td>2</td>\n",
       "      <td>0</td>\n",
       "    </tr>\n",
       "    <tr>\n",
       "      <th>7</th>\n",
       "      <td>/home/paulo/Imagens/telemidia_faces/busson.jpeg</td>\n",
       "      <td>[0.04206134, 9.835452, 0.054919325, 0.09857783...</td>\n",
       "      <td>1</td>\n",
       "      <td>3</td>\n",
       "      <td>0</td>\n",
       "      <td>2</td>\n",
       "    </tr>\n",
       "    <tr>\n",
       "      <th>1</th>\n",
       "      <td>/home/paulo/Imagens/telemidia_faces/busson2.jpg</td>\n",
       "      <td>[0.06358875, 10.18316, 1.1475976, 0.0026325046...</td>\n",
       "      <td>1</td>\n",
       "      <td>1</td>\n",
       "      <td>0</td>\n",
       "      <td>2</td>\n",
       "    </tr>\n",
       "    <tr>\n",
       "      <th>0</th>\n",
       "      <td>/home/paulo/Imagens/telemidia_faces/paulo.jpeg</td>\n",
       "      <td>[0.3936015, 1.934996, 0.02074972, 0.0022750613...</td>\n",
       "      <td>2</td>\n",
       "      <td>3</td>\n",
       "      <td>1</td>\n",
       "      <td>1</td>\n",
       "    </tr>\n",
       "    <tr>\n",
       "      <th>5</th>\n",
       "      <td>/home/paulo/Imagens/telemidia_faces/paulo2.jpeg</td>\n",
       "      <td>[5.696418, 0.11141231, 0.0011405002, 1.9031645...</td>\n",
       "      <td>2</td>\n",
       "      <td>0</td>\n",
       "      <td>1</td>\n",
       "      <td>1</td>\n",
       "    </tr>\n",
       "    <tr>\n",
       "      <th>3</th>\n",
       "      <td>/home/paulo/Imagens/telemidia_faces/paulo3.jpg</td>\n",
       "      <td>[6.9614115, 0.00635334, 0.034645002, 0.0026545...</td>\n",
       "      <td>2</td>\n",
       "      <td>0</td>\n",
       "      <td>1</td>\n",
       "      <td>1</td>\n",
       "    </tr>\n",
       "  </tbody>\n",
       "</table>\n",
       "</div>"
      ],
      "text/plain": [
       "                                               urls  \\\n",
       "2     /home/paulo/Imagens/telemidia_faces/alan.jpeg   \n",
       "4    /home/paulo/Imagens/telemidia_faces/arthur.jpg   \n",
       "6  /home/paulo/Imagens/telemidia_faces/arthur2.jpeg   \n",
       "7   /home/paulo/Imagens/telemidia_faces/busson.jpeg   \n",
       "1   /home/paulo/Imagens/telemidia_faces/busson2.jpg   \n",
       "0    /home/paulo/Imagens/telemidia_faces/paulo.jpeg   \n",
       "5   /home/paulo/Imagens/telemidia_faces/paulo2.jpeg   \n",
       "3    /home/paulo/Imagens/telemidia_faces/paulo3.jpg   \n",
       "\n",
       "                                          embeddings  cluster_kmeans  \\\n",
       "2  [0.07129635, 0.45440206, 0.12062807, 0.0014702...               3   \n",
       "4  [0.060384333, 0.001768318, 0.017961854, 0.0215...               0   \n",
       "6  [0.043833684, 0.10171245, 0.051434282, 0.07916...               0   \n",
       "7  [0.04206134, 9.835452, 0.054919325, 0.09857783...               1   \n",
       "1  [0.06358875, 10.18316, 1.1475976, 0.0026325046...               1   \n",
       "0  [0.3936015, 1.934996, 0.02074972, 0.0022750613...               2   \n",
       "5  [5.696418, 0.11141231, 0.0011405002, 1.9031645...               2   \n",
       "3  [6.9614115, 0.00635334, 0.034645002, 0.0026545...               2   \n",
       "\n",
       "   cluster_gmm  cluster_affinity  cluster_agglomerative  \n",
       "2            1                 0                      3  \n",
       "4            2                 2                      0  \n",
       "6            2                 2                      0  \n",
       "7            3                 0                      2  \n",
       "1            1                 0                      2  \n",
       "0            3                 1                      1  \n",
       "5            0                 1                      1  \n",
       "3            0                 1                      1  "
      ]
     },
     "execution_count": 7,
     "metadata": {},
     "output_type": "execute_result"
    }
   ],
   "source": [
    "clusters.sort_values(by=['urls'])"
   ]
  },
  {
   "cell_type": "code",
   "execution_count": null,
   "metadata": {},
   "outputs": [],
   "source": []
  }
 ],
 "metadata": {
  "kernelspec": {
   "display_name": "Python 3",
   "language": "python",
   "name": "python3"
  },
  "language_info": {
   "codemirror_mode": {
    "name": "ipython",
    "version": 3
   },
   "file_extension": ".py",
   "mimetype": "text/x-python",
   "name": "python",
   "nbconvert_exporter": "python",
   "pygments_lexer": "ipython3",
   "version": "3.6.8"
  }
 },
 "nbformat": 4,
 "nbformat_minor": 4
}
