{
 "cells": [
  {
   "cell_type": "code",
   "execution_count": 1,
   "metadata": {},
   "outputs": [
    {
     "name": "stderr",
     "output_type": "stream",
     "text": [
      "Using TensorFlow backend.\n"
     ]
    }
   ],
   "source": [
    "%load_ext autoreload\n",
    "%autoreload 2\n",
    "import pandas as pd\n",
    "import numpy as np\n",
    "import sys\n",
    "sys.path.append('../')\n",
    "from faces_clustering import Clusterer, is_image, get_files_folder"
   ]
  },
  {
   "cell_type": "code",
   "execution_count": 2,
   "metadata": {},
   "outputs": [],
   "source": [
    "import random\n",
    "random.seed(42)"
   ]
  },
  {
   "cell_type": "code",
   "execution_count": 3,
   "metadata": {},
   "outputs": [],
   "source": [
    "pd.set_option('display.float_format', lambda x: '%.5f' % x)"
   ]
  },
  {
   "cell_type": "code",
   "execution_count": 4,
   "metadata": {},
   "outputs": [],
   "source": [
    "backbones = ['resnet50','senet50','vgg16']"
   ]
  },
  {
   "cell_type": "markdown",
   "metadata": {},
   "source": [
    "# Checking Classes"
   ]
  },
  {
   "cell_type": "code",
   "execution_count": 15,
   "metadata": {},
   "outputs": [],
   "source": [
    "df_embs = pd.read_pickle(f'../data/leg55_{backbones[1]}.pkl')"
   ]
  },
  {
   "cell_type": "code",
   "execution_count": 18,
   "metadata": {},
   "outputs": [
    {
     "data": {
      "text/plain": [
       "9006"
      ]
     },
     "execution_count": 18,
     "metadata": {},
     "output_type": "execute_result"
    }
   ],
   "source": [
    "len(df_embs.urls.unique())"
   ]
  },
  {
   "cell_type": "code",
   "execution_count": null,
   "metadata": {},
   "outputs": [],
   "source": [
    "df_embs['classes'] = df_embs.urls.apply(lambda x: x.split('\\\\')[-2])"
   ]
  },
  {
   "cell_type": "code",
   "execution_count": null,
   "metadata": {},
   "outputs": [],
   "source": [
    "df_embs.to_pickle(f'../data/leg55_{backbones[2]}.pkl')"
   ]
  },
  {
   "cell_type": "markdown",
   "metadata": {},
   "source": [
    "# DataSeparation"
   ]
  },
  {
   "cell_type": "code",
   "execution_count": 21,
   "metadata": {},
   "outputs": [],
   "source": [
    "df_embs = pd.read_pickle(f'../data/leg55_{backbones[0]}.pkl')"
   ]
  },
  {
   "cell_type": "code",
   "execution_count": 22,
   "metadata": {},
   "outputs": [],
   "source": [
    "test_index = df_embs.sample(frac=1, random_state=42).groupby('classes').head(1).sort_values('classes').index"
   ]
  },
  {
   "cell_type": "code",
   "execution_count": 23,
   "metadata": {},
   "outputs": [
    {
     "data": {
      "text/plain": [
       "Int64Index([   8,   14,   37,   50,   76,   80,  101,  107,  131,  149,\n",
       "            ...\n",
       "            8804, 8826, 8839, 8866, 8870, 8889, 8925, 8946, 8973, 9004],\n",
       "           dtype='int64', length=513)"
      ]
     },
     "execution_count": 23,
     "metadata": {},
     "output_type": "execute_result"
    }
   ],
   "source": [
    "test_index"
   ]
  },
  {
   "cell_type": "code",
   "execution_count": 25,
   "metadata": {},
   "outputs": [
    {
     "name": "stdout",
     "output_type": "stream",
     "text": [
      "resnet50 9006: Train: 8493 Test:513\n",
      "senet50 9006: Train: 8493 Test:513\n",
      "vgg16 9006: Train: 8493 Test:513\n"
     ]
    }
   ],
   "source": [
    "for backbone in backbones:\n",
    "    df_backbone = pd.read_pickle(f'../data/leg55_{backbone}.pkl')\n",
    "    df_test = df_backbone.loc[test_index].copy()\n",
    "    df_train = df_backbone.loc[df_embs.index.difference(test_index)].copy()\n",
    "    print(f\"{backbone} {len(df_backbone.urls.unique())}: Train: {len(df_train.urls.unique())} Test:{len(df_test.urls.unique())}\")\n",
    "    #df_train.to_pickle(f'../data/train_leg55_{backbone}.pkl')\n",
    "    #df_test.to_pickle(f'../data/test_leg55_{backbone}.pkl')"
   ]
  },
  {
   "cell_type": "markdown",
   "metadata": {},
   "source": [
    "# Clustering Train"
   ]
  },
  {
   "cell_type": "code",
   "execution_count": null,
   "metadata": {},
   "outputs": [],
   "source": [
    "all_clusters = {}\n",
    "for backbone in backbones:\n",
    "    df_train = pd.read_pickle(f'../data/train_leg55_{backbone}.pkl')\n",
    "    clusterer = Clusterer(n_clusters=513, face_embeddings = df_train,algs=[\n",
    "        'kmeans', 'affinity', 'agglomerative'])\n",
    "    clusters, models_inst = clusterer.clusterize(normalize=False)\n",
    "    \n",
    "    all_clusters[backbone] = clusters"
   ]
  },
  {
   "cell_type": "code",
   "execution_count": 33,
   "metadata": {},
   "outputs": [],
   "source": [
    "dt_clusters = pd.concat(all_clusters.values(), keys = all_clusters.keys())"
   ]
  },
  {
   "cell_type": "code",
   "execution_count": null,
   "metadata": {},
   "outputs": [],
   "source": [
    "dt_clusters.to_pickle('../data/clusters_train_leg55.pkl')"
   ]
  },
  {
   "cell_type": "code",
   "execution_count": 39,
   "metadata": {},
   "outputs": [],
   "source": [
    "dt_clusters = pd.read_pickle('../data/clusters_train_leg55.pkl')"
   ]
  },
  {
   "cell_type": "code",
   "execution_count": 40,
   "metadata": {},
   "outputs": [
    {
     "name": "stdout",
     "output_type": "stream",
     "text": [
      "Train Size: 8490\n"
     ]
    }
   ],
   "source": [
    "print(f\"Train Size: {len(dt_clusters.loc['senet50'].urls.unique())}\")"
   ]
  },
  {
   "cell_type": "markdown",
   "metadata": {},
   "source": [
    "## Evaluating Train"
   ]
  },
  {
   "cell_type": "code",
   "execution_count": 35,
   "metadata": {},
   "outputs": [],
   "source": [
    "from sklearn import metrics"
   ]
  },
  {
   "cell_type": "code",
   "execution_count": 37,
   "metadata": {},
   "outputs": [],
   "source": [
    "df_all = {}\n",
    "for backbone in ['resnet50']:\n",
    "    clusters = dt_clusters.loc[backbone]\n",
    "    \n",
    "    cluster_cols = [c for c in clusters.columns if str(c).startswith('cluster')]\n",
    "    labels_true = clusters.classes.values\n",
    "    \n",
    "    dict_results = {}\n",
    "    for col in cluster_cols:\n",
    "        labels_pred = clusters[col].values\n",
    "\n",
    "        dict_results[col] = [metrics.homogeneity_score(labels_true,labels_pred),\n",
    "                            metrics.completeness_score(labels_true, labels_pred),\n",
    "                            metrics.v_measure_score(labels_true, labels_pred)]\n",
    "    df_all[backbone] = pd.DataFrame.from_dict(dict_results, orient='index', columns=[\n",
    "        'Homogeneity Score', 'Completeness Score', 'V-Measure'])\n",
    "    \n",
    "df_all_results = pd.concat(df_all.values(), keys=df_all.keys())\n",
    "    "
   ]
  },
  {
   "cell_type": "code",
   "execution_count": 38,
   "metadata": {},
   "outputs": [
    {
     "data": {
      "text/html": [
       "<div>\n",
       "<style scoped>\n",
       "    .dataframe tbody tr th:only-of-type {\n",
       "        vertical-align: middle;\n",
       "    }\n",
       "\n",
       "    .dataframe tbody tr th {\n",
       "        vertical-align: top;\n",
       "    }\n",
       "\n",
       "    .dataframe thead th {\n",
       "        text-align: right;\n",
       "    }\n",
       "</style>\n",
       "<table border=\"1\" class=\"dataframe\">\n",
       "  <thead>\n",
       "    <tr style=\"text-align: right;\">\n",
       "      <th></th>\n",
       "      <th></th>\n",
       "      <th>Homogeneity Score</th>\n",
       "      <th>Completeness Score</th>\n",
       "      <th>V-Measure</th>\n",
       "    </tr>\n",
       "  </thead>\n",
       "  <tbody>\n",
       "    <tr>\n",
       "      <th rowspan=\"3\" valign=\"top\">resnet50</th>\n",
       "      <th>cluster_kmeans</th>\n",
       "      <td>0.96652</td>\n",
       "      <td>0.96752</td>\n",
       "      <td>0.96702</td>\n",
       "    </tr>\n",
       "    <tr>\n",
       "      <th>cluster_affinity</th>\n",
       "      <td>0.00000</td>\n",
       "      <td>1.00000</td>\n",
       "      <td>0.00000</td>\n",
       "    </tr>\n",
       "    <tr>\n",
       "      <th>cluster_agglomerative</th>\n",
       "      <td>0.98215</td>\n",
       "      <td>0.97979</td>\n",
       "      <td>0.98096</td>\n",
       "    </tr>\n",
       "  </tbody>\n",
       "</table>\n",
       "</div>"
      ],
      "text/plain": [
       "                                Homogeneity Score  Completeness Score  \\\n",
       "resnet50 cluster_kmeans                   0.96652             0.96752   \n",
       "         cluster_affinity                 0.00000             1.00000   \n",
       "         cluster_agglomerative            0.98215             0.97979   \n",
       "\n",
       "                                V-Measure  \n",
       "resnet50 cluster_kmeans           0.96702  \n",
       "         cluster_affinity         0.00000  \n",
       "         cluster_agglomerative    0.98096  "
      ]
     },
     "execution_count": 38,
     "metadata": {},
     "output_type": "execute_result"
    }
   ],
   "source": [
    "df_all_results"
   ]
  },
  {
   "cell_type": "code",
   "execution_count": null,
   "metadata": {},
   "outputs": [],
   "source": [
    "df_all_results.to_csv('../results/train_clusters.csv')"
   ]
  },
  {
   "cell_type": "raw",
   "metadata": {},
   "source": [
    "Melhor resultado senet50 com agglomerative e normalização"
   ]
  },
  {
   "cell_type": "markdown",
   "metadata": {},
   "source": [
    "# Test"
   ]
  },
  {
   "cell_type": "code",
   "execution_count": 6,
   "metadata": {},
   "outputs": [],
   "source": [
    "cluster_alg = 'cluster_agglomerative'"
   ]
  },
  {
   "cell_type": "code",
   "execution_count": 7,
   "metadata": {},
   "outputs": [],
   "source": [
    "from faces_clustering import FaceSearcher\n",
    "backbone = backbones[1]"
   ]
  },
  {
   "cell_type": "code",
   "execution_count": 8,
   "metadata": {},
   "outputs": [],
   "source": [
    "df_embs = pd.read_pickle('../data/clusters_train_leg55.pkl').loc[backbone]"
   ]
  },
  {
   "cell_type": "code",
   "execution_count": 9,
   "metadata": {},
   "outputs": [],
   "source": [
    "from sklearn.metrics import silhouette_samples\n",
    "embs_list = list(df_embs.embeddings.apply(list).values)\n",
    "silhouette = silhouette_samples(embs_list, df_embs.cluster_agglomerative.values)\n",
    "df_embs['silhouette'] = silhouette\n",
    "df_embs_silhouette = df_embs.loc[df_embs.groupby('cluster_agglomerative')['silhouette'].idxmax().values]"
   ]
  },
  {
   "cell_type": "code",
   "execution_count": 10,
   "metadata": {},
   "outputs": [
    {
     "name": "stdout",
     "output_type": "stream",
     "text": [
      "senet50 (513, 7)\n"
     ]
    },
    {
     "data": {
      "text/html": [
       "<div>\n",
       "<style scoped>\n",
       "    .dataframe tbody tr th:only-of-type {\n",
       "        vertical-align: middle;\n",
       "    }\n",
       "\n",
       "    .dataframe tbody tr th {\n",
       "        vertical-align: top;\n",
       "    }\n",
       "\n",
       "    .dataframe thead th {\n",
       "        text-align: right;\n",
       "    }\n",
       "</style>\n",
       "<table border=\"1\" class=\"dataframe\">\n",
       "  <thead>\n",
       "    <tr style=\"text-align: right;\">\n",
       "      <th></th>\n",
       "      <th>urls</th>\n",
       "      <th>embeddings</th>\n",
       "      <th>classes</th>\n",
       "      <th>cluster_kmeans</th>\n",
       "      <th>cluster_affinity</th>\n",
       "      <th>cluster_agglomerative</th>\n",
       "      <th>silhouette</th>\n",
       "    </tr>\n",
       "  </thead>\n",
       "  <tbody>\n",
       "    <tr>\n",
       "      <th>3549</th>\n",
       "      <td>C:/Users/paulo/Documents/FacesProject/slnp_fac...</td>\n",
       "      <td>[0.06293261, 0.041238066, 1.0586125, 1.9255624...</td>\n",
       "      <td>178836_p</td>\n",
       "      <td>304</td>\n",
       "      <td>258</td>\n",
       "      <td>0</td>\n",
       "      <td>0.34280</td>\n",
       "    </tr>\n",
       "    <tr>\n",
       "      <th>6347</th>\n",
       "      <td>C:/Users/paulo/Documents/FacesProject/slnp_fac...</td>\n",
       "      <td>[0.09170138, 5.6202917, 0.012911335, 0.0005637...</td>\n",
       "      <td>202063_p</td>\n",
       "      <td>369</td>\n",
       "      <td>466</td>\n",
       "      <td>1</td>\n",
       "      <td>0.23108</td>\n",
       "    </tr>\n",
       "    <tr>\n",
       "      <th>5007</th>\n",
       "      <td>C:/Users/paulo/Documents/FacesProject/slnp_fac...</td>\n",
       "      <td>[1.1189567, 0.008136402, 2.7333353, 1.4765488,...</td>\n",
       "      <td>178925_p</td>\n",
       "      <td>367</td>\n",
       "      <td>364</td>\n",
       "      <td>2</td>\n",
       "      <td>0.15233</td>\n",
       "    </tr>\n",
       "    <tr>\n",
       "      <th>104</th>\n",
       "      <td>C:/Users/paulo/Documents/FacesProject/slnp_fac...</td>\n",
       "      <td>[0.045791216, 8.492915, 0.032269478, 0.0003377...</td>\n",
       "      <td>129037_b</td>\n",
       "      <td>444</td>\n",
       "      <td>8</td>\n",
       "      <td>3</td>\n",
       "      <td>0.00429</td>\n",
       "    </tr>\n",
       "    <tr>\n",
       "      <th>2540</th>\n",
       "      <td>C:/Users/paulo/Documents/FacesProject/slnp_fac...</td>\n",
       "      <td>[2.8295155, 0.32453766, 1.1752279, 6.7835546, ...</td>\n",
       "      <td>160630_p</td>\n",
       "      <td>176</td>\n",
       "      <td>187</td>\n",
       "      <td>4</td>\n",
       "      <td>0.30576</td>\n",
       "    </tr>\n",
       "  </tbody>\n",
       "</table>\n",
       "</div>"
      ],
      "text/plain": [
       "                                                   urls  \\\n",
       "3549  C:/Users/paulo/Documents/FacesProject/slnp_fac...   \n",
       "6347  C:/Users/paulo/Documents/FacesProject/slnp_fac...   \n",
       "5007  C:/Users/paulo/Documents/FacesProject/slnp_fac...   \n",
       "104   C:/Users/paulo/Documents/FacesProject/slnp_fac...   \n",
       "2540  C:/Users/paulo/Documents/FacesProject/slnp_fac...   \n",
       "\n",
       "                                             embeddings   classes  \\\n",
       "3549  [0.06293261, 0.041238066, 1.0586125, 1.9255624...  178836_p   \n",
       "6347  [0.09170138, 5.6202917, 0.012911335, 0.0005637...  202063_p   \n",
       "5007  [1.1189567, 0.008136402, 2.7333353, 1.4765488,...  178925_p   \n",
       "104   [0.045791216, 8.492915, 0.032269478, 0.0003377...  129037_b   \n",
       "2540  [2.8295155, 0.32453766, 1.1752279, 6.7835546, ...  160630_p   \n",
       "\n",
       "      cluster_kmeans  cluster_affinity  cluster_agglomerative  silhouette  \n",
       "3549             304               258                      0     0.34280  \n",
       "6347             369               466                      1     0.23108  \n",
       "5007             367               364                      2     0.15233  \n",
       "104              444                 8                      3     0.00429  \n",
       "2540             176               187                      4     0.30576  "
      ]
     },
     "execution_count": 10,
     "metadata": {},
     "output_type": "execute_result"
    }
   ],
   "source": [
    "print(backbone, df_embs_silhouette.shape)\n",
    "df_embs_silhouette.head()"
   ]
  },
  {
   "cell_type": "code",
   "execution_count": 11,
   "metadata": {},
   "outputs": [],
   "source": [
    "searcher = FaceSearcher(face_embs = df_embs_silhouette, classes_col = cluster_alg)"
   ]
  },
  {
   "cell_type": "code",
   "execution_count": 12,
   "metadata": {},
   "outputs": [],
   "source": [
    "df_test = pd.read_pickle('../data/test_leg55_senet50.pkl')"
   ]
  },
  {
   "cell_type": "code",
   "execution_count": 13,
   "metadata": {},
   "outputs": [
    {
     "data": {
      "text/plain": [
       "array(['C:/Users/paulo/Documents/FacesProject/slnp_faces_leg_55\\\\73674_b\\\\13_0.jpg'],\n",
       "      dtype=object)"
      ]
     },
     "execution_count": 13,
     "metadata": {},
     "output_type": "execute_result"
    }
   ],
   "source": [
    "df_test[['urls','classes']].loc[df_test['classes'] == '73674_b'].urls.values"
   ]
  },
  {
   "cell_type": "code",
   "execution_count": 14,
   "metadata": {},
   "outputs": [
    {
     "name": "stdout",
     "output_type": "stream",
     "text": [
      "Test size is 513\n"
     ]
    }
   ],
   "source": [
    "print(f\"Test size is {df_test.shape[0]}\")"
   ]
  },
  {
   "cell_type": "raw",
   "metadata": {},
   "source": [
    "df_test.to_pickle('../data/valid/test_leg55_senet50_results.pkl')"
   ]
  },
  {
   "cell_type": "code",
   "execution_count": 15,
   "metadata": {},
   "outputs": [],
   "source": [
    "embs_query = [l.tolist() for l in df_test.embeddings.values]"
   ]
  },
  {
   "cell_type": "code",
   "execution_count": 16,
   "metadata": {},
   "outputs": [],
   "source": [
    "_, results = searcher.closest_centroids(embs_query = embs_query)"
   ]
  },
  {
   "cell_type": "code",
   "execution_count": 17,
   "metadata": {},
   "outputs": [],
   "source": [
    "softmax = lambda x: np.exp(x)/sum(np.exp(x))"
   ]
  },
  {
   "cell_type": "code",
   "execution_count": 18,
   "metadata": {},
   "outputs": [],
   "source": [
    "def m1(x, k):\n",
    "    m1 = softmax((1/x).nlargest(k)).head(1)\n",
    "    return (m1.index.values[0],m1.values[0])"
   ]
  },
  {
   "cell_type": "code",
   "execution_count": 19,
   "metadata": {},
   "outputs": [],
   "source": [
    "pcts = [m1(r,5)[1] for r in results]"
   ]
  },
  {
   "cell_type": "code",
   "execution_count": 20,
   "metadata": {},
   "outputs": [
    {
     "data": {
      "text/plain": [
       "0.7290448343079922"
      ]
     },
     "execution_count": 20,
     "metadata": {},
     "output_type": "execute_result"
    }
   ],
   "source": [
    "np.mean(np.array(pcts)>=0.5)"
   ]
  },
  {
   "cell_type": "code",
   "execution_count": 21,
   "metadata": {},
   "outputs": [
    {
     "data": {
      "text/plain": [
       "0.6800747566460049"
      ]
     },
     "execution_count": 21,
     "metadata": {},
     "output_type": "execute_result"
    }
   ],
   "source": [
    "np.mean(np.array(pcts))"
   ]
  },
  {
   "cell_type": "code",
   "execution_count": 22,
   "metadata": {},
   "outputs": [],
   "source": [
    "import matplotlib.pyplot as plt"
   ]
  },
  {
   "cell_type": "code",
   "execution_count": 23,
   "metadata": {},
   "outputs": [
    {
     "data": {
      "image/png": "[encoded data removed]",
      "text/plain": [
       "<Figure size 432x288 with 1 Axes>"
      ]
     },
     "metadata": {
      "needs_background": "light"
     },
     "output_type": "display_data"
    }
   ],
   "source": [
    "_ = plt.hist(pcts, bins=50)"
   ]
  },
  {
   "cell_type": "code",
   "execution_count": 24,
   "metadata": {},
   "outputs": [],
   "source": [
    "df_test['results'] = results"
   ]
  },
  {
   "cell_type": "code",
   "execution_count": 25,
   "metadata": {},
   "outputs": [],
   "source": [
    "mode_clusters = df_embs.groupby(cluster_alg)['classes'].apply(lambda x: x.value_counts(dropna=False).idxmax())"
   ]
  },
  {
   "cell_type": "code",
   "execution_count": 26,
   "metadata": {},
   "outputs": [],
   "source": [
    "classes_by_cluster = df_embs.groupby(cluster_alg)['classes'].apply(set)"
   ]
  },
  {
   "cell_type": "code",
   "execution_count": 27,
   "metadata": {},
   "outputs": [],
   "source": [
    "any_k = []\n",
    "mode_k = []\n",
    "has_class_k = []\n",
    "\n",
    "for k in range(2,11):\n",
    "    p_clusters = df_test['results'].apply(lambda x: m1(x,k)[0] if m1(x,k)[1] >= 0.5 else -1)\n",
    "    any_k.append(np.mean(p_clusters != -1))\n",
    "    #print(f\"{k}: Assigned to any: {any_k[-1]}\")\n",
    "    mode_k.append((df_test.classes == p_clusters.map(mode_clusters)).mean())\n",
    "    #print(f\"{k}: Assigned to cluster of mode: {mode_k[-1]}\")\n",
    "    \n",
    "    comp = []\n",
    "    for myclass, classes in zip(df_test.classes,p_clusters.map(classes_by_cluster)):\n",
    "        comp.append(classes == classes and myclass in classes)\n",
    "    has_class_k.append(np.mean(comp))    \n",
    "    #print(f\"{k}: Assigned to cluster with class in the cluster {has_class_k[-1]}\")"
   ]
  },
  {
   "cell_type": "code",
   "execution_count": 28,
   "metadata": {},
   "outputs": [
    {
     "data": {
      "text/html": [
       "<div>\n",
       "<style scoped>\n",
       "    .dataframe tbody tr th:only-of-type {\n",
       "        vertical-align: middle;\n",
       "    }\n",
       "\n",
       "    .dataframe tbody tr th {\n",
       "        vertical-align: top;\n",
       "    }\n",
       "\n",
       "    .dataframe thead th {\n",
       "        text-align: right;\n",
       "    }\n",
       "</style>\n",
       "<table border=\"1\" class=\"dataframe\">\n",
       "  <thead>\n",
       "    <tr style=\"text-align: right;\">\n",
       "      <th></th>\n",
       "      <th>Any_Cluster</th>\n",
       "      <th>Mode Equal to Class</th>\n",
       "      <th>Class is present in cluster</th>\n",
       "    </tr>\n",
       "  </thead>\n",
       "  <tbody>\n",
       "    <tr>\n",
       "      <th>2</th>\n",
       "      <td>1.00000</td>\n",
       "      <td>0.93177</td>\n",
       "      <td>0.94347</td>\n",
       "    </tr>\n",
       "    <tr>\n",
       "      <th>3</th>\n",
       "      <td>0.86355</td>\n",
       "      <td>0.85575</td>\n",
       "      <td>0.86160</td>\n",
       "    </tr>\n",
       "    <tr>\n",
       "      <th>4</th>\n",
       "      <td>0.76998</td>\n",
       "      <td>0.76608</td>\n",
       "      <td>0.76998</td>\n",
       "    </tr>\n",
       "    <tr>\n",
       "      <th>5</th>\n",
       "      <td>0.72904</td>\n",
       "      <td>0.72515</td>\n",
       "      <td>0.72904</td>\n",
       "    </tr>\n",
       "    <tr>\n",
       "      <th>6</th>\n",
       "      <td>0.68811</td>\n",
       "      <td>0.68421</td>\n",
       "      <td>0.68811</td>\n",
       "    </tr>\n",
       "    <tr>\n",
       "      <th>7</th>\n",
       "      <td>0.64912</td>\n",
       "      <td>0.64522</td>\n",
       "      <td>0.64912</td>\n",
       "    </tr>\n",
       "    <tr>\n",
       "      <th>8</th>\n",
       "      <td>0.61209</td>\n",
       "      <td>0.60819</td>\n",
       "      <td>0.61209</td>\n",
       "    </tr>\n",
       "    <tr>\n",
       "      <th>9</th>\n",
       "      <td>0.60039</td>\n",
       "      <td>0.59649</td>\n",
       "      <td>0.60039</td>\n",
       "    </tr>\n",
       "    <tr>\n",
       "      <th>10</th>\n",
       "      <td>0.58285</td>\n",
       "      <td>0.57895</td>\n",
       "      <td>0.58285</td>\n",
       "    </tr>\n",
       "  </tbody>\n",
       "</table>\n",
       "</div>"
      ],
      "text/plain": [
       "    Any_Cluster  Mode Equal to Class  Class is present in cluster\n",
       "2       1.00000              0.93177                      0.94347\n",
       "3       0.86355              0.85575                      0.86160\n",
       "4       0.76998              0.76608                      0.76998\n",
       "5       0.72904              0.72515                      0.72904\n",
       "6       0.68811              0.68421                      0.68811\n",
       "7       0.64912              0.64522                      0.64912\n",
       "8       0.61209              0.60819                      0.61209\n",
       "9       0.60039              0.59649                      0.60039\n",
       "10      0.58285              0.57895                      0.58285"
      ]
     },
     "execution_count": 28,
     "metadata": {},
     "output_type": "execute_result"
    }
   ],
   "source": [
    "df_results = pd.DataFrame(np.transpose([any_k, mode_k, has_class_k]),\n",
    "             index = range(2,11), columns=['Any_Cluster', 'Mode Equal to Class', 'Class is present in cluster'])\n",
    "df_results"
   ]
  },
  {
   "cell_type": "markdown",
   "metadata": {},
   "source": [
    "## How many are necessary to achieve 100%?"
   ]
  },
  {
   "cell_type": "code",
   "execution_count": 269,
   "metadata": {},
   "outputs": [
    {
     "data": {
      "text/plain": [
       "496"
      ]
     },
     "execution_count": 269,
     "metadata": {},
     "output_type": "execute_result"
    }
   ],
   "source": [
    "len(set(mode_clusters.values))"
   ]
  },
  {
   "cell_type": "code",
   "execution_count": 270,
   "metadata": {},
   "outputs": [],
   "source": [
    "def closest_clusters(x, k):\n",
    "    return (1/x).nlargest(k).index.values"
   ]
  },
  {
   "cell_type": "code",
   "execution_count": 271,
   "metadata": {},
   "outputs": [
    {
     "data": {
      "text/html": [
       "<div>\n",
       "<style scoped>\n",
       "    .dataframe tbody tr th:only-of-type {\n",
       "        vertical-align: middle;\n",
       "    }\n",
       "\n",
       "    .dataframe tbody tr th {\n",
       "        vertical-align: top;\n",
       "    }\n",
       "\n",
       "    .dataframe thead th {\n",
       "        text-align: right;\n",
       "    }\n",
       "</style>\n",
       "<table border=\"1\" class=\"dataframe\">\n",
       "  <thead>\n",
       "    <tr style=\"text-align: right;\">\n",
       "      <th></th>\n",
       "      <th>urls</th>\n",
       "      <th>classes</th>\n",
       "    </tr>\n",
       "  </thead>\n",
       "  <tbody>\n",
       "    <tr>\n",
       "      <th>8</th>\n",
       "      <td>C:/Users/paulo/Documents/FacesProject/slnp_fac...</td>\n",
       "      <td>105112_b</td>\n",
       "    </tr>\n",
       "    <tr>\n",
       "      <th>14</th>\n",
       "      <td>C:/Users/paulo/Documents/FacesProject/slnp_fac...</td>\n",
       "      <td>112437_b</td>\n",
       "    </tr>\n",
       "  </tbody>\n",
       "</table>\n",
       "</div>"
      ],
      "text/plain": [
       "                                                 urls   classes\n",
       "8   C:/Users/paulo/Documents/FacesProject/slnp_fac...  105112_b\n",
       "14  C:/Users/paulo/Documents/FacesProject/slnp_fac...  112437_b"
      ]
     },
     "execution_count": 271,
     "metadata": {},
     "output_type": "execute_result"
    }
   ],
   "source": [
    "df_closest = df_test[['urls', 'classes']].copy()\n",
    "df_closest.head(2)"
   ]
  },
  {
   "cell_type": "code",
   "execution_count": 272,
   "metadata": {
    "scrolled": true
   },
   "outputs": [
    {
     "data": {
      "text/html": [
       "<div>\n",
       "<style scoped>\n",
       "    .dataframe tbody tr th:only-of-type {\n",
       "        vertical-align: middle;\n",
       "    }\n",
       "\n",
       "    .dataframe tbody tr th {\n",
       "        vertical-align: top;\n",
       "    }\n",
       "\n",
       "    .dataframe thead th {\n",
       "        text-align: right;\n",
       "    }\n",
       "</style>\n",
       "<table border=\"1\" class=\"dataframe\">\n",
       "  <thead>\n",
       "    <tr style=\"text-align: right;\">\n",
       "      <th></th>\n",
       "      <th>urls</th>\n",
       "      <th>classes</th>\n",
       "      <th>closest_clusters</th>\n",
       "    </tr>\n",
       "  </thead>\n",
       "  <tbody>\n",
       "    <tr>\n",
       "      <th>8</th>\n",
       "      <td>C:/Users/paulo/Documents/FacesProject/slnp_fac...</td>\n",
       "      <td>105112_b</td>\n",
       "      <td>[422, 0, 43, 85, 113, 191, 95, 31, 294, 152, 2...</td>\n",
       "    </tr>\n",
       "    <tr>\n",
       "      <th>14</th>\n",
       "      <td>C:/Users/paulo/Documents/FacesProject/slnp_fac...</td>\n",
       "      <td>112437_b</td>\n",
       "      <td>[354, 274, 57, 75, 97, 64, 263, 22, 164, 235, ...</td>\n",
       "    </tr>\n",
       "  </tbody>\n",
       "</table>\n",
       "</div>"
      ],
      "text/plain": [
       "                                                 urls   classes  \\\n",
       "8   C:/Users/paulo/Documents/FacesProject/slnp_fac...  105112_b   \n",
       "14  C:/Users/paulo/Documents/FacesProject/slnp_fac...  112437_b   \n",
       "\n",
       "                                     closest_clusters  \n",
       "8   [422, 0, 43, 85, 113, 191, 95, 31, 294, 152, 2...  \n",
       "14  [354, 274, 57, 75, 97, 64, 263, 22, 164, 235, ...  "
      ]
     },
     "execution_count": 272,
     "metadata": {},
     "output_type": "execute_result"
    }
   ],
   "source": [
    "df_closest['closest_clusters'] = df_test['results'].apply(lambda x: closest_clusters(x, 513))\n",
    "df_closest.head(2)"
   ]
  },
  {
   "cell_type": "code",
   "execution_count": 273,
   "metadata": {},
   "outputs": [],
   "source": [
    "classes_closest_clusters = df_closest['closest_clusters'].apply(pd.Series).apply(\n",
    "    lambda x: x.map(classes_by_cluster))"
   ]
  },
  {
   "cell_type": "code",
   "execution_count": 274,
   "metadata": {},
   "outputs": [
    {
     "data": {
      "text/html": [
       "<div>\n",
       "<style scoped>\n",
       "    .dataframe tbody tr th:only-of-type {\n",
       "        vertical-align: middle;\n",
       "    }\n",
       "\n",
       "    .dataframe tbody tr th {\n",
       "        vertical-align: top;\n",
       "    }\n",
       "\n",
       "    .dataframe thead th {\n",
       "        text-align: right;\n",
       "    }\n",
       "</style>\n",
       "<table border=\"1\" class=\"dataframe\">\n",
       "  <thead>\n",
       "    <tr style=\"text-align: right;\">\n",
       "      <th></th>\n",
       "      <th>0</th>\n",
       "      <th>1</th>\n",
       "      <th>2</th>\n",
       "      <th>3</th>\n",
       "      <th>4</th>\n",
       "      <th>5</th>\n",
       "      <th>6</th>\n",
       "      <th>7</th>\n",
       "      <th>8</th>\n",
       "      <th>9</th>\n",
       "      <th>...</th>\n",
       "      <th>503</th>\n",
       "      <th>504</th>\n",
       "      <th>505</th>\n",
       "      <th>506</th>\n",
       "      <th>507</th>\n",
       "      <th>508</th>\n",
       "      <th>509</th>\n",
       "      <th>510</th>\n",
       "      <th>511</th>\n",
       "      <th>512</th>\n",
       "    </tr>\n",
       "  </thead>\n",
       "  <tbody>\n",
       "    <tr>\n",
       "      <th>8</th>\n",
       "      <td>{132504_b, 105112_b}</td>\n",
       "      <td>{178836_p}</td>\n",
       "      <td>{160976_p}</td>\n",
       "      <td>{74571_b}</td>\n",
       "      <td>{178909_p}</td>\n",
       "      <td>{73483_b, 166401_p}</td>\n",
       "      <td>{160518_p}</td>\n",
       "      <td>{160512_p, 74585_b, 178863_p, 160672_p, 178802_p}</td>\n",
       "      <td>{178950_p}</td>\n",
       "      <td>{178982_p}</td>\n",
       "      <td>...</td>\n",
       "      <td>{178858_p}</td>\n",
       "      <td>{141431_b}</td>\n",
       "      <td>{178981_p}</td>\n",
       "      <td>{74319_b}</td>\n",
       "      <td>{162332_p}</td>\n",
       "      <td>{141391_b}</td>\n",
       "      <td>{74351_b}</td>\n",
       "      <td>{178892_p}</td>\n",
       "      <td>{73466_b}</td>\n",
       "      <td>{160649_p}</td>\n",
       "    </tr>\n",
       "    <tr>\n",
       "      <th>14</th>\n",
       "      <td>{112437_b}</td>\n",
       "      <td>{151208_p}</td>\n",
       "      <td>{72912_b, 178853_p, 74371_b, 178846_p, 160578_...</td>\n",
       "      <td>{160604_p}</td>\n",
       "      <td>{74398_b, 74784_b, 178901_p, 112437_b, 178949_...</td>\n",
       "      <td>{148134_p}</td>\n",
       "      <td>{178947_p}</td>\n",
       "      <td>{178904_p}</td>\n",
       "      <td>{178849_p}</td>\n",
       "      <td>{74372_b}</td>\n",
       "      <td>...</td>\n",
       "      <td>{74177_b}</td>\n",
       "      <td>{74460_b}</td>\n",
       "      <td>{178892_p}</td>\n",
       "      <td>{160535_p}</td>\n",
       "      <td>{178941_p}</td>\n",
       "      <td>{73692_b}</td>\n",
       "      <td>{178981_p}</td>\n",
       "      <td>{73466_b}</td>\n",
       "      <td>{141542_p}</td>\n",
       "      <td>{160510_p}</td>\n",
       "    </tr>\n",
       "  </tbody>\n",
       "</table>\n",
       "<p>2 rows × 513 columns</p>\n",
       "</div>"
      ],
      "text/plain": [
       "                     0           1    \\\n",
       "8   {132504_b, 105112_b}  {178836_p}   \n",
       "14            {112437_b}  {151208_p}   \n",
       "\n",
       "                                                  2           3    \\\n",
       "8                                          {160976_p}   {74571_b}   \n",
       "14  {72912_b, 178853_p, 74371_b, 178846_p, 160578_...  {160604_p}   \n",
       "\n",
       "                                                  4                    5    \\\n",
       "8                                          {178909_p}  {73483_b, 166401_p}   \n",
       "14  {74398_b, 74784_b, 178901_p, 112437_b, 178949_...           {148134_p}   \n",
       "\n",
       "           6                                                  7           8    \\\n",
       "8   {160518_p}  {160512_p, 74585_b, 178863_p, 160672_p, 178802_p}  {178950_p}   \n",
       "14  {178947_p}                                         {178904_p}  {178849_p}   \n",
       "\n",
       "           9    ...         503         504         505         506  \\\n",
       "8   {178982_p}  ...  {178858_p}  {141431_b}  {178981_p}   {74319_b}   \n",
       "14   {74372_b}  ...   {74177_b}   {74460_b}  {178892_p}  {160535_p}   \n",
       "\n",
       "           507         508         509         510         511         512  \n",
       "8   {162332_p}  {141391_b}   {74351_b}  {178892_p}   {73466_b}  {160649_p}  \n",
       "14  {178941_p}   {73692_b}  {178981_p}   {73466_b}  {141542_p}  {160510_p}  \n",
       "\n",
       "[2 rows x 513 columns]"
      ]
     },
     "execution_count": 274,
     "metadata": {},
     "output_type": "execute_result"
    }
   ],
   "source": [
    "classes_closest_clusters.head(2)"
   ]
  },
  {
   "cell_type": "code",
   "execution_count": 275,
   "metadata": {},
   "outputs": [
    {
     "data": {
      "text/plain": [
       "513"
      ]
     },
     "execution_count": 275,
     "metadata": {},
     "output_type": "execute_result"
    }
   ],
   "source": [
    "classes_closest_clusters.shape[1]"
   ]
  },
  {
   "cell_type": "code",
   "execution_count": 276,
   "metadata": {},
   "outputs": [],
   "source": [
    "first_cluster = []\n",
    "for (_,face_class),(_,cluster_classes) in zip(df_closest.iterrows(), classes_closest_clusters.iterrows()):\n",
    "    present_cluster = cluster_classes.apply(lambda x: (face_class.classes in list(x)))\n",
    "    for i, cluster in enumerate(present_cluster):\n",
    "        if cluster:\n",
    "            first_cluster.append(i+1)\n",
    "            break"
   ]
  },
  {
   "cell_type": "code",
   "execution_count": 277,
   "metadata": {},
   "outputs": [],
   "source": [
    "df_closest['first_returned_present'] = first_cluster"
   ]
  },
  {
   "cell_type": "code",
   "execution_count": 279,
   "metadata": {},
   "outputs": [
    {
     "data": {
      "text/plain": [
       "[(1, 0.9824561403508771),\n",
       " (2, 0.9844054580896686),\n",
       " (3, 0.98635477582846),\n",
       " (7, 0.9902534113060428),\n",
       " (10, 0.9922027290448343),\n",
       " (11, 0.9941520467836257),\n",
       " (23, 0.9961013645224172),\n",
       " (37, 0.9980506822612085),\n",
       " (218, 1.0)]"
      ]
     },
     "execution_count": 279,
     "metadata": {},
     "output_type": "execute_result"
    }
   ],
   "source": [
    "pcts_n_returned = []\n",
    "last_pct = -1\n",
    "for i in range(1,513):\n",
    "    pct = (df_closest.first_returned_present<=i).mean()\n",
    "    \n",
    "    if pct!=last_pct:\n",
    "        pcts_n_returned.append((i,pct))\n",
    "        last_pct = pct\n",
    "pcts_n_returned"
   ]
  },
  {
   "cell_type": "markdown",
   "metadata": {},
   "source": [
    "## Checking wrong classes"
   ]
  },
  {
   "cell_type": "code",
   "execution_count": 280,
   "metadata": {},
   "outputs": [],
   "source": [
    "p_clusters = df_test['results'].apply(lambda x: m1(x,2)[0] if m1(x,2)[1] >= 0.5 else -1)"
   ]
  },
  {
   "cell_type": "code",
   "execution_count": 281,
   "metadata": {},
   "outputs": [],
   "source": [
    "classes_wrong = df_test.loc[df_test.classes != p_clusters.map(mode_clusters)].classes"
   ]
  },
  {
   "cell_type": "code",
   "execution_count": 282,
   "metadata": {},
   "outputs": [],
   "source": [
    "classes_right = df_test.loc[df_test.classes == p_clusters.map(mode_clusters)].classes"
   ]
  },
  {
   "cell_type": "code",
   "execution_count": 283,
   "metadata": {},
   "outputs": [],
   "source": [
    "classes_count = df_embs.groupby('classes')['urls'].count()"
   ]
  },
  {
   "cell_type": "code",
   "execution_count": 284,
   "metadata": {},
   "outputs": [
    {
     "data": {
      "text/plain": [
       "23"
      ]
     },
     "execution_count": 284,
     "metadata": {},
     "output_type": "execute_result"
    }
   ],
   "source": [
    "classes_count.loc[classes_count<=5].count()"
   ]
  },
  {
   "cell_type": "code",
   "execution_count": 285,
   "metadata": {},
   "outputs": [
    {
     "data": {
      "image/png": "[encoded data removed]",
      "text/plain": [
       "<Figure size 432x288 with 1 Axes>"
      ]
     },
     "metadata": {
      "needs_background": "light"
     },
     "output_type": "display_data"
    }
   ],
   "source": [
    "import matplotlib.pyplot as plt\n",
    "\n",
    "_ = plt.hist([classes_wrong.map(classes_count), classes_count, classes_right.map(classes_count)], \n",
    "    density=False, bins=20, alpha=0.5, label=['wrong', 'all', 'right'])\n",
    "_ = plt.legend()\n",
    "#_ = plt.hist(, density=True, bins=12, alpha=0.5,label = 'class dist')"
   ]
  },
  {
   "cell_type": "code",
   "execution_count": 286,
   "metadata": {},
   "outputs": [],
   "source": [
    "def fxs(x):\n",
    "    if x < 6:\n",
    "        return '1-5'\n",
    "    if x < 11:\n",
    "        return '6-10'\n",
    "    if x < 16:\n",
    "        return '11-15'\n",
    "    if x < 21:\n",
    "        return '16-20'\n",
    "    if x < 26:\n",
    "        return '21-25'\n",
    "    return '26-30'"
   ]
  },
  {
   "cell_type": "code",
   "execution_count": 287,
   "metadata": {},
   "outputs": [
    {
     "data": {
      "text/html": [
       "<div>\n",
       "<style scoped>\n",
       "    .dataframe tbody tr th:only-of-type {\n",
       "        vertical-align: middle;\n",
       "    }\n",
       "\n",
       "    .dataframe tbody tr th {\n",
       "        vertical-align: top;\n",
       "    }\n",
       "\n",
       "    .dataframe thead th {\n",
       "        text-align: right;\n",
       "    }\n",
       "</style>\n",
       "<table border=\"1\" class=\"dataframe\">\n",
       "  <thead>\n",
       "    <tr style=\"text-align: right;\">\n",
       "      <th></th>\n",
       "      <th>classes</th>\n",
       "      <th>classes</th>\n",
       "    </tr>\n",
       "  </thead>\n",
       "  <tbody>\n",
       "    <tr>\n",
       "      <th>1-5</th>\n",
       "      <td>12.00000</td>\n",
       "      <td>11</td>\n",
       "    </tr>\n",
       "    <tr>\n",
       "      <th>6-10</th>\n",
       "      <td>8.00000</td>\n",
       "      <td>87</td>\n",
       "    </tr>\n",
       "    <tr>\n",
       "      <th>11-15</th>\n",
       "      <td>2.00000</td>\n",
       "      <td>100</td>\n",
       "    </tr>\n",
       "    <tr>\n",
       "      <th>16-20</th>\n",
       "      <td>3.00000</td>\n",
       "      <td>135</td>\n",
       "    </tr>\n",
       "    <tr>\n",
       "      <th>21-25</th>\n",
       "      <td>1.00000</td>\n",
       "      <td>94</td>\n",
       "    </tr>\n",
       "    <tr>\n",
       "      <th>26-30</th>\n",
       "      <td>nan</td>\n",
       "      <td>60</td>\n",
       "    </tr>\n",
       "  </tbody>\n",
       "</table>\n",
       "</div>"
      ],
      "text/plain": [
       "       classes  classes\n",
       "1-5   12.00000       11\n",
       "6-10   8.00000       87\n",
       "11-15  2.00000      100\n",
       "16-20  3.00000      135\n",
       "21-25  1.00000       94\n",
       "26-30      nan       60"
      ]
     },
     "execution_count": 287,
     "metadata": {},
     "output_type": "execute_result"
    }
   ],
   "source": [
    "df_fxs_count = pd.concat([classes_wrong.map(classes_count).apply(fxs).value_counts(),\n",
    "            classes_right.map(classes_count).apply(fxs).value_counts()], axis=1).reindex(\n",
    "    ['1-5','6-10','11-15','16-20','21-25','26-30'])\n",
    "df_fxs_count"
   ]
  },
  {
   "cell_type": "code",
   "execution_count": 288,
   "metadata": {},
   "outputs": [
    {
     "data": {
      "text/plain": [
       "<matplotlib.axes._subplots.AxesSubplot at 0x7f0838303668>"
      ]
     },
     "execution_count": 288,
     "metadata": {},
     "output_type": "execute_result"
    },
    {
     "data": {
      "image/png": "[encoded data removed]",
      "text/plain": [
       "<Figure size 432x288 with 1 Axes>"
      ]
     },
     "metadata": {
      "needs_background": "light"
     },
     "output_type": "display_data"
    }
   ],
   "source": [
    "df_fxs_count.columns = ['wrong','right']\n",
    "df_fxs_count.plot.bar()"
   ]
  },
  {
   "cell_type": "markdown",
   "metadata": {},
   "source": [
    "# LFW"
   ]
  },
  {
   "cell_type": "code",
   "execution_count": 29,
   "metadata": {},
   "outputs": [],
   "source": [
    "from faces_clustering import FeatureExtractor"
   ]
  },
  {
   "cell_type": "code",
   "execution_count": 33,
   "metadata": {},
   "outputs": [],
   "source": [
    "path = '/home/paulo/Documentos/0_LFW_dataset'"
   ]
  },
  {
   "cell_type": "code",
   "execution_count": 34,
   "metadata": {},
   "outputs": [],
   "source": [
    "lfw = get_files_folder(path, criteria=is_image)"
   ]
  },
  {
   "cell_type": "code",
   "execution_count": 35,
   "metadata": {},
   "outputs": [],
   "source": [
    "sample = random.sample(lfw, 513)"
   ]
  },
  {
   "cell_type": "code",
   "execution_count": 36,
   "metadata": {},
   "outputs": [
    {
     "data": {
      "text/html": [
       "<div>\n",
       "<style scoped>\n",
       "    .dataframe tbody tr th:only-of-type {\n",
       "        vertical-align: middle;\n",
       "    }\n",
       "\n",
       "    .dataframe tbody tr th {\n",
       "        vertical-align: top;\n",
       "    }\n",
       "\n",
       "    .dataframe thead th {\n",
       "        text-align: right;\n",
       "    }\n",
       "</style>\n",
       "<table border=\"1\" class=\"dataframe\">\n",
       "  <thead>\n",
       "    <tr style=\"text-align: right;\">\n",
       "      <th></th>\n",
       "      <th>urls</th>\n",
       "      <th>embeddings</th>\n",
       "    </tr>\n",
       "  </thead>\n",
       "  <tbody>\n",
       "    <tr>\n",
       "      <th>0</th>\n",
       "      <td>/home/paulo/Documentos/0_LFW_dataset/Kim_Dae-j...</td>\n",
       "      <td>[0.48840332, 0.144612, 0.0148019, 0.05020816, ...</td>\n",
       "    </tr>\n",
       "    <tr>\n",
       "      <th>1</th>\n",
       "      <td>/home/paulo/Documentos/0_LFW_dataset/Hans_Blix...</td>\n",
       "      <td>[1.6899444, 0.052105, 0.20930415, 0.47116968, ...</td>\n",
       "    </tr>\n",
       "    <tr>\n",
       "      <th>2</th>\n",
       "      <td>/home/paulo/Documentos/0_LFW_dataset/Pete_Samp...</td>\n",
       "      <td>[0.047221407, 1.1174889, 0.0030544905, 0.27338...</td>\n",
       "    </tr>\n",
       "  </tbody>\n",
       "</table>\n",
       "</div>"
      ],
      "text/plain": [
       "                                                urls  \\\n",
       "0  /home/paulo/Documentos/0_LFW_dataset/Kim_Dae-j...   \n",
       "1  /home/paulo/Documentos/0_LFW_dataset/Hans_Blix...   \n",
       "2  /home/paulo/Documentos/0_LFW_dataset/Pete_Samp...   \n",
       "\n",
       "                                          embeddings  \n",
       "0  [0.48840332, 0.144612, 0.0148019, 0.05020816, ...  \n",
       "1  [1.6899444, 0.052105, 0.20930415, 0.47116968, ...  \n",
       "2  [0.047221407, 1.1174889, 0.0030544905, 0.27338...  "
      ]
     },
     "execution_count": 36,
     "metadata": {},
     "output_type": "execute_result"
    }
   ],
   "source": [
    "df_lfw = FeatureExtractor('senet50').extract(sample)\n"
   ]
  },
  {
   "cell_type": "code",
   "execution_count": 37,
   "metadata": {},
   "outputs": [],
   "source": [
    "lfw_query = [l.tolist() for l in df_lfw.embeddings.values]"
   ]
  },
  {
   "cell_type": "code",
   "execution_count": 38,
   "metadata": {},
   "outputs": [],
   "source": [
    "_, results_lfw = searcher.closest_centroids(embs_query = lfw_query)"
   ]
  },
  {
   "cell_type": "code",
   "execution_count": 39,
   "metadata": {},
   "outputs": [],
   "source": [
    "df_lfw['results'] = results_lfw"
   ]
  },
  {
   "cell_type": "code",
   "execution_count": 40,
   "metadata": {},
   "outputs": [
    {
     "name": "stdout",
     "output_type": "stream",
     "text": [
      "k: 2 0.0\n",
      "k: 3 0.9824561403508771\n",
      "k: 4 0.9941520467836257\n",
      "k: 5 0.9980506822612085\n",
      "k: 6 1.0\n",
      "k: 7 1.0\n",
      "k: 8 1.0\n",
      "k: 9 1.0\n",
      "k: 10 1.0\n"
     ]
    }
   ],
   "source": [
    "lfw = []\n",
    "for k in range(2,11):\n",
    "    lfw_clusters = df_lfw['results'].apply(lambda x: m1(x,k)[0] if m1(x,k)[1] >= 0.5 else -1)\n",
    "    print(f\"k: {k} {np.mean(lfw_clusters==-1)}\")\n",
    "    lfw.append(np.mean(lfw_clusters==-1))"
   ]
  },
  {
   "cell_type": "code",
   "execution_count": null,
   "metadata": {},
   "outputs": [],
   "source": [
    "df_results = pd.read_csv('../results/test_clusters.csv', index_col=0)"
   ]
  },
  {
   "cell_type": "code",
   "execution_count": 41,
   "metadata": {},
   "outputs": [],
   "source": [
    "df_results.index.name='alpha'\n",
    "df_results['lfw assigned to no cluster'] = lfw"
   ]
  },
  {
   "cell_type": "code",
   "execution_count": 42,
   "metadata": {},
   "outputs": [
    {
     "data": {
      "text/html": [
       "<div>\n",
       "<style scoped>\n",
       "    .dataframe tbody tr th:only-of-type {\n",
       "        vertical-align: middle;\n",
       "    }\n",
       "\n",
       "    .dataframe tbody tr th {\n",
       "        vertical-align: top;\n",
       "    }\n",
       "\n",
       "    .dataframe thead th {\n",
       "        text-align: right;\n",
       "    }\n",
       "</style>\n",
       "<table border=\"1\" class=\"dataframe\">\n",
       "  <thead>\n",
       "    <tr style=\"text-align: right;\">\n",
       "      <th></th>\n",
       "      <th>Any_Cluster</th>\n",
       "      <th>Mode Equal to Class</th>\n",
       "      <th>Class is present in cluster</th>\n",
       "      <th>lfw assigned to no cluster</th>\n",
       "    </tr>\n",
       "    <tr>\n",
       "      <th>alpha</th>\n",
       "      <th></th>\n",
       "      <th></th>\n",
       "      <th></th>\n",
       "      <th></th>\n",
       "    </tr>\n",
       "  </thead>\n",
       "  <tbody>\n",
       "    <tr>\n",
       "      <th>2</th>\n",
       "      <td>1.00000</td>\n",
       "      <td>0.93177</td>\n",
       "      <td>0.94347</td>\n",
       "      <td>0.00000</td>\n",
       "    </tr>\n",
       "    <tr>\n",
       "      <th>3</th>\n",
       "      <td>0.86355</td>\n",
       "      <td>0.85575</td>\n",
       "      <td>0.86160</td>\n",
       "      <td>0.98246</td>\n",
       "    </tr>\n",
       "    <tr>\n",
       "      <th>4</th>\n",
       "      <td>0.76998</td>\n",
       "      <td>0.76608</td>\n",
       "      <td>0.76998</td>\n",
       "      <td>0.99415</td>\n",
       "    </tr>\n",
       "    <tr>\n",
       "      <th>5</th>\n",
       "      <td>0.72904</td>\n",
       "      <td>0.72515</td>\n",
       "      <td>0.72904</td>\n",
       "      <td>0.99805</td>\n",
       "    </tr>\n",
       "    <tr>\n",
       "      <th>6</th>\n",
       "      <td>0.68811</td>\n",
       "      <td>0.68421</td>\n",
       "      <td>0.68811</td>\n",
       "      <td>1.00000</td>\n",
       "    </tr>\n",
       "    <tr>\n",
       "      <th>7</th>\n",
       "      <td>0.64912</td>\n",
       "      <td>0.64522</td>\n",
       "      <td>0.64912</td>\n",
       "      <td>1.00000</td>\n",
       "    </tr>\n",
       "    <tr>\n",
       "      <th>8</th>\n",
       "      <td>0.61209</td>\n",
       "      <td>0.60819</td>\n",
       "      <td>0.61209</td>\n",
       "      <td>1.00000</td>\n",
       "    </tr>\n",
       "    <tr>\n",
       "      <th>9</th>\n",
       "      <td>0.60039</td>\n",
       "      <td>0.59649</td>\n",
       "      <td>0.60039</td>\n",
       "      <td>1.00000</td>\n",
       "    </tr>\n",
       "    <tr>\n",
       "      <th>10</th>\n",
       "      <td>0.58285</td>\n",
       "      <td>0.57895</td>\n",
       "      <td>0.58285</td>\n",
       "      <td>1.00000</td>\n",
       "    </tr>\n",
       "  </tbody>\n",
       "</table>\n",
       "</div>"
      ],
      "text/plain": [
       "       Any_Cluster  Mode Equal to Class  Class is present in cluster  \\\n",
       "alpha                                                                  \n",
       "2          1.00000              0.93177                      0.94347   \n",
       "3          0.86355              0.85575                      0.86160   \n",
       "4          0.76998              0.76608                      0.76998   \n",
       "5          0.72904              0.72515                      0.72904   \n",
       "6          0.68811              0.68421                      0.68811   \n",
       "7          0.64912              0.64522                      0.64912   \n",
       "8          0.61209              0.60819                      0.61209   \n",
       "9          0.60039              0.59649                      0.60039   \n",
       "10         0.58285              0.57895                      0.58285   \n",
       "\n",
       "       lfw assigned to no cluster  \n",
       "alpha                              \n",
       "2                         0.00000  \n",
       "3                         0.98246  \n",
       "4                         0.99415  \n",
       "5                         0.99805  \n",
       "6                         1.00000  \n",
       "7                         1.00000  \n",
       "8                         1.00000  \n",
       "9                         1.00000  \n",
       "10                        1.00000  "
      ]
     },
     "execution_count": 42,
     "metadata": {},
     "output_type": "execute_result"
    }
   ],
   "source": [
    "#df_results.apply(lambda x: x.apply(lambda y: f'{y*100:.4f} %'))\n",
    "df_results"
   ]
  },
  {
   "cell_type": "code",
   "execution_count": 43,
   "metadata": {},
   "outputs": [],
   "source": [
    "df_results.to_csv('../results/test_clusters_silhouette.csv')"
   ]
  },
  {
   "cell_type": "code",
   "execution_count": null,
   "metadata": {},
   "outputs": [],
   "source": []
  }
 ],
 "metadata": {
  "kernelspec": {
   "display_name": "Python 3",
   "language": "python",
   "name": "python3"
  },
  "language_info": {
   "codemirror_mode": {
    "name": "ipython",
    "version": 3
   },
   "file_extension": ".py",
   "mimetype": "text/x-python",
   "name": "python",
   "nbconvert_exporter": "python",
   "pygments_lexer": "ipython3",
   "version": "3.6.8"
  }
 },
 "nbformat": 4,
 "nbformat_minor": 4
}
