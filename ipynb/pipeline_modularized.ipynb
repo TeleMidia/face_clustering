{
 "cells": [
  {
   "cell_type": "code",
   "execution_count": 1,
   "metadata": {},
   "outputs": [],
   "source": [
    "%load_ext autoreload\n",
    "%autoreload 2\n",
    "import os\n",
    "import pandas as pd\n",
    "import cv2\n",
    "import sys\n",
    "import random\n",
    "sys.path.append('../')\n",
    "\n",
    "random.seed(42)"
   ]
  },
  {
   "cell_type": "code",
   "execution_count": 2,
   "metadata": {},
   "outputs": [
    {
     "name": "stderr",
     "output_type": "stream",
     "text": [
      "Using TensorFlow backend.\n"
     ]
    }
   ],
   "source": [
    "from faces_clustering import Clusterer, FeatureExtractor, is_image, get_files_folder"
   ]
  },
  {
   "cell_type": "code",
   "execution_count": 29,
   "metadata": {},
   "outputs": [
    {
     "name": "stderr",
     "output_type": "stream",
     "text": [
      "/home/paulo/.local/share/virtualenvs/face_clustering-EKR70IVd/lib/python3.6/site-packages/pandas/core/ops/array_ops.py:57: FutureWarning: elementwise comparison failed; returning scalar instead, but in the future will perform elementwise comparison\n",
      "  result = libops.scalar_compare(x.ravel(), y, op)\n"
     ]
    },
    {
     "data": {
      "text/plain": [
       "(9003, 3)"
      ]
     },
     "execution_count": 29,
     "metadata": {},
     "output_type": "execute_result"
    }
   ],
   "source": [
    "df_embs = pd.read_pickle(f'../data/leg55_resnet50.pkl')\n",
    "df_embs = df_embs.loc[df_embs['embeddings']!=str('-')]\n",
    "df_embs.shape"
   ]
  },
  {
   "cell_type": "code",
   "execution_count": 32,
   "metadata": {},
   "outputs": [
    {
     "data": {
      "text/plain": [
       "count    513.000000\n",
       "mean      17.549708\n",
       "std        6.905470\n",
       "min        2.000000\n",
       "25%       12.000000\n",
       "50%       18.000000\n",
       "75%       23.000000\n",
       "max       31.000000\n",
       "Name: urls, dtype: float64"
      ]
     },
     "execution_count": 32,
     "metadata": {},
     "output_type": "execute_result"
    }
   ],
   "source": [
    "df_embs.groupby('classes')['urls'].count().describe()"
   ]
  },
  {
   "cell_type": "markdown",
   "metadata": {},
   "source": [
    "# Extracting Features"
   ]
  },
  {
   "cell_type": "code",
   "execution_count": 5,
   "metadata": {},
   "outputs": [],
   "source": [
    "acomplete_urls = get_files_folder(\"/home/paulo/Documentos/slnp_faces_leg_55\", is_image)"
   ]
  },
  {
   "cell_type": "code",
   "execution_count": 6,
   "metadata": {},
   "outputs": [
    {
     "data": {
      "text/plain": [
       "9006"
      ]
     },
     "execution_count": 6,
     "metadata": {},
     "output_type": "execute_result"
    }
   ],
   "source": [
    "len(complete_urls)"
   ]
  },
  {
   "cell_type": "code",
   "execution_count": 6,
   "metadata": {
    "scrolled": true
   },
   "outputs": [
    {
     "data": {
      "text/html": [
       "<div>\n",
       "<style scoped>\n",
       "    .dataframe tbody tr th:only-of-type {\n",
       "        vertical-align: middle;\n",
       "    }\n",
       "\n",
       "    .dataframe tbody tr th {\n",
       "        vertical-align: top;\n",
       "    }\n",
       "\n",
       "    .dataframe thead th {\n",
       "        text-align: right;\n",
       "    }\n",
       "</style>\n",
       "<table border=\"1\" class=\"dataframe\">\n",
       "  <thead>\n",
       "    <tr style=\"text-align: right;\">\n",
       "      <th></th>\n",
       "      <th>urls</th>\n",
       "      <th>embeddings</th>\n",
       "    </tr>\n",
       "  </thead>\n",
       "  <tbody>\n",
       "    <tr>\n",
       "      <th>0</th>\n",
       "      <td>C:/Users/paulo/Documents/FacesProject/slnp_fac...</td>\n",
       "      <td>[0.0996729, 0.028490392, 0.20510468, 0.5868249...</td>\n",
       "    </tr>\n",
       "    <tr>\n",
       "      <th>1</th>\n",
       "      <td>C:/Users/paulo/Documents/FacesProject/slnp_fac...</td>\n",
       "      <td>[0.086341664, 0.13112758, 0.0015521318, 0.2116...</td>\n",
       "    </tr>\n",
       "    <tr>\n",
       "      <th>2</th>\n",
       "      <td>C:/Users/paulo/Documents/FacesProject/slnp_fac...</td>\n",
       "      <td>[0.10442628, 0.11352078, 0.7367716, 2.401755, ...</td>\n",
       "    </tr>\n",
       "    <tr>\n",
       "      <th>3</th>\n",
       "      <td>C:/Users/paulo/Documents/FacesProject/slnp_fac...</td>\n",
       "      <td>[0.06998727, 3.4273074, 0.0, 2.3481488, 0.0052...</td>\n",
       "    </tr>\n",
       "    <tr>\n",
       "      <th>4</th>\n",
       "      <td>C:/Users/paulo/Documents/FacesProject/slnp_fac...</td>\n",
       "      <td>[0.10927686, 0.12103541, 2.4254398, 0.02788562...</td>\n",
       "    </tr>\n",
       "    <tr>\n",
       "      <th>5</th>\n",
       "      <td>C:/Users/paulo/Documents/FacesProject/slnp_fac...</td>\n",
       "      <td>[0.08674781, 0.022120327, 0.010512385, 0.31749...</td>\n",
       "    </tr>\n",
       "    <tr>\n",
       "      <th>6</th>\n",
       "      <td>C:/Users/paulo/Documents/FacesProject/slnp_fac...</td>\n",
       "      <td>[0.061542507, 0.2265746, 0.0029556362, 1.17124...</td>\n",
       "    </tr>\n",
       "    <tr>\n",
       "      <th>7</th>\n",
       "      <td>C:/Users/paulo/Documents/FacesProject/slnp_fac...</td>\n",
       "      <td>[0.101131305, 0.02695675, 0.2932879, 0.2321411...</td>\n",
       "    </tr>\n",
       "    <tr>\n",
       "      <th>8</th>\n",
       "      <td>C:/Users/paulo/Documents/FacesProject/slnp_fac...</td>\n",
       "      <td>[0.08608747, 0.031913932, 3.3949726, 1.5851948...</td>\n",
       "    </tr>\n",
       "    <tr>\n",
       "      <th>9</th>\n",
       "      <td>C:/Users/paulo/Documents/FacesProject/slnp_fac...</td>\n",
       "      <td>[0.03212753, 0.9086893, 0.014074973, 0.0, 3.94...</td>\n",
       "    </tr>\n",
       "    <tr>\n",
       "      <th>10</th>\n",
       "      <td>C:/Users/paulo/Documents/FacesProject/slnp_fac...</td>\n",
       "      <td>[0.020466076, 0.36794963, 0.030291125, 7.72909...</td>\n",
       "    </tr>\n",
       "    <tr>\n",
       "      <th>11</th>\n",
       "      <td>C:/Users/paulo/Documents/FacesProject/slnp_fac...</td>\n",
       "      <td>[0.031006655, 2.815145, 0.010022471, 0.0035718...</td>\n",
       "    </tr>\n",
       "    <tr>\n",
       "      <th>12</th>\n",
       "      <td>C:/Users/paulo/Documents/FacesProject/slnp_fac...</td>\n",
       "      <td>[0.034526322, 6.4699874, 0.025965113, 0.012060...</td>\n",
       "    </tr>\n",
       "    <tr>\n",
       "      <th>13</th>\n",
       "      <td>C:/Users/paulo/Documents/FacesProject/slnp_fac...</td>\n",
       "      <td>[0.049256645, 4.403074, 0.00090059696, 0.00337...</td>\n",
       "    </tr>\n",
       "    <tr>\n",
       "      <th>14</th>\n",
       "      <td>C:/Users/paulo/Documents/FacesProject/slnp_fac...</td>\n",
       "      <td>[0.01883184, 1.9164138, 0.012820363, 0.0027188...</td>\n",
       "    </tr>\n",
       "    <tr>\n",
       "      <th>15</th>\n",
       "      <td>C:/Users/paulo/Documents/FacesProject/slnp_fac...</td>\n",
       "      <td>[0.21644714, 1.0219734, 0.018144626, 0.0010038...</td>\n",
       "    </tr>\n",
       "    <tr>\n",
       "      <th>16</th>\n",
       "      <td>C:/Users/paulo/Documents/FacesProject/slnp_fac...</td>\n",
       "      <td>[0.027774079, 7.488883, 0.02298243, 0.00889985...</td>\n",
       "    </tr>\n",
       "    <tr>\n",
       "      <th>17</th>\n",
       "      <td>C:/Users/paulo/Documents/FacesProject/slnp_fac...</td>\n",
       "      <td>[0.024326045, 0.15975308, 0.0029942794, 0.0, 4...</td>\n",
       "    </tr>\n",
       "    <tr>\n",
       "      <th>18</th>\n",
       "      <td>C:/Users/paulo/Documents/FacesProject/slnp_fac...</td>\n",
       "      <td>[0.039814938, 4.772596, 0.008010774, 0.0057469...</td>\n",
       "    </tr>\n",
       "    <tr>\n",
       "      <th>19</th>\n",
       "      <td>C:/Users/paulo/Documents/FacesProject/slnp_fac...</td>\n",
       "      <td>[0.020965258, 0.045462765, 0.004541108, 0.0001...</td>\n",
       "    </tr>\n",
       "  </tbody>\n",
       "</table>\n",
       "</div>"
      ],
      "text/plain": [
       "                                                 urls  \\\n",
       "0   C:/Users/paulo/Documents/FacesProject/slnp_fac...   \n",
       "1   C:/Users/paulo/Documents/FacesProject/slnp_fac...   \n",
       "2   C:/Users/paulo/Documents/FacesProject/slnp_fac...   \n",
       "3   C:/Users/paulo/Documents/FacesProject/slnp_fac...   \n",
       "4   C:/Users/paulo/Documents/FacesProject/slnp_fac...   \n",
       "5   C:/Users/paulo/Documents/FacesProject/slnp_fac...   \n",
       "6   C:/Users/paulo/Documents/FacesProject/slnp_fac...   \n",
       "7   C:/Users/paulo/Documents/FacesProject/slnp_fac...   \n",
       "8   C:/Users/paulo/Documents/FacesProject/slnp_fac...   \n",
       "9   C:/Users/paulo/Documents/FacesProject/slnp_fac...   \n",
       "10  C:/Users/paulo/Documents/FacesProject/slnp_fac...   \n",
       "11  C:/Users/paulo/Documents/FacesProject/slnp_fac...   \n",
       "12  C:/Users/paulo/Documents/FacesProject/slnp_fac...   \n",
       "13  C:/Users/paulo/Documents/FacesProject/slnp_fac...   \n",
       "14  C:/Users/paulo/Documents/FacesProject/slnp_fac...   \n",
       "15  C:/Users/paulo/Documents/FacesProject/slnp_fac...   \n",
       "16  C:/Users/paulo/Documents/FacesProject/slnp_fac...   \n",
       "17  C:/Users/paulo/Documents/FacesProject/slnp_fac...   \n",
       "18  C:/Users/paulo/Documents/FacesProject/slnp_fac...   \n",
       "19  C:/Users/paulo/Documents/FacesProject/slnp_fac...   \n",
       "\n",
       "                                           embeddings  \n",
       "0   [0.0996729, 0.028490392, 0.20510468, 0.5868249...  \n",
       "1   [0.086341664, 0.13112758, 0.0015521318, 0.2116...  \n",
       "2   [0.10442628, 0.11352078, 0.7367716, 2.401755, ...  \n",
       "3   [0.06998727, 3.4273074, 0.0, 2.3481488, 0.0052...  \n",
       "4   [0.10927686, 0.12103541, 2.4254398, 0.02788562...  \n",
       "5   [0.08674781, 0.022120327, 0.010512385, 0.31749...  \n",
       "6   [0.061542507, 0.2265746, 0.0029556362, 1.17124...  \n",
       "7   [0.101131305, 0.02695675, 0.2932879, 0.2321411...  \n",
       "8   [0.08608747, 0.031913932, 3.3949726, 1.5851948...  \n",
       "9   [0.03212753, 0.9086893, 0.014074973, 0.0, 3.94...  \n",
       "10  [0.020466076, 0.36794963, 0.030291125, 7.72909...  \n",
       "11  [0.031006655, 2.815145, 0.010022471, 0.0035718...  \n",
       "12  [0.034526322, 6.4699874, 0.025965113, 0.012060...  \n",
       "13  [0.049256645, 4.403074, 0.00090059696, 0.00337...  \n",
       "14  [0.01883184, 1.9164138, 0.012820363, 0.0027188...  \n",
       "15  [0.21644714, 1.0219734, 0.018144626, 0.0010038...  \n",
       "16  [0.027774079, 7.488883, 0.02298243, 0.00889985...  \n",
       "17  [0.024326045, 0.15975308, 0.0029942794, 0.0, 4...  \n",
       "18  [0.039814938, 4.772596, 0.008010774, 0.0057469...  \n",
       "19  [0.020965258, 0.045462765, 0.004541108, 0.0001...  "
      ]
     },
     "execution_count": 6,
     "metadata": {},
     "output_type": "execute_result"
    }
   ],
   "source": [
    "df_features_senet50 = FeatureExtractor('senet50').extract(complete_urls)\n",
    "df_features_senet50.head(20)"
   ]
  },
  {
   "cell_type": "code",
   "execution_count": 7,
   "metadata": {},
   "outputs": [],
   "source": [
    "df_features_senet50.to_pickle('../data/leg55_senet50.pkl')"
   ]
  },
  {
   "cell_type": "code",
   "execution_count": 8,
   "metadata": {},
   "outputs": [
    {
     "data": {
      "text/html": [
       "<div>\n",
       "<style scoped>\n",
       "    .dataframe tbody tr th:only-of-type {\n",
       "        vertical-align: middle;\n",
       "    }\n",
       "\n",
       "    .dataframe tbody tr th {\n",
       "        vertical-align: top;\n",
       "    }\n",
       "\n",
       "    .dataframe thead th {\n",
       "        text-align: right;\n",
       "    }\n",
       "</style>\n",
       "<table border=\"1\" class=\"dataframe\">\n",
       "  <thead>\n",
       "    <tr style=\"text-align: right;\">\n",
       "      <th></th>\n",
       "      <th>urls</th>\n",
       "      <th>embeddings</th>\n",
       "    </tr>\n",
       "  </thead>\n",
       "  <tbody>\n",
       "    <tr>\n",
       "      <th>0</th>\n",
       "      <td>C:/Users/paulo/Documents/FacesProject/slnp_fac...</td>\n",
       "      <td>[1.3244658, 0.5904787, 4.177269, 0.7942324, 1....</td>\n",
       "    </tr>\n",
       "    <tr>\n",
       "      <th>1</th>\n",
       "      <td>C:/Users/paulo/Documents/FacesProject/slnp_fac...</td>\n",
       "      <td>[0.0022103277, 1.0620648, 3.5930886, 0.0461376...</td>\n",
       "    </tr>\n",
       "    <tr>\n",
       "      <th>2</th>\n",
       "      <td>C:/Users/paulo/Documents/FacesProject/slnp_fac...</td>\n",
       "      <td>[0.31701073, 1.8052977, 1.7435782, 7.373654, 0...</td>\n",
       "    </tr>\n",
       "    <tr>\n",
       "      <th>3</th>\n",
       "      <td>C:/Users/paulo/Documents/FacesProject/slnp_fac...</td>\n",
       "      <td>[0.6117908, 2.5383434, 0.0, 0.03535835, 0.5126...</td>\n",
       "    </tr>\n",
       "    <tr>\n",
       "      <th>4</th>\n",
       "      <td>C:/Users/paulo/Documents/FacesProject/slnp_fac...</td>\n",
       "      <td>[0.08985586, 2.0157309, 6.5390806, 1.6127877, ...</td>\n",
       "    </tr>\n",
       "    <tr>\n",
       "      <th>5</th>\n",
       "      <td>C:/Users/paulo/Documents/FacesProject/slnp_fac...</td>\n",
       "      <td>[0.11096674, 0.7182488, 5.1844225, 4.902494, 0...</td>\n",
       "    </tr>\n",
       "    <tr>\n",
       "      <th>6</th>\n",
       "      <td>C:/Users/paulo/Documents/FacesProject/slnp_fac...</td>\n",
       "      <td>[0.03200272, 0.07505312, 3.836365, 0.40002552,...</td>\n",
       "    </tr>\n",
       "    <tr>\n",
       "      <th>7</th>\n",
       "      <td>C:/Users/paulo/Documents/FacesProject/slnp_fac...</td>\n",
       "      <td>[1.8421695, 0.56172615, 4.8317094, 1.4868399, ...</td>\n",
       "    </tr>\n",
       "    <tr>\n",
       "      <th>8</th>\n",
       "      <td>C:/Users/paulo/Documents/FacesProject/slnp_fac...</td>\n",
       "      <td>[0.13567455, 2.904518, 0.61311257, 4.9027457, ...</td>\n",
       "    </tr>\n",
       "    <tr>\n",
       "      <th>9</th>\n",
       "      <td>C:/Users/paulo/Documents/FacesProject/slnp_fac...</td>\n",
       "      <td>[0.6128481, 0.005993923, 0.0, 0.44318846, 0.90...</td>\n",
       "    </tr>\n",
       "    <tr>\n",
       "      <th>10</th>\n",
       "      <td>C:/Users/paulo/Documents/FacesProject/slnp_fac...</td>\n",
       "      <td>[0.005119752, 0.20192586, 0.0, 1.563234, 0.0, ...</td>\n",
       "    </tr>\n",
       "    <tr>\n",
       "      <th>11</th>\n",
       "      <td>C:/Users/paulo/Documents/FacesProject/slnp_fac...</td>\n",
       "      <td>[0.0, 0.0045752404, 0.0, 0.0, 0.07090463, 3.43...</td>\n",
       "    </tr>\n",
       "    <tr>\n",
       "      <th>12</th>\n",
       "      <td>C:/Users/paulo/Documents/FacesProject/slnp_fac...</td>\n",
       "      <td>[0.0, 0.32604367, 0.0035965077, 0.44892982, 0....</td>\n",
       "    </tr>\n",
       "    <tr>\n",
       "      <th>13</th>\n",
       "      <td>C:/Users/paulo/Documents/FacesProject/slnp_fac...</td>\n",
       "      <td>[1.9467454, 0.40832442, 0.0, 0.02829234, 0.0, ...</td>\n",
       "    </tr>\n",
       "    <tr>\n",
       "      <th>14</th>\n",
       "      <td>C:/Users/paulo/Documents/FacesProject/slnp_fac...</td>\n",
       "      <td>[0.019974615, 0.42353398, 0.0, 0.16760343, 0.0...</td>\n",
       "    </tr>\n",
       "    <tr>\n",
       "      <th>15</th>\n",
       "      <td>C:/Users/paulo/Documents/FacesProject/slnp_fac...</td>\n",
       "      <td>[0.013241359, 0.68240404, 0.0, 0.94880885, 0.3...</td>\n",
       "    </tr>\n",
       "    <tr>\n",
       "      <th>16</th>\n",
       "      <td>C:/Users/paulo/Documents/FacesProject/slnp_fac...</td>\n",
       "      <td>[0.0, 1.0135443, 0.0, 0.26142147, 0.0, 9.21567...</td>\n",
       "    </tr>\n",
       "    <tr>\n",
       "      <th>17</th>\n",
       "      <td>C:/Users/paulo/Documents/FacesProject/slnp_fac...</td>\n",
       "      <td>[0.003456218, 0.6763119, 0.0, 0.23211911, 0.16...</td>\n",
       "    </tr>\n",
       "    <tr>\n",
       "      <th>18</th>\n",
       "      <td>C:/Users/paulo/Documents/FacesProject/slnp_fac...</td>\n",
       "      <td>[0.0, 0.013575077, 0.0, 0.17310372, 0.28399882...</td>\n",
       "    </tr>\n",
       "    <tr>\n",
       "      <th>19</th>\n",
       "      <td>C:/Users/paulo/Documents/FacesProject/slnp_fac...</td>\n",
       "      <td>[0.022514056, 0.30870822, 0.0, 0.31716618, 0.2...</td>\n",
       "    </tr>\n",
       "  </tbody>\n",
       "</table>\n",
       "</div>"
      ],
      "text/plain": [
       "                                                 urls  \\\n",
       "0   C:/Users/paulo/Documents/FacesProject/slnp_fac...   \n",
       "1   C:/Users/paulo/Documents/FacesProject/slnp_fac...   \n",
       "2   C:/Users/paulo/Documents/FacesProject/slnp_fac...   \n",
       "3   C:/Users/paulo/Documents/FacesProject/slnp_fac...   \n",
       "4   C:/Users/paulo/Documents/FacesProject/slnp_fac...   \n",
       "5   C:/Users/paulo/Documents/FacesProject/slnp_fac...   \n",
       "6   C:/Users/paulo/Documents/FacesProject/slnp_fac...   \n",
       "7   C:/Users/paulo/Documents/FacesProject/slnp_fac...   \n",
       "8   C:/Users/paulo/Documents/FacesProject/slnp_fac...   \n",
       "9   C:/Users/paulo/Documents/FacesProject/slnp_fac...   \n",
       "10  C:/Users/paulo/Documents/FacesProject/slnp_fac...   \n",
       "11  C:/Users/paulo/Documents/FacesProject/slnp_fac...   \n",
       "12  C:/Users/paulo/Documents/FacesProject/slnp_fac...   \n",
       "13  C:/Users/paulo/Documents/FacesProject/slnp_fac...   \n",
       "14  C:/Users/paulo/Documents/FacesProject/slnp_fac...   \n",
       "15  C:/Users/paulo/Documents/FacesProject/slnp_fac...   \n",
       "16  C:/Users/paulo/Documents/FacesProject/slnp_fac...   \n",
       "17  C:/Users/paulo/Documents/FacesProject/slnp_fac...   \n",
       "18  C:/Users/paulo/Documents/FacesProject/slnp_fac...   \n",
       "19  C:/Users/paulo/Documents/FacesProject/slnp_fac...   \n",
       "\n",
       "                                           embeddings  \n",
       "0   [1.3244658, 0.5904787, 4.177269, 0.7942324, 1....  \n",
       "1   [0.0022103277, 1.0620648, 3.5930886, 0.0461376...  \n",
       "2   [0.31701073, 1.8052977, 1.7435782, 7.373654, 0...  \n",
       "3   [0.6117908, 2.5383434, 0.0, 0.03535835, 0.5126...  \n",
       "4   [0.08985586, 2.0157309, 6.5390806, 1.6127877, ...  \n",
       "5   [0.11096674, 0.7182488, 5.1844225, 4.902494, 0...  \n",
       "6   [0.03200272, 0.07505312, 3.836365, 0.40002552,...  \n",
       "7   [1.8421695, 0.56172615, 4.8317094, 1.4868399, ...  \n",
       "8   [0.13567455, 2.904518, 0.61311257, 4.9027457, ...  \n",
       "9   [0.6128481, 0.005993923, 0.0, 0.44318846, 0.90...  \n",
       "10  [0.005119752, 0.20192586, 0.0, 1.563234, 0.0, ...  \n",
       "11  [0.0, 0.0045752404, 0.0, 0.0, 0.07090463, 3.43...  \n",
       "12  [0.0, 0.32604367, 0.0035965077, 0.44892982, 0....  \n",
       "13  [1.9467454, 0.40832442, 0.0, 0.02829234, 0.0, ...  \n",
       "14  [0.019974615, 0.42353398, 0.0, 0.16760343, 0.0...  \n",
       "15  [0.013241359, 0.68240404, 0.0, 0.94880885, 0.3...  \n",
       "16  [0.0, 1.0135443, 0.0, 0.26142147, 0.0, 9.21567...  \n",
       "17  [0.003456218, 0.6763119, 0.0, 0.23211911, 0.16...  \n",
       "18  [0.0, 0.013575077, 0.0, 0.17310372, 0.28399882...  \n",
       "19  [0.022514056, 0.30870822, 0.0, 0.31716618, 0.2...  "
      ]
     },
     "execution_count": 8,
     "metadata": {},
     "output_type": "execute_result"
    }
   ],
   "source": [
    "df_features_resnet50 = FeatureExtractor('resnet50').extract(complete_urls)\n",
    "df_features_resnet50.head(20)"
   ]
  },
  {
   "cell_type": "code",
   "execution_count": 9,
   "metadata": {},
   "outputs": [],
   "source": [
    "df_features_resnet50.to_pickle('../data/leg55_resnet50.pkl')"
   ]
  },
  {
   "cell_type": "code",
   "execution_count": 10,
   "metadata": {
    "scrolled": true
   },
   "outputs": [
    {
     "data": {
      "text/html": [
       "<div>\n",
       "<style scoped>\n",
       "    .dataframe tbody tr th:only-of-type {\n",
       "        vertical-align: middle;\n",
       "    }\n",
       "\n",
       "    .dataframe tbody tr th {\n",
       "        vertical-align: top;\n",
       "    }\n",
       "\n",
       "    .dataframe thead th {\n",
       "        text-align: right;\n",
       "    }\n",
       "</style>\n",
       "<table border=\"1\" class=\"dataframe\">\n",
       "  <thead>\n",
       "    <tr style=\"text-align: right;\">\n",
       "      <th></th>\n",
       "      <th>urls</th>\n",
       "      <th>embeddings</th>\n",
       "    </tr>\n",
       "  </thead>\n",
       "  <tbody>\n",
       "    <tr>\n",
       "      <th>0</th>\n",
       "      <td>C:/Users/paulo/Documents/FacesProject/slnp_fac...</td>\n",
       "      <td>[3.763019, 1.1650515, 0.5744736, 6.1935043, 9....</td>\n",
       "    </tr>\n",
       "    <tr>\n",
       "      <th>1</th>\n",
       "      <td>C:/Users/paulo/Documents/FacesProject/slnp_fac...</td>\n",
       "      <td>[1.9997711, 1.5350305, 0.13148202, 5.673743, 0...</td>\n",
       "    </tr>\n",
       "    <tr>\n",
       "      <th>2</th>\n",
       "      <td>C:/Users/paulo/Documents/FacesProject/slnp_fac...</td>\n",
       "      <td>[5.559261, 3.0951457, 0.3216881, 8.773775, 0.0...</td>\n",
       "    </tr>\n",
       "    <tr>\n",
       "      <th>3</th>\n",
       "      <td>C:/Users/paulo/Documents/FacesProject/slnp_fac...</td>\n",
       "      <td>[3.4136424, 2.7559872, 1.0755779, 7.3527594, 7...</td>\n",
       "    </tr>\n",
       "    <tr>\n",
       "      <th>4</th>\n",
       "      <td>C:/Users/paulo/Documents/FacesProject/slnp_fac...</td>\n",
       "      <td>[7.1362042, 0.9659396, 1.0193015, 6.1010485, 3...</td>\n",
       "    </tr>\n",
       "    <tr>\n",
       "      <th>5</th>\n",
       "      <td>C:/Users/paulo/Documents/FacesProject/slnp_fac...</td>\n",
       "      <td>[2.514649, 2.928906, 0.2882858, 7.5130744, 3.0...</td>\n",
       "    </tr>\n",
       "    <tr>\n",
       "      <th>6</th>\n",
       "      <td>C:/Users/paulo/Documents/FacesProject/slnp_fac...</td>\n",
       "      <td>[1.9470098, 2.9797661, 0.0, 7.3171406, 1.60305...</td>\n",
       "    </tr>\n",
       "    <tr>\n",
       "      <th>7</th>\n",
       "      <td>C:/Users/paulo/Documents/FacesProject/slnp_fac...</td>\n",
       "      <td>[4.2727046, 1.2910197, 0.3191291, 4.6945734, 7...</td>\n",
       "    </tr>\n",
       "    <tr>\n",
       "      <th>8</th>\n",
       "      <td>C:/Users/paulo/Documents/FacesProject/slnp_fac...</td>\n",
       "      <td>[5.4242935, 0.2147629, 0.0, 8.352837, 1.492800...</td>\n",
       "    </tr>\n",
       "    <tr>\n",
       "      <th>9</th>\n",
       "      <td>C:/Users/paulo/Documents/FacesProject/slnp_fac...</td>\n",
       "      <td>[17.759718, 2.1976326, 1.2993937, 4.5613794, 0...</td>\n",
       "    </tr>\n",
       "    <tr>\n",
       "      <th>10</th>\n",
       "      <td>C:/Users/paulo/Documents/FacesProject/slnp_fac...</td>\n",
       "      <td>[5.1911697, 5.528829, 0.3403573, 7.5382614, 0....</td>\n",
       "    </tr>\n",
       "    <tr>\n",
       "      <th>11</th>\n",
       "      <td>C:/Users/paulo/Documents/FacesProject/slnp_fac...</td>\n",
       "      <td>[11.704966, 7.99142, 1.642513, 8.71918, 0.1858...</td>\n",
       "    </tr>\n",
       "    <tr>\n",
       "      <th>12</th>\n",
       "      <td>C:/Users/paulo/Documents/FacesProject/slnp_fac...</td>\n",
       "      <td>[4.831408, 7.7912173, 0.6656082, 7.6570897, 0....</td>\n",
       "    </tr>\n",
       "    <tr>\n",
       "      <th>13</th>\n",
       "      <td>C:/Users/paulo/Documents/FacesProject/slnp_fac...</td>\n",
       "      <td>[2.3113606, 5.483814, 0.03628875, 2.994294, 0....</td>\n",
       "    </tr>\n",
       "    <tr>\n",
       "      <th>14</th>\n",
       "      <td>C:/Users/paulo/Documents/FacesProject/slnp_fac...</td>\n",
       "      <td>[12.188075, 3.64206, 0.71149987, 3.772304, 0.4...</td>\n",
       "    </tr>\n",
       "    <tr>\n",
       "      <th>15</th>\n",
       "      <td>C:/Users/paulo/Documents/FacesProject/slnp_fac...</td>\n",
       "      <td>[7.374444, 6.09609, 2.2365937, 4.6417603, 0.0,...</td>\n",
       "    </tr>\n",
       "    <tr>\n",
       "      <th>16</th>\n",
       "      <td>C:/Users/paulo/Documents/FacesProject/slnp_fac...</td>\n",
       "      <td>[5.0029435, 7.1090426, 0.70521754, 7.858578, 0...</td>\n",
       "    </tr>\n",
       "    <tr>\n",
       "      <th>17</th>\n",
       "      <td>C:/Users/paulo/Documents/FacesProject/slnp_fac...</td>\n",
       "      <td>[16.961832, 8.961511, 0.4549792, 9.389942, 0.0...</td>\n",
       "    </tr>\n",
       "    <tr>\n",
       "      <th>18</th>\n",
       "      <td>C:/Users/paulo/Documents/FacesProject/slnp_fac...</td>\n",
       "      <td>[13.758941, 10.100692, 2.8554025, 5.174009, 0....</td>\n",
       "    </tr>\n",
       "    <tr>\n",
       "      <th>19</th>\n",
       "      <td>C:/Users/paulo/Documents/FacesProject/slnp_fac...</td>\n",
       "      <td>[16.272959, 9.942207, 0.64579695, 9.209175, 0....</td>\n",
       "    </tr>\n",
       "  </tbody>\n",
       "</table>\n",
       "</div>"
      ],
      "text/plain": [
       "                                                 urls  \\\n",
       "0   C:/Users/paulo/Documents/FacesProject/slnp_fac...   \n",
       "1   C:/Users/paulo/Documents/FacesProject/slnp_fac...   \n",
       "2   C:/Users/paulo/Documents/FacesProject/slnp_fac...   \n",
       "3   C:/Users/paulo/Documents/FacesProject/slnp_fac...   \n",
       "4   C:/Users/paulo/Documents/FacesProject/slnp_fac...   \n",
       "5   C:/Users/paulo/Documents/FacesProject/slnp_fac...   \n",
       "6   C:/Users/paulo/Documents/FacesProject/slnp_fac...   \n",
       "7   C:/Users/paulo/Documents/FacesProject/slnp_fac...   \n",
       "8   C:/Users/paulo/Documents/FacesProject/slnp_fac...   \n",
       "9   C:/Users/paulo/Documents/FacesProject/slnp_fac...   \n",
       "10  C:/Users/paulo/Documents/FacesProject/slnp_fac...   \n",
       "11  C:/Users/paulo/Documents/FacesProject/slnp_fac...   \n",
       "12  C:/Users/paulo/Documents/FacesProject/slnp_fac...   \n",
       "13  C:/Users/paulo/Documents/FacesProject/slnp_fac...   \n",
       "14  C:/Users/paulo/Documents/FacesProject/slnp_fac...   \n",
       "15  C:/Users/paulo/Documents/FacesProject/slnp_fac...   \n",
       "16  C:/Users/paulo/Documents/FacesProject/slnp_fac...   \n",
       "17  C:/Users/paulo/Documents/FacesProject/slnp_fac...   \n",
       "18  C:/Users/paulo/Documents/FacesProject/slnp_fac...   \n",
       "19  C:/Users/paulo/Documents/FacesProject/slnp_fac...   \n",
       "\n",
       "                                           embeddings  \n",
       "0   [3.763019, 1.1650515, 0.5744736, 6.1935043, 9....  \n",
       "1   [1.9997711, 1.5350305, 0.13148202, 5.673743, 0...  \n",
       "2   [5.559261, 3.0951457, 0.3216881, 8.773775, 0.0...  \n",
       "3   [3.4136424, 2.7559872, 1.0755779, 7.3527594, 7...  \n",
       "4   [7.1362042, 0.9659396, 1.0193015, 6.1010485, 3...  \n",
       "5   [2.514649, 2.928906, 0.2882858, 7.5130744, 3.0...  \n",
       "6   [1.9470098, 2.9797661, 0.0, 7.3171406, 1.60305...  \n",
       "7   [4.2727046, 1.2910197, 0.3191291, 4.6945734, 7...  \n",
       "8   [5.4242935, 0.2147629, 0.0, 8.352837, 1.492800...  \n",
       "9   [17.759718, 2.1976326, 1.2993937, 4.5613794, 0...  \n",
       "10  [5.1911697, 5.528829, 0.3403573, 7.5382614, 0....  \n",
       "11  [11.704966, 7.99142, 1.642513, 8.71918, 0.1858...  \n",
       "12  [4.831408, 7.7912173, 0.6656082, 7.6570897, 0....  \n",
       "13  [2.3113606, 5.483814, 0.03628875, 2.994294, 0....  \n",
       "14  [12.188075, 3.64206, 0.71149987, 3.772304, 0.4...  \n",
       "15  [7.374444, 6.09609, 2.2365937, 4.6417603, 0.0,...  \n",
       "16  [5.0029435, 7.1090426, 0.70521754, 7.858578, 0...  \n",
       "17  [16.961832, 8.961511, 0.4549792, 9.389942, 0.0...  \n",
       "18  [13.758941, 10.100692, 2.8554025, 5.174009, 0....  \n",
       "19  [16.272959, 9.942207, 0.64579695, 9.209175, 0....  "
      ]
     },
     "execution_count": 10,
     "metadata": {},
     "output_type": "execute_result"
    }
   ],
   "source": [
    "df_features_vgg16 = FeatureExtractor('vgg16').extract(complete_urls)\n",
    "df_features_vgg16.head(20)"
   ]
  },
  {
   "cell_type": "code",
   "execution_count": 11,
   "metadata": {},
   "outputs": [],
   "source": [
    "df_features_vgg16.to_pickle('../data/leg55_vgg16.pkl')"
   ]
  },
  {
   "cell_type": "markdown",
   "metadata": {},
   "source": [
    "# Clustering"
   ]
  },
  {
   "cell_type": "code",
   "execution_count": null,
   "metadata": {},
   "outputs": [],
   "source": [
    "backbone = 'vgg16'"
   ]
  },
  {
   "cell_type": "code",
   "execution_count": null,
   "metadata": {},
   "outputs": [],
   "source": [
    "df_embeddings = pd.read_pickle(f'../data/leg55_{backbone}.pkl')"
   ]
  },
  {
   "cell_type": "code",
   "execution_count": null,
   "metadata": {},
   "outputs": [],
   "source": [
    "df_embeddings.shape"
   ]
  },
  {
   "cell_type": "code",
   "execution_count": null,
   "metadata": {},
   "outputs": [],
   "source": [
    "classes = df_embeddings.urls.apply(lambda x: x.split('/')[-2])"
   ]
  },
  {
   "cell_type": "code",
   "execution_count": null,
   "metadata": {},
   "outputs": [],
   "source": [
    "valid_indexes = df_embeddings.embeddings.apply(lambda x: str(x) != '-')\n",
    "df_embeddings = df_embeddings.loc[valid_indexes]"
   ]
  },
  {
   "cell_type": "code",
   "execution_count": null,
   "metadata": {},
   "outputs": [],
   "source": [
    "df_embeddings['classes'] = classes"
   ]
  },
  {
   "cell_type": "markdown",
   "metadata": {},
   "source": [
    "unique_classes = list(df_embeddings.classes.unique())"
   ]
  },
  {
   "cell_type": "markdown",
   "metadata": {},
   "source": [
    "samples_classes = random.sample(unique_classes, 5)"
   ]
  },
  {
   "cell_type": "markdown",
   "metadata": {},
   "source": [
    "sample_indices =  df_embeddings.classes.apply(lambda x: x in samples_classes)"
   ]
  },
  {
   "cell_type": "code",
   "execution_count": null,
   "metadata": {},
   "outputs": [],
   "source": [
    "clusterer = Clusterer(n_clusters=514, face_embeddings = df_embeddings,algs=['kmeans', 'affinity', 'agglomerative'])"
   ]
  },
  {
   "cell_type": "code",
   "execution_count": null,
   "metadata": {},
   "outputs": [],
   "source": [
    "clusters, models_inst = clusterer.clusterize()"
   ]
  },
  {
   "cell_type": "code",
   "execution_count": null,
   "metadata": {},
   "outputs": [],
   "source": [
    "clusters.head()"
   ]
  },
  {
   "cell_type": "code",
   "execution_count": null,
   "metadata": {},
   "outputs": [],
   "source": [
    "clusters.to_pickle(f'../data/leg55_clusters_{backbone}.pkl')"
   ]
  },
  {
   "cell_type": "code",
   "execution_count": null,
   "metadata": {},
   "outputs": [],
   "source": [
    "clusters.sort_values(by=['urls']).head()"
   ]
  },
  {
   "cell_type": "code",
   "execution_count": null,
   "metadata": {},
   "outputs": [],
   "source": [
    "models_inst['cluster_kmeans'].cluster_centers_"
   ]
  },
  {
   "cell_type": "code",
   "execution_count": null,
   "metadata": {},
   "outputs": [],
   "source": [
    "clusters.groupby(['cluster_kmeans']).count().describe()"
   ]
  },
  {
   "cell_type": "markdown",
   "metadata": {},
   "source": [
    "# Evaluating"
   ]
  },
  {
   "cell_type": "code",
   "execution_count": null,
   "metadata": {},
   "outputs": [],
   "source": [
    "clusters = pd.read_pickle(f'../data/leg55_clusters_{backbone}.pkl')"
   ]
  },
  {
   "cell_type": "code",
   "execution_count": null,
   "metadata": {},
   "outputs": [],
   "source": [
    "from sklearn import metrics"
   ]
  },
  {
   "cell_type": "code",
   "execution_count": null,
   "metadata": {},
   "outputs": [],
   "source": [
    "cluster_cols = [c for c in clusters.columns if str(c).startswith('cluster')]"
   ]
  },
  {
   "cell_type": "code",
   "execution_count": null,
   "metadata": {},
   "outputs": [],
   "source": [
    "labels_true = clusters.classes.values"
   ]
  },
  {
   "cell_type": "code",
   "execution_count": null,
   "metadata": {},
   "outputs": [],
   "source": [
    "dict_results = {}\n",
    "for col in cluster_cols:\n",
    "    labels_pred = clusters[col].values\n",
    "    \n",
    "    dict_results[col] = [metrics.homogeneity_score(labels_true,labels_pred),\n",
    "                        metrics.completeness_score(labels_true, labels_pred),\n",
    "                        metrics.v_measure_score(labels_true, labels_pred)]"
   ]
  },
  {
   "cell_type": "code",
   "execution_count": null,
   "metadata": {},
   "outputs": [],
   "source": [
    "df_results = pd.DataFrame.from_dict(dict_results, orient='index', columns=['Homogeneity Score', 'Completeness Score', 'V-Measure'])\n",
    "df_results"
   ]
  },
  {
   "cell_type": "code",
   "execution_count": null,
   "metadata": {},
   "outputs": [],
   "source": [
    "df_results.to_csv(f'../results/{backbone}_results_removed.csv')"
   ]
  },
  {
   "cell_type": "markdown",
   "metadata": {},
   "source": [
    "# Checking Images that do not have embeddings"
   ]
  },
  {
   "cell_type": "code",
   "execution_count": null,
   "metadata": {},
   "outputs": [],
   "source": [
    "df = pd.read_pickle('../data/no_valid/leg55_senet50.pkl')"
   ]
  },
  {
   "cell_type": "code",
   "execution_count": null,
   "metadata": {},
   "outputs": [],
   "source": [
    "df.shape"
   ]
  },
  {
   "cell_type": "code",
   "execution_count": null,
   "metadata": {},
   "outputs": [],
   "source": [
    "urls_no_embs = df.loc[(df.urls.isin(complete_urls))&(df.embeddings=='-')].urls"
   ]
  },
  {
   "cell_type": "code",
   "execution_count": null,
   "metadata": {},
   "outputs": [],
   "source": [
    "new_urls = urls_no_embs.apply(lambda x: f\"/home/paulo/Documentos/no_embs/{x.split('/')[-2]}x{x.split('/')[-1]}\")"
   ]
  },
  {
   "cell_type": "code",
   "execution_count": null,
   "metadata": {},
   "outputs": [],
   "source": [
    "extractor = FeatureExtractor('senet50')"
   ]
  },
  {
   "cell_type": "code",
   "execution_count": null,
   "metadata": {},
   "outputs": [],
   "source": [
    "check_urls = get_files_folder(\"/home/paulo/Documentos/no_embs/\", is_image)"
   ]
  },
  {
   "cell_type": "code",
   "execution_count": null,
   "metadata": {},
   "outputs": [],
   "source": [
    "import os"
   ]
  },
  {
   "cell_type": "code",
   "execution_count": null,
   "metadata": {},
   "outputs": [],
   "source": [
    "from tqdm import tqdm\n",
    "\n",
    "for url in tqdm(urls_no_embs.values):\n",
    "    \n",
    "    pixels = cv2.imread(url)\n",
    "    pixels_rgb = cv2.cvtColor(pixels, cv2.COLOR_BGR2RGB)\n",
    "    results = extractor.detector.detect_faces(pixels_rgb)\n",
    "    \n",
    "    faces = []\n",
    "    for result in results:\n",
    "        if result['confidence'] >= 0.9:\n",
    "            x1, y1, width, height = result['box']\n",
    "            x2, y2 = x1 + width, y1 + height\n",
    "            x1 = max(x1,0)\n",
    "            y1 = max(y1,0)\n",
    "            face = pixels_rgb[y1:y2, x1:x2]\n",
    "\n",
    "            if face.shape[0] > 0 and face.shape[1] > 0:\n",
    "                faces.append('cv2.resize(face, required_size)')\n",
    "    if len(faces) <= 0:\n",
    "        os.remove(url)\n",
    "        #print(url)\n",
    "        #print(results)"
   ]
  },
  {
   "cell_type": "code",
   "execution_count": null,
   "metadata": {},
   "outputs": [],
   "source": [
    "url_series = pd.Series(complete_urls)"
   ]
  },
  {
   "cell_type": "code",
   "execution_count": null,
   "metadata": {},
   "outputs": [],
   "source": [
    "classes = url_series.apply(lambda x: x.split('/')[-2])"
   ]
  },
  {
   "cell_type": "code",
   "execution_count": null,
   "metadata": {
    "scrolled": true
   },
   "outputs": [],
   "source": [
    "classes.value_counts().loc[classes.value_counts() <= 5]"
   ]
  },
  {
   "cell_type": "code",
   "execution_count": null,
   "metadata": {},
   "outputs": [],
   "source": []
  }
 ],
 "metadata": {
  "kernelspec": {
   "display_name": "Python 3",
   "language": "python",
   "name": "python3"
  },
  "language_info": {
   "codemirror_mode": {
    "name": "ipython",
    "version": 3
   },
   "file_extension": ".py",
   "mimetype": "text/x-python",
   "name": "python",
   "nbconvert_exporter": "python",
   "pygments_lexer": "ipython3",
   "version": "3.6.8"
  }
 },
 "nbformat": 4,
 "nbformat_minor": 4
}
