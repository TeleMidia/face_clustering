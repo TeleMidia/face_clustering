{
 "cells": [
  {
   "cell_type": "code",
   "execution_count": 1,
   "metadata": {},
   "outputs": [],
   "source": [
    "%load_ext autoreload\n",
    "%autoreload 2\n",
    "import os\n",
    "import pandas as pd\n",
    "import cv2\n",
    "import sys\n",
    "import random\n",
    "sys.path.append('../')\n",
    "\n",
    "random.seed(42)"
   ]
  },
  {
   "cell_type": "code",
   "execution_count": 2,
   "metadata": {},
   "outputs": [
    {
     "name": "stderr",
     "output_type": "stream",
     "text": [
      "Using TensorFlow backend.\n"
     ]
    }
   ],
   "source": [
    "from faces_clustering import Clusterer, FeatureExtractor, is_image, get_files_folder"
   ]
  },
  {
   "cell_type": "markdown",
   "metadata": {},
   "source": [
    "# Extracting Features"
   ]
  },
  {
   "cell_type": "code",
   "execution_count": null,
   "metadata": {},
   "outputs": [],
   "source": [
    "complete_urls = get_files_folder(\"/home/paulo/Documentos/slnp_faces_leg_55/\", is_image)"
   ]
  },
  {
   "cell_type": "code",
   "execution_count": null,
   "metadata": {
    "scrolled": true
   },
   "outputs": [],
   "source": [
    "df_features_senet50 = FeatureExtractor('senet50').extract(complete_urls)\n",
    "df_features_senet50.head(20)"
   ]
  },
  {
   "cell_type": "code",
   "execution_count": null,
   "metadata": {},
   "outputs": [],
   "source": [
    "df_features_senet50.to_pickle('../data/leg55_senet50.pkl')"
   ]
  },
  {
   "cell_type": "code",
   "execution_count": null,
   "metadata": {},
   "outputs": [],
   "source": [
    "df_features_resnet50 = FeatureExtractor('resnet50').extract(complete_urls)\n",
    "df_features_resnet50.head(20)"
   ]
  },
  {
   "cell_type": "code",
   "execution_count": null,
   "metadata": {},
   "outputs": [],
   "source": [
    "df_features_resnet50.to_pickle('../data/leg55_resnet50.pkl')"
   ]
  },
  {
   "cell_type": "code",
   "execution_count": null,
   "metadata": {
    "scrolled": true
   },
   "outputs": [],
   "source": [
    "df_features_vgg16 = FeatureExtractor('vgg16').extract(complete_urls)\n",
    "df_features_vgg16.head(20)"
   ]
  },
  {
   "cell_type": "code",
   "execution_count": null,
   "metadata": {},
   "outputs": [],
   "source": [
    "df_features_vgg16.to_pickle('../data/leg55_vgg16.pkl')"
   ]
  },
  {
   "cell_type": "markdown",
   "metadata": {},
   "source": [
    "# Clustering"
   ]
  },
  {
   "cell_type": "code",
   "execution_count": 8,
   "metadata": {},
   "outputs": [],
   "source": [
    "df_embeddings = pd.read_pickle('../data/leg55_senet50.pkl')"
   ]
  },
  {
   "cell_type": "code",
   "execution_count": 10,
   "metadata": {},
   "outputs": [],
   "source": [
    "classes = df_embeddings.urls.apply(lambda x: x.split('/')[-2])"
   ]
  },
  {
   "cell_type": "code",
   "execution_count": 11,
   "metadata": {},
   "outputs": [],
   "source": [
    "valid_indexes = df_embeddings.embeddings.apply(lambda x: str(x) != '-')\n",
    "df_embeddings = df_embeddings.loc[valid_indexes]"
   ]
  },
  {
   "cell_type": "code",
   "execution_count": 12,
   "metadata": {},
   "outputs": [
    {
     "name": "stderr",
     "output_type": "stream",
     "text": [
      "/home/paulo/.local/share/virtualenvs/face_clustering-EKR70IVd/lib/python3.6/site-packages/ipykernel_launcher.py:1: SettingWithCopyWarning: \n",
      "A value is trying to be set on a copy of a slice from a DataFrame.\n",
      "Try using .loc[row_indexer,col_indexer] = value instead\n",
      "\n",
      "See the caveats in the documentation: https://pandas.pydata.org/pandas-docs/stable/user_guide/indexing.html#returning-a-view-versus-a-copy\n",
      "  \"\"\"Entry point for launching an IPython kernel.\n"
     ]
    }
   ],
   "source": [
    "df_embeddings['classes'] = classes"
   ]
  },
  {
   "cell_type": "markdown",
   "metadata": {},
   "source": [
    "unique_classes = list(df_embeddings.classes.unique())"
   ]
  },
  {
   "cell_type": "markdown",
   "metadata": {},
   "source": [
    "samples_classes = random.sample(unique_classes, 5)"
   ]
  },
  {
   "cell_type": "markdown",
   "metadata": {},
   "source": [
    "sample_indices =  df_embeddings.classes.apply(lambda x: x in samples_classes)"
   ]
  },
  {
   "cell_type": "code",
   "execution_count": 17,
   "metadata": {},
   "outputs": [],
   "source": [
    "clusterer = Clusterer(n_clusters=514, face_embeddings = df_embeddings,algs=['kmeans', 'affinity', 'agglomerative'])"
   ]
  },
  {
   "cell_type": "code",
   "execution_count": 18,
   "metadata": {},
   "outputs": [],
   "source": [
    "clusters, models_inst = clusterer.clusterize()"
   ]
  },
  {
   "cell_type": "code",
   "execution_count": 20,
   "metadata": {},
   "outputs": [
    {
     "data": {
      "text/html": [
       "<div>\n",
       "<style scoped>\n",
       "    .dataframe tbody tr th:only-of-type {\n",
       "        vertical-align: middle;\n",
       "    }\n",
       "\n",
       "    .dataframe tbody tr th {\n",
       "        vertical-align: top;\n",
       "    }\n",
       "\n",
       "    .dataframe thead th {\n",
       "        text-align: right;\n",
       "    }\n",
       "</style>\n",
       "<table border=\"1\" class=\"dataframe\">\n",
       "  <thead>\n",
       "    <tr style=\"text-align: right;\">\n",
       "      <th></th>\n",
       "      <th>urls</th>\n",
       "      <th>embeddings</th>\n",
       "      <th>classes</th>\n",
       "      <th>cluster_kmeans</th>\n",
       "      <th>cluster_affinity</th>\n",
       "      <th>cluster_agglomerative</th>\n",
       "    </tr>\n",
       "  </thead>\n",
       "  <tbody>\n",
       "    <tr>\n",
       "      <th>0</th>\n",
       "      <td>/home/paulo/Documentos/slnp_faces_leg_55/74385...</td>\n",
       "      <td>[0.17480865, 0.24839097, 0.018389545, 0.398058...</td>\n",
       "      <td>74385_b</td>\n",
       "      <td>2</td>\n",
       "      <td>598</td>\n",
       "      <td>262</td>\n",
       "    </tr>\n",
       "    <tr>\n",
       "      <th>1</th>\n",
       "      <td>/home/paulo/Documentos/slnp_faces_leg_55/74385...</td>\n",
       "      <td>[0.07091311, 0.04615592, 0.0, 6.4110007, 3.386...</td>\n",
       "      <td>74385_b</td>\n",
       "      <td>424</td>\n",
       "      <td>0</td>\n",
       "      <td>269</td>\n",
       "    </tr>\n",
       "    <tr>\n",
       "      <th>4</th>\n",
       "      <td>/home/paulo/Documentos/slnp_faces_leg_55/74385...</td>\n",
       "      <td>[0.10499452, 2.5098183, 0.0, 5.429726, 0.61141...</td>\n",
       "      <td>74385_b</td>\n",
       "      <td>424</td>\n",
       "      <td>0</td>\n",
       "      <td>269</td>\n",
       "    </tr>\n",
       "    <tr>\n",
       "      <th>5</th>\n",
       "      <td>/home/paulo/Documentos/slnp_faces_leg_55/74385...</td>\n",
       "      <td>[0.017898438, 1.6189704, 0.0022666005, 5.99468...</td>\n",
       "      <td>74385_b</td>\n",
       "      <td>424</td>\n",
       "      <td>0</td>\n",
       "      <td>269</td>\n",
       "    </tr>\n",
       "    <tr>\n",
       "      <th>6</th>\n",
       "      <td>/home/paulo/Documentos/slnp_faces_leg_55/74385...</td>\n",
       "      <td>[0.02720209, 4.4259987, 0.006993143, 5.375417,...</td>\n",
       "      <td>74385_b</td>\n",
       "      <td>424</td>\n",
       "      <td>0</td>\n",
       "      <td>269</td>\n",
       "    </tr>\n",
       "    <tr>\n",
       "      <th>...</th>\n",
       "      <td>...</td>\n",
       "      <td>...</td>\n",
       "      <td>...</td>\n",
       "      <td>...</td>\n",
       "      <td>...</td>\n",
       "      <td>...</td>\n",
       "    </tr>\n",
       "    <tr>\n",
       "      <th>9133</th>\n",
       "      <td>/home/paulo/Documentos/slnp_faces_leg_55/67138...</td>\n",
       "      <td>[0.046600726, 12.429699, 0.37234017, 0.0286798...</td>\n",
       "      <td>67138_b</td>\n",
       "      <td>256</td>\n",
       "      <td>681</td>\n",
       "      <td>100</td>\n",
       "    </tr>\n",
       "    <tr>\n",
       "      <th>9134</th>\n",
       "      <td>/home/paulo/Documentos/slnp_faces_leg_55/67138...</td>\n",
       "      <td>[0.07046378, 15.637359, 0.12425924, 0.06128547...</td>\n",
       "      <td>67138_b</td>\n",
       "      <td>256</td>\n",
       "      <td>681</td>\n",
       "      <td>100</td>\n",
       "    </tr>\n",
       "    <tr>\n",
       "      <th>9135</th>\n",
       "      <td>/home/paulo/Documentos/slnp_faces_leg_55/67138...</td>\n",
       "      <td>[0.045246698, 5.049192, 0.02735675, 0.01505866...</td>\n",
       "      <td>67138_b</td>\n",
       "      <td>256</td>\n",
       "      <td>681</td>\n",
       "      <td>100</td>\n",
       "    </tr>\n",
       "    <tr>\n",
       "      <th>9136</th>\n",
       "      <td>/home/paulo/Documentos/slnp_faces_leg_55/67138...</td>\n",
       "      <td>[0.04391961, 9.75497, 0.14378008, 1.3651364, 5...</td>\n",
       "      <td>67138_b</td>\n",
       "      <td>256</td>\n",
       "      <td>681</td>\n",
       "      <td>100</td>\n",
       "    </tr>\n",
       "    <tr>\n",
       "      <th>9137</th>\n",
       "      <td>/home/paulo/Documentos/slnp_faces_leg_55/67138...</td>\n",
       "      <td>[0.058747504, 12.833825, 0.039621126, 0.005382...</td>\n",
       "      <td>67138_b</td>\n",
       "      <td>256</td>\n",
       "      <td>681</td>\n",
       "      <td>100</td>\n",
       "    </tr>\n",
       "  </tbody>\n",
       "</table>\n",
       "<p>8619 rows × 6 columns</p>\n",
       "</div>"
      ],
      "text/plain": [
       "                                                   urls  \\\n",
       "0     /home/paulo/Documentos/slnp_faces_leg_55/74385...   \n",
       "1     /home/paulo/Documentos/slnp_faces_leg_55/74385...   \n",
       "4     /home/paulo/Documentos/slnp_faces_leg_55/74385...   \n",
       "5     /home/paulo/Documentos/slnp_faces_leg_55/74385...   \n",
       "6     /home/paulo/Documentos/slnp_faces_leg_55/74385...   \n",
       "...                                                 ...   \n",
       "9133  /home/paulo/Documentos/slnp_faces_leg_55/67138...   \n",
       "9134  /home/paulo/Documentos/slnp_faces_leg_55/67138...   \n",
       "9135  /home/paulo/Documentos/slnp_faces_leg_55/67138...   \n",
       "9136  /home/paulo/Documentos/slnp_faces_leg_55/67138...   \n",
       "9137  /home/paulo/Documentos/slnp_faces_leg_55/67138...   \n",
       "\n",
       "                                             embeddings  classes  \\\n",
       "0     [0.17480865, 0.24839097, 0.018389545, 0.398058...  74385_b   \n",
       "1     [0.07091311, 0.04615592, 0.0, 6.4110007, 3.386...  74385_b   \n",
       "4     [0.10499452, 2.5098183, 0.0, 5.429726, 0.61141...  74385_b   \n",
       "5     [0.017898438, 1.6189704, 0.0022666005, 5.99468...  74385_b   \n",
       "6     [0.02720209, 4.4259987, 0.006993143, 5.375417,...  74385_b   \n",
       "...                                                 ...      ...   \n",
       "9133  [0.046600726, 12.429699, 0.37234017, 0.0286798...  67138_b   \n",
       "9134  [0.07046378, 15.637359, 0.12425924, 0.06128547...  67138_b   \n",
       "9135  [0.045246698, 5.049192, 0.02735675, 0.01505866...  67138_b   \n",
       "9136  [0.04391961, 9.75497, 0.14378008, 1.3651364, 5...  67138_b   \n",
       "9137  [0.058747504, 12.833825, 0.039621126, 0.005382...  67138_b   \n",
       "\n",
       "      cluster_kmeans  cluster_affinity  cluster_agglomerative  \n",
       "0                  2               598                    262  \n",
       "1                424                 0                    269  \n",
       "4                424                 0                    269  \n",
       "5                424                 0                    269  \n",
       "6                424                 0                    269  \n",
       "...              ...               ...                    ...  \n",
       "9133             256               681                    100  \n",
       "9134             256               681                    100  \n",
       "9135             256               681                    100  \n",
       "9136             256               681                    100  \n",
       "9137             256               681                    100  \n",
       "\n",
       "[8619 rows x 6 columns]"
      ]
     },
     "execution_count": 20,
     "metadata": {},
     "output_type": "execute_result"
    }
   ],
   "source": [
    "clusters"
   ]
  },
  {
   "cell_type": "code",
   "execution_count": 19,
   "metadata": {},
   "outputs": [],
   "source": [
    "clusters.to_pickle('../data/leg55_clusters.pkl')"
   ]
  },
  {
   "cell_type": "code",
   "execution_count": null,
   "metadata": {},
   "outputs": [],
   "source": [
    "clusters.sort_values(by=['urls']).head()"
   ]
  },
  {
   "cell_type": "code",
   "execution_count": null,
   "metadata": {},
   "outputs": [],
   "source": [
    "models_inst['cluster_kmeans'].cluster_centers_"
   ]
  },
  {
   "cell_type": "code",
   "execution_count": 17,
   "metadata": {},
   "outputs": [
    {
     "data": {
      "text/html": [
       "<div>\n",
       "<style scoped>\n",
       "    .dataframe tbody tr th:only-of-type {\n",
       "        vertical-align: middle;\n",
       "    }\n",
       "\n",
       "    .dataframe tbody tr th {\n",
       "        vertical-align: top;\n",
       "    }\n",
       "\n",
       "    .dataframe thead th {\n",
       "        text-align: right;\n",
       "    }\n",
       "</style>\n",
       "<table border=\"1\" class=\"dataframe\">\n",
       "  <thead>\n",
       "    <tr style=\"text-align: right;\">\n",
       "      <th></th>\n",
       "      <th>urls</th>\n",
       "      <th>embeddings</th>\n",
       "      <th>classes</th>\n",
       "    </tr>\n",
       "  </thead>\n",
       "  <tbody>\n",
       "    <tr>\n",
       "      <th>count</th>\n",
       "      <td>514.000000</td>\n",
       "      <td>514.000000</td>\n",
       "      <td>514.000000</td>\n",
       "    </tr>\n",
       "    <tr>\n",
       "      <th>mean</th>\n",
       "      <td>16.805447</td>\n",
       "      <td>16.805447</td>\n",
       "      <td>16.805447</td>\n",
       "    </tr>\n",
       "    <tr>\n",
       "      <th>std</th>\n",
       "      <td>15.284217</td>\n",
       "      <td>15.284217</td>\n",
       "      <td>15.284217</td>\n",
       "    </tr>\n",
       "    <tr>\n",
       "      <th>min</th>\n",
       "      <td>1.000000</td>\n",
       "      <td>1.000000</td>\n",
       "      <td>1.000000</td>\n",
       "    </tr>\n",
       "    <tr>\n",
       "      <th>25%</th>\n",
       "      <td>11.000000</td>\n",
       "      <td>11.000000</td>\n",
       "      <td>11.000000</td>\n",
       "    </tr>\n",
       "    <tr>\n",
       "      <th>50%</th>\n",
       "      <td>16.000000</td>\n",
       "      <td>16.000000</td>\n",
       "      <td>16.000000</td>\n",
       "    </tr>\n",
       "    <tr>\n",
       "      <th>75%</th>\n",
       "      <td>20.000000</td>\n",
       "      <td>20.000000</td>\n",
       "      <td>20.000000</td>\n",
       "    </tr>\n",
       "    <tr>\n",
       "      <th>max</th>\n",
       "      <td>330.000000</td>\n",
       "      <td>330.000000</td>\n",
       "      <td>330.000000</td>\n",
       "    </tr>\n",
       "  </tbody>\n",
       "</table>\n",
       "</div>"
      ],
      "text/plain": [
       "             urls  embeddings     classes\n",
       "count  514.000000  514.000000  514.000000\n",
       "mean    16.805447   16.805447   16.805447\n",
       "std     15.284217   15.284217   15.284217\n",
       "min      1.000000    1.000000    1.000000\n",
       "25%     11.000000   11.000000   11.000000\n",
       "50%     16.000000   16.000000   16.000000\n",
       "75%     20.000000   20.000000   20.000000\n",
       "max    330.000000  330.000000  330.000000"
      ]
     },
     "execution_count": 17,
     "metadata": {},
     "output_type": "execute_result"
    }
   ],
   "source": [
    "clusters.groupby(['cluster_kmeans']).count().describe()"
   ]
  },
  {
   "cell_type": "markdown",
   "metadata": {},
   "source": [
    "# Evaluating"
   ]
  },
  {
   "cell_type": "code",
   "execution_count": 28,
   "metadata": {},
   "outputs": [],
   "source": [
    "from sklearn import metrics"
   ]
  },
  {
   "cell_type": "code",
   "execution_count": 29,
   "metadata": {},
   "outputs": [
    {
     "data": {
      "text/plain": [
       "0.9541468089117898"
      ]
     },
     "execution_count": 29,
     "metadata": {},
     "output_type": "execute_result"
    }
   ],
   "source": [
    "metrics.homogeneity_score(clusters.classes,clusters.cluster_agglomerative)"
   ]
  },
  {
   "cell_type": "code",
   "execution_count": 30,
   "metadata": {},
   "outputs": [
    {
     "data": {
      "text/plain": [
       "0.9620517846793569"
      ]
     },
     "execution_count": 30,
     "metadata": {},
     "output_type": "execute_result"
    }
   ],
   "source": [
    "metrics.completeness_score(clusters.classes, clusters.cluster_agglomerative)"
   ]
  },
  {
   "cell_type": "code",
   "execution_count": 31,
   "metadata": {},
   "outputs": [
    {
     "data": {
      "text/plain": [
       "0.9580829914287667"
      ]
     },
     "execution_count": 31,
     "metadata": {},
     "output_type": "execute_result"
    }
   ],
   "source": [
    "metrics.v_measure_score(clusters.classes, clusters.cluster_agglomerative)"
   ]
  },
  {
   "cell_type": "code",
   "execution_count": null,
   "metadata": {},
   "outputs": [],
   "source": []
  }
 ],
 "metadata": {
  "kernelspec": {
   "display_name": "Python 3",
   "language": "python",
   "name": "python3"
  },
  "language_info": {
   "codemirror_mode": {
    "name": "ipython",
    "version": 3
   },
   "file_extension": ".py",
   "mimetype": "text/x-python",
   "name": "python",
   "nbconvert_exporter": "python",
   "pygments_lexer": "ipython3",
   "version": "3.6.8"
  }
 },
 "nbformat": 4,
 "nbformat_minor": 4
}
