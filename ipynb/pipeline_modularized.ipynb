{
 "cells": [
  {
   "cell_type": "code",
   "execution_count": 3,
   "metadata": {},
   "outputs": [],
   "source": [
    "%load_ext autoreload\n",
    "%autoreload 2\n",
    "import os\n",
    "import pandas as pd\n",
    "import cv2\n",
    "import sys\n",
    "import random\n",
    "sys.path.append('../')\n",
    "\n",
    "random.seed(42)"
   ]
  },
  {
   "cell_type": "code",
   "execution_count": 4,
   "metadata": {},
   "outputs": [
    {
     "name": "stderr",
     "output_type": "stream",
     "text": [
      "Using TensorFlow backend.\n"
     ]
    }
   ],
   "source": [
    "from faces_clustering import Clusterer, FeatureExtractor, is_image, get_files_folder"
   ]
  },
  {
   "cell_type": "markdown",
   "metadata": {},
   "source": [
    "# Extracting Features"
   ]
  },
  {
   "cell_type": "code",
   "execution_count": null,
   "metadata": {},
   "outputs": [],
   "source": [
    "complete_urls = get_files_folder(\"/home/paulo/Documentos/slnp_faces_leg_55/\", is_image)"
   ]
  },
  {
   "cell_type": "code",
   "execution_count": null,
   "metadata": {
    "scrolled": true
   },
   "outputs": [],
   "source": [
    "df_features_senet50 = FeatureExtractor('senet50').extract(complete_urls)\n",
    "df_features_senet50.head(20)"
   ]
  },
  {
   "cell_type": "code",
   "execution_count": null,
   "metadata": {},
   "outputs": [],
   "source": [
    "df_features_senet50.to_pickle('../data/leg55_senet50.pkl')"
   ]
  },
  {
   "cell_type": "code",
   "execution_count": null,
   "metadata": {},
   "outputs": [],
   "source": [
    "df_features_resnet50 = FeatureExtractor('resnet50').extract(complete_urls)\n",
    "df_features_resnet50.head(20)"
   ]
  },
  {
   "cell_type": "code",
   "execution_count": null,
   "metadata": {},
   "outputs": [],
   "source": [
    "df_features_resnet50.to_pickle('../data/leg55_resnet50.pkl')"
   ]
  },
  {
   "cell_type": "code",
   "execution_count": null,
   "metadata": {
    "scrolled": true
   },
   "outputs": [],
   "source": [
    "df_features_vgg16 = FeatureExtractor('vgg16').extract(complete_urls)\n",
    "df_features_vgg16.head(20)"
   ]
  },
  {
   "cell_type": "code",
   "execution_count": null,
   "metadata": {},
   "outputs": [],
   "source": [
    "df_features_vgg16.to_pickle('../data/leg55_vgg16.pkl')"
   ]
  },
  {
   "cell_type": "markdown",
   "metadata": {},
   "source": [
    "# Clustering"
   ]
  },
  {
   "cell_type": "code",
   "execution_count": 26,
   "metadata": {},
   "outputs": [],
   "source": [
    "backbone = 'vgg16'"
   ]
  },
  {
   "cell_type": "code",
   "execution_count": 27,
   "metadata": {},
   "outputs": [],
   "source": [
    "df_embeddings = pd.read_pickle(f'../data/leg55_{backbone}.pkl')"
   ]
  },
  {
   "cell_type": "code",
   "execution_count": 31,
   "metadata": {},
   "outputs": [
    {
     "data": {
      "text/plain": [
       "(8619, 2)"
      ]
     },
     "execution_count": 31,
     "metadata": {},
     "output_type": "execute_result"
    }
   ],
   "source": [
    "df_embeddings.shape"
   ]
  },
  {
   "cell_type": "code",
   "execution_count": 29,
   "metadata": {},
   "outputs": [],
   "source": [
    "classes = df_embeddings.urls.apply(lambda x: x.split('/')[-2])"
   ]
  },
  {
   "cell_type": "code",
   "execution_count": 30,
   "metadata": {},
   "outputs": [],
   "source": [
    "valid_indexes = df_embeddings.embeddings.apply(lambda x: str(x) != '-')\n",
    "df_embeddings = df_embeddings.loc[valid_indexes]"
   ]
  },
  {
   "cell_type": "code",
   "execution_count": 32,
   "metadata": {},
   "outputs": [],
   "source": [
    "df_embeddings['classes'] = classes"
   ]
  },
  {
   "cell_type": "markdown",
   "metadata": {},
   "source": [
    "unique_classes = list(df_embeddings.classes.unique())"
   ]
  },
  {
   "cell_type": "markdown",
   "metadata": {},
   "source": [
    "samples_classes = random.sample(unique_classes, 5)"
   ]
  },
  {
   "cell_type": "markdown",
   "metadata": {},
   "source": [
    "sample_indices =  df_embeddings.classes.apply(lambda x: x in samples_classes)"
   ]
  },
  {
   "cell_type": "code",
   "execution_count": 33,
   "metadata": {},
   "outputs": [],
   "source": [
    "clusterer = Clusterer(n_clusters=514, face_embeddings = df_embeddings,algs=['kmeans', 'affinity', 'agglomerative'])"
   ]
  },
  {
   "cell_type": "code",
   "execution_count": 34,
   "metadata": {},
   "outputs": [
    {
     "name": "stderr",
     "output_type": "stream",
     "text": [
      "/home/paulo/.local/share/virtualenvs/face_clustering-EKR70IVd/lib/python3.6/site-packages/sklearn/cluster/_affinity_propagation.py:226: ConvergenceWarning: Affinity propagation did not converge, this model will not have any cluster centers.\n",
      "  \"will not have any cluster centers.\", ConvergenceWarning)\n"
     ]
    }
   ],
   "source": [
    "clusters, models_inst = clusterer.clusterize()"
   ]
  },
  {
   "cell_type": "code",
   "execution_count": 35,
   "metadata": {},
   "outputs": [
    {
     "data": {
      "text/html": [
       "<div>\n",
       "<style scoped>\n",
       "    .dataframe tbody tr th:only-of-type {\n",
       "        vertical-align: middle;\n",
       "    }\n",
       "\n",
       "    .dataframe tbody tr th {\n",
       "        vertical-align: top;\n",
       "    }\n",
       "\n",
       "    .dataframe thead th {\n",
       "        text-align: right;\n",
       "    }\n",
       "</style>\n",
       "<table border=\"1\" class=\"dataframe\">\n",
       "  <thead>\n",
       "    <tr style=\"text-align: right;\">\n",
       "      <th></th>\n",
       "      <th>urls</th>\n",
       "      <th>embeddings</th>\n",
       "      <th>classes</th>\n",
       "      <th>cluster_kmeans</th>\n",
       "      <th>cluster_affinity</th>\n",
       "      <th>cluster_agglomerative</th>\n",
       "    </tr>\n",
       "  </thead>\n",
       "  <tbody>\n",
       "    <tr>\n",
       "      <th>0</th>\n",
       "      <td>/home/paulo/Documentos/slnp_faces_leg_55/74385...</td>\n",
       "      <td>[2.238014, 0.0, 0.0, 0.0, 0.0, 0.11067976, 0.0...</td>\n",
       "      <td>74385_b</td>\n",
       "      <td>297</td>\n",
       "      <td>-1</td>\n",
       "      <td>68</td>\n",
       "    </tr>\n",
       "    <tr>\n",
       "      <th>1</th>\n",
       "      <td>/home/paulo/Documentos/slnp_faces_leg_55/74385...</td>\n",
       "      <td>[0.21053398, 4.4255977, 5.7136946, 9.44324, 7....</td>\n",
       "      <td>74385_b</td>\n",
       "      <td>58</td>\n",
       "      <td>-1</td>\n",
       "      <td>295</td>\n",
       "    </tr>\n",
       "    <tr>\n",
       "      <th>4</th>\n",
       "      <td>/home/paulo/Documentos/slnp_faces_leg_55/74385...</td>\n",
       "      <td>[3.8263426, 2.259651, 3.8618968, 0.8609967, 0....</td>\n",
       "      <td>74385_b</td>\n",
       "      <td>58</td>\n",
       "      <td>-1</td>\n",
       "      <td>295</td>\n",
       "    </tr>\n",
       "    <tr>\n",
       "      <th>5</th>\n",
       "      <td>/home/paulo/Documentos/slnp_faces_leg_55/74385...</td>\n",
       "      <td>[0.0, 7.6271586, 9.8688345, 8.535545, 2.086572...</td>\n",
       "      <td>74385_b</td>\n",
       "      <td>58</td>\n",
       "      <td>-1</td>\n",
       "      <td>295</td>\n",
       "    </tr>\n",
       "    <tr>\n",
       "      <th>6</th>\n",
       "      <td>/home/paulo/Documentos/slnp_faces_leg_55/74385...</td>\n",
       "      <td>[0.16503549, 6.7819276, 0.5020972, 12.082533, ...</td>\n",
       "      <td>74385_b</td>\n",
       "      <td>332</td>\n",
       "      <td>-1</td>\n",
       "      <td>501</td>\n",
       "    </tr>\n",
       "  </tbody>\n",
       "</table>\n",
       "</div>"
      ],
      "text/plain": [
       "                                                urls  \\\n",
       "0  /home/paulo/Documentos/slnp_faces_leg_55/74385...   \n",
       "1  /home/paulo/Documentos/slnp_faces_leg_55/74385...   \n",
       "4  /home/paulo/Documentos/slnp_faces_leg_55/74385...   \n",
       "5  /home/paulo/Documentos/slnp_faces_leg_55/74385...   \n",
       "6  /home/paulo/Documentos/slnp_faces_leg_55/74385...   \n",
       "\n",
       "                                          embeddings  classes  cluster_kmeans  \\\n",
       "0  [2.238014, 0.0, 0.0, 0.0, 0.0, 0.11067976, 0.0...  74385_b             297   \n",
       "1  [0.21053398, 4.4255977, 5.7136946, 9.44324, 7....  74385_b              58   \n",
       "4  [3.8263426, 2.259651, 3.8618968, 0.8609967, 0....  74385_b              58   \n",
       "5  [0.0, 7.6271586, 9.8688345, 8.535545, 2.086572...  74385_b              58   \n",
       "6  [0.16503549, 6.7819276, 0.5020972, 12.082533, ...  74385_b             332   \n",
       "\n",
       "   cluster_affinity  cluster_agglomerative  \n",
       "0                -1                     68  \n",
       "1                -1                    295  \n",
       "4                -1                    295  \n",
       "5                -1                    295  \n",
       "6                -1                    501  "
      ]
     },
     "execution_count": 35,
     "metadata": {},
     "output_type": "execute_result"
    }
   ],
   "source": [
    "clusters.head()"
   ]
  },
  {
   "cell_type": "code",
   "execution_count": 36,
   "metadata": {},
   "outputs": [],
   "source": [
    "clusters.to_pickle(f'../data/leg55_clusters_{backbone}.pkl')"
   ]
  },
  {
   "cell_type": "code",
   "execution_count": 44,
   "metadata": {},
   "outputs": [
    {
     "data": {
      "text/html": [
       "<div>\n",
       "<style scoped>\n",
       "    .dataframe tbody tr th:only-of-type {\n",
       "        vertical-align: middle;\n",
       "    }\n",
       "\n",
       "    .dataframe tbody tr th {\n",
       "        vertical-align: top;\n",
       "    }\n",
       "\n",
       "    .dataframe thead th {\n",
       "        text-align: right;\n",
       "    }\n",
       "</style>\n",
       "<table border=\"1\" class=\"dataframe\">\n",
       "  <thead>\n",
       "    <tr style=\"text-align: right;\">\n",
       "      <th></th>\n",
       "      <th>urls</th>\n",
       "      <th>embeddings</th>\n",
       "      <th>classes</th>\n",
       "      <th>cluster_kmeans</th>\n",
       "      <th>cluster_affinity</th>\n",
       "      <th>cluster_agglomerative</th>\n",
       "    </tr>\n",
       "  </thead>\n",
       "  <tbody>\n",
       "    <tr>\n",
       "      <th>4263</th>\n",
       "      <td>/home/paulo/Documentos/slnp_faces_leg_55/10511...</td>\n",
       "      <td>[3.763019, 1.1650515, 0.5744727, 6.1935024, 9....</td>\n",
       "      <td>105112_b</td>\n",
       "      <td>472</td>\n",
       "      <td>-1</td>\n",
       "      <td>226</td>\n",
       "    </tr>\n",
       "    <tr>\n",
       "      <th>4262</th>\n",
       "      <td>/home/paulo/Documentos/slnp_faces_leg_55/10511...</td>\n",
       "      <td>[1.9997727, 1.535032, 0.131482, 5.673743, 0.11...</td>\n",
       "      <td>105112_b</td>\n",
       "      <td>472</td>\n",
       "      <td>-1</td>\n",
       "      <td>226</td>\n",
       "    </tr>\n",
       "    <tr>\n",
       "      <th>4270</th>\n",
       "      <td>/home/paulo/Documentos/slnp_faces_leg_55/10511...</td>\n",
       "      <td>[5.559259, 3.0951445, 0.32168803, 8.773773, 0....</td>\n",
       "      <td>105112_b</td>\n",
       "      <td>472</td>\n",
       "      <td>-1</td>\n",
       "      <td>226</td>\n",
       "    </tr>\n",
       "    <tr>\n",
       "      <th>4268</th>\n",
       "      <td>/home/paulo/Documentos/slnp_faces_leg_55/10511...</td>\n",
       "      <td>[3.4136424, 2.7559876, 1.0755774, 7.3527603, 7...</td>\n",
       "      <td>105112_b</td>\n",
       "      <td>268</td>\n",
       "      <td>-1</td>\n",
       "      <td>212</td>\n",
       "    </tr>\n",
       "    <tr>\n",
       "      <th>4267</th>\n",
       "      <td>/home/paulo/Documentos/slnp_faces_leg_55/10511...</td>\n",
       "      <td>[7.1362076, 0.9659398, 1.0193014, 6.101046, 3....</td>\n",
       "      <td>105112_b</td>\n",
       "      <td>472</td>\n",
       "      <td>-1</td>\n",
       "      <td>226</td>\n",
       "    </tr>\n",
       "  </tbody>\n",
       "</table>\n",
       "</div>"
      ],
      "text/plain": [
       "                                                   urls  \\\n",
       "4263  /home/paulo/Documentos/slnp_faces_leg_55/10511...   \n",
       "4262  /home/paulo/Documentos/slnp_faces_leg_55/10511...   \n",
       "4270  /home/paulo/Documentos/slnp_faces_leg_55/10511...   \n",
       "4268  /home/paulo/Documentos/slnp_faces_leg_55/10511...   \n",
       "4267  /home/paulo/Documentos/slnp_faces_leg_55/10511...   \n",
       "\n",
       "                                             embeddings   classes  \\\n",
       "4263  [3.763019, 1.1650515, 0.5744727, 6.1935024, 9....  105112_b   \n",
       "4262  [1.9997727, 1.535032, 0.131482, 5.673743, 0.11...  105112_b   \n",
       "4270  [5.559259, 3.0951445, 0.32168803, 8.773773, 0....  105112_b   \n",
       "4268  [3.4136424, 2.7559876, 1.0755774, 7.3527603, 7...  105112_b   \n",
       "4267  [7.1362076, 0.9659398, 1.0193014, 6.101046, 3....  105112_b   \n",
       "\n",
       "      cluster_kmeans  cluster_affinity  cluster_agglomerative  \n",
       "4263             472                -1                    226  \n",
       "4262             472                -1                    226  \n",
       "4270             472                -1                    226  \n",
       "4268             268                -1                    212  \n",
       "4267             472                -1                    226  "
      ]
     },
     "execution_count": 44,
     "metadata": {},
     "output_type": "execute_result"
    }
   ],
   "source": [
    "clusters.sort_values(by=['urls']).head()"
   ]
  },
  {
   "cell_type": "code",
   "execution_count": 45,
   "metadata": {},
   "outputs": [
    {
     "data": {
      "text/plain": [
       "array([[0.27213111, 0.15236522, 0.03527031, ..., 0.07843432, 0.07503472,\n",
       "        0.08202707],\n",
       "       [0.05594779, 0.1122032 , 0.30774101, ..., 0.03042112, 0.31828403,\n",
       "        0.1284229 ],\n",
       "       [0.20816352, 0.12197001, 0.11006268, ..., 0.05341525, 0.0620157 ,\n",
       "        0.14995413],\n",
       "       ...,\n",
       "       [0.21349073, 0.16398336, 0.09649953, ..., 0.0080157 , 0.13887246,\n",
       "        0.126038  ],\n",
       "       [0.32118677, 0.18064047, 0.14630446, ..., 0.01459945, 0.35589471,\n",
       "        0.17697434],\n",
       "       [0.12045684, 0.19420404, 0.06344562, ..., 0.02348973, 0.27273956,\n",
       "        0.3093393 ]])"
      ]
     },
     "execution_count": 45,
     "metadata": {},
     "output_type": "execute_result"
    }
   ],
   "source": [
    "models_inst['cluster_kmeans'].cluster_centers_"
   ]
  },
  {
   "cell_type": "code",
   "execution_count": 46,
   "metadata": {},
   "outputs": [
    {
     "data": {
      "text/html": [
       "<div>\n",
       "<style scoped>\n",
       "    .dataframe tbody tr th:only-of-type {\n",
       "        vertical-align: middle;\n",
       "    }\n",
       "\n",
       "    .dataframe tbody tr th {\n",
       "        vertical-align: top;\n",
       "    }\n",
       "\n",
       "    .dataframe thead th {\n",
       "        text-align: right;\n",
       "    }\n",
       "</style>\n",
       "<table border=\"1\" class=\"dataframe\">\n",
       "  <thead>\n",
       "    <tr style=\"text-align: right;\">\n",
       "      <th></th>\n",
       "      <th>urls</th>\n",
       "      <th>embeddings</th>\n",
       "      <th>classes</th>\n",
       "      <th>cluster_affinity</th>\n",
       "      <th>cluster_agglomerative</th>\n",
       "    </tr>\n",
       "  </thead>\n",
       "  <tbody>\n",
       "    <tr>\n",
       "      <th>count</th>\n",
       "      <td>514.000000</td>\n",
       "      <td>514.000000</td>\n",
       "      <td>514.000000</td>\n",
       "      <td>514.000000</td>\n",
       "      <td>514.000000</td>\n",
       "    </tr>\n",
       "    <tr>\n",
       "      <th>mean</th>\n",
       "      <td>16.768482</td>\n",
       "      <td>16.768482</td>\n",
       "      <td>16.768482</td>\n",
       "      <td>16.768482</td>\n",
       "      <td>16.768482</td>\n",
       "    </tr>\n",
       "    <tr>\n",
       "      <th>std</th>\n",
       "      <td>12.542283</td>\n",
       "      <td>12.542283</td>\n",
       "      <td>12.542283</td>\n",
       "      <td>12.542283</td>\n",
       "      <td>12.542283</td>\n",
       "    </tr>\n",
       "    <tr>\n",
       "      <th>min</th>\n",
       "      <td>2.000000</td>\n",
       "      <td>2.000000</td>\n",
       "      <td>2.000000</td>\n",
       "      <td>2.000000</td>\n",
       "      <td>2.000000</td>\n",
       "    </tr>\n",
       "    <tr>\n",
       "      <th>25%</th>\n",
       "      <td>9.000000</td>\n",
       "      <td>9.000000</td>\n",
       "      <td>9.000000</td>\n",
       "      <td>9.000000</td>\n",
       "      <td>9.000000</td>\n",
       "    </tr>\n",
       "    <tr>\n",
       "      <th>50%</th>\n",
       "      <td>14.000000</td>\n",
       "      <td>14.000000</td>\n",
       "      <td>14.000000</td>\n",
       "      <td>14.000000</td>\n",
       "      <td>14.000000</td>\n",
       "    </tr>\n",
       "    <tr>\n",
       "      <th>75%</th>\n",
       "      <td>20.000000</td>\n",
       "      <td>20.000000</td>\n",
       "      <td>20.000000</td>\n",
       "      <td>20.000000</td>\n",
       "      <td>20.000000</td>\n",
       "    </tr>\n",
       "    <tr>\n",
       "      <th>max</th>\n",
       "      <td>104.000000</td>\n",
       "      <td>104.000000</td>\n",
       "      <td>104.000000</td>\n",
       "      <td>104.000000</td>\n",
       "      <td>104.000000</td>\n",
       "    </tr>\n",
       "  </tbody>\n",
       "</table>\n",
       "</div>"
      ],
      "text/plain": [
       "             urls  embeddings     classes  cluster_affinity  \\\n",
       "count  514.000000  514.000000  514.000000        514.000000   \n",
       "mean    16.768482   16.768482   16.768482         16.768482   \n",
       "std     12.542283   12.542283   12.542283         12.542283   \n",
       "min      2.000000    2.000000    2.000000          2.000000   \n",
       "25%      9.000000    9.000000    9.000000          9.000000   \n",
       "50%     14.000000   14.000000   14.000000         14.000000   \n",
       "75%     20.000000   20.000000   20.000000         20.000000   \n",
       "max    104.000000  104.000000  104.000000        104.000000   \n",
       "\n",
       "       cluster_agglomerative  \n",
       "count             514.000000  \n",
       "mean               16.768482  \n",
       "std                12.542283  \n",
       "min                 2.000000  \n",
       "25%                 9.000000  \n",
       "50%                14.000000  \n",
       "75%                20.000000  \n",
       "max               104.000000  "
      ]
     },
     "execution_count": 46,
     "metadata": {},
     "output_type": "execute_result"
    }
   ],
   "source": [
    "clusters.groupby(['cluster_kmeans']).count().describe()"
   ]
  },
  {
   "cell_type": "markdown",
   "metadata": {},
   "source": [
    "# Evaluating"
   ]
  },
  {
   "cell_type": "code",
   "execution_count": 47,
   "metadata": {},
   "outputs": [],
   "source": [
    "clusters = pd.read_pickle(f'../data/leg55_clusters_{backbone}.pkl')"
   ]
  },
  {
   "cell_type": "code",
   "execution_count": 48,
   "metadata": {},
   "outputs": [],
   "source": [
    "from sklearn import metrics"
   ]
  },
  {
   "cell_type": "code",
   "execution_count": 49,
   "metadata": {},
   "outputs": [],
   "source": [
    "cluster_cols = [c for c in clusters.columns if str(c).startswith('cluster')]"
   ]
  },
  {
   "cell_type": "code",
   "execution_count": 50,
   "metadata": {},
   "outputs": [],
   "source": [
    "labels_true = clusters.classes.values"
   ]
  },
  {
   "cell_type": "code",
   "execution_count": 51,
   "metadata": {},
   "outputs": [],
   "source": [
    "dict_results = {}\n",
    "for col in cluster_cols:\n",
    "    labels_pred = clusters[col].values\n",
    "    \n",
    "    dict_results[col] = [metrics.homogeneity_score(labels_true,labels_pred),\n",
    "                        metrics.completeness_score(labels_true, labels_pred),\n",
    "                        metrics.v_measure_score(labels_true, labels_pred)]"
   ]
  },
  {
   "cell_type": "code",
   "execution_count": 52,
   "metadata": {},
   "outputs": [
    {
     "data": {
      "text/html": [
       "<div>\n",
       "<style scoped>\n",
       "    .dataframe tbody tr th:only-of-type {\n",
       "        vertical-align: middle;\n",
       "    }\n",
       "\n",
       "    .dataframe tbody tr th {\n",
       "        vertical-align: top;\n",
       "    }\n",
       "\n",
       "    .dataframe thead th {\n",
       "        text-align: right;\n",
       "    }\n",
       "</style>\n",
       "<table border=\"1\" class=\"dataframe\">\n",
       "  <thead>\n",
       "    <tr style=\"text-align: right;\">\n",
       "      <th></th>\n",
       "      <th>Homogeneity Score</th>\n",
       "      <th>Completeness Score</th>\n",
       "      <th>V-Measure</th>\n",
       "    </tr>\n",
       "  </thead>\n",
       "  <tbody>\n",
       "    <tr>\n",
       "      <th>cluster_kmeans</th>\n",
       "      <td>7.785150e-01</td>\n",
       "      <td>0.795930</td>\n",
       "      <td>7.871260e-01</td>\n",
       "    </tr>\n",
       "    <tr>\n",
       "      <th>cluster_affinity</th>\n",
       "      <td>-6.571624e-17</td>\n",
       "      <td>1.000000</td>\n",
       "      <td>-1.314325e-16</td>\n",
       "    </tr>\n",
       "    <tr>\n",
       "      <th>cluster_agglomerative</th>\n",
       "      <td>8.361146e-01</td>\n",
       "      <td>0.851264</td>\n",
       "      <td>8.436214e-01</td>\n",
       "    </tr>\n",
       "  </tbody>\n",
       "</table>\n",
       "</div>"
      ],
      "text/plain": [
       "                       Homogeneity Score  Completeness Score     V-Measure\n",
       "cluster_kmeans              7.785150e-01            0.795930  7.871260e-01\n",
       "cluster_affinity           -6.571624e-17            1.000000 -1.314325e-16\n",
       "cluster_agglomerative       8.361146e-01            0.851264  8.436214e-01"
      ]
     },
     "execution_count": 52,
     "metadata": {},
     "output_type": "execute_result"
    }
   ],
   "source": [
    "df_results = pd.DataFrame.from_dict(dict_results, orient='index', columns=['Homogeneity Score', 'Completeness Score', 'V-Measure'])\n",
    "df_results"
   ]
  },
  {
   "cell_type": "code",
   "execution_count": 53,
   "metadata": {},
   "outputs": [],
   "source": [
    "df_results.to_csv(f'../results/{backbone}_results_removed.csv')"
   ]
  },
  {
   "cell_type": "code",
   "execution_count": null,
   "metadata": {},
   "outputs": [],
   "source": []
  }
 ],
 "metadata": {
  "kernelspec": {
   "display_name": "Python 3",
   "language": "python",
   "name": "python3"
  },
  "language_info": {
   "codemirror_mode": {
    "name": "ipython",
    "version": 3
   },
   "file_extension": ".py",
   "mimetype": "text/x-python",
   "name": "python",
   "nbconvert_exporter": "python",
   "pygments_lexer": "ipython3",
   "version": "3.6.8"
  }
 },
 "nbformat": 4,
 "nbformat_minor": 4
}
