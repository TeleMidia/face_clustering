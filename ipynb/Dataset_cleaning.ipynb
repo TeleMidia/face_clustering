{
 "cells": [
  {
   "cell_type": "code",
   "execution_count": 1,
   "metadata": {},
   "outputs": [],
   "source": [
    "import pandas as pd"
   ]
  },
  {
   "cell_type": "code",
   "execution_count": 2,
   "metadata": {},
   "outputs": [],
   "source": [
    "df_embeddings = pd.read_pickle('../data/leg55_k_means.pkl')"
   ]
  },
  {
   "cell_type": "code",
   "execution_count": 3,
   "metadata": {},
   "outputs": [
    {
     "data": {
      "text/html": [
       "<div>\n",
       "<style scoped>\n",
       "    .dataframe tbody tr th:only-of-type {\n",
       "        vertical-align: middle;\n",
       "    }\n",
       "\n",
       "    .dataframe tbody tr th {\n",
       "        vertical-align: top;\n",
       "    }\n",
       "\n",
       "    .dataframe thead th {\n",
       "        text-align: right;\n",
       "    }\n",
       "</style>\n",
       "<table border=\"1\" class=\"dataframe\">\n",
       "  <thead>\n",
       "    <tr style=\"text-align: right;\">\n",
       "      <th></th>\n",
       "      <th>urls</th>\n",
       "      <th>embeddings</th>\n",
       "      <th>classes</th>\n",
       "      <th>cluster_kmeans</th>\n",
       "      <th>distance</th>\n",
       "    </tr>\n",
       "  </thead>\n",
       "  <tbody>\n",
       "    <tr>\n",
       "      <th>0</th>\n",
       "      <td>/home/paulo/Documentos/slnp_faces_leg_55/74385...</td>\n",
       "      <td>[0.17480865, 0.24839097, 0.018389545, 0.398058...</td>\n",
       "      <td>74385_b</td>\n",
       "      <td>8</td>\n",
       "      <td>0.016398</td>\n",
       "    </tr>\n",
       "    <tr>\n",
       "      <th>1</th>\n",
       "      <td>/home/paulo/Documentos/slnp_faces_leg_55/74385...</td>\n",
       "      <td>[0.07091311, 0.04615592, 0.0, 6.4110007, 3.386...</td>\n",
       "      <td>74385_b</td>\n",
       "      <td>134</td>\n",
       "      <td>0.085021</td>\n",
       "    </tr>\n",
       "    <tr>\n",
       "      <th>4</th>\n",
       "      <td>/home/paulo/Documentos/slnp_faces_leg_55/74385...</td>\n",
       "      <td>[0.10499452, 2.5098183, 0.0, 5.429726, 0.61141...</td>\n",
       "      <td>74385_b</td>\n",
       "      <td>134</td>\n",
       "      <td>0.071436</td>\n",
       "    </tr>\n",
       "    <tr>\n",
       "      <th>5</th>\n",
       "      <td>/home/paulo/Documentos/slnp_faces_leg_55/74385...</td>\n",
       "      <td>[0.017898438, 1.6189704, 0.0022666005, 5.99468...</td>\n",
       "      <td>74385_b</td>\n",
       "      <td>134</td>\n",
       "      <td>0.084874</td>\n",
       "    </tr>\n",
       "    <tr>\n",
       "      <th>6</th>\n",
       "      <td>/home/paulo/Documentos/slnp_faces_leg_55/74385...</td>\n",
       "      <td>[0.02720209, 4.4259987, 0.006993143, 5.375417,...</td>\n",
       "      <td>74385_b</td>\n",
       "      <td>134</td>\n",
       "      <td>0.071801</td>\n",
       "    </tr>\n",
       "  </tbody>\n",
       "</table>\n",
       "</div>"
      ],
      "text/plain": [
       "                                                urls  \\\n",
       "0  /home/paulo/Documentos/slnp_faces_leg_55/74385...   \n",
       "1  /home/paulo/Documentos/slnp_faces_leg_55/74385...   \n",
       "4  /home/paulo/Documentos/slnp_faces_leg_55/74385...   \n",
       "5  /home/paulo/Documentos/slnp_faces_leg_55/74385...   \n",
       "6  /home/paulo/Documentos/slnp_faces_leg_55/74385...   \n",
       "\n",
       "                                          embeddings  classes  cluster_kmeans  \\\n",
       "0  [0.17480865, 0.24839097, 0.018389545, 0.398058...  74385_b               8   \n",
       "1  [0.07091311, 0.04615592, 0.0, 6.4110007, 3.386...  74385_b             134   \n",
       "4  [0.10499452, 2.5098183, 0.0, 5.429726, 0.61141...  74385_b             134   \n",
       "5  [0.017898438, 1.6189704, 0.0022666005, 5.99468...  74385_b             134   \n",
       "6  [0.02720209, 4.4259987, 0.006993143, 5.375417,...  74385_b             134   \n",
       "\n",
       "   distance  \n",
       "0  0.016398  \n",
       "1  0.085021  \n",
       "4  0.071436  \n",
       "5  0.084874  \n",
       "6  0.071801  "
      ]
     },
     "execution_count": 3,
     "metadata": {},
     "output_type": "execute_result"
    }
   ],
   "source": [
    "df_embeddings.head()"
   ]
  },
  {
   "cell_type": "markdown",
   "metadata": {},
   "source": [
    "## Distance exploration"
   ]
  },
  {
   "cell_type": "code",
   "execution_count": 4,
   "metadata": {},
   "outputs": [],
   "source": [
    "mean = df_embeddings.distance.mean()\n",
    "std = df_embeddings.distance.std()"
   ]
  },
  {
   "cell_type": "code",
   "execution_count": 12,
   "metadata": {},
   "outputs": [],
   "source": [
    "import matplotlib.pyplot as plt\n",
    "import numpy as np"
   ]
  },
  {
   "cell_type": "code",
   "execution_count": 16,
   "metadata": {},
   "outputs": [
    {
     "data": {
      "text/plain": [
       "<matplotlib.axes._subplots.AxesSubplot at 0x7f18a9440240>"
      ]
     },
     "execution_count": 16,
     "metadata": {},
     "output_type": "execute_result"
    },
    {
     "data": {
      "image/png": "[encoded data removed]",
      "text/plain": [
       "<Figure size 864x288 with 1 Axes>"
      ]
     },
     "metadata": {
      "needs_background": "light"
     },
     "output_type": "display_data"
    }
   ],
   "source": [
    "df_embeddings.distance.plot.hist(bins=50, figsize=(12,4))"
   ]
  },
  {
   "cell_type": "code",
   "execution_count": 22,
   "metadata": {},
   "outputs": [
    {
     "data": {
      "text/plain": [
       "0.12115523402777553"
      ]
     },
     "execution_count": 22,
     "metadata": {},
     "output_type": "execute_result"
    }
   ],
   "source": [
    "mean+2*std"
   ]
  },
  {
   "cell_type": "code",
   "execution_count": 24,
   "metadata": {},
   "outputs": [
    {
     "data": {
      "text/plain": [
       "0.9680481592961334"
      ]
     },
     "execution_count": 24,
     "metadata": {},
     "output_type": "execute_result"
    }
   ],
   "source": [
    "np.mean(df_embeddings.distance<=mean+2*std)"
   ]
  },
  {
   "cell_type": "code",
   "execution_count": 39,
   "metadata": {},
   "outputs": [],
   "source": [
    "greatest_dist = df_embeddings.loc[df_embeddings.distance>mean+2*std].sort_values('distance',ascending=False)"
   ]
  },
  {
   "cell_type": "code",
   "execution_count": 48,
   "metadata": {},
   "outputs": [],
   "source": [
    "i = -1\n",
    "to_delete = []\n",
    "from IPython.display import Image"
   ]
  },
  {
   "cell_type": "code",
   "execution_count": 172,
   "metadata": {},
   "outputs": [
    {
     "name": "stdout",
     "output_type": "stream",
     "text": [
      "104: /home/paulo/Documentos/slnp_faces_leg_55/73535_b/4_0.jpg d: 0.13358288485927783\n"
     ]
    },
    {
     "data": {
      "image/jpeg": "[encoded data removed]",
      "text/plain": [
       "<IPython.core.display.Image object>"
      ]
     },
     "execution_count": 172,
     "metadata": {},
     "output_type": "execute_result"
    }
   ],
   "source": [
    "i = i+1\n",
    "print(f'{i}: {greatest_dist.urls.values[i]} d: {greatest_dist.distance.values[i]}')\n",
    "Image(greatest_dist.urls.values[i])"
   ]
  },
  {
   "cell_type": "code",
   "execution_count": 158,
   "metadata": {},
   "outputs": [],
   "source": [
    "to_delete.append(greatest_dist.urls.values[i])"
   ]
  },
  {
   "cell_type": "code",
   "execution_count": 174,
   "metadata": {},
   "outputs": [
    {
     "data": {
      "text/plain": [
       "19"
      ]
     },
     "execution_count": 174,
     "metadata": {},
     "output_type": "execute_result"
    }
   ],
   "source": [
    "len(to_delete)"
   ]
  },
  {
   "cell_type": "markdown",
   "metadata": {},
   "source": [
    "## Saving"
   ]
  },
  {
   "cell_type": "code",
   "execution_count": 188,
   "metadata": {},
   "outputs": [],
   "source": [
    "senet50 = pd.read_pickle('../data/leg55_senet50.pkl')"
   ]
  },
  {
   "cell_type": "code",
   "execution_count": 191,
   "metadata": {},
   "outputs": [],
   "source": [
    "senet50.loc[~senet50.urls.isin(to_delete)].to_pickle('../data/leg55_senet50.pkl')"
   ]
  },
  {
   "cell_type": "code",
   "execution_count": 192,
   "metadata": {},
   "outputs": [],
   "source": [
    "resnet50 = pd.read_pickle('../data/leg55_resnet50.pkl')"
   ]
  },
  {
   "cell_type": "code",
   "execution_count": 194,
   "metadata": {},
   "outputs": [],
   "source": [
    "resnet50.loc[~resnet50.urls.isin(to_delete)].to_pickle('../data/leg55_resnet50.pkl')"
   ]
  },
  {
   "cell_type": "code",
   "execution_count": 195,
   "metadata": {},
   "outputs": [],
   "source": [
    "vgg16 = pd.read_pickle('../data/leg55_vgg16.pkl')"
   ]
  },
  {
   "cell_type": "code",
   "execution_count": 197,
   "metadata": {},
   "outputs": [],
   "source": [
    "vgg16.loc[~vgg16.urls.isin(to_delete)].to_pickle('../data/leg55_vgg16.pkl')"
   ]
  },
  {
   "cell_type": "code",
   "execution_count": null,
   "metadata": {},
   "outputs": [],
   "source": []
  }
 ],
 "metadata": {
  "kernelspec": {
   "display_name": "Python 3",
   "language": "python",
   "name": "python3"
  },
  "language_info": {
   "codemirror_mode": {
    "name": "ipython",
    "version": 3
   },
   "file_extension": ".py",
   "mimetype": "text/x-python",
   "name": "python",
   "nbconvert_exporter": "python",
   "pygments_lexer": "ipython3",
   "version": "3.6.8"
  }
 },
 "nbformat": 4,
 "nbformat_minor": 4
}
