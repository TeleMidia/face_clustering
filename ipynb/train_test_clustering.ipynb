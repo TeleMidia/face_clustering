{
 "cells": [
  {
   "cell_type": "code",
   "execution_count": null,
   "metadata": {},
   "outputs": [],
   "source": [
    "%load_ext autoreload\n",
    "%autoreload 2\n",
    "import pandas as pd\n",
    "import numpy as np\n",
    "import sys\n",
    "sys.path.append('../')\n",
    "from faces_clustering import Clusterer, is_image, get_files_folder"
   ]
  },
  {
   "cell_type": "code",
   "execution_count": null,
   "metadata": {},
   "outputs": [],
   "source": [
    "import random\n",
    "random.seed(42)"
   ]
  },
  {
   "cell_type": "code",
   "execution_count": null,
   "metadata": {},
   "outputs": [],
   "source": [
    "pd.set_option('display.float_format', lambda x: '%.5f' % x)"
   ]
  },
  {
   "cell_type": "code",
   "execution_count": null,
   "metadata": {},
   "outputs": [],
   "source": [
    "backbones = ['resnet50','senet50','vgg16']"
   ]
  },
  {
   "cell_type": "markdown",
   "metadata": {},
   "source": [
    "# DataSeparation"
   ]
  },
  {
   "cell_type": "code",
   "execution_count": null,
   "metadata": {},
   "outputs": [],
   "source": [
    "df_embs = pd.read_pickle(f'../data/valid/raw/leg55_{backbones[0]}.pkl')"
   ]
  },
  {
   "cell_type": "code",
   "execution_count": null,
   "metadata": {},
   "outputs": [],
   "source": [
    "test_index = df_embs.sample(frac=1, random_state=42).groupby('classes').head(1).sort_values('classes').index"
   ]
  },
  {
   "cell_type": "code",
   "execution_count": null,
   "metadata": {},
   "outputs": [],
   "source": [
    "for backbone in backbones:\n",
    "    df_backbone = pd.read_pickle(f'../data/valid/leg55_{backbone}.pkl')\n",
    "    df_test = df_backbone.loc[test_index].copy()\n",
    "    df_train = df_backbone.loc[df_embs.index.difference(test_index)].copy()\n",
    "    \n",
    "    df_train.to_pickle(f'../data/valid/train_leg55_{backbone}.pkl')\n",
    "    df_test.to_pickle(f'../data/valid/test_leg55_{backbone}.pkl')"
   ]
  },
  {
   "cell_type": "markdown",
   "metadata": {},
   "source": [
    "# Clustering Train"
   ]
  },
  {
   "cell_type": "code",
   "execution_count": null,
   "metadata": {},
   "outputs": [],
   "source": [
    "all_clusters = {}\n",
    "for backbone in backbones:\n",
    "    df_train = pd.read_pickle(f'../data/valid/train_leg55_{backbone}.pkl')\n",
    "    clusterer = Clusterer(n_clusters=513, face_embeddings = df_train,algs=[\n",
    "        'kmeans', 'affinity', 'agglomerative'])\n",
    "    clusters, models_inst = clusterer.clusterize(normalize=False)\n",
    "    \n",
    "    all_clusters[backbone] = clusters"
   ]
  },
  {
   "cell_type": "code",
   "execution_count": null,
   "metadata": {},
   "outputs": [],
   "source": [
    "dt_clusters = pd.concat(all_clusters.values(), keys = all_clusters.keys())"
   ]
  },
  {
   "cell_type": "code",
   "execution_count": null,
   "metadata": {},
   "outputs": [],
   "source": [
    "dt_clusters.to_pickle('../data/valid/clusters_train_leg55.pkl')"
   ]
  },
  {
   "cell_type": "code",
   "execution_count": null,
   "metadata": {},
   "outputs": [],
   "source": [
    "dt_clusters = pd.read_pickle('../data/valid/clusters_train_leg55.pkl')"
   ]
  },
  {
   "cell_type": "code",
   "execution_count": null,
   "metadata": {},
   "outputs": [],
   "source": [
    "print(f\"Train Size: {dt_clusters.loc['resnet50'].shape[0]}\")"
   ]
  },
  {
   "cell_type": "markdown",
   "metadata": {},
   "source": [
    "## Evaluating Train"
   ]
  },
  {
   "cell_type": "code",
   "execution_count": null,
   "metadata": {},
   "outputs": [],
   "source": [
    "from sklearn import metrics"
   ]
  },
  {
   "cell_type": "code",
   "execution_count": null,
   "metadata": {},
   "outputs": [],
   "source": [
    "df_all = {}\n",
    "for backbone in backbones:\n",
    "    clusters = dt_clusters.loc[backbone]\n",
    "    \n",
    "    cluster_cols = [c for c in clusters.columns if str(c).startswith('cluster')]\n",
    "    labels_true = clusters.classes.values\n",
    "    \n",
    "    dict_results = {}\n",
    "    for col in cluster_cols:\n",
    "        labels_pred = clusters[col].values\n",
    "\n",
    "        dict_results[col] = [metrics.homogeneity_score(labels_true,labels_pred),\n",
    "                            metrics.completeness_score(labels_true, labels_pred),\n",
    "                            metrics.v_measure_score(labels_true, labels_pred)]\n",
    "    df_all[backbone] = pd.DataFrame.from_dict(dict_results, orient='index', columns=[\n",
    "        'Homogeneity Score', 'Completeness Score', 'V-Measure'])\n",
    "    \n",
    "df_all_results = pd.concat(df_all.values(), keys=df_all.keys())\n",
    "    "
   ]
  },
  {
   "cell_type": "code",
   "execution_count": null,
   "metadata": {},
   "outputs": [],
   "source": [
    "df_all_results"
   ]
  },
  {
   "cell_type": "code",
   "execution_count": null,
   "metadata": {},
   "outputs": [],
   "source": [
    "pd.read_csv('../results/valid/clusters.csv', index_col=[0,1])"
   ]
  },
  {
   "cell_type": "raw",
   "metadata": {},
   "source": [
    "Melhor resultado senet50 com agglomerative e normalização"
   ]
  },
  {
   "cell_type": "markdown",
   "metadata": {},
   "source": [
    "# Test"
   ]
  },
  {
   "cell_type": "code",
   "execution_count": null,
   "metadata": {},
   "outputs": [],
   "source": [
    "from faces_clustering import FaceSearcher\n",
    "backbone = backbones[1]"
   ]
  },
  {
   "cell_type": "code",
   "execution_count": null,
   "metadata": {},
   "outputs": [],
   "source": [
    "df_embs = pd.read_pickle('../data/valid/distances/senet50_agglomerative.pkl')"
   ]
  },
  {
   "cell_type": "code",
   "execution_count": null,
   "metadata": {},
   "outputs": [],
   "source": [
    "df_embs.shape"
   ]
  },
  {
   "cell_type": "code",
   "execution_count": null,
   "metadata": {},
   "outputs": [],
   "source": [
    "searcher = FaceSearcher(face_embs = df_embs, classes_col = 'cluster_agglomerative', distance_col = 'd_cluster_agglomerative')"
   ]
  },
  {
   "cell_type": "code",
   "execution_count": null,
   "metadata": {},
   "outputs": [],
   "source": [
    "df_test = pd.read_pickle('../data/valid/test_leg55_senet50.pkl')"
   ]
  },
  {
   "cell_type": "code",
   "execution_count": null,
   "metadata": {},
   "outputs": [],
   "source": [
    "df_test[['urls','classes']].loc[df_test['classes'] == '73674_b'].urls.values"
   ]
  },
  {
   "cell_type": "code",
   "execution_count": null,
   "metadata": {},
   "outputs": [],
   "source": [
    "print(f\"Test size is {df_test.shape[0]}\")"
   ]
  },
  {
   "cell_type": "raw",
   "metadata": {},
   "source": [
    "df_test.to_pickle('../data/valid/test_leg55_senet50_results.pkl')"
   ]
  },
  {
   "cell_type": "code",
   "execution_count": null,
   "metadata": {},
   "outputs": [],
   "source": [
    "embs_query = [l.tolist() for l in df_test.embeddings.values]"
   ]
  },
  {
   "cell_type": "code",
   "execution_count": null,
   "metadata": {},
   "outputs": [],
   "source": [
    "_, results = searcher.closest_centroids(embs_query = embs_query)"
   ]
  },
  {
   "cell_type": "code",
   "execution_count": null,
   "metadata": {},
   "outputs": [],
   "source": [
    "softmax = lambda x: np.exp(x)/sum(np.exp(x))"
   ]
  },
  {
   "cell_type": "code",
   "execution_count": null,
   "metadata": {},
   "outputs": [],
   "source": [
    "def m1(x, k):\n",
    "    m1 = softmax((1/x).nlargest(k)).head(1)\n",
    "    return (m1.index.values[0],m1.values[0])"
   ]
  },
  {
   "cell_type": "code",
   "execution_count": null,
   "metadata": {},
   "outputs": [],
   "source": [
    "pcts = [m1(r,5)[1] for r in results]"
   ]
  },
  {
   "cell_type": "code",
   "execution_count": null,
   "metadata": {},
   "outputs": [],
   "source": [
    "np.mean(np.array(pcts)>=0.5)"
   ]
  },
  {
   "cell_type": "code",
   "execution_count": null,
   "metadata": {},
   "outputs": [],
   "source": [
    "np.mean(np.array(pcts))"
   ]
  },
  {
   "cell_type": "code",
   "execution_count": null,
   "metadata": {},
   "outputs": [],
   "source": [
    "import matplotlib.pyplot as plt"
   ]
  },
  {
   "cell_type": "code",
   "execution_count": null,
   "metadata": {},
   "outputs": [],
   "source": [
    "_ = plt.hist(pcts, bins=50)"
   ]
  },
  {
   "cell_type": "code",
   "execution_count": null,
   "metadata": {},
   "outputs": [],
   "source": [
    "df_test['results'] = results"
   ]
  },
  {
   "cell_type": "code",
   "execution_count": null,
   "metadata": {},
   "outputs": [],
   "source": [
    "mode_clusters = df_embs.groupby('cluster_agglomerative')['classes'].apply(lambda x: x.value_counts(dropna=False).idxmax())"
   ]
  },
  {
   "cell_type": "code",
   "execution_count": null,
   "metadata": {},
   "outputs": [],
   "source": [
    "classes_by_cluster = df_embs.groupby('cluster_agglomerative')['classes'].apply(set)"
   ]
  },
  {
   "cell_type": "code",
   "execution_count": null,
   "metadata": {},
   "outputs": [],
   "source": [
    "any_k = []\n",
    "mode_k = []\n",
    "has_class_k = []\n",
    "\n",
    "for k in range(2,11):\n",
    "    p_clusters = df_test['results'].apply(lambda x: m1(x,k)[0] if m1(x,k)[1] >= 0.5 else -1)\n",
    "    any_k.append(np.mean(p_clusters != -1))\n",
    "    #print(f\"{k}: Assigned to any: {any_k[-1]}\")\n",
    "    mode_k.append((df_test.classes == p_clusters.map(mode_clusters)).mean())\n",
    "    #print(f\"{k}: Assigned to cluster of mode: {mode_k[-1]}\")\n",
    "    \n",
    "    comp = []\n",
    "    for myclass, classes in zip(df_test.classes,p_clusters.map(classes_by_cluster)):\n",
    "        comp.append(classes == classes and myclass in classes)\n",
    "    has_class_k.append(np.mean(comp))    \n",
    "    #print(f\"{k}: Assigned to cluster with class in the cluster {has_class_k[-1]}\")"
   ]
  },
  {
   "cell_type": "code",
   "execution_count": null,
   "metadata": {},
   "outputs": [],
   "source": [
    "df_results = pd.DataFrame(np.transpose([any_k, mode_k, has_class_k]),\n",
    "             index = range(2,11), columns=['Any_Cluster', 'Mode Equal to Class', 'Class is present in cluster'])\n",
    "df_results"
   ]
  },
  {
   "cell_type": "markdown",
   "metadata": {},
   "source": [
    "## Checking wrong classes"
   ]
  },
  {
   "cell_type": "code",
   "execution_count": null,
   "metadata": {},
   "outputs": [],
   "source": [
    "p_clusters = df_test['results'].apply(lambda x: m1(x,2)[0] if m1(x,2)[1] >= 0.5 else -1)"
   ]
  },
  {
   "cell_type": "code",
   "execution_count": null,
   "metadata": {},
   "outputs": [],
   "source": [
    "classes_wrong = df_test.loc[df_test.classes != p_clusters.map(mode_clusters)].classes"
   ]
  },
  {
   "cell_type": "code",
   "execution_count": null,
   "metadata": {},
   "outputs": [],
   "source": [
    "classes_right = df_test.loc[df_test.classes == p_clusters.map(mode_clusters)].classes"
   ]
  },
  {
   "cell_type": "code",
   "execution_count": null,
   "metadata": {},
   "outputs": [],
   "source": [
    "classes_count = df_embs.groupby('classes')['urls'].count()"
   ]
  },
  {
   "cell_type": "code",
   "execution_count": null,
   "metadata": {},
   "outputs": [],
   "source": [
    "classes_count.loc[classes_count<=5].count()"
   ]
  },
  {
   "cell_type": "code",
   "execution_count": null,
   "metadata": {},
   "outputs": [],
   "source": [
    "import matplotlib.pyplot as plt\n",
    "\n",
    "_ = plt.hist([classes_wrong.map(classes_count), classes_count, classes_right.map(classes_count)], \n",
    "    density=False, bins=20, alpha=0.5, label=['wrong', 'all', 'right'])\n",
    "_ = plt.legend()\n",
    "#_ = plt.hist(, density=True, bins=12, alpha=0.5,label = 'class dist')"
   ]
  },
  {
   "cell_type": "code",
   "execution_count": null,
   "metadata": {},
   "outputs": [],
   "source": [
    "def fxs(x):\n",
    "    if x < 6:\n",
    "        return '1-5'\n",
    "    if x < 11:\n",
    "        return '6-10'\n",
    "    if x < 16:\n",
    "        return '11-15'\n",
    "    if x < 21:\n",
    "        return '16-20'\n",
    "    if x < 26:\n",
    "        return '21-25'\n",
    "    return '26-30'"
   ]
  },
  {
   "cell_type": "code",
   "execution_count": null,
   "metadata": {},
   "outputs": [],
   "source": [
    "df_fxs_count = pd.concat([classes_wrong.map(classes_count).apply(fxs).value_counts(),\n",
    "            classes_right.map(classes_count).apply(fxs).value_counts()], axis=1).reindex(\n",
    "    ['1-5','6-10','11-15','16-20','21-25','26-30'])\n",
    "df_fxs_count"
   ]
  },
  {
   "cell_type": "code",
   "execution_count": null,
   "metadata": {},
   "outputs": [],
   "source": [
    "df_fxs_count.columns = ['wrong','right']\n",
    "df_fxs_count.plot.bar()"
   ]
  },
  {
   "cell_type": "markdown",
   "metadata": {},
   "source": [
    "# LFW"
   ]
  },
  {
   "cell_type": "code",
   "execution_count": null,
   "metadata": {},
   "outputs": [],
   "source": [
    "from faces_clustering import FeatureExtractor"
   ]
  },
  {
   "cell_type": "code",
   "execution_count": null,
   "metadata": {},
   "outputs": [],
   "source": [
    "path = '/home/paulo/Documentos/0_LFW_dataset'"
   ]
  },
  {
   "cell_type": "code",
   "execution_count": null,
   "metadata": {},
   "outputs": [],
   "source": [
    "lfw = get_files_folder(path, criteria=is_image)"
   ]
  },
  {
   "cell_type": "code",
   "execution_count": null,
   "metadata": {},
   "outputs": [],
   "source": [
    "sample = random.sample(lfw, 513)"
   ]
  },
  {
   "cell_type": "code",
   "execution_count": null,
   "metadata": {},
   "outputs": [],
   "source": [
    "df_lfw = FeatureExtractor('senet50').extract(sample)\n",
    "df_lfw.head(3)"
   ]
  },
  {
   "cell_type": "code",
   "execution_count": null,
   "metadata": {},
   "outputs": [],
   "source": [
    "lfw_query = [l.tolist() for l in df_lfw.embeddings.values]"
   ]
  },
  {
   "cell_type": "code",
   "execution_count": null,
   "metadata": {},
   "outputs": [],
   "source": [
    "_, results_lfw = searcher.closest_centroids(embs_query = lfw_query)"
   ]
  },
  {
   "cell_type": "code",
   "execution_count": null,
   "metadata": {},
   "outputs": [],
   "source": [
    "df_lfw['results'] = results_lfw"
   ]
  },
  {
   "cell_type": "code",
   "execution_count": null,
   "metadata": {},
   "outputs": [],
   "source": [
    "lfw = []\n",
    "for k in range(2,11):\n",
    "    lfw_clusters = df_lfw['results'].apply(lambda x: m1(x,k)[0] if m1(x,k)[1] >= 0.5 else -1)\n",
    "    print(f\"k: {k} {np.mean(lfw_clusters==-1)}\")\n",
    "    lfw.append(np.mean(lfw_clusters==-1))"
   ]
  },
  {
   "cell_type": "code",
   "execution_count": null,
   "metadata": {},
   "outputs": [],
   "source": [
    "df_results.index.name='alpha'\n",
    "df_results['lfw assigned to no cluster'] = lfw"
   ]
  },
  {
   "cell_type": "code",
   "execution_count": null,
   "metadata": {},
   "outputs": [],
   "source": [
    "df_results.apply(lambda x: x.apply(lambda y: f\"{y*100:.4f} %\"))"
   ]
  },
  {
   "cell_type": "code",
   "execution_count": null,
   "metadata": {},
   "outputs": [],
   "source": []
  }
 ],
 "metadata": {
  "kernelspec": {
   "display_name": "Python 3",
   "language": "python",
   "name": "python3"
  },
  "language_info": {
   "codemirror_mode": {
    "name": "ipython",
    "version": 3
   },
   "file_extension": ".py",
   "mimetype": "text/x-python",
   "name": "python",
   "nbconvert_exporter": "python",
   "pygments_lexer": "ipython3",
   "version": "3.6.8"
  }
 },
 "nbformat": 4,
 "nbformat_minor": 4
}
