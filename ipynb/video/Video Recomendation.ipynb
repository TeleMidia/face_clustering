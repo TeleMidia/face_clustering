{
 "cells": [
  {
   "cell_type": "code",
   "execution_count": 1,
   "metadata": {},
   "outputs": [
    {
     "name": "stderr",
     "output_type": "stream",
     "text": [
      "Using TensorFlow backend.\n"
     ]
    }
   ],
   "source": [
    "%load_ext autoreload\n",
    "import sys\n",
    "sys.path.append('../..')\n",
    "import pandas as pd\n",
    "from tqdm.notebook import tqdm\n",
    "import matplotlib.pyplot as plt\n",
    "import numpy as np\n",
    "import os, shutil, cv2\n",
    "from faces_clustering import get_files_folder, VideoClustering, is_video"
   ]
  },
  {
   "cell_type": "code",
   "execution_count": 2,
   "metadata": {},
   "outputs": [],
   "source": [
    "videos_path = '/home/paulo/Documentos/testes/'\n",
    "video_urls = get_files_folder(videos_path, is_video)\n",
    "all_embs_path = f'{videos_path}/all_embs'\n",
    "metadata_path = f'{videos_path}/metadata'"
   ]
  },
  {
   "cell_type": "markdown",
   "metadata": {},
   "source": [
    "## Extracting Video Metadata"
   ]
  },
  {
   "cell_type": "code",
   "execution_count": null,
   "metadata": {},
   "outputs": [],
   "source": [
    "if os.path.isdir(all_embs_path):\n",
    "    shutil.rmtree(all_embs_path)\n",
    "os.mkdir(all_embs_path)\n",
    "\n",
    "if os.path.isdir(metadata_path):\n",
    "    shutil.rmtree(metadata_path)\n",
    "os.mkdir(metadata_path)"
   ]
  },
  {
   "cell_type": "code",
   "execution_count": null,
   "metadata": {},
   "outputs": [],
   "source": [
    "video_clustering = VideoClustering('senet50', 'agglomerative', verbose=1)"
   ]
  },
  {
   "cell_type": "code",
   "execution_count": null,
   "metadata": {},
   "outputs": [],
   "source": [
    "for video_url in tqdm(video_urls):\n",
    "    video_clustering.cluster(video_url,fps=0.1)    \n",
    "    video_clustering.dt_embs.to_pickle(f\"{all_embs_path}/{video_url.split('/')[-1]}_embs.pkl\")\n",
    "    video_clustering.video_metadata.to_pickle(f\"{metadata_path}/{video_url.split('/')[-1]}_meta.pkl\")"
   ]
  },
  {
   "cell_type": "markdown",
   "metadata": {},
   "source": [
    "## Super Clustering"
   ]
  },
  {
   "cell_type": "code",
   "execution_count": 3,
   "metadata": {},
   "outputs": [],
   "source": [
    "from faces_clustering import silhouette, generate_colors"
   ]
  },
  {
   "cell_type": "code",
   "execution_count": 4,
   "metadata": {},
   "outputs": [],
   "source": [
    "meta_urls = get_files_folder(metadata_path, lambda x: x.lower().endswith(('_meta.pkl')))\n",
    "dt_metas = [pd.read_pickle(meta) for meta in meta_urls]"
   ]
  },
  {
   "cell_type": "code",
   "execution_count": 5,
   "metadata": {},
   "outputs": [],
   "source": [
    "dt_all_meta = pd.concat(dt_metas, axis = 0)"
   ]
  },
  {
   "cell_type": "code",
   "execution_count": 6,
   "metadata": {},
   "outputs": [],
   "source": [
    "embs = [list(emb) for emb in dt_all_meta.embeddings.values]"
   ]
  },
  {
   "cell_type": "code",
   "execution_count": 7,
   "metadata": {},
   "outputs": [
    {
     "data": {
      "image/png": "[encoded data removed]",
      "text/plain": [
       "<Figure size 720x216 with 1 Axes>"
      ]
     },
     "metadata": {
      "needs_background": "light"
     },
     "output_type": "display_data"
    },
    {
     "name": "stdout",
     "output_type": "stream",
     "text": [
      "Best cluster number is 12\n"
     ]
    }
   ],
   "source": [
    "label_clusters = silhouette(embs,alg = 'agglomerative', verbose = 2, thresh=0.05)\n",
    "dt_all_meta['super_cluster'] = label_clusters"
   ]
  },
  {
   "cell_type": "code",
   "execution_count": 8,
   "metadata": {},
   "outputs": [],
   "source": [
    "colors = generate_colors(len(set(dt_all_meta.video)))\n",
    "video_colors = {}\n",
    "for i, video in enumerate(set(dt_all_meta.video)):\n",
    "    video_colors[video] = colors[i]\n",
    "dt_all_meta['video_color'] = dt_all_meta.video.map(video_colors)"
   ]
  },
  {
   "cell_type": "code",
   "execution_count": 9,
   "metadata": {},
   "outputs": [
    {
     "data": {
      "text/plain": [
       "Index(['embeddings', 'frames', 'total_frames', 'faces_samples', 'video',\n",
       "       'super_cluster', 'video_color'],\n",
       "      dtype='object')"
      ]
     },
     "execution_count": 9,
     "metadata": {},
     "output_type": "execute_result"
    }
   ],
   "source": [
    "dt_all_meta.columns"
   ]
  },
  {
   "cell_type": "code",
   "execution_count": 11,
   "metadata": {},
   "outputs": [
    {
     "data": {
      "text/html": [
       "<div>\n",
       "<style scoped>\n",
       "    .dataframe tbody tr th:only-of-type {\n",
       "        vertical-align: middle;\n",
       "    }\n",
       "\n",
       "    .dataframe tbody tr th {\n",
       "        vertical-align: top;\n",
       "    }\n",
       "\n",
       "    .dataframe thead th {\n",
       "        text-align: right;\n",
       "    }\n",
       "</style>\n",
       "<table border=\"1\" class=\"dataframe\">\n",
       "  <thead>\n",
       "    <tr style=\"text-align: right;\">\n",
       "      <th></th>\n",
       "      <th>embeddings</th>\n",
       "      <th>frames</th>\n",
       "      <th>total_frames</th>\n",
       "      <th>video</th>\n",
       "      <th>super_cluster</th>\n",
       "      <th>video_color</th>\n",
       "    </tr>\n",
       "    <tr>\n",
       "      <th>cluster_agglomerative</th>\n",
       "      <th></th>\n",
       "      <th></th>\n",
       "      <th></th>\n",
       "      <th></th>\n",
       "      <th></th>\n",
       "      <th></th>\n",
       "    </tr>\n",
       "  </thead>\n",
       "  <tbody>\n",
       "    <tr>\n",
       "      <th>0</th>\n",
       "      <td>[0.015555817347306471, 8.081958257235014, 0.46...</td>\n",
       "      <td>[2100, 300, 5100, 5700, 2400, 900, 4500, 1500,...</td>\n",
       "      <td>19</td>\n",
       "      <td>/home/paulo/Documentos/testes/ciro_bolso.mp4</td>\n",
       "      <td>0</td>\n",
       "      <td>[0.0, 255.0, 102.0]</td>\n",
       "    </tr>\n",
       "    <tr>\n",
       "      <th>1</th>\n",
       "      <td>[0.3533298021648079, 8.705110609531403, 0.0090...</td>\n",
       "      <td>[300, 4200, 600, 3600, 3300, 3000, 2700, 3900]</td>\n",
       "      <td>19</td>\n",
       "      <td>/home/paulo/Documentos/testes/ciro_bolso.mp4</td>\n",
       "      <td>1</td>\n",
       "      <td>[0.0, 255.0, 102.0]</td>\n",
       "    </tr>\n",
       "    <tr>\n",
       "      <th>0</th>\n",
       "      <td>[0.5974979845806956, 3.5082061752676963, 1.132...</td>\n",
       "      <td>[13680, 9360, 5760, 2160, 480, 6240, 6480, 144...</td>\n",
       "      <td>62</td>\n",
       "      <td>/home/paulo/Documentos/testes/starwars.mp4</td>\n",
       "      <td>9</td>\n",
       "      <td>[0.0, 102.0, 255.0]</td>\n",
       "    </tr>\n",
       "    <tr>\n",
       "      <th>1</th>\n",
       "      <td>[0.21184267970319423, 3.012671281894048, 2.353...</td>\n",
       "      <td>[13200, 5040, 4560, 8880, 2400, 1920, 7680, 28...</td>\n",
       "      <td>62</td>\n",
       "      <td>/home/paulo/Documentos/testes/starwars.mp4</td>\n",
       "      <td>11</td>\n",
       "      <td>[0.0, 102.0, 255.0]</td>\n",
       "    </tr>\n",
       "    <tr>\n",
       "      <th>2</th>\n",
       "      <td>[0.05581708668198969, 8.228659206912631, 0.079...</td>\n",
       "      <td>[13680, 9360, 5760, 2160, 480, 6240, 6480, 144...</td>\n",
       "      <td>62</td>\n",
       "      <td>/home/paulo/Documentos/testes/starwars.mp4</td>\n",
       "      <td>5</td>\n",
       "      <td>[0.0, 102.0, 255.0]</td>\n",
       "    </tr>\n",
       "    <tr>\n",
       "      <th>3</th>\n",
       "      <td>[0.10487441120751421, 4.873502375448451, 0.115...</td>\n",
       "      <td>[13200, 5040, 4560, 8880, 2400, 1920, 7680, 28...</td>\n",
       "      <td>62</td>\n",
       "      <td>/home/paulo/Documentos/testes/starwars.mp4</td>\n",
       "      <td>7</td>\n",
       "      <td>[0.0, 102.0, 255.0]</td>\n",
       "    </tr>\n",
       "    <tr>\n",
       "      <th>4</th>\n",
       "      <td>[1.1350668343630703, 2.6353480599143286, 0.141...</td>\n",
       "      <td>[10800, 7200, 11280, 3600, 7440, 3360, 12000, ...</td>\n",
       "      <td>62</td>\n",
       "      <td>/home/paulo/Documentos/testes/starwars.mp4</td>\n",
       "      <td>8</td>\n",
       "      <td>[0.0, 102.0, 255.0]</td>\n",
       "    </tr>\n",
       "    <tr>\n",
       "      <th>5</th>\n",
       "      <td>[0.17320501506328584, 4.574567747116089, 2.379...</td>\n",
       "      <td>[7200, 11280, 3600, 7440, 3360, 12000, 6960, 6...</td>\n",
       "      <td>62</td>\n",
       "      <td>/home/paulo/Documentos/testes/starwars.mp4</td>\n",
       "      <td>6</td>\n",
       "      <td>[0.0, 102.0, 255.0]</td>\n",
       "    </tr>\n",
       "    <tr>\n",
       "      <th>0</th>\n",
       "      <td>[0.6440529367502998, 7.32012464018429, 0.00666...</td>\n",
       "      <td>[2100, 300, 5700, 2400, 900, 1500, 600, 3600, ...</td>\n",
       "      <td>23</td>\n",
       "      <td>/home/paulo/Documentos/testes/marina_ciro.mp4</td>\n",
       "      <td>1</td>\n",
       "      <td>[255.0, 0.0, 0.0]</td>\n",
       "    </tr>\n",
       "    <tr>\n",
       "      <th>1</th>\n",
       "      <td>[0.07813709676265716, 0.771086679585278, 0.746...</td>\n",
       "      <td>[300, 5100, 4200, 900, 4500, 5400, 600, 1200, ...</td>\n",
       "      <td>23</td>\n",
       "      <td>/home/paulo/Documentos/testes/marina_ciro.mp4</td>\n",
       "      <td>3</td>\n",
       "      <td>[255.0, 0.0, 0.0]</td>\n",
       "    </tr>\n",
       "    <tr>\n",
       "      <th>0</th>\n",
       "      <td>[0.047550666738640175, 1.7908099029551854, 0.2...</td>\n",
       "      <td>[2100, 300, 900, 1500, 600, 3600, 1200, 1800, ...</td>\n",
       "      <td>13</td>\n",
       "      <td>/home/paulo/Documentos/testes/wagner_moura.mp4</td>\n",
       "      <td>10</td>\n",
       "      <td>[204.0, 0.0, 255.0]</td>\n",
       "    </tr>\n",
       "    <tr>\n",
       "      <th>1</th>\n",
       "      <td>[4.0498378450671835, 5.51022485891978, 0.01849...</td>\n",
       "      <td>[300, 2400, 1500, 600, 2700, 3900]</td>\n",
       "      <td>13</td>\n",
       "      <td>/home/paulo/Documentos/testes/wagner_moura.mp4</td>\n",
       "      <td>2</td>\n",
       "      <td>[204.0, 0.0, 255.0]</td>\n",
       "    </tr>\n",
       "    <tr>\n",
       "      <th>0</th>\n",
       "      <td>[0.0090098223539398, 0.22567502485916896, 0.04...</td>\n",
       "      <td>[2100, 300, 5700, 2400, 900, 1500, 5400, 600, ...</td>\n",
       "      <td>22</td>\n",
       "      <td>/home/paulo/Documentos/testes/bolso_daciolo.mp4</td>\n",
       "      <td>4</td>\n",
       "      <td>[204.0, 255.0, 0.0]</td>\n",
       "    </tr>\n",
       "    <tr>\n",
       "      <th>1</th>\n",
       "      <td>[0.014043213799595833, 8.96461636679513, 0.027...</td>\n",
       "      <td>[300, 5100, 4200, 4500, 600, 4800, 3900]</td>\n",
       "      <td>22</td>\n",
       "      <td>/home/paulo/Documentos/testes/bolso_daciolo.mp4</td>\n",
       "      <td>0</td>\n",
       "      <td>[204.0, 255.0, 0.0]</td>\n",
       "    </tr>\n",
       "  </tbody>\n",
       "</table>\n",
       "</div>"
      ],
      "text/plain": [
       "                                                              embeddings  \\\n",
       "cluster_agglomerative                                                      \n",
       "0                      [0.015555817347306471, 8.081958257235014, 0.46...   \n",
       "1                      [0.3533298021648079, 8.705110609531403, 0.0090...   \n",
       "0                      [0.5974979845806956, 3.5082061752676963, 1.132...   \n",
       "1                      [0.21184267970319423, 3.012671281894048, 2.353...   \n",
       "2                      [0.05581708668198969, 8.228659206912631, 0.079...   \n",
       "3                      [0.10487441120751421, 4.873502375448451, 0.115...   \n",
       "4                      [1.1350668343630703, 2.6353480599143286, 0.141...   \n",
       "5                      [0.17320501506328584, 4.574567747116089, 2.379...   \n",
       "0                      [0.6440529367502998, 7.32012464018429, 0.00666...   \n",
       "1                      [0.07813709676265716, 0.771086679585278, 0.746...   \n",
       "0                      [0.047550666738640175, 1.7908099029551854, 0.2...   \n",
       "1                      [4.0498378450671835, 5.51022485891978, 0.01849...   \n",
       "0                      [0.0090098223539398, 0.22567502485916896, 0.04...   \n",
       "1                      [0.014043213799595833, 8.96461636679513, 0.027...   \n",
       "\n",
       "                                                                  frames  \\\n",
       "cluster_agglomerative                                                      \n",
       "0                      [2100, 300, 5100, 5700, 2400, 900, 4500, 1500,...   \n",
       "1                         [300, 4200, 600, 3600, 3300, 3000, 2700, 3900]   \n",
       "0                      [13680, 9360, 5760, 2160, 480, 6240, 6480, 144...   \n",
       "1                      [13200, 5040, 4560, 8880, 2400, 1920, 7680, 28...   \n",
       "2                      [13680, 9360, 5760, 2160, 480, 6240, 6480, 144...   \n",
       "3                      [13200, 5040, 4560, 8880, 2400, 1920, 7680, 28...   \n",
       "4                      [10800, 7200, 11280, 3600, 7440, 3360, 12000, ...   \n",
       "5                      [7200, 11280, 3600, 7440, 3360, 12000, 6960, 6...   \n",
       "0                      [2100, 300, 5700, 2400, 900, 1500, 600, 3600, ...   \n",
       "1                      [300, 5100, 4200, 900, 4500, 5400, 600, 1200, ...   \n",
       "0                      [2100, 300, 900, 1500, 600, 3600, 1200, 1800, ...   \n",
       "1                                     [300, 2400, 1500, 600, 2700, 3900]   \n",
       "0                      [2100, 300, 5700, 2400, 900, 1500, 5400, 600, ...   \n",
       "1                               [300, 5100, 4200, 4500, 600, 4800, 3900]   \n",
       "\n",
       "                       total_frames  \\\n",
       "cluster_agglomerative                 \n",
       "0                                19   \n",
       "1                                19   \n",
       "0                                62   \n",
       "1                                62   \n",
       "2                                62   \n",
       "3                                62   \n",
       "4                                62   \n",
       "5                                62   \n",
       "0                                23   \n",
       "1                                23   \n",
       "0                                13   \n",
       "1                                13   \n",
       "0                                22   \n",
       "1                                22   \n",
       "\n",
       "                                                                 video  \\\n",
       "cluster_agglomerative                                                    \n",
       "0                         /home/paulo/Documentos/testes/ciro_bolso.mp4   \n",
       "1                         /home/paulo/Documentos/testes/ciro_bolso.mp4   \n",
       "0                           /home/paulo/Documentos/testes/starwars.mp4   \n",
       "1                           /home/paulo/Documentos/testes/starwars.mp4   \n",
       "2                           /home/paulo/Documentos/testes/starwars.mp4   \n",
       "3                           /home/paulo/Documentos/testes/starwars.mp4   \n",
       "4                           /home/paulo/Documentos/testes/starwars.mp4   \n",
       "5                           /home/paulo/Documentos/testes/starwars.mp4   \n",
       "0                        /home/paulo/Documentos/testes/marina_ciro.mp4   \n",
       "1                        /home/paulo/Documentos/testes/marina_ciro.mp4   \n",
       "0                       /home/paulo/Documentos/testes/wagner_moura.mp4   \n",
       "1                       /home/paulo/Documentos/testes/wagner_moura.mp4   \n",
       "0                      /home/paulo/Documentos/testes/bolso_daciolo.mp4   \n",
       "1                      /home/paulo/Documentos/testes/bolso_daciolo.mp4   \n",
       "\n",
       "                       super_cluster          video_color  \n",
       "cluster_agglomerative                                      \n",
       "0                                  0  [0.0, 255.0, 102.0]  \n",
       "1                                  1  [0.0, 255.0, 102.0]  \n",
       "0                                  9  [0.0, 102.0, 255.0]  \n",
       "1                                 11  [0.0, 102.0, 255.0]  \n",
       "2                                  5  [0.0, 102.0, 255.0]  \n",
       "3                                  7  [0.0, 102.0, 255.0]  \n",
       "4                                  8  [0.0, 102.0, 255.0]  \n",
       "5                                  6  [0.0, 102.0, 255.0]  \n",
       "0                                  1    [255.0, 0.0, 0.0]  \n",
       "1                                  3    [255.0, 0.0, 0.0]  \n",
       "0                                 10  [204.0, 0.0, 255.0]  \n",
       "1                                  2  [204.0, 0.0, 255.0]  \n",
       "0                                  4  [204.0, 255.0, 0.0]  \n",
       "1                                  0  [204.0, 255.0, 0.0]  "
      ]
     },
     "execution_count": 11,
     "metadata": {},
     "output_type": "execute_result"
    }
   ],
   "source": [
    "dt_all_meta[['embeddings', 'frames', 'total_frames', 'video','super_cluster', 'video_color']].head(20)"
   ]
  },
  {
   "cell_type": "code",
   "execution_count": 9,
   "metadata": {
    "scrolled": false
   },
   "outputs": [
    {
     "name": "stdout",
     "output_type": "stream",
     "text": [
      "Cluster  0\n"
     ]
    },
    {
     "data": {
      "image/png": "[encoded data removed]",
      "text/plain": [
       "<Figure size 864x72 with 2 Axes>"
      ]
     },
     "metadata": {
      "needs_background": "light"
     },
     "output_type": "display_data"
    },
    {
     "name": "stdout",
     "output_type": "stream",
     "text": [
      "Cluster  1\n"
     ]
    },
    {
     "data": {
      "image/png": "[encoded data removed]",
      "text/plain": [
       "<Figure size 864x72 with 2 Axes>"
      ]
     },
     "metadata": {
      "needs_background": "light"
     },
     "output_type": "display_data"
    },
    {
     "name": "stdout",
     "output_type": "stream",
     "text": [
      "Cluster  2\n"
     ]
    },
    {
     "data": {
      "image/png": "[encoded data removed]",
      "text/plain": [
       "<Figure size 864x72 with 1 Axes>"
      ]
     },
     "metadata": {
      "needs_background": "light"
     },
     "output_type": "display_data"
    },
    {
     "name": "stdout",
     "output_type": "stream",
     "text": [
      "Cluster  3\n"
     ]
    },
    {
     "data": {
      "image/png": "[encoded data removed]",
      "text/plain": [
       "<Figure size 864x72 with 1 Axes>"
      ]
     },
     "metadata": {
      "needs_background": "light"
     },
     "output_type": "display_data"
    },
    {
     "name": "stdout",
     "output_type": "stream",
     "text": [
      "Cluster  4\n"
     ]
    },
    {
     "data": {
      "image/png": "[encoded data removed]",
      "text/plain": [
       "<Figure size 864x72 with 1 Axes>"
      ]
     },
     "metadata": {
      "needs_background": "light"
     },
     "output_type": "display_data"
    },
    {
     "name": "stdout",
     "output_type": "stream",
     "text": [
      "Cluster  5\n"
     ]
    },
    {
     "data": {
      "image/png": "[encoded data removed]",
      "text/plain": [
       "<Figure size 864x72 with 1 Axes>"
      ]
     },
     "metadata": {
      "needs_background": "light"
     },
     "output_type": "display_data"
    },
    {
     "name": "stdout",
     "output_type": "stream",
     "text": [
      "Cluster  6\n"
     ]
    },
    {
     "data": {
      "image/png": "[encoded data removed]",
      "text/plain": [
       "<Figure size 864x72 with 1 Axes>"
      ]
     },
     "metadata": {
      "needs_background": "light"
     },
     "output_type": "display_data"
    },
    {
     "name": "stdout",
     "output_type": "stream",
     "text": [
      "Cluster  7\n"
     ]
    },
    {
     "data": {
      "image/png": "[encoded data removed]",
      "text/plain": [
       "<Figure size 864x72 with 1 Axes>"
      ]
     },
     "metadata": {
      "needs_background": "light"
     },
     "output_type": "display_data"
    },
    {
     "name": "stdout",
     "output_type": "stream",
     "text": [
      "Cluster  8\n"
     ]
    },
    {
     "data": {
      "image/png": "[encoded data removed]",
      "text/plain": [
       "<Figure size 864x72 with 1 Axes>"
      ]
     },
     "metadata": {
      "needs_background": "light"
     },
     "output_type": "display_data"
    },
    {
     "name": "stdout",
     "output_type": "stream",
     "text": [
      "Cluster  9\n"
     ]
    },
    {
     "data": {
      "image/png": "[encoded data removed]",
      "text/plain": [
       "<Figure size 864x72 with 1 Axes>"
      ]
     },
     "metadata": {
      "needs_background": "light"
     },
     "output_type": "display_data"
    },
    {
     "name": "stdout",
     "output_type": "stream",
     "text": [
      "Cluster  10\n"
     ]
    },
    {
     "data": {
      "image/png": "[encoded data removed]",
      "text/plain": [
       "<Figure size 864x72 with 1 Axes>"
      ]
     },
     "metadata": {
      "needs_background": "light"
     },
     "output_type": "display_data"
    },
    {
     "name": "stdout",
     "output_type": "stream",
     "text": [
      "Cluster  11\n"
     ]
    },
    {
     "data": {
      "image/png": "[encoded data removed]",
      "text/plain": [
       "<Figure size 864x72 with 1 Axes>"
      ]
     },
     "metadata": {
      "needs_background": "light"
     },
     "output_type": "display_data"
    }
   ],
   "source": [
    "for cluster in set(dt_all_meta['super_cluster']):\n",
    "    print('Cluster ', cluster)\n",
    "    dt_cluster = dt_all_meta.loc[dt_all_meta.super_cluster == cluster]\n",
    "    cols = len(dt_cluster.faces_samples)\n",
    "    fig, axes = plt.subplots(nrows=1, ncols=cols, figsize=(12, 1))\n",
    "    \n",
    "    if cols > 1:\n",
    "        [axi.set_axis_off() for axi in axes.ravel()]\n",
    "    else:\n",
    "        axes.set_axis_off()\n",
    "    for i, sample in enumerate(dt_cluster.faces_samples):\n",
    "        image = cv2.rectangle(sample.copy(), (0,0), sample.shape[0:2],\n",
    "                              dt_cluster.video_color.values[i], int(sample.shape[0]/10))\n",
    "\n",
    "        #axes[i].set_title(f'Person {i}')\n",
    "        if cols > 1:\n",
    "            axes[i].imshow(image)\n",
    "            axes[i].axis('off')\n",
    "            axes[i].set_aspect('equal')\n",
    "        else:\n",
    "            axes.imshow(image)\n",
    "            axes.axis('off')\n",
    "            axes.set_aspect('equal')\n",
    "    plt.show()"
   ]
  },
  {
   "cell_type": "code",
   "execution_count": 12,
   "metadata": {},
   "outputs": [],
   "source": [
    "dt_all_meta.reset_index(inplace = True)\n",
    "dt_all_meta.drop('cluster_agglomerative', axis=1, inplace=True)\n",
    "dt_all_meta.to_csv('meta_data_video.csv')\n",
    "dt_all_meta.to_pickle('meta_data_video.pkl')\n",
    "dt_all_meta.head()"
   ]
  },
  {
   "cell_type": "code",
   "execution_count": 19,
   "metadata": {},
   "outputs": [
    {
     "data": {
      "text/html": [
       "<div>\n",
       "<style scoped>\n",
       "    .dataframe tbody tr th:only-of-type {\n",
       "        vertical-align: middle;\n",
       "    }\n",
       "\n",
       "    .dataframe tbody tr th {\n",
       "        vertical-align: top;\n",
       "    }\n",
       "\n",
       "    .dataframe thead th {\n",
       "        text-align: right;\n",
       "    }\n",
       "</style>\n",
       "<table border=\"1\" class=\"dataframe\">\n",
       "  <thead>\n",
       "    <tr style=\"text-align: right;\">\n",
       "      <th></th>\n",
       "      <th>embeddings</th>\n",
       "      <th>frames</th>\n",
       "      <th>total_frames</th>\n",
       "      <th>faces_samples</th>\n",
       "      <th>video</th>\n",
       "      <th>super_cluster</th>\n",
       "      <th>video_color</th>\n",
       "    </tr>\n",
       "  </thead>\n",
       "  <tbody>\n",
       "    <tr>\n",
       "      <th>0</th>\n",
       "      <td>[0.015555817347306471, 8.081958257235014, 0.46...</td>\n",
       "      <td>[2100, 300, 5100, 5700, 2400, 900, 4500, 1500,...</td>\n",
       "      <td>19</td>\n",
       "      <td>[[[91, 71, 70], [91, 71, 71], [92, 72, 71], [9...</td>\n",
       "      <td>/home/paulo/Documentos/testes/ciro_bolso.mp4</td>\n",
       "      <td>0</td>\n",
       "      <td>[0.0, 255.0, 102.0]</td>\n",
       "    </tr>\n",
       "    <tr>\n",
       "      <th>1</th>\n",
       "      <td>[0.3533298021648079, 8.705110609531403, 0.0090...</td>\n",
       "      <td>[300, 4200, 600, 3600, 3300, 3000, 2700, 3900]</td>\n",
       "      <td>19</td>\n",
       "      <td>[[[78, 86, 249], [79, 87, 248], [80, 89, 246],...</td>\n",
       "      <td>/home/paulo/Documentos/testes/ciro_bolso.mp4</td>\n",
       "      <td>1</td>\n",
       "      <td>[0.0, 255.0, 102.0]</td>\n",
       "    </tr>\n",
       "    <tr>\n",
       "      <th>2</th>\n",
       "      <td>[0.5974979845806956, 3.5082061752676963, 1.132...</td>\n",
       "      <td>[13680, 9360, 5760, 2160, 480, 6240, 6480, 144...</td>\n",
       "      <td>62</td>\n",
       "      <td>[[[26, 25, 41], [27, 26, 42], [30, 29, 45], [3...</td>\n",
       "      <td>/home/paulo/Documentos/testes/starwars.mp4</td>\n",
       "      <td>9</td>\n",
       "      <td>[0.0, 102.0, 255.0]</td>\n",
       "    </tr>\n",
       "    <tr>\n",
       "      <th>3</th>\n",
       "      <td>[0.21184267970319423, 3.012671281894048, 2.353...</td>\n",
       "      <td>[13200, 5040, 4560, 8880, 2400, 1920, 7680, 28...</td>\n",
       "      <td>62</td>\n",
       "      <td>[[[243, 243, 251], [243, 243, 251], [243, 243,...</td>\n",
       "      <td>/home/paulo/Documentos/testes/starwars.mp4</td>\n",
       "      <td>11</td>\n",
       "      <td>[0.0, 102.0, 255.0]</td>\n",
       "    </tr>\n",
       "    <tr>\n",
       "      <th>4</th>\n",
       "      <td>[0.05581708668198969, 8.228659206912631, 0.079...</td>\n",
       "      <td>[13680, 9360, 5760, 2160, 480, 6240, 6480, 144...</td>\n",
       "      <td>62</td>\n",
       "      <td>[[[22, 21, 35], [21, 20, 34], [23, 22, 36], [2...</td>\n",
       "      <td>/home/paulo/Documentos/testes/starwars.mp4</td>\n",
       "      <td>5</td>\n",
       "      <td>[0.0, 102.0, 255.0]</td>\n",
       "    </tr>\n",
       "  </tbody>\n",
       "</table>\n",
       "</div>"
      ],
      "text/plain": [
       "                                          embeddings  \\\n",
       "0  [0.015555817347306471, 8.081958257235014, 0.46...   \n",
       "1  [0.3533298021648079, 8.705110609531403, 0.0090...   \n",
       "2  [0.5974979845806956, 3.5082061752676963, 1.132...   \n",
       "3  [0.21184267970319423, 3.012671281894048, 2.353...   \n",
       "4  [0.05581708668198969, 8.228659206912631, 0.079...   \n",
       "\n",
       "                                              frames  total_frames  \\\n",
       "0  [2100, 300, 5100, 5700, 2400, 900, 4500, 1500,...            19   \n",
       "1     [300, 4200, 600, 3600, 3300, 3000, 2700, 3900]            19   \n",
       "2  [13680, 9360, 5760, 2160, 480, 6240, 6480, 144...            62   \n",
       "3  [13200, 5040, 4560, 8880, 2400, 1920, 7680, 28...            62   \n",
       "4  [13680, 9360, 5760, 2160, 480, 6240, 6480, 144...            62   \n",
       "\n",
       "                                       faces_samples  \\\n",
       "0  [[[91, 71, 70], [91, 71, 71], [92, 72, 71], [9...   \n",
       "1  [[[78, 86, 249], [79, 87, 248], [80, 89, 246],...   \n",
       "2  [[[26, 25, 41], [27, 26, 42], [30, 29, 45], [3...   \n",
       "3  [[[243, 243, 251], [243, 243, 251], [243, 243,...   \n",
       "4  [[[22, 21, 35], [21, 20, 34], [23, 22, 36], [2...   \n",
       "\n",
       "                                          video  super_cluster  \\\n",
       "0  /home/paulo/Documentos/testes/ciro_bolso.mp4              0   \n",
       "1  /home/paulo/Documentos/testes/ciro_bolso.mp4              1   \n",
       "2    /home/paulo/Documentos/testes/starwars.mp4              9   \n",
       "3    /home/paulo/Documentos/testes/starwars.mp4             11   \n",
       "4    /home/paulo/Documentos/testes/starwars.mp4              5   \n",
       "\n",
       "           video_color  \n",
       "0  [0.0, 255.0, 102.0]  \n",
       "1  [0.0, 255.0, 102.0]  \n",
       "2  [0.0, 102.0, 255.0]  \n",
       "3  [0.0, 102.0, 255.0]  \n",
       "4  [0.0, 102.0, 255.0]  "
      ]
     },
     "execution_count": 19,
     "metadata": {},
     "output_type": "execute_result"
    }
   ],
   "source": [
    "pd.read_pickle('meta_data_video.pkl').head()"
   ]
  },
  {
   "cell_type": "code",
   "execution_count": null,
   "metadata": {},
   "outputs": [],
   "source": []
  }
 ],
 "metadata": {
  "kernelspec": {
   "display_name": "Python 3",
   "language": "python",
   "name": "python3"
  },
  "language_info": {
   "codemirror_mode": {
    "name": "ipython",
    "version": 3
   },
   "file_extension": ".py",
   "mimetype": "text/x-python",
   "name": "python",
   "nbconvert_exporter": "python",
   "pygments_lexer": "ipython3",
   "version": "3.6.8"
  }
 },
 "nbformat": 4,
 "nbformat_minor": 4
}
