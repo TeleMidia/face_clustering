{
 "cells": [
  {
   "cell_type": "code",
   "execution_count": 1,
   "metadata": {},
   "outputs": [],
   "source": [
    "%load_ext autoreload\n",
    "import sys\n",
    "sys.path.append('../..')"
   ]
  },
  {
   "cell_type": "code",
   "execution_count": 2,
   "metadata": {},
   "outputs": [],
   "source": [
    "import numpy as np"
   ]
  },
  {
   "cell_type": "code",
   "execution_count": 4,
   "metadata": {},
   "outputs": [],
   "source": [
    "import cv2\n",
    "import os\n",
    "import pandas as pd\n",
    "import matplotlib.pyplot as plt"
   ]
  },
  {
   "cell_type": "code",
   "execution_count": 23,
   "metadata": {},
   "outputs": [],
   "source": [
    "video_path = 'C:/Users/paulo/Documents/v69.mp4'"
   ]
  },
  {
   "cell_type": "code",
   "execution_count": 24,
   "metadata": {},
   "outputs": [
    {
     "data": {
      "text/plain": [
       "'C:/Users/paulo/Documents/v69'"
      ]
     },
     "execution_count": 24,
     "metadata": {},
     "output_type": "execute_result"
    }
   ],
   "source": [
    "dir_path = video_path.split('.')[0]\n",
    "dir_path"
   ]
  },
  {
   "cell_type": "markdown",
   "metadata": {},
   "source": [
    "# Extract Video Frames"
   ]
  },
  {
   "cell_type": "code",
   "execution_count": 25,
   "metadata": {},
   "outputs": [],
   "source": [
    "cap=cv2.VideoCapture(video_path)"
   ]
  },
  {
   "cell_type": "code",
   "execution_count": 26,
   "metadata": {},
   "outputs": [],
   "source": [
    "fps = int(round(cap.get(cv2.CAP_PROP_FPS)))"
   ]
  },
  {
   "cell_type": "code",
   "execution_count": 27,
   "metadata": {},
   "outputs": [
    {
     "data": {
      "text/plain": [
       "24"
      ]
     },
     "execution_count": 27,
     "metadata": {},
     "output_type": "execute_result"
    }
   ],
   "source": [
    "fps"
   ]
  },
  {
   "cell_type": "code",
   "execution_count": 28,
   "metadata": {},
   "outputs": [],
   "source": [
    "if os.path.isdir(dir_path):\n",
    "    os.rmdir(dir_path)\n",
    "os.mkdir(dir_path)"
   ]
  },
  {
   "cell_type": "code",
   "execution_count": 29,
   "metadata": {},
   "outputs": [],
   "source": [
    "i=1\n",
    "while(cap.isOpened()):\n",
    "    ret, frame = cap.read()\n",
    "    if ret == False:\n",
    "        break\n",
    "    if i%fps == 0:\n",
    "        cv2.imwrite(f'{dir_path}/frame_{i}.jpg',frame)\n",
    "    i+=1"
   ]
  },
  {
   "cell_type": "markdown",
   "metadata": {},
   "source": [
    "## Get urls"
   ]
  },
  {
   "cell_type": "code",
   "execution_count": 31,
   "metadata": {},
   "outputs": [],
   "source": [
    "from faces_clustering import get_files_folder, FeatureExtractor"
   ]
  },
  {
   "cell_type": "code",
   "execution_count": 32,
   "metadata": {},
   "outputs": [],
   "source": [
    "from tqdm import tqdm"
   ]
  },
  {
   "cell_type": "code",
   "execution_count": 33,
   "metadata": {},
   "outputs": [],
   "source": [
    "extractor = FeatureExtractor('senet50')"
   ]
  },
  {
   "cell_type": "code",
   "execution_count": 34,
   "metadata": {},
   "outputs": [],
   "source": [
    "frames_url = get_files_folder(dir_path)"
   ]
  },
  {
   "cell_type": "code",
   "execution_count": 35,
   "metadata": {},
   "outputs": [
    {
     "name": "stderr",
     "output_type": "stream",
     "text": [
      "100%|██████████████████████████████████████████████████████████████████████████████████| 89/89 [00:35<00:00,  2.51it/s]\n"
     ]
    }
   ],
   "source": [
    "faces_dict = {}\n",
    "for url in tqdm(frames_url):\n",
    "    faces_dict[url] = extractor.get_embeddings(url)\n"
   ]
  },
  {
   "cell_type": "code",
   "execution_count": 36,
   "metadata": {},
   "outputs": [],
   "source": [
    "all_urls = []\n",
    "all_faces = []\n",
    "all_embs = []\n",
    "all_bounds = []\n",
    "for url in frames_url:\n",
    "    embs, faces, bounds = faces_dict[url]\n",
    "    for emb, face, bound in zip(embs, faces,bounds):\n",
    "        all_urls.append(url)\n",
    "        all_faces.append(face)\n",
    "        all_embs.append(emb)\n",
    "        all_bounds.append(bound)"
   ]
  },
  {
   "cell_type": "code",
   "execution_count": 37,
   "metadata": {},
   "outputs": [],
   "source": [
    "dt_sw = pd.DataFrame(all_urls, columns=['urls'])"
   ]
  },
  {
   "cell_type": "code",
   "execution_count": 38,
   "metadata": {},
   "outputs": [],
   "source": [
    "dt_sw['embeddings'] = all_embs\n",
    "dt_sw['faces'] = all_faces\n",
    "dt_sw['bounds'] = all_bounds"
   ]
  },
  {
   "cell_type": "code",
   "execution_count": 39,
   "metadata": {},
   "outputs": [
    {
     "data": {
      "text/html": [
       "<div>\n",
       "<style scoped>\n",
       "    .dataframe tbody tr th:only-of-type {\n",
       "        vertical-align: middle;\n",
       "    }\n",
       "\n",
       "    .dataframe tbody tr th {\n",
       "        vertical-align: top;\n",
       "    }\n",
       "\n",
       "    .dataframe thead th {\n",
       "        text-align: right;\n",
       "    }\n",
       "</style>\n",
       "<table border=\"1\" class=\"dataframe\">\n",
       "  <thead>\n",
       "    <tr style=\"text-align: right;\">\n",
       "      <th></th>\n",
       "      <th>urls</th>\n",
       "      <th>embeddings</th>\n",
       "      <th>bounds</th>\n",
       "    </tr>\n",
       "  </thead>\n",
       "  <tbody>\n",
       "    <tr>\n",
       "      <th>0</th>\n",
       "      <td>C:/Users/paulo/Documents/v69\\frame_1008.jpg</td>\n",
       "      <td>[3.4898357, 2.2387981, 0.71290743, 0.00818435,...</td>\n",
       "      <td>(898, 992, 131, 262)</td>\n",
       "    </tr>\n",
       "    <tr>\n",
       "      <th>1</th>\n",
       "      <td>C:/Users/paulo/Documents/v69\\frame_1008.jpg</td>\n",
       "      <td>[0.013686, 4.95524, 2.9266288, 0.004564626, 0....</td>\n",
       "      <td>(312, 417, 197, 332)</td>\n",
       "    </tr>\n",
       "    <tr>\n",
       "      <th>2</th>\n",
       "      <td>C:/Users/paulo/Documents/v69\\frame_1032.jpg</td>\n",
       "      <td>[0.025361545, 0.007371183, 4.766547, 0.0023967...</td>\n",
       "      <td>(262, 361, 176, 296)</td>\n",
       "    </tr>\n",
       "    <tr>\n",
       "      <th>3</th>\n",
       "      <td>C:/Users/paulo/Documents/v69\\frame_1032.jpg</td>\n",
       "      <td>[3.11663, 0.027684601, 0.4677835, 2.7235114e-0...</td>\n",
       "      <td>(982, 1077, 119, 232)</td>\n",
       "    </tr>\n",
       "    <tr>\n",
       "      <th>4</th>\n",
       "      <td>C:/Users/paulo/Documents/v69\\frame_1056.jpg</td>\n",
       "      <td>[0.03611337, 1.0522382, 2.787628, 0.008706894,...</td>\n",
       "      <td>(285, 388, 194, 340)</td>\n",
       "    </tr>\n",
       "  </tbody>\n",
       "</table>\n",
       "</div>"
      ],
      "text/plain": [
       "                                          urls  \\\n",
       "0  C:/Users/paulo/Documents/v69\\frame_1008.jpg   \n",
       "1  C:/Users/paulo/Documents/v69\\frame_1008.jpg   \n",
       "2  C:/Users/paulo/Documents/v69\\frame_1032.jpg   \n",
       "3  C:/Users/paulo/Documents/v69\\frame_1032.jpg   \n",
       "4  C:/Users/paulo/Documents/v69\\frame_1056.jpg   \n",
       "\n",
       "                                          embeddings                 bounds  \n",
       "0  [3.4898357, 2.2387981, 0.71290743, 0.00818435,...   (898, 992, 131, 262)  \n",
       "1  [0.013686, 4.95524, 2.9266288, 0.004564626, 0....   (312, 417, 197, 332)  \n",
       "2  [0.025361545, 0.007371183, 4.766547, 0.0023967...   (262, 361, 176, 296)  \n",
       "3  [3.11663, 0.027684601, 0.4677835, 2.7235114e-0...  (982, 1077, 119, 232)  \n",
       "4  [0.03611337, 1.0522382, 2.787628, 0.008706894,...   (285, 388, 194, 340)  "
      ]
     },
     "execution_count": 39,
     "metadata": {},
     "output_type": "execute_result"
    }
   ],
   "source": [
    "dt_sw[['urls','embeddings','bounds']].head()"
   ]
  },
  {
   "cell_type": "code",
   "execution_count": 40,
   "metadata": {},
   "outputs": [],
   "source": [
    "dt_sw.to_pickle(f'{video_path}.pkl')"
   ]
  },
  {
   "cell_type": "markdown",
   "metadata": {},
   "source": [
    "# Clustering"
   ]
  },
  {
   "cell_type": "code",
   "execution_count": 42,
   "metadata": {},
   "outputs": [],
   "source": [
    "from faces_clustering import silhouette"
   ]
  },
  {
   "cell_type": "code",
   "execution_count": 43,
   "metadata": {},
   "outputs": [
    {
     "data": {
      "text/plain": [
       "(161, 4)"
      ]
     },
     "execution_count": 43,
     "metadata": {},
     "output_type": "execute_result"
    }
   ],
   "source": [
    "dt_sw = pd.read_pickle(f'{video_path}.pkl')\n",
    "dt_sw.shape"
   ]
  },
  {
   "cell_type": "code",
   "execution_count": 44,
   "metadata": {},
   "outputs": [],
   "source": [
    "valid = dt_sw.embeddings.apply(lambda x: str(x) != '-')\n",
    "dt_sw = dt_sw.loc[valid]"
   ]
  },
  {
   "cell_type": "code",
   "execution_count": 45,
   "metadata": {},
   "outputs": [
    {
     "data": {
      "text/plain": [
       "(158, 4)"
      ]
     },
     "execution_count": 45,
     "metadata": {},
     "output_type": "execute_result"
    }
   ],
   "source": [
    "dt_sw.shape"
   ]
  },
  {
   "cell_type": "code",
   "execution_count": 46,
   "metadata": {},
   "outputs": [],
   "source": [
    "embs = [list(emb) for emb in dt_sw.embeddings.values]\n"
   ]
  },
  {
   "cell_type": "code",
   "execution_count": 47,
   "metadata": {},
   "outputs": [],
   "source": [
    "clusters_silhouette = silhouette(embs,alg = \"agglomerative\")"
   ]
  },
  {
   "cell_type": "code",
   "execution_count": 48,
   "metadata": {},
   "outputs": [
    {
     "data": {
      "text/html": [
       "<div>\n",
       "<style scoped>\n",
       "    .dataframe tbody tr th:only-of-type {\n",
       "        vertical-align: middle;\n",
       "    }\n",
       "\n",
       "    .dataframe tbody tr th {\n",
       "        vertical-align: top;\n",
       "    }\n",
       "\n",
       "    .dataframe thead th {\n",
       "        text-align: right;\n",
       "    }\n",
       "</style>\n",
       "<table border=\"1\" class=\"dataframe\">\n",
       "  <thead>\n",
       "    <tr style=\"text-align: right;\">\n",
       "      <th></th>\n",
       "      <th>urls</th>\n",
       "      <th>embeddings</th>\n",
       "    </tr>\n",
       "  </thead>\n",
       "  <tbody>\n",
       "    <tr>\n",
       "      <th>0</th>\n",
       "      <td>C:/Users/paulo/Documents/v69\\frame_1008.jpg</td>\n",
       "      <td>[3.4898357, 2.2387981, 0.71290743, 0.00818435,...</td>\n",
       "    </tr>\n",
       "    <tr>\n",
       "      <th>1</th>\n",
       "      <td>C:/Users/paulo/Documents/v69\\frame_1008.jpg</td>\n",
       "      <td>[0.013686, 4.95524, 2.9266288, 0.004564626, 0....</td>\n",
       "    </tr>\n",
       "    <tr>\n",
       "      <th>2</th>\n",
       "      <td>C:/Users/paulo/Documents/v69\\frame_1032.jpg</td>\n",
       "      <td>[0.025361545, 0.007371183, 4.766547, 0.0023967...</td>\n",
       "    </tr>\n",
       "    <tr>\n",
       "      <th>3</th>\n",
       "      <td>C:/Users/paulo/Documents/v69\\frame_1032.jpg</td>\n",
       "      <td>[3.11663, 0.027684601, 0.4677835, 2.7235114e-0...</td>\n",
       "    </tr>\n",
       "    <tr>\n",
       "      <th>4</th>\n",
       "      <td>C:/Users/paulo/Documents/v69\\frame_1056.jpg</td>\n",
       "      <td>[0.03611337, 1.0522382, 2.787628, 0.008706894,...</td>\n",
       "    </tr>\n",
       "  </tbody>\n",
       "</table>\n",
       "</div>"
      ],
      "text/plain": [
       "                                          urls  \\\n",
       "0  C:/Users/paulo/Documents/v69\\frame_1008.jpg   \n",
       "1  C:/Users/paulo/Documents/v69\\frame_1008.jpg   \n",
       "2  C:/Users/paulo/Documents/v69\\frame_1032.jpg   \n",
       "3  C:/Users/paulo/Documents/v69\\frame_1032.jpg   \n",
       "4  C:/Users/paulo/Documents/v69\\frame_1056.jpg   \n",
       "\n",
       "                                          embeddings  \n",
       "0  [3.4898357, 2.2387981, 0.71290743, 0.00818435,...  \n",
       "1  [0.013686, 4.95524, 2.9266288, 0.004564626, 0....  \n",
       "2  [0.025361545, 0.007371183, 4.766547, 0.0023967...  \n",
       "3  [3.11663, 0.027684601, 0.4677835, 2.7235114e-0...  \n",
       "4  [0.03611337, 1.0522382, 2.787628, 0.008706894,...  "
      ]
     },
     "execution_count": 48,
     "metadata": {},
     "output_type": "execute_result"
    }
   ],
   "source": [
    "dt_sw[['urls','embeddings']].head()"
   ]
  },
  {
   "cell_type": "code",
   "execution_count": 49,
   "metadata": {},
   "outputs": [],
   "source": [
    "alg = 'agglomerative'"
   ]
  },
  {
   "cell_type": "code",
   "execution_count": 50,
   "metadata": {},
   "outputs": [],
   "source": [
    "#clusterer = Clusterer(n_clusters = 2, face_embeddings = dt_sw,algs=[alg])"
   ]
  },
  {
   "cell_type": "code",
   "execution_count": 51,
   "metadata": {},
   "outputs": [],
   "source": [
    "#clusters, _ = clusterer.clusterize()"
   ]
  },
  {
   "cell_type": "code",
   "execution_count": 52,
   "metadata": {},
   "outputs": [
    {
     "data": {
      "text/html": [
       "<div>\n",
       "<style scoped>\n",
       "    .dataframe tbody tr th:only-of-type {\n",
       "        vertical-align: middle;\n",
       "    }\n",
       "\n",
       "    .dataframe tbody tr th {\n",
       "        vertical-align: top;\n",
       "    }\n",
       "\n",
       "    .dataframe thead th {\n",
       "        text-align: right;\n",
       "    }\n",
       "</style>\n",
       "<table border=\"1\" class=\"dataframe\">\n",
       "  <thead>\n",
       "    <tr style=\"text-align: right;\">\n",
       "      <th></th>\n",
       "      <th>urls</th>\n",
       "      <th>embeddings</th>\n",
       "      <th>cluster_agglomerative</th>\n",
       "    </tr>\n",
       "  </thead>\n",
       "  <tbody>\n",
       "    <tr>\n",
       "      <th>0</th>\n",
       "      <td>C:/Users/paulo/Documents/v69\\frame_1008.jpg</td>\n",
       "      <td>[3.4898357, 2.2387981, 0.71290743, 0.00818435,...</td>\n",
       "      <td>0</td>\n",
       "    </tr>\n",
       "    <tr>\n",
       "      <th>1</th>\n",
       "      <td>C:/Users/paulo/Documents/v69\\frame_1008.jpg</td>\n",
       "      <td>[0.013686, 4.95524, 2.9266288, 0.004564626, 0....</td>\n",
       "      <td>1</td>\n",
       "    </tr>\n",
       "    <tr>\n",
       "      <th>2</th>\n",
       "      <td>C:/Users/paulo/Documents/v69\\frame_1032.jpg</td>\n",
       "      <td>[0.025361545, 0.007371183, 4.766547, 0.0023967...</td>\n",
       "      <td>1</td>\n",
       "    </tr>\n",
       "    <tr>\n",
       "      <th>3</th>\n",
       "      <td>C:/Users/paulo/Documents/v69\\frame_1032.jpg</td>\n",
       "      <td>[3.11663, 0.027684601, 0.4677835, 2.7235114e-0...</td>\n",
       "      <td>0</td>\n",
       "    </tr>\n",
       "    <tr>\n",
       "      <th>4</th>\n",
       "      <td>C:/Users/paulo/Documents/v69\\frame_1056.jpg</td>\n",
       "      <td>[0.03611337, 1.0522382, 2.787628, 0.008706894,...</td>\n",
       "      <td>1</td>\n",
       "    </tr>\n",
       "  </tbody>\n",
       "</table>\n",
       "</div>"
      ],
      "text/plain": [
       "                                          urls  \\\n",
       "0  C:/Users/paulo/Documents/v69\\frame_1008.jpg   \n",
       "1  C:/Users/paulo/Documents/v69\\frame_1008.jpg   \n",
       "2  C:/Users/paulo/Documents/v69\\frame_1032.jpg   \n",
       "3  C:/Users/paulo/Documents/v69\\frame_1032.jpg   \n",
       "4  C:/Users/paulo/Documents/v69\\frame_1056.jpg   \n",
       "\n",
       "                                          embeddings  cluster_agglomerative  \n",
       "0  [3.4898357, 2.2387981, 0.71290743, 0.00818435,...                      0  \n",
       "1  [0.013686, 4.95524, 2.9266288, 0.004564626, 0....                      1  \n",
       "2  [0.025361545, 0.007371183, 4.766547, 0.0023967...                      1  \n",
       "3  [3.11663, 0.027684601, 0.4677835, 2.7235114e-0...                      0  \n",
       "4  [0.03611337, 1.0522382, 2.787628, 0.008706894,...                      1  "
      ]
     },
     "execution_count": 52,
     "metadata": {},
     "output_type": "execute_result"
    }
   ],
   "source": [
    "#clusters.head()\n",
    "\n",
    "clusters = dt_sw.copy()\n",
    "clusters[f'cluster_{alg}'] = clusters_silhouette\n",
    "clusters[['urls','embeddings',f\"cluster_{alg}\"]].head()"
   ]
  },
  {
   "cell_type": "code",
   "execution_count": 53,
   "metadata": {},
   "outputs": [],
   "source": [
    "faces_samples = clusters[[f'cluster_{alg}','faces']].sort_values(\n",
    "    f'cluster_{alg}').groupby(f'cluster_{alg}').head(1).faces.values"
   ]
  },
  {
   "cell_type": "code",
   "execution_count": 54,
   "metadata": {},
   "outputs": [
    {
     "data": {
      "image/png": "[encoded data removed]",
      "text/plain": [
       "<Figure size 864x72 with 8 Axes>"
      ]
     },
     "metadata": {
      "needs_background": "light"
     },
     "output_type": "display_data"
    }
   ],
   "source": [
    "colors = list(np.random.random(size=(len(faces_samples),3)) * 256)\n",
    "def show_people_video():\n",
    "    fig, axes = plt.subplots(nrows=1, ncols=max(len(faces_samples),8), figsize=(12, 1))\n",
    "    #fig.tight_layout()\n",
    "    #fig.subplots_adjust(hspace=0, wspace=0)\n",
    "    i = 0\n",
    "    [axi.set_axis_off() for axi in axes.ravel()]\n",
    "    for sample in faces_samples:\n",
    "        #axes.figure(figsize=(2,3))\n",
    "        image = cv2.rectangle(sample, (0,0), sample.shape[0:2], colors[i], int(sample.shape[0]/10))\n",
    "\n",
    "        axes[i].set_title(f'Person {i}')\n",
    "        axes[i].imshow(image)\n",
    "        axes[i].axis('off')\n",
    "        axes[i].set_aspect('equal')\n",
    "        i = i+1\n",
    "\n",
    "show_people_video()\n"
   ]
  },
  {
   "cell_type": "markdown",
   "metadata": {},
   "source": [
    "# Clusters by frame"
   ]
  },
  {
   "cell_type": "code",
   "execution_count": 55,
   "metadata": {},
   "outputs": [],
   "source": [
    "clusters_urls = clusters[[f'cluster_{alg}','urls','bounds']]"
   ]
  },
  {
   "cell_type": "code",
   "execution_count": 56,
   "metadata": {},
   "outputs": [],
   "source": [
    "frames = clusters_urls.urls.apply(lambda x: int(x.split('.')[0].split('/')[-1].split('_')[-1]))"
   ]
  },
  {
   "cell_type": "code",
   "execution_count": 57,
   "metadata": {},
   "outputs": [],
   "source": [
    "clusters_frames = clusters_urls[[f'cluster_{alg}', 'bounds']]"
   ]
  },
  {
   "cell_type": "code",
   "execution_count": 58,
   "metadata": {},
   "outputs": [],
   "source": [
    "clusters_frames['frames'] = frames"
   ]
  },
  {
   "cell_type": "code",
   "execution_count": 59,
   "metadata": {},
   "outputs": [],
   "source": [
    "cluster_by_frames = clusters_frames.groupby('frames')[f'cluster_{alg}'].apply(list)"
   ]
  },
  {
   "cell_type": "code",
   "execution_count": 60,
   "metadata": {},
   "outputs": [],
   "source": [
    "bounds_by_frames = clusters_frames.groupby('frames')['bounds'].apply(list)"
   ]
  },
  {
   "cell_type": "code",
   "execution_count": 61,
   "metadata": {},
   "outputs": [],
   "source": [
    "#cluster_by_frames = cluster_by_frames.apply(np.sort)"
   ]
  },
  {
   "cell_type": "code",
   "execution_count": 62,
   "metadata": {},
   "outputs": [],
   "source": [
    "cluster_by_frames = pd.DataFrame(cluster_by_frames)\n",
    "cluster_by_frames['bounds'] = bounds_by_frames"
   ]
  },
  {
   "cell_type": "code",
   "execution_count": 63,
   "metadata": {},
   "outputs": [],
   "source": [
    "#adding frames without faces\n",
    "\n",
    "dt_original = pd.read_pickle(f'{video_path}.pkl')\n",
    "all_frames = set(dt_original.urls.apply(lambda x: int(x.split('.')[0].split('/')[-1].split('_')[-1])).values)\n",
    "\n",
    "for f in all_frames:\n",
    "    if f not in cluster_by_frames.index.values:\n",
    "        cluster_by_frames.loc[f] = [[],[]]\n",
    "cluster_by_frames = cluster_by_frames.sort_index()"
   ]
  },
  {
   "cell_type": "code",
   "execution_count": 64,
   "metadata": {},
   "outputs": [
    {
     "data": {
      "text/plain": [
       "(89, 2)"
      ]
     },
     "execution_count": 64,
     "metadata": {},
     "output_type": "execute_result"
    }
   ],
   "source": [
    "cluster_by_frames.shape"
   ]
  },
  {
   "cell_type": "markdown",
   "metadata": {},
   "source": [
    "# Display Timeline"
   ]
  },
  {
   "cell_type": "code",
   "execution_count": 65,
   "metadata": {},
   "outputs": [],
   "source": [
    "import matplotlib.gridspec as gridspec\n",
    "from tqdm import tqdm"
   ]
  },
  {
   "cell_type": "code",
   "execution_count": 66,
   "metadata": {},
   "outputs": [],
   "source": [
    "def draw_lines(frame, clusters, bounds, lines = True):\n",
    "    thumb = f'{dir_path}/frame_{frame}.jpg'\n",
    "    img = cv2.imread(thumb)\n",
    "    test = img[:,:,::-1].copy()\n",
    "    for c,b in zip(clusters, bounds):\n",
    "        \n",
    "        if lines:\n",
    "            line_thickness = int((img.shape[0]/3)/len(faces_samples))\n",
    "\n",
    "            test = cv2.line(test, (0,test.shape[0]-line_thickness*(c+1)), \n",
    "                     (img.shape[1]-1,test.shape[0]-line_thickness*(c+1)), colors[c], thickness=line_thickness)\n",
    "        else:\n",
    "            start_point = (b[0],b[2])\n",
    "            end_point = (b[1],b[3])\n",
    "            \n",
    "            test = cv2.rectangle(test, start_point, end_point, colors[c], int(img.shape[0]/50))\n",
    "\n",
    "    return test"
   ]
  },
  {
   "cell_type": "code",
   "execution_count": 67,
   "metadata": {},
   "outputs": [],
   "source": [
    "tag_path = dir_path+'_tagged'\n",
    "\n",
    "if os.path.isdir(tag_path):\n",
    "    os.rmdir(tag_path)\n",
    "os.mkdir(tag_path)"
   ]
  },
  {
   "cell_type": "code",
   "execution_count": 68,
   "metadata": {
    "scrolled": true
   },
   "outputs": [
    {
     "name": "stderr",
     "output_type": "stream",
     "text": [
      "100%|██████████████████████████████████████████████████████████████████████████████████| 89/89 [00:03<00:00, 25.18it/s]\n"
     ]
    },
    {
     "data": {
      "image/png": "[encoded data removed]",
      "text/plain": [
       "<Figure size 864x72 with 8 Axes>"
      ]
     },
     "metadata": {
      "needs_background": "light"
     },
     "output_type": "display_data"
    },
    {
     "data": {
      "text/plain": [
       "<Figure size 1080x972 with 0 Axes>"
      ]
     },
     "metadata": {},
     "output_type": "display_data"
    }
   ],
   "source": [
    "row_number = int(np.ceil(cluster_by_frames.shape[0]/10))\n",
    "\n",
    "show_people_video()\n",
    "\n",
    "plt.figure(figsize = (15,row_number*1.5))\n",
    "gs1 = gridspec.GridSpec(row_number, 10)\n",
    "gs1.update(wspace=0, hspace=0) # set the spacing between axes. \n",
    "i = 0\n",
    "for frame in tqdm(cluster_by_frames.index.values):\n",
    "    thumb = draw_lines(frame, cluster_by_frames.loc[frame][0], cluster_by_frames.loc[frame][1], lines=False)\n",
    "    tag_path\n",
    "    \n",
    "    cv2.imwrite(f'{tag_path}/frame_{frame}.jpg',thumb[:,:,::-1])\n",
    "    #ax1 = plt.subplot(gs1[i])  \n",
    "    #plt.subplots_adjust(hspace=0, wspace=0)\n",
    "    #ax1.imshow(thumb)\n",
    "    #ax1.axis('off')\n",
    "    #ax1.set_aspect('equal')\n",
    "    \n",
    "    i = i + 1"
   ]
  },
  {
   "cell_type": "markdown",
   "metadata": {},
   "source": [
    "## Cluster Matching"
   ]
  },
  {
   "cell_type": "code",
   "execution_count": 48,
   "metadata": {},
   "outputs": [
    {
     "data": {
      "text/html": [
       "<div>\n",
       "<style scoped>\n",
       "    .dataframe tbody tr th:only-of-type {\n",
       "        vertical-align: middle;\n",
       "    }\n",
       "\n",
       "    .dataframe tbody tr th {\n",
       "        vertical-align: top;\n",
       "    }\n",
       "\n",
       "    .dataframe thead th {\n",
       "        text-align: right;\n",
       "    }\n",
       "</style>\n",
       "<table border=\"1\" class=\"dataframe\">\n",
       "  <thead>\n",
       "    <tr style=\"text-align: right;\">\n",
       "      <th></th>\n",
       "      <th>0</th>\n",
       "      <th>1</th>\n",
       "      <th>2</th>\n",
       "      <th>3</th>\n",
       "      <th>4</th>\n",
       "      <th>5</th>\n",
       "      <th>6</th>\n",
       "      <th>7</th>\n",
       "      <th>8</th>\n",
       "      <th>9</th>\n",
       "      <th>...</th>\n",
       "      <th>2038</th>\n",
       "      <th>2039</th>\n",
       "      <th>2040</th>\n",
       "      <th>2041</th>\n",
       "      <th>2042</th>\n",
       "      <th>2043</th>\n",
       "      <th>2044</th>\n",
       "      <th>2045</th>\n",
       "      <th>2046</th>\n",
       "      <th>2047</th>\n",
       "    </tr>\n",
       "    <tr>\n",
       "      <th>cluster_agglomerative</th>\n",
       "      <th></th>\n",
       "      <th></th>\n",
       "      <th></th>\n",
       "      <th></th>\n",
       "      <th></th>\n",
       "      <th></th>\n",
       "      <th></th>\n",
       "      <th></th>\n",
       "      <th></th>\n",
       "      <th></th>\n",
       "      <th></th>\n",
       "      <th></th>\n",
       "      <th></th>\n",
       "      <th></th>\n",
       "      <th></th>\n",
       "      <th></th>\n",
       "      <th></th>\n",
       "      <th></th>\n",
       "      <th></th>\n",
       "      <th></th>\n",
       "      <th></th>\n",
       "    </tr>\n",
       "  </thead>\n",
       "  <tbody>\n",
       "    <tr>\n",
       "      <th>0</th>\n",
       "      <td>8.458855</td>\n",
       "      <td>1.020465</td>\n",
       "      <td>0.066367</td>\n",
       "      <td>0.031085</td>\n",
       "      <td>0.049347</td>\n",
       "      <td>0.668078</td>\n",
       "      <td>7.530588</td>\n",
       "      <td>0.010912</td>\n",
       "      <td>0.238646</td>\n",
       "      <td>0.009971</td>\n",
       "      <td>...</td>\n",
       "      <td>1.784082</td>\n",
       "      <td>0.055116</td>\n",
       "      <td>2.159545</td>\n",
       "      <td>0.364120</td>\n",
       "      <td>3.552542</td>\n",
       "      <td>2.208135</td>\n",
       "      <td>0.006788</td>\n",
       "      <td>2.965242</td>\n",
       "      <td>3.532124</td>\n",
       "      <td>5.174860</td>\n",
       "    </tr>\n",
       "    <tr>\n",
       "      <th>1</th>\n",
       "      <td>0.039382</td>\n",
       "      <td>0.006489</td>\n",
       "      <td>0.671247</td>\n",
       "      <td>1.094962</td>\n",
       "      <td>0.586401</td>\n",
       "      <td>0.486517</td>\n",
       "      <td>0.230514</td>\n",
       "      <td>0.762318</td>\n",
       "      <td>0.386214</td>\n",
       "      <td>0.895420</td>\n",
       "      <td>...</td>\n",
       "      <td>0.058938</td>\n",
       "      <td>0.037195</td>\n",
       "      <td>6.512974</td>\n",
       "      <td>0.006241</td>\n",
       "      <td>0.069794</td>\n",
       "      <td>3.348341</td>\n",
       "      <td>0.018757</td>\n",
       "      <td>0.310255</td>\n",
       "      <td>12.249279</td>\n",
       "      <td>0.033762</td>\n",
       "    </tr>\n",
       "  </tbody>\n",
       "</table>\n",
       "<p>2 rows × 2048 columns</p>\n",
       "</div>"
      ],
      "text/plain": [
       "                           0         1         2         3         4     \\\n",
       "cluster_agglomerative                                                     \n",
       "0                      8.458855  1.020465  0.066367  0.031085  0.049347   \n",
       "1                      0.039382  0.006489  0.671247  1.094962  0.586401   \n",
       "\n",
       "                           5         6         7         8         9     ...  \\\n",
       "cluster_agglomerative                                                    ...   \n",
       "0                      0.668078  7.530588  0.010912  0.238646  0.009971  ...   \n",
       "1                      0.486517  0.230514  0.762318  0.386214  0.895420  ...   \n",
       "\n",
       "                           2038      2039      2040      2041      2042  \\\n",
       "cluster_agglomerative                                                     \n",
       "0                      1.784082  0.055116  2.159545  0.364120  3.552542   \n",
       "1                      0.058938  0.037195  6.512974  0.006241  0.069794   \n",
       "\n",
       "                           2043      2044      2045       2046      2047  \n",
       "cluster_agglomerative                                                     \n",
       "0                      2.208135  0.006788  2.965242   3.532124  5.174860  \n",
       "1                      3.348341  0.018757  0.310255  12.249279  0.033762  \n",
       "\n",
       "[2 rows x 2048 columns]"
      ]
     },
     "execution_count": 48,
     "metadata": {},
     "output_type": "execute_result"
    }
   ],
   "source": [
    "classes_col = f'cluster_{alg}'\n",
    "\n",
    "cluster_embeddings = pd.DataFrame(clusters['embeddings'].values.tolist(),index=clusters.index)\n",
    "cluster_embeddings[classes_col] = clusters[classes_col]\n",
    "centroids = cluster_embeddings.groupby([classes_col]).mean()\n",
    "\n",
    "centroids"
   ]
  },
  {
   "cell_type": "code",
   "execution_count": 49,
   "metadata": {},
   "outputs": [],
   "source": [
    "from faces_clustering import FaceSearcher\n",
    "\n",
    "df_embs = pd.read_pickle('../../data/clusters_train_leg55.pkl').loc['senet50']\n",
    "df_embs.urls = df_embs.urls.apply(lambda x: x\n",
    "                                  .replace('C:/Users/paulo/Documents/FacesProject', '/home/paulo/Documentos')\n",
    "                                  .replace('\\\\','/'))\n",
    "df_embs.head()\n",
    "\n",
    "\n",
    "searcher = FaceSearcher(face_embs = df_embs, classes_col = classes_col)"
   ]
  },
  {
   "cell_type": "code",
   "execution_count": 50,
   "metadata": {},
   "outputs": [],
   "source": [
    "_, results = searcher.closest_centroids(embs_query = centroids.values)"
   ]
  },
  {
   "cell_type": "code",
   "execution_count": 51,
   "metadata": {},
   "outputs": [],
   "source": [
    "softmax = lambda x: np.exp(x)/sum(np.exp(x))\n",
    "def m1(x, k):\n",
    "    m1 = softmax((1/x).nlargest(k)).head(1)\n",
    "    return (m1.index.values[0],m1.values[0])"
   ]
  },
  {
   "cell_type": "code",
   "execution_count": 52,
   "metadata": {},
   "outputs": [],
   "source": [
    "assign_cluster = lambda x: m1(x,k=5)[0] if m1(x,k=5)[1] >= 0.5 else -1"
   ]
  },
  {
   "cell_type": "code",
   "execution_count": 53,
   "metadata": {},
   "outputs": [
    {
     "name": "stdout",
     "output_type": "stream",
     "text": [
      "Person 0 is:\n"
     ]
    },
    {
     "data": {
      "image/png": "[encoded data removed]",
      "text/plain": [
       "<Figure size 432x72 with 5 Axes>"
      ]
     },
     "metadata": {
      "needs_background": "light"
     },
     "output_type": "display_data"
    },
    {
     "name": "stdout",
     "output_type": "stream",
     "text": [
      "Person 1 is:\n",
      "Nobody\n"
     ]
    },
    {
     "data": {
      "image/png": "[encoded data removed]",
      "text/plain": [
       "<Figure size 864x72 with 8 Axes>"
      ]
     },
     "metadata": {
      "needs_background": "light"
     },
     "output_type": "display_data"
    }
   ],
   "source": [
    "max_samples = 5\n",
    "\n",
    "for i, result in enumerate(results):    \n",
    "    assigned_cluster = assign_cluster(result)\n",
    "    print(f\"Person {i} is:\")\n",
    "    if assigned_cluster != -1:\n",
    "        fig, axes = plt.subplots(nrows=1, ncols=max_samples, figsize=(6, 1))\n",
    "        urls = df_embs.loc[df_embs.cluster_agglomerative == assigned_cluster].head(max_samples).urls\n",
    "        #urls = df_embs.loc[df_embs.cluster_agglomerative == 324].head(max_samples).urls\n",
    "        [axi.set_axis_off() for axi in axes.ravel()]\n",
    "        for j, url in enumerate(urls):\n",
    "            axes[j].imshow(cv2.imread(url)[:,:,::-1])\n",
    "            #axes[i].axis('off')\n",
    "        #plt.title = f\"Person {i}\"\n",
    "        \n",
    "        plt.show()\n",
    "    else:\n",
    "        print(\"Nobody\")\n",
    "show_people_video()"
   ]
  },
  {
   "cell_type": "code",
   "execution_count": 54,
   "metadata": {},
   "outputs": [
    {
     "data": {
      "text/plain": [
       "cluster_agglomerative\n",
       "216    0.998138\n",
       "498    0.001326\n",
       "141    0.000190\n",
       "344    0.000176\n",
       "22     0.000171\n",
       "dtype: float64"
      ]
     },
     "execution_count": 54,
     "metadata": {},
     "output_type": "execute_result"
    }
   ],
   "source": [
    "def m1_todos(x, k):\n",
    "    m1 = softmax((1/x).nlargest(k))\n",
    "    return m1\n",
    "m1_todos(results[0],5)"
   ]
  },
  {
   "cell_type": "raw",
   "metadata": {},
   "source": [
    "faces = dt_sw.loc[dt_sw.urls=='/home/paulo/Vídeos/russomano/frame_3840.jpg'].faces\n",
    "fig, axes = plt.subplots(nrows=1, ncols=len(faces), figsize=(len(faces), 1))\n",
    "\n",
    "for i, face in enumerate(faces):\n",
    "    axes[i].imshow(face)\n",
    "    axes[i].axis('off')"
   ]
  },
  {
   "cell_type": "code",
   "execution_count": null,
   "metadata": {},
   "outputs": [],
   "source": []
  }
 ],
 "metadata": {
  "kernelspec": {
   "display_name": "Python 3",
   "language": "python",
   "name": "python3"
  },
  "language_info": {
   "codemirror_mode": {
    "name": "ipython",
    "version": 3
   },
   "file_extension": ".py",
   "mimetype": "text/x-python",
   "name": "python",
   "nbconvert_exporter": "python",
   "pygments_lexer": "ipython3",
   "version": "3.8.3"
  }
 },
 "nbformat": 4,
 "nbformat_minor": 4
}
