{
 "cells": [
  {
   "cell_type": "markdown",
   "metadata": {},
   "source": [
    "# General Info"
   ]
  },
  {
   "cell_type": "markdown",
   "metadata": {},
   "source": [
    "dataset: LFW-People (https://www.kaggle.com/atulanandjha/lfwpeople/data)\n",
    "\n",
    "VGGFace2\n",
    "(https://machinelearningmastery.com/how-to-perform-face-recognition-with-vggface2-convolutional-neural-network-in-keras/)"
   ]
  },
  {
   "cell_type": "code",
   "execution_count": 2,
   "metadata": {},
   "outputs": [],
   "source": [
    "import os\n",
    "import pandas as pd\n",
    "import numpy as np\n",
    "import cv2"
   ]
  },
  {
   "cell_type": "code",
   "execution_count": 3,
   "metadata": {},
   "outputs": [],
   "source": [
    "_, dirs,_ = next(os.walk(\"./dataset\"))"
   ]
  },
  {
   "cell_type": "code",
   "execution_count": 4,
   "metadata": {},
   "outputs": [],
   "source": [
    "folders = pd.DataFrame(dirs)"
   ]
  },
  {
   "cell_type": "code",
   "execution_count": 5,
   "metadata": {},
   "outputs": [],
   "source": [
    "folders.columns = [\"name\"]"
   ]
  },
  {
   "cell_type": "code",
   "execution_count": 6,
   "metadata": {},
   "outputs": [
    {
     "data": {
      "text/html": [
       "<div>\n",
       "<style scoped>\n",
       "    .dataframe tbody tr th:only-of-type {\n",
       "        vertical-align: middle;\n",
       "    }\n",
       "\n",
       "    .dataframe tbody tr th {\n",
       "        vertical-align: top;\n",
       "    }\n",
       "\n",
       "    .dataframe thead th {\n",
       "        text-align: right;\n",
       "    }\n",
       "</style>\n",
       "<table border=\"1\" class=\"dataframe\">\n",
       "  <thead>\n",
       "    <tr style=\"text-align: right;\">\n",
       "      <th></th>\n",
       "      <th>name</th>\n",
       "    </tr>\n",
       "  </thead>\n",
       "  <tbody>\n",
       "    <tr>\n",
       "      <th>0</th>\n",
       "      <td>Martin_Boryczewski</td>\n",
       "    </tr>\n",
       "    <tr>\n",
       "      <th>1</th>\n",
       "      <td>Bobby_Jackson</td>\n",
       "    </tr>\n",
       "    <tr>\n",
       "      <th>2</th>\n",
       "      <td>Sven_Ottke</td>\n",
       "    </tr>\n",
       "    <tr>\n",
       "      <th>3</th>\n",
       "      <td>Alan_Zemaitis</td>\n",
       "    </tr>\n",
       "    <tr>\n",
       "      <th>4</th>\n",
       "      <td>Ashraf_Alasmar</td>\n",
       "    </tr>\n",
       "  </tbody>\n",
       "</table>\n",
       "</div>"
      ],
      "text/plain": [
       "                 name\n",
       "0  Martin_Boryczewski\n",
       "1       Bobby_Jackson\n",
       "2          Sven_Ottke\n",
       "3       Alan_Zemaitis\n",
       "4      Ashraf_Alasmar"
      ]
     },
     "execution_count": 6,
     "metadata": {},
     "output_type": "execute_result"
    }
   ],
   "source": [
    "folders.head()"
   ]
  },
  {
   "cell_type": "markdown",
   "metadata": {},
   "source": [
    "## Picture Urls"
   ]
  },
  {
   "cell_type": "code",
   "execution_count": 7,
   "metadata": {},
   "outputs": [],
   "source": [
    "folders[\"file\"] = folders[\"name\"].apply(lambda x: os.listdir(\"./dataset/\"+x))"
   ]
  },
  {
   "cell_type": "code",
   "execution_count": 8,
   "metadata": {},
   "outputs": [
    {
     "data": {
      "text/plain": [
       "name    5749\n",
       "file    5749\n",
       "dtype: int64"
      ]
     },
     "execution_count": 8,
     "metadata": {},
     "output_type": "execute_result"
    }
   ],
   "source": [
    "folders.count()"
   ]
  },
  {
   "cell_type": "code",
   "execution_count": 9,
   "metadata": {},
   "outputs": [],
   "source": [
    "pictures = pd.DataFrame(folders.file.tolist(), index=folders.name).stack().reset_index(level=1, drop=True).reset_index(name='file')[['file','name']]"
   ]
  },
  {
   "cell_type": "code",
   "execution_count": 10,
   "metadata": {},
   "outputs": [
    {
     "data": {
      "text/plain": [
       "file    13233\n",
       "name    13233\n",
       "dtype: int64"
      ]
     },
     "execution_count": 10,
     "metadata": {},
     "output_type": "execute_result"
    }
   ],
   "source": [
    "pictures.count()"
   ]
  },
  {
   "cell_type": "markdown",
   "metadata": {},
   "source": [
    "## Detecting Face"
   ]
  },
  {
   "cell_type": "code",
   "execution_count": 11,
   "metadata": {},
   "outputs": [
    {
     "name": "stderr",
     "output_type": "stream",
     "text": [
      "Using TensorFlow backend.\n"
     ]
    }
   ],
   "source": [
    "from mtcnn import MTCNN\n",
    "import matplotlib.pyplot as plt\n",
    "from IPython.display import Image"
   ]
  },
  {
   "cell_type": "code",
   "execution_count": 12,
   "metadata": {},
   "outputs": [],
   "source": [
    "detector = MTCNN()"
   ]
  },
  {
   "cell_type": "code",
   "execution_count": 13,
   "metadata": {},
   "outputs": [],
   "source": [
    "testfile = 'dataset/Frank_Dunham_Jr/Frank_Dunham_Jr_0002.jpg'"
   ]
  },
  {
   "cell_type": "code",
   "execution_count": 14,
   "metadata": {},
   "outputs": [],
   "source": [
    "def extract_face(filename, required_size=(224, 224)):\n",
    "\n",
    "    pixels = cv2.imread(filename)\n",
    "    pixels_rgb = cv2.cvtColor(pixels, cv2.COLOR_BGR2RGB)\n",
    "    \n",
    "    results = detector.detect_faces(pixels_rgb)\n",
    "    \n",
    "    x1, y1, width, height = results[0]['box']\n",
    "    x2, y2 = x1 + width, y1 + height\n",
    "    face = pixels_rgb[y1:y2, x1:x2]\n",
    "    \n",
    "    if face.shape[0]>0 and face.shape[1]>0:\n",
    "        face_rsz = cv2.resize(face, required_size)\n",
    "    else:\n",
    "        face_rsz = 'no_face'\n",
    "    return face_rsz"
   ]
  },
  {
   "cell_type": "code",
   "execution_count": 15,
   "metadata": {},
   "outputs": [
    {
     "data": {
      "image/jpeg": "[encoded data removed]",
      "text/plain": [
       "<IPython.core.display.Image object>"
      ]
     },
     "execution_count": 15,
     "metadata": {},
     "output_type": "execute_result"
    }
   ],
   "source": [
    "Image(testfile)"
   ]
  },
  {
   "cell_type": "markdown",
   "metadata": {},
   "source": [
    "## Feature Extraction"
   ]
  },
  {
   "cell_type": "code",
   "execution_count": 68,
   "metadata": {},
   "outputs": [],
   "source": [
    "from keras_vggface.utils import preprocess_input\n",
    "from keras_vggface.vggface import VGGFace"
   ]
  },
  {
   "cell_type": "code",
   "execution_count": 69,
   "metadata": {},
   "outputs": [],
   "source": [
    "model = VGGFace(model='resnet50', include_top=False, input_shape=(224, 224, 3), pooling='avg')"
   ]
  },
  {
   "cell_type": "code",
   "execution_count": 70,
   "metadata": {},
   "outputs": [],
   "source": [
    "def get_embeddings(filename):\n",
    "    face = extract_face(filename)\n",
    "    if face == 'no_face':\n",
    "        return '-'\n",
    "    sample = np.asarray(face, 'float32')\n",
    "    sample = np.expand_dims(sample, axis=0)\n",
    "    sample = preprocess_input(sample, version=2)\n",
    "    \n",
    "    embedding = model.predict(sample)\n",
    "    \n",
    "    return embedding[0]"
   ]
  },
  {
   "cell_type": "code",
   "execution_count": 71,
   "metadata": {},
   "outputs": [
    {
     "name": "stderr",
     "output_type": "stream",
     "text": [
      "/home/paulorcmendes/.local/share/virtualenvs/face_clustering-_i1mKbvK/lib/python3.5/site-packages/ipykernel_launcher.py:3: FutureWarning: elementwise comparison failed; returning scalar instead, but in the future will perform elementwise comparison\n",
      "  This is separate from the ipykernel package so we can avoid doing imports until\n"
     ]
    }
   ],
   "source": [
    "emb = get_embeddings(testfile)"
   ]
  },
  {
   "cell_type": "code",
   "execution_count": 72,
   "metadata": {},
   "outputs": [],
   "source": [
    "complete_urls = 'dataset/'+pictures['name']+'/'+pictures['file']"
   ]
  },
  {
   "cell_type": "code",
   "execution_count": 73,
   "metadata": {
    "scrolled": true
   },
   "outputs": [
    {
     "name": "stderr",
     "output_type": "stream",
     "text": [
      "/home/paulorcmendes/.local/share/virtualenvs/face_clustering-_i1mKbvK/lib/python3.5/site-packages/ipykernel_launcher.py:3: FutureWarning: elementwise comparison failed; returning scalar instead, but in the future will perform elementwise comparison\n",
      "  This is separate from the ipykernel package so we can avoid doing imports until\n"
     ]
    }
   ],
   "source": [
    "embeddings = complete_urls.apply(lambda x: get_embeddings(x))"
   ]
  },
  {
   "cell_type": "code",
   "execution_count": 74,
   "metadata": {},
   "outputs": [
    {
     "data": {
      "text/plain": [
       "0    [0.0, 1.6660573, 0.0, 0.0, 0.0, 0.0, 2.9247637...\n",
       "1    [0.0, 0.47519812, 2.0513406, 5.2823005, 0.9486...\n",
       "2    [0.0, 0.038900744, 0.0, 4.4667716, 0.42058718,...\n",
       "3    [0.0, 3.5332255, 8.2842455, 0.0, 0.12660573, 1...\n",
       "4    [0.0, 0.0, 0.02146301, 0.0, 0.017755207, 0.0, ...\n",
       "dtype: object"
      ]
     },
     "execution_count": 74,
     "metadata": {},
     "output_type": "execute_result"
    }
   ],
   "source": [
    "embeddings.head()"
   ]
  },
  {
   "cell_type": "code",
   "execution_count": 81,
   "metadata": {},
   "outputs": [],
   "source": [
    "pictures[\"complete_url\"] = complete_urls"
   ]
  },
  {
   "cell_type": "code",
   "execution_count": 75,
   "metadata": {},
   "outputs": [],
   "source": [
    "pictures['embeddings'] = embeddings"
   ]
  },
  {
   "cell_type": "code",
   "execution_count": 82,
   "metadata": {},
   "outputs": [
    {
     "data": {
      "text/html": [
       "<div>\n",
       "<style scoped>\n",
       "    .dataframe tbody tr th:only-of-type {\n",
       "        vertical-align: middle;\n",
       "    }\n",
       "\n",
       "    .dataframe tbody tr th {\n",
       "        vertical-align: top;\n",
       "    }\n",
       "\n",
       "    .dataframe thead th {\n",
       "        text-align: right;\n",
       "    }\n",
       "</style>\n",
       "<table border=\"1\" class=\"dataframe\">\n",
       "  <thead>\n",
       "    <tr style=\"text-align: right;\">\n",
       "      <th></th>\n",
       "      <th>file</th>\n",
       "      <th>name</th>\n",
       "      <th>embeddings</th>\n",
       "      <th>complete_url</th>\n",
       "    </tr>\n",
       "  </thead>\n",
       "  <tbody>\n",
       "    <tr>\n",
       "      <th>0</th>\n",
       "      <td>Martin_Boryczewski_0001.jpg</td>\n",
       "      <td>Martin_Boryczewski</td>\n",
       "      <td>[0.0, 1.6660573, 0.0, 0.0, 0.0, 0.0, 2.9247637...</td>\n",
       "      <td>dataset/Martin_Boryczewski/Martin_Boryczewski_...</td>\n",
       "    </tr>\n",
       "    <tr>\n",
       "      <th>1</th>\n",
       "      <td>Bobby_Jackson_0001.jpg</td>\n",
       "      <td>Bobby_Jackson</td>\n",
       "      <td>[0.0, 0.47519812, 2.0513406, 5.2823005, 0.9486...</td>\n",
       "      <td>dataset/Bobby_Jackson/Bobby_Jackson_0001.jpg</td>\n",
       "    </tr>\n",
       "    <tr>\n",
       "      <th>2</th>\n",
       "      <td>Sven_Ottke_0001.jpg</td>\n",
       "      <td>Sven_Ottke</td>\n",
       "      <td>[0.0, 0.038900744, 0.0, 4.4667716, 0.42058718,...</td>\n",
       "      <td>dataset/Sven_Ottke/Sven_Ottke_0001.jpg</td>\n",
       "    </tr>\n",
       "    <tr>\n",
       "      <th>3</th>\n",
       "      <td>Alan_Zemaitis_0001.jpg</td>\n",
       "      <td>Alan_Zemaitis</td>\n",
       "      <td>[0.0, 3.5332255, 8.2842455, 0.0, 0.12660573, 1...</td>\n",
       "      <td>dataset/Alan_Zemaitis/Alan_Zemaitis_0001.jpg</td>\n",
       "    </tr>\n",
       "    <tr>\n",
       "      <th>4</th>\n",
       "      <td>Ashraf_Alasmar_0001.jpg</td>\n",
       "      <td>Ashraf_Alasmar</td>\n",
       "      <td>[0.0, 0.0, 0.02146301, 0.0, 0.017755207, 0.0, ...</td>\n",
       "      <td>dataset/Ashraf_Alasmar/Ashraf_Alasmar_0001.jpg</td>\n",
       "    </tr>\n",
       "  </tbody>\n",
       "</table>\n",
       "</div>"
      ],
      "text/plain": [
       "                          file                name  \\\n",
       "0  Martin_Boryczewski_0001.jpg  Martin_Boryczewski   \n",
       "1       Bobby_Jackson_0001.jpg       Bobby_Jackson   \n",
       "2          Sven_Ottke_0001.jpg          Sven_Ottke   \n",
       "3       Alan_Zemaitis_0001.jpg       Alan_Zemaitis   \n",
       "4      Ashraf_Alasmar_0001.jpg      Ashraf_Alasmar   \n",
       "\n",
       "                                          embeddings  \\\n",
       "0  [0.0, 1.6660573, 0.0, 0.0, 0.0, 0.0, 2.9247637...   \n",
       "1  [0.0, 0.47519812, 2.0513406, 5.2823005, 0.9486...   \n",
       "2  [0.0, 0.038900744, 0.0, 4.4667716, 0.42058718,...   \n",
       "3  [0.0, 3.5332255, 8.2842455, 0.0, 0.12660573, 1...   \n",
       "4  [0.0, 0.0, 0.02146301, 0.0, 0.017755207, 0.0, ...   \n",
       "\n",
       "                                        complete_url  \n",
       "0  dataset/Martin_Boryczewski/Martin_Boryczewski_...  \n",
       "1       dataset/Bobby_Jackson/Bobby_Jackson_0001.jpg  \n",
       "2             dataset/Sven_Ottke/Sven_Ottke_0001.jpg  \n",
       "3       dataset/Alan_Zemaitis/Alan_Zemaitis_0001.jpg  \n",
       "4     dataset/Ashraf_Alasmar/Ashraf_Alasmar_0001.jpg  "
      ]
     },
     "execution_count": 82,
     "metadata": {},
     "output_type": "execute_result"
    }
   ],
   "source": [
    "pictures.head()"
   ]
  },
  {
   "cell_type": "markdown",
   "metadata": {},
   "source": [
    "Removendo imagens em que não foi possível extrair os embeddings"
   ]
  },
  {
   "cell_type": "code",
   "execution_count": 21,
   "metadata": {},
   "outputs": [],
   "source": [
    "invalid = pictures.loc[pictures[\"embeddings\"] == '-'].index"
   ]
  },
  {
   "cell_type": "code",
   "execution_count": 26,
   "metadata": {},
   "outputs": [
    {
     "name": "stdout",
     "output_type": "stream",
     "text": [
      "Numero de imagens invalidas: 38\n"
     ]
    }
   ],
   "source": [
    "print(\"Numero de imagens invalidas: \"+str(len(invalid)))"
   ]
  },
  {
   "cell_type": "code",
   "execution_count": 28,
   "metadata": {},
   "outputs": [],
   "source": [
    "pictures = pictures.drop(invalid)"
   ]
  },
  {
   "cell_type": "markdown",
   "metadata": {},
   "source": [
    "## Saving DataFrame"
   ]
  },
  {
   "cell_type": "code",
   "execution_count": 29,
   "metadata": {},
   "outputs": [],
   "source": [
    "pictures.to_pickle('faces_embeddings.pkl')"
   ]
  },
  {
   "cell_type": "code",
   "execution_count": null,
   "metadata": {},
   "outputs": [],
   "source": []
  }
 ],
 "metadata": {
  "kernelspec": {
   "display_name": "Python 3",
   "language": "python",
   "name": "python3"
  },
  "language_info": {
   "codemirror_mode": {
    "name": "ipython",
    "version": 3
   },
   "file_extension": ".py",
   "mimetype": "text/x-python",
   "name": "python",
   "nbconvert_exporter": "python",
   "pygments_lexer": "ipython3",
   "version": "3.5.2"
  }
 },
 "nbformat": 4,
 "nbformat_minor": 4
}
