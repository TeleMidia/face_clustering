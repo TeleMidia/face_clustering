{
 "cells": [
  {
   "cell_type": "code",
   "execution_count": 1,
   "metadata": {},
   "outputs": [],
   "source": [
    "%matplotlib inline"
   ]
  },
  {
   "cell_type": "code",
   "execution_count": 2,
   "metadata": {},
   "outputs": [],
   "source": [
    "%load_ext autoreload\n",
    "%autoreload 2"
   ]
  },
  {
   "cell_type": "code",
   "execution_count": 3,
   "metadata": {},
   "outputs": [],
   "source": [
    "import pandas as pd\n",
    "import numpy as np\n",
    "from sklearn.preprocessing import MinMaxScaler\n",
    "from sklearn.cluster import KMeans\n",
    "from sklearn.cluster import MeanShift\n",
    "from IPython.display import Image\n",
    "from sklearn import metrics\n",
    "import random"
   ]
  },
  {
   "cell_type": "code",
   "execution_count": 4,
   "metadata": {},
   "outputs": [],
   "source": [
    "face_embeddings = pd.read_pickle('faces_embeddings.pkl')"
   ]
  },
  {
   "cell_type": "code",
   "execution_count": 5,
   "metadata": {},
   "outputs": [
    {
     "data": {
      "text/plain": [
       "(13195, 4)"
      ]
     },
     "execution_count": 5,
     "metadata": {},
     "output_type": "execute_result"
    }
   ],
   "source": [
    "face_embeddings.shape"
   ]
  },
  {
   "cell_type": "markdown",
   "metadata": {},
   "source": [
    "## Quantity of Pictures Histogram"
   ]
  },
  {
   "cell_type": "code",
   "execution_count": 6,
   "metadata": {},
   "outputs": [],
   "source": [
    "qtd_images = face_embeddings[[\"name\", \"file\"]].groupby('name').count()"
   ]
  },
  {
   "cell_type": "code",
   "execution_count": 7,
   "metadata": {},
   "outputs": [],
   "source": [
    "qtd_images = qtd_images.loc[qtd_images['file'] > 5]\n",
    "qtd_images = qtd_images.loc[qtd_images['file'] <= 100]"
   ]
  },
  {
   "cell_type": "code",
   "execution_count": 8,
   "metadata": {},
   "outputs": [
    {
     "data": {
      "text/plain": [
       "(305, 1)"
      ]
     },
     "execution_count": 8,
     "metadata": {},
     "output_type": "execute_result"
    }
   ],
   "source": [
    "qtd_images.shape"
   ]
  },
  {
   "cell_type": "code",
   "execution_count": 9,
   "metadata": {},
   "outputs": [
    {
     "data": {
      "text/plain": [
       "<matplotlib.axes._subplots.AxesSubplot at 0x7f1be5ae8f60>"
      ]
     },
     "execution_count": 9,
     "metadata": {},
     "output_type": "execute_result"
    },
    {
     "data": {
      "image/png": "[encoded data removed]",
      "text/plain": [
       "<Figure size 864x504 with 1 Axes>"
      ]
     },
     "metadata": {
      "needs_background": "light"
     },
     "output_type": "display_data"
    }
   ],
   "source": [
    "qtd_images.plot.hist(alpha=0.3, density = True, figsize=(12,7), bins=30)"
   ]
  },
  {
   "cell_type": "markdown",
   "metadata": {},
   "source": [
    "## Selecting People"
   ]
  },
  {
   "cell_type": "code",
   "execution_count": 10,
   "metadata": {},
   "outputs": [
    {
     "data": {
      "text/plain": [
       "305"
      ]
     },
     "execution_count": 10,
     "metadata": {},
     "output_type": "execute_result"
    }
   ],
   "source": [
    "people = qtd_images.index.values\n",
    "len(people)"
   ]
  },
  {
   "cell_type": "code",
   "execution_count": 11,
   "metadata": {},
   "outputs": [
    {
     "data": {
      "text/plain": [
       "array(['Li_Zhaoxing', 'Al_Sharpton', 'Luiz_Inacio_Lula_da_Silva',\n",
       "       'Luis_Ernesto_Derbez_Bautista', 'Jonathan_Edwards', 'Jelena_Dokic',\n",
       "       'Kim_Ryong-sung', 'Cameron_Diaz', 'Tommy_Haas', 'Boris_Becker',\n",
       "       'Dennis_Kucinich', 'Bill_Simon', 'Angelina_Jolie', 'Hans_Blix',\n",
       "       'Mahmoud_Abbas', 'Renee_Zellweger', 'David_Nalbandian',\n",
       "       'Ana_Palacio', 'Sheryl_Crow', 'Bob_Stoops', 'Michael_Bloomberg',\n",
       "       'Amelia_Vega', 'Elsa_Zylberstein', 'Jean-David_Levitte',\n",
       "       'Amelie_Mauresmo'], dtype=object)"
      ]
     },
     "execution_count": 11,
     "metadata": {},
     "output_type": "execute_result"
    }
   ],
   "source": [
    "random.shuffle(people)\n",
    "people = people[:25]\n",
    "people"
   ]
  },
  {
   "cell_type": "code",
   "execution_count": 12,
   "metadata": {},
   "outputs": [],
   "source": [
    "face_embeddings = face_embeddings.loc[face_embeddings['name'].isin(people)]"
   ]
  },
  {
   "cell_type": "markdown",
   "metadata": {},
   "source": [
    "## Features Separation"
   ]
  },
  {
   "cell_type": "code",
   "execution_count": 13,
   "metadata": {},
   "outputs": [],
   "source": [
    "features = pd.DataFrame(face_embeddings['embeddings'].values.tolist(), index = face_embeddings.index)"
   ]
  },
  {
   "cell_type": "code",
   "execution_count": 14,
   "metadata": {},
   "outputs": [
    {
     "data": {
      "text/html": [
       "<div>\n",
       "<style scoped>\n",
       "    .dataframe tbody tr th:only-of-type {\n",
       "        vertical-align: middle;\n",
       "    }\n",
       "\n",
       "    .dataframe tbody tr th {\n",
       "        vertical-align: top;\n",
       "    }\n",
       "\n",
       "    .dataframe thead th {\n",
       "        text-align: right;\n",
       "    }\n",
       "</style>\n",
       "<table border=\"1\" class=\"dataframe\">\n",
       "  <thead>\n",
       "    <tr style=\"text-align: right;\">\n",
       "      <th></th>\n",
       "      <th>0</th>\n",
       "      <th>1</th>\n",
       "      <th>2</th>\n",
       "      <th>3</th>\n",
       "      <th>4</th>\n",
       "      <th>5</th>\n",
       "      <th>6</th>\n",
       "      <th>7</th>\n",
       "      <th>8</th>\n",
       "      <th>9</th>\n",
       "      <th>...</th>\n",
       "      <th>2038</th>\n",
       "      <th>2039</th>\n",
       "      <th>2040</th>\n",
       "      <th>2041</th>\n",
       "      <th>2042</th>\n",
       "      <th>2043</th>\n",
       "      <th>2044</th>\n",
       "      <th>2045</th>\n",
       "      <th>2046</th>\n",
       "      <th>2047</th>\n",
       "    </tr>\n",
       "  </thead>\n",
       "  <tbody>\n",
       "    <tr>\n",
       "      <th>291</th>\n",
       "      <td>0.007002</td>\n",
       "      <td>0.362790</td>\n",
       "      <td>0.201460</td>\n",
       "      <td>0.000000</td>\n",
       "      <td>0.000000</td>\n",
       "      <td>0.522367</td>\n",
       "      <td>0.044118</td>\n",
       "      <td>0.0</td>\n",
       "      <td>2.112407</td>\n",
       "      <td>8.072944</td>\n",
       "      <td>...</td>\n",
       "      <td>0.000000</td>\n",
       "      <td>0.000000</td>\n",
       "      <td>3.156688</td>\n",
       "      <td>11.793030</td>\n",
       "      <td>2.342151</td>\n",
       "      <td>0.709308</td>\n",
       "      <td>0.015310</td>\n",
       "      <td>0.0</td>\n",
       "      <td>7.532262</td>\n",
       "      <td>0.084100</td>\n",
       "    </tr>\n",
       "    <tr>\n",
       "      <th>292</th>\n",
       "      <td>0.081950</td>\n",
       "      <td>0.000000</td>\n",
       "      <td>0.001024</td>\n",
       "      <td>0.032101</td>\n",
       "      <td>0.258472</td>\n",
       "      <td>0.067465</td>\n",
       "      <td>0.000683</td>\n",
       "      <td>0.0</td>\n",
       "      <td>1.689882</td>\n",
       "      <td>12.112955</td>\n",
       "      <td>...</td>\n",
       "      <td>0.007222</td>\n",
       "      <td>0.000000</td>\n",
       "      <td>0.000000</td>\n",
       "      <td>11.230347</td>\n",
       "      <td>3.352561</td>\n",
       "      <td>1.768222</td>\n",
       "      <td>0.081707</td>\n",
       "      <td>0.0</td>\n",
       "      <td>6.187569</td>\n",
       "      <td>0.061673</td>\n",
       "    </tr>\n",
       "    <tr>\n",
       "      <th>293</th>\n",
       "      <td>0.000000</td>\n",
       "      <td>0.474231</td>\n",
       "      <td>0.068376</td>\n",
       "      <td>0.000000</td>\n",
       "      <td>0.000000</td>\n",
       "      <td>0.342294</td>\n",
       "      <td>0.000000</td>\n",
       "      <td>0.0</td>\n",
       "      <td>1.357089</td>\n",
       "      <td>6.917535</td>\n",
       "      <td>...</td>\n",
       "      <td>0.015549</td>\n",
       "      <td>0.000000</td>\n",
       "      <td>3.084498</td>\n",
       "      <td>10.259319</td>\n",
       "      <td>1.184812</td>\n",
       "      <td>2.911998</td>\n",
       "      <td>0.000000</td>\n",
       "      <td>0.0</td>\n",
       "      <td>8.277770</td>\n",
       "      <td>0.000000</td>\n",
       "    </tr>\n",
       "    <tr>\n",
       "      <th>294</th>\n",
       "      <td>0.000000</td>\n",
       "      <td>1.021055</td>\n",
       "      <td>0.655525</td>\n",
       "      <td>0.000000</td>\n",
       "      <td>0.010457</td>\n",
       "      <td>0.051164</td>\n",
       "      <td>0.038163</td>\n",
       "      <td>0.0</td>\n",
       "      <td>0.000000</td>\n",
       "      <td>5.830760</td>\n",
       "      <td>...</td>\n",
       "      <td>0.229831</td>\n",
       "      <td>0.116413</td>\n",
       "      <td>2.048734</td>\n",
       "      <td>9.897505</td>\n",
       "      <td>3.665378</td>\n",
       "      <td>0.735009</td>\n",
       "      <td>0.021296</td>\n",
       "      <td>0.0</td>\n",
       "      <td>3.114635</td>\n",
       "      <td>0.029181</td>\n",
       "    </tr>\n",
       "    <tr>\n",
       "      <th>295</th>\n",
       "      <td>0.017310</td>\n",
       "      <td>0.265392</td>\n",
       "      <td>0.496930</td>\n",
       "      <td>0.000000</td>\n",
       "      <td>0.000000</td>\n",
       "      <td>0.761715</td>\n",
       "      <td>0.000000</td>\n",
       "      <td>0.0</td>\n",
       "      <td>0.656949</td>\n",
       "      <td>7.131641</td>\n",
       "      <td>...</td>\n",
       "      <td>0.000000</td>\n",
       "      <td>0.034284</td>\n",
       "      <td>0.179134</td>\n",
       "      <td>11.280205</td>\n",
       "      <td>1.743051</td>\n",
       "      <td>3.791251</td>\n",
       "      <td>0.052861</td>\n",
       "      <td>0.0</td>\n",
       "      <td>7.042139</td>\n",
       "      <td>0.005638</td>\n",
       "    </tr>\n",
       "  </tbody>\n",
       "</table>\n",
       "<p>5 rows × 2048 columns</p>\n",
       "</div>"
      ],
      "text/plain": [
       "         0         1         2         3         4         5         6     \\\n",
       "291  0.007002  0.362790  0.201460  0.000000  0.000000  0.522367  0.044118   \n",
       "292  0.081950  0.000000  0.001024  0.032101  0.258472  0.067465  0.000683   \n",
       "293  0.000000  0.474231  0.068376  0.000000  0.000000  0.342294  0.000000   \n",
       "294  0.000000  1.021055  0.655525  0.000000  0.010457  0.051164  0.038163   \n",
       "295  0.017310  0.265392  0.496930  0.000000  0.000000  0.761715  0.000000   \n",
       "\n",
       "     7         8          9     ...      2038      2039      2040       2041  \\\n",
       "291   0.0  2.112407   8.072944  ...  0.000000  0.000000  3.156688  11.793030   \n",
       "292   0.0  1.689882  12.112955  ...  0.007222  0.000000  0.000000  11.230347   \n",
       "293   0.0  1.357089   6.917535  ...  0.015549  0.000000  3.084498  10.259319   \n",
       "294   0.0  0.000000   5.830760  ...  0.229831  0.116413  2.048734   9.897505   \n",
       "295   0.0  0.656949   7.131641  ...  0.000000  0.034284  0.179134  11.280205   \n",
       "\n",
       "         2042      2043      2044  2045      2046      2047  \n",
       "291  2.342151  0.709308  0.015310   0.0  7.532262  0.084100  \n",
       "292  3.352561  1.768222  0.081707   0.0  6.187569  0.061673  \n",
       "293  1.184812  2.911998  0.000000   0.0  8.277770  0.000000  \n",
       "294  3.665378  0.735009  0.021296   0.0  3.114635  0.029181  \n",
       "295  1.743051  3.791251  0.052861   0.0  7.042139  0.005638  \n",
       "\n",
       "[5 rows x 2048 columns]"
      ]
     },
     "execution_count": 14,
     "metadata": {},
     "output_type": "execute_result"
    }
   ],
   "source": [
    "features.head()"
   ]
  },
  {
   "cell_type": "markdown",
   "metadata": {},
   "source": [
    "## Scaling"
   ]
  },
  {
   "cell_type": "code",
   "execution_count": 15,
   "metadata": {},
   "outputs": [],
   "source": [
    "scaler = MinMaxScaler()\n",
    "\n",
    "features_scaled = scaler.fit_transform(features)"
   ]
  },
  {
   "cell_type": "code",
   "execution_count": 16,
   "metadata": {},
   "outputs": [
    {
     "data": {
      "text/plain": [
       "array([[6.29127751e-04, 1.80986220e-02, 1.41067257e-02, ...,\n",
       "        0.00000000e+00, 6.29219918e-01, 5.29146494e-03],\n",
       "       [7.36323304e-03, 0.00000000e+00, 7.17080593e-05, ...,\n",
       "        0.00000000e+00, 5.16888755e-01, 3.88036827e-03],\n",
       "       [0.00000000e+00, 2.36581094e-02, 4.78783114e-03, ...,\n",
       "        0.00000000e+00, 6.91497175e-01, 0.00000000e+00],\n",
       "       ...,\n",
       "       [2.84550635e-04, 1.96697116e-03, 2.70691899e-01, ...,\n",
       "        0.00000000e+00, 1.25100719e-01, 5.65028998e-03],\n",
       "       [7.29292102e-02, 2.55629386e-03, 2.53236096e-01, ...,\n",
       "        0.00000000e+00, 1.02926134e-01, 4.47414544e-02],\n",
       "       [0.00000000e+00, 0.00000000e+00, 0.00000000e+00, ...,\n",
       "        2.39449228e-03, 2.05916400e-01, 3.52644204e-01]])"
      ]
     },
     "execution_count": 16,
     "metadata": {},
     "output_type": "execute_result"
    }
   ],
   "source": [
    "features_scaled"
   ]
  },
  {
   "cell_type": "markdown",
   "metadata": {},
   "source": [
    "## Silhuoette Analysis"
   ]
  },
  {
   "cell_type": "markdown",
   "metadata": {},
   "source": [
    "Look for elbow evaluation\n",
    "\n",
    "https://towardsdatascience.com/k-means-clustering-algorithm-applications-evaluation-methods-and-drawbacks-aa03e644b48a"
   ]
  },
  {
   "cell_type": "code",
   "execution_count": 17,
   "metadata": {},
   "outputs": [],
   "source": [
    "import silhouette_paulo"
   ]
  },
  {
   "cell_type": "code",
   "execution_count": 18,
   "metadata": {
    "scrolled": false
   },
   "outputs": [
    {
     "name": "stdout",
     "output_type": "stream",
     "text": [
      "Computing clusters from 2 to 51\n"
     ]
    },
    {
     "data": {
      "application/vnd.jupyter.widget-view+json": {
       "model_id": "912e14b3962f438eb57313aec94d8089",
       "version_major": 2,
       "version_minor": 0
      },
      "text/plain": [
       "HBox(children=(FloatProgress(value=0.0, max=50.0), HTML(value='')))"
      ]
     },
     "metadata": {},
     "output_type": "display_data"
    },
    {
     "name": "stdout",
     "output_type": "stream",
     "text": [
      "\n"
     ]
    },
    {
     "data": {
      "image/png": "[encoded data removed]",
      "text/plain": [
       "<Figure size 1296x504 with 1 Axes>"
      ]
     },
     "metadata": {
      "needs_background": "light"
     },
     "output_type": "display_data"
    }
   ],
   "source": [
    "silhouette_paulo.analyze(features_scaled, [i+2 for i in range(len(people)*2)], show_individual_graphs = False)"
   ]
  },
  {
   "cell_type": "markdown",
   "metadata": {},
   "source": [
    "## Clustering\n",
    "See k-means in tensorflow:  https://www.tensorflow.org/api_docs/python/tf/compat/v1/estimator/experimental/KMeans"
   ]
  },
  {
   "cell_type": "code",
   "execution_count": 36,
   "metadata": {},
   "outputs": [],
   "source": [
    "model = KMeans(n_clusters=11, verbose = 0, random_state=42)\n",
    "#model = MeanShift(bandwidth = len(people))"
   ]
  },
  {
   "cell_type": "code",
   "execution_count": 37,
   "metadata": {},
   "outputs": [],
   "source": [
    "cluster_labels = model.fit_predict(features_scaled)\n",
    "#cluster_labels = kmeans.fit_predict(features)"
   ]
  },
  {
   "cell_type": "code",
   "execution_count": 38,
   "metadata": {},
   "outputs": [
    {
     "data": {
      "text/html": [
       "<div>\n",
       "<style scoped>\n",
       "    .dataframe tbody tr th:only-of-type {\n",
       "        vertical-align: middle;\n",
       "    }\n",
       "\n",
       "    .dataframe tbody tr th {\n",
       "        vertical-align: top;\n",
       "    }\n",
       "\n",
       "    .dataframe thead th {\n",
       "        text-align: right;\n",
       "    }\n",
       "</style>\n",
       "<table border=\"1\" class=\"dataframe\">\n",
       "  <thead>\n",
       "    <tr style=\"text-align: right;\">\n",
       "      <th></th>\n",
       "      <th>0</th>\n",
       "      <th>1</th>\n",
       "      <th>2</th>\n",
       "      <th>3</th>\n",
       "      <th>4</th>\n",
       "      <th>5</th>\n",
       "      <th>6</th>\n",
       "      <th>7</th>\n",
       "      <th>8</th>\n",
       "      <th>9</th>\n",
       "      <th>...</th>\n",
       "      <th>2039</th>\n",
       "      <th>2040</th>\n",
       "      <th>2041</th>\n",
       "      <th>2042</th>\n",
       "      <th>2043</th>\n",
       "      <th>2044</th>\n",
       "      <th>2045</th>\n",
       "      <th>2046</th>\n",
       "      <th>2047</th>\n",
       "      <th>Cluster</th>\n",
       "    </tr>\n",
       "  </thead>\n",
       "  <tbody>\n",
       "    <tr>\n",
       "      <th>136</th>\n",
       "      <td>0.285112</td>\n",
       "      <td>0.000000</td>\n",
       "      <td>2.982219</td>\n",
       "      <td>0.000000</td>\n",
       "      <td>0.0</td>\n",
       "      <td>0.014253</td>\n",
       "      <td>0.250213</td>\n",
       "      <td>2.120276</td>\n",
       "      <td>1.811081</td>\n",
       "      <td>1.107355</td>\n",
       "      <td>...</td>\n",
       "      <td>0.000000</td>\n",
       "      <td>0.670803</td>\n",
       "      <td>0.173897</td>\n",
       "      <td>0.150309</td>\n",
       "      <td>1.270534</td>\n",
       "      <td>0.149858</td>\n",
       "      <td>2.970650</td>\n",
       "      <td>4.818972</td>\n",
       "      <td>0.739195</td>\n",
       "      <td>2</td>\n",
       "    </tr>\n",
       "    <tr>\n",
       "      <th>137</th>\n",
       "      <td>0.000000</td>\n",
       "      <td>0.000816</td>\n",
       "      <td>0.000000</td>\n",
       "      <td>0.103347</td>\n",
       "      <td>0.0</td>\n",
       "      <td>2.681821</td>\n",
       "      <td>0.009428</td>\n",
       "      <td>0.034006</td>\n",
       "      <td>0.406077</td>\n",
       "      <td>0.000000</td>\n",
       "      <td>...</td>\n",
       "      <td>0.039906</td>\n",
       "      <td>5.745759</td>\n",
       "      <td>0.000000</td>\n",
       "      <td>2.617784</td>\n",
       "      <td>0.021651</td>\n",
       "      <td>0.210376</td>\n",
       "      <td>0.513528</td>\n",
       "      <td>7.068231</td>\n",
       "      <td>1.784879</td>\n",
       "      <td>2</td>\n",
       "    </tr>\n",
       "    <tr>\n",
       "      <th>138</th>\n",
       "      <td>0.171944</td>\n",
       "      <td>0.144710</td>\n",
       "      <td>0.348655</td>\n",
       "      <td>0.603357</td>\n",
       "      <td>0.0</td>\n",
       "      <td>0.264355</td>\n",
       "      <td>0.437152</td>\n",
       "      <td>0.000000</td>\n",
       "      <td>2.042786</td>\n",
       "      <td>0.023642</td>\n",
       "      <td>...</td>\n",
       "      <td>0.000000</td>\n",
       "      <td>6.078012</td>\n",
       "      <td>0.000000</td>\n",
       "      <td>1.007148</td>\n",
       "      <td>0.046262</td>\n",
       "      <td>0.027284</td>\n",
       "      <td>2.050681</td>\n",
       "      <td>5.547115</td>\n",
       "      <td>9.945123</td>\n",
       "      <td>2</td>\n",
       "    </tr>\n",
       "    <tr>\n",
       "      <th>139</th>\n",
       "      <td>0.000000</td>\n",
       "      <td>0.156724</td>\n",
       "      <td>2.907073</td>\n",
       "      <td>0.000000</td>\n",
       "      <td>0.0</td>\n",
       "      <td>1.345676</td>\n",
       "      <td>0.000000</td>\n",
       "      <td>0.115379</td>\n",
       "      <td>0.000000</td>\n",
       "      <td>0.415684</td>\n",
       "      <td>...</td>\n",
       "      <td>0.000000</td>\n",
       "      <td>0.089016</td>\n",
       "      <td>0.060941</td>\n",
       "      <td>3.017060</td>\n",
       "      <td>0.000000</td>\n",
       "      <td>0.169507</td>\n",
       "      <td>0.175499</td>\n",
       "      <td>5.466408</td>\n",
       "      <td>2.539478</td>\n",
       "      <td>2</td>\n",
       "    </tr>\n",
       "    <tr>\n",
       "      <th>140</th>\n",
       "      <td>0.434134</td>\n",
       "      <td>0.002837</td>\n",
       "      <td>0.000000</td>\n",
       "      <td>0.009787</td>\n",
       "      <td>0.0</td>\n",
       "      <td>4.720340</td>\n",
       "      <td>0.054043</td>\n",
       "      <td>0.715260</td>\n",
       "      <td>2.199953</td>\n",
       "      <td>0.000000</td>\n",
       "      <td>...</td>\n",
       "      <td>0.000000</td>\n",
       "      <td>8.910540</td>\n",
       "      <td>0.541646</td>\n",
       "      <td>1.643448</td>\n",
       "      <td>0.000000</td>\n",
       "      <td>1.048972</td>\n",
       "      <td>0.622555</td>\n",
       "      <td>14.612202</td>\n",
       "      <td>0.152379</td>\n",
       "      <td>2</td>\n",
       "    </tr>\n",
       "  </tbody>\n",
       "</table>\n",
       "<p>5 rows × 2049 columns</p>\n",
       "</div>"
      ],
      "text/plain": [
       "            0         1         2         3    4         5         6  \\\n",
       "136  0.285112  0.000000  2.982219  0.000000  0.0  0.014253  0.250213   \n",
       "137  0.000000  0.000816  0.000000  0.103347  0.0  2.681821  0.009428   \n",
       "138  0.171944  0.144710  0.348655  0.603357  0.0  0.264355  0.437152   \n",
       "139  0.000000  0.156724  2.907073  0.000000  0.0  1.345676  0.000000   \n",
       "140  0.434134  0.002837  0.000000  0.009787  0.0  4.720340  0.054043   \n",
       "\n",
       "            7         8         9  ...      2039      2040      2041  \\\n",
       "136  2.120276  1.811081  1.107355  ...  0.000000  0.670803  0.173897   \n",
       "137  0.034006  0.406077  0.000000  ...  0.039906  5.745759  0.000000   \n",
       "138  0.000000  2.042786  0.023642  ...  0.000000  6.078012  0.000000   \n",
       "139  0.115379  0.000000  0.415684  ...  0.000000  0.089016  0.060941   \n",
       "140  0.715260  2.199953  0.000000  ...  0.000000  8.910540  0.541646   \n",
       "\n",
       "         2042      2043      2044      2045       2046      2047  Cluster  \n",
       "136  0.150309  1.270534  0.149858  2.970650   4.818972  0.739195        2  \n",
       "137  2.617784  0.021651  0.210376  0.513528   7.068231  1.784879        2  \n",
       "138  1.007148  0.046262  0.027284  2.050681   5.547115  9.945123        2  \n",
       "139  3.017060  0.000000  0.169507  0.175499   5.466408  2.539478        2  \n",
       "140  1.643448  0.000000  1.048972  0.622555  14.612202  0.152379        2  \n",
       "\n",
       "[5 rows x 2049 columns]"
      ]
     },
     "execution_count": 38,
     "metadata": {},
     "output_type": "execute_result"
    }
   ],
   "source": [
    "features['Cluster'] = cluster_labels\n",
    "features.head()"
   ]
  },
  {
   "cell_type": "markdown",
   "metadata": {},
   "source": [
    "## Analyzing Clusters"
   ]
  },
  {
   "cell_type": "code",
   "execution_count": 39,
   "metadata": {},
   "outputs": [
    {
     "data": {
      "text/html": [
       "<div>\n",
       "<style scoped>\n",
       "    .dataframe tbody tr th:only-of-type {\n",
       "        vertical-align: middle;\n",
       "    }\n",
       "\n",
       "    .dataframe tbody tr th {\n",
       "        vertical-align: top;\n",
       "    }\n",
       "\n",
       "    .dataframe thead th {\n",
       "        text-align: right;\n",
       "    }\n",
       "</style>\n",
       "<table border=\"1\" class=\"dataframe\">\n",
       "  <thead>\n",
       "    <tr style=\"text-align: right;\">\n",
       "      <th></th>\n",
       "      <th>0</th>\n",
       "      <th>1</th>\n",
       "      <th>2</th>\n",
       "      <th>3</th>\n",
       "      <th>4</th>\n",
       "      <th>5</th>\n",
       "      <th>6</th>\n",
       "      <th>7</th>\n",
       "      <th>8</th>\n",
       "      <th>9</th>\n",
       "      <th>...</th>\n",
       "      <th>2039</th>\n",
       "      <th>2040</th>\n",
       "      <th>2041</th>\n",
       "      <th>2042</th>\n",
       "      <th>2043</th>\n",
       "      <th>2044</th>\n",
       "      <th>2045</th>\n",
       "      <th>2046</th>\n",
       "      <th>2047</th>\n",
       "      <th>Cluster</th>\n",
       "    </tr>\n",
       "  </thead>\n",
       "  <tbody>\n",
       "    <tr>\n",
       "      <th>136</th>\n",
       "      <td>0.037720</td>\n",
       "      <td>0.000000</td>\n",
       "      <td>0.424233</td>\n",
       "      <td>0.000000</td>\n",
       "      <td>0.0</td>\n",
       "      <td>0.000805</td>\n",
       "      <td>0.058911</td>\n",
       "      <td>0.283639</td>\n",
       "      <td>0.203881</td>\n",
       "      <td>0.118151</td>\n",
       "      <td>...</td>\n",
       "      <td>0.000000</td>\n",
       "      <td>0.075282</td>\n",
       "      <td>0.027364</td>\n",
       "      <td>0.013555</td>\n",
       "      <td>0.232484</td>\n",
       "      <td>0.021889</td>\n",
       "      <td>0.271840</td>\n",
       "      <td>0.260868</td>\n",
       "      <td>0.045673</td>\n",
       "      <td>2</td>\n",
       "    </tr>\n",
       "    <tr>\n",
       "      <th>137</th>\n",
       "      <td>0.000000</td>\n",
       "      <td>0.000216</td>\n",
       "      <td>0.000000</td>\n",
       "      <td>0.020774</td>\n",
       "      <td>0.0</td>\n",
       "      <td>0.151539</td>\n",
       "      <td>0.002220</td>\n",
       "      <td>0.004549</td>\n",
       "      <td>0.045714</td>\n",
       "      <td>0.000000</td>\n",
       "      <td>...</td>\n",
       "      <td>0.003805</td>\n",
       "      <td>0.644827</td>\n",
       "      <td>0.000000</td>\n",
       "      <td>0.236068</td>\n",
       "      <td>0.003962</td>\n",
       "      <td>0.030729</td>\n",
       "      <td>0.046992</td>\n",
       "      <td>0.382629</td>\n",
       "      <td>0.110283</td>\n",
       "      <td>2</td>\n",
       "    </tr>\n",
       "    <tr>\n",
       "      <th>138</th>\n",
       "      <td>0.022748</td>\n",
       "      <td>0.038284</td>\n",
       "      <td>0.049598</td>\n",
       "      <td>0.121280</td>\n",
       "      <td>0.0</td>\n",
       "      <td>0.014938</td>\n",
       "      <td>0.102925</td>\n",
       "      <td>0.000000</td>\n",
       "      <td>0.229965</td>\n",
       "      <td>0.002522</td>\n",
       "      <td>...</td>\n",
       "      <td>0.000000</td>\n",
       "      <td>0.682115</td>\n",
       "      <td>0.000000</td>\n",
       "      <td>0.090823</td>\n",
       "      <td>0.008465</td>\n",
       "      <td>0.003985</td>\n",
       "      <td>0.187655</td>\n",
       "      <td>0.300285</td>\n",
       "      <td>0.614486</td>\n",
       "      <td>2</td>\n",
       "    </tr>\n",
       "    <tr>\n",
       "      <th>139</th>\n",
       "      <td>0.000000</td>\n",
       "      <td>0.041462</td>\n",
       "      <td>0.413543</td>\n",
       "      <td>0.000000</td>\n",
       "      <td>0.0</td>\n",
       "      <td>0.076039</td>\n",
       "      <td>0.000000</td>\n",
       "      <td>0.015435</td>\n",
       "      <td>0.000000</td>\n",
       "      <td>0.044352</td>\n",
       "      <td>...</td>\n",
       "      <td>0.000000</td>\n",
       "      <td>0.009990</td>\n",
       "      <td>0.009590</td>\n",
       "      <td>0.272074</td>\n",
       "      <td>0.000000</td>\n",
       "      <td>0.024759</td>\n",
       "      <td>0.016060</td>\n",
       "      <td>0.295917</td>\n",
       "      <td>0.156908</td>\n",
       "      <td>2</td>\n",
       "    </tr>\n",
       "    <tr>\n",
       "      <th>140</th>\n",
       "      <td>0.057435</td>\n",
       "      <td>0.000751</td>\n",
       "      <td>0.000000</td>\n",
       "      <td>0.001967</td>\n",
       "      <td>0.0</td>\n",
       "      <td>0.266727</td>\n",
       "      <td>0.012724</td>\n",
       "      <td>0.095684</td>\n",
       "      <td>0.247658</td>\n",
       "      <td>0.000000</td>\n",
       "      <td>...</td>\n",
       "      <td>0.000000</td>\n",
       "      <td>1.000000</td>\n",
       "      <td>0.085232</td>\n",
       "      <td>0.148204</td>\n",
       "      <td>0.000000</td>\n",
       "      <td>0.153218</td>\n",
       "      <td>0.056969</td>\n",
       "      <td>0.791012</td>\n",
       "      <td>0.009415</td>\n",
       "      <td>2</td>\n",
       "    </tr>\n",
       "  </tbody>\n",
       "</table>\n",
       "<p>5 rows × 2049 columns</p>\n",
       "</div>"
      ],
      "text/plain": [
       "            0         1         2         3    4         5         6  \\\n",
       "136  0.037720  0.000000  0.424233  0.000000  0.0  0.000805  0.058911   \n",
       "137  0.000000  0.000216  0.000000  0.020774  0.0  0.151539  0.002220   \n",
       "138  0.022748  0.038284  0.049598  0.121280  0.0  0.014938  0.102925   \n",
       "139  0.000000  0.041462  0.413543  0.000000  0.0  0.076039  0.000000   \n",
       "140  0.057435  0.000751  0.000000  0.001967  0.0  0.266727  0.012724   \n",
       "\n",
       "            7         8         9  ...      2039      2040      2041  \\\n",
       "136  0.283639  0.203881  0.118151  ...  0.000000  0.075282  0.027364   \n",
       "137  0.004549  0.045714  0.000000  ...  0.003805  0.644827  0.000000   \n",
       "138  0.000000  0.229965  0.002522  ...  0.000000  0.682115  0.000000   \n",
       "139  0.015435  0.000000  0.044352  ...  0.000000  0.009990  0.009590   \n",
       "140  0.095684  0.247658  0.000000  ...  0.000000  1.000000  0.085232   \n",
       "\n",
       "         2042      2043      2044      2045      2046      2047  Cluster  \n",
       "136  0.013555  0.232484  0.021889  0.271840  0.260868  0.045673        2  \n",
       "137  0.236068  0.003962  0.030729  0.046992  0.382629  0.110283        2  \n",
       "138  0.090823  0.008465  0.003985  0.187655  0.300285  0.614486        2  \n",
       "139  0.272074  0.000000  0.024759  0.016060  0.295917  0.156908        2  \n",
       "140  0.148204  0.000000  0.153218  0.056969  0.791012  0.009415        2  \n",
       "\n",
       "[5 rows x 2049 columns]"
      ]
     },
     "execution_count": 39,
     "metadata": {},
     "output_type": "execute_result"
    }
   ],
   "source": [
    "features_scaled = pd.DataFrame(features_scaled, index = features.index)\n",
    "features_scaled['Cluster'] = cluster_labels\n",
    "features_scaled.head()"
   ]
  },
  {
   "cell_type": "code",
   "execution_count": 40,
   "metadata": {},
   "outputs": [],
   "source": [
    "features_names = features.copy()"
   ]
  },
  {
   "cell_type": "code",
   "execution_count": 41,
   "metadata": {},
   "outputs": [],
   "source": [
    "features_names['name'] = face_embeddings['name']"
   ]
  },
  {
   "cell_type": "code",
   "execution_count": 42,
   "metadata": {},
   "outputs": [],
   "source": [
    "people_clusters = features_names[['name', 'Cluster']].copy()"
   ]
  },
  {
   "cell_type": "code",
   "execution_count": 43,
   "metadata": {},
   "outputs": [],
   "source": [
    "people_clusters['qtd'] = cluster_labels"
   ]
  },
  {
   "cell_type": "code",
   "execution_count": 44,
   "metadata": {
    "scrolled": true
   },
   "outputs": [
    {
     "data": {
      "text/html": [
       "<div>\n",
       "<style scoped>\n",
       "    .dataframe tbody tr th:only-of-type {\n",
       "        vertical-align: middle;\n",
       "    }\n",
       "\n",
       "    .dataframe tbody tr th {\n",
       "        vertical-align: top;\n",
       "    }\n",
       "\n",
       "    .dataframe thead th {\n",
       "        text-align: right;\n",
       "    }\n",
       "</style>\n",
       "<table border=\"1\" class=\"dataframe\">\n",
       "  <thead>\n",
       "    <tr style=\"text-align: right;\">\n",
       "      <th></th>\n",
       "      <th></th>\n",
       "      <th>qtd</th>\n",
       "    </tr>\n",
       "    <tr>\n",
       "      <th>Cluster</th>\n",
       "      <th>name</th>\n",
       "      <th></th>\n",
       "    </tr>\n",
       "  </thead>\n",
       "  <tbody>\n",
       "    <tr>\n",
       "      <th>0</th>\n",
       "      <th>Justin_Timberlake</th>\n",
       "      <td>8</td>\n",
       "    </tr>\n",
       "    <tr>\n",
       "      <th>1</th>\n",
       "      <th>Alejandro_Toledo</th>\n",
       "      <td>14</td>\n",
       "    </tr>\n",
       "    <tr>\n",
       "      <th>2</th>\n",
       "      <th>Juan_Carlos_Ferrero</th>\n",
       "      <td>28</td>\n",
       "    </tr>\n",
       "    <tr>\n",
       "      <th>3</th>\n",
       "      <th>John_Negroponte</th>\n",
       "      <td>28</td>\n",
       "    </tr>\n",
       "    <tr>\n",
       "      <th>4</th>\n",
       "      <th>Meryl_Streep</th>\n",
       "      <td>14</td>\n",
       "    </tr>\n",
       "    <tr>\n",
       "      <th>5</th>\n",
       "      <th>Paul_Martin</th>\n",
       "      <td>8</td>\n",
       "    </tr>\n",
       "    <tr>\n",
       "      <th rowspan=\"2\" valign=\"top\">6</th>\n",
       "      <th>Alejandro_Toledo</th>\n",
       "      <td>1</td>\n",
       "    </tr>\n",
       "    <tr>\n",
       "      <th>Paul_Wolfowitz</th>\n",
       "      <td>10</td>\n",
       "    </tr>\n",
       "    <tr>\n",
       "      <th rowspan=\"3\" valign=\"top\">7</th>\n",
       "      <th>John_Negroponte</th>\n",
       "      <td>3</td>\n",
       "    </tr>\n",
       "    <tr>\n",
       "      <th>Meryl_Streep</th>\n",
       "      <td>1</td>\n",
       "    </tr>\n",
       "    <tr>\n",
       "      <th>Mohammed_Al-Douri</th>\n",
       "      <td>14</td>\n",
       "    </tr>\n",
       "    <tr>\n",
       "      <th>8</th>\n",
       "      <th>Charlton_Heston</th>\n",
       "      <td>6</td>\n",
       "    </tr>\n",
       "    <tr>\n",
       "      <th rowspan=\"2\" valign=\"top\">9</th>\n",
       "      <th>Catherine_Zeta-Jones</th>\n",
       "      <td>11</td>\n",
       "    </tr>\n",
       "    <tr>\n",
       "      <th>Mohammed_Al-Douri</th>\n",
       "      <td>1</td>\n",
       "    </tr>\n",
       "    <tr>\n",
       "      <th>10</th>\n",
       "      <th>Alejandro_Toledo</th>\n",
       "      <td>23</td>\n",
       "    </tr>\n",
       "  </tbody>\n",
       "</table>\n",
       "</div>"
      ],
      "text/plain": [
       "                              qtd\n",
       "Cluster name                     \n",
       "0       Justin_Timberlake       8\n",
       "1       Alejandro_Toledo       14\n",
       "2       Juan_Carlos_Ferrero    28\n",
       "3       John_Negroponte        28\n",
       "4       Meryl_Streep           14\n",
       "5       Paul_Martin             8\n",
       "6       Alejandro_Toledo        1\n",
       "        Paul_Wolfowitz         10\n",
       "7       John_Negroponte         3\n",
       "        Meryl_Streep            1\n",
       "        Mohammed_Al-Douri      14\n",
       "8       Charlton_Heston         6\n",
       "9       Catherine_Zeta-Jones   11\n",
       "        Mohammed_Al-Douri       1\n",
       "10      Alejandro_Toledo       23"
      ]
     },
     "execution_count": 44,
     "metadata": {},
     "output_type": "execute_result"
    }
   ],
   "source": [
    "qtd_clusters = people_clusters.groupby(['Cluster', 'name']).count()\n",
    "qtd_clusters"
   ]
  },
  {
   "cell_type": "code",
   "execution_count": 45,
   "metadata": {},
   "outputs": [
    {
     "data": {
      "text/html": [
       "<div>\n",
       "<style scoped>\n",
       "    .dataframe tbody tr th:only-of-type {\n",
       "        vertical-align: middle;\n",
       "    }\n",
       "\n",
       "    .dataframe tbody tr th {\n",
       "        vertical-align: top;\n",
       "    }\n",
       "\n",
       "    .dataframe thead th {\n",
       "        text-align: right;\n",
       "    }\n",
       "</style>\n",
       "<table border=\"1\" class=\"dataframe\">\n",
       "  <thead>\n",
       "    <tr style=\"text-align: right;\">\n",
       "      <th></th>\n",
       "      <th></th>\n",
       "      <th>qtd</th>\n",
       "    </tr>\n",
       "    <tr>\n",
       "      <th>name</th>\n",
       "      <th>Cluster</th>\n",
       "      <th></th>\n",
       "    </tr>\n",
       "  </thead>\n",
       "  <tbody>\n",
       "    <tr>\n",
       "      <th rowspan=\"3\" valign=\"top\">Alejandro_Toledo</th>\n",
       "      <th>1</th>\n",
       "      <td>14</td>\n",
       "    </tr>\n",
       "    <tr>\n",
       "      <th>6</th>\n",
       "      <td>1</td>\n",
       "    </tr>\n",
       "    <tr>\n",
       "      <th>10</th>\n",
       "      <td>23</td>\n",
       "    </tr>\n",
       "    <tr>\n",
       "      <th>Catherine_Zeta-Jones</th>\n",
       "      <th>9</th>\n",
       "      <td>11</td>\n",
       "    </tr>\n",
       "    <tr>\n",
       "      <th>Charlton_Heston</th>\n",
       "      <th>8</th>\n",
       "      <td>6</td>\n",
       "    </tr>\n",
       "    <tr>\n",
       "      <th rowspan=\"2\" valign=\"top\">John_Negroponte</th>\n",
       "      <th>3</th>\n",
       "      <td>28</td>\n",
       "    </tr>\n",
       "    <tr>\n",
       "      <th>7</th>\n",
       "      <td>3</td>\n",
       "    </tr>\n",
       "    <tr>\n",
       "      <th>Juan_Carlos_Ferrero</th>\n",
       "      <th>2</th>\n",
       "      <td>28</td>\n",
       "    </tr>\n",
       "    <tr>\n",
       "      <th>Justin_Timberlake</th>\n",
       "      <th>0</th>\n",
       "      <td>8</td>\n",
       "    </tr>\n",
       "    <tr>\n",
       "      <th rowspan=\"2\" valign=\"top\">Meryl_Streep</th>\n",
       "      <th>4</th>\n",
       "      <td>14</td>\n",
       "    </tr>\n",
       "    <tr>\n",
       "      <th>7</th>\n",
       "      <td>1</td>\n",
       "    </tr>\n",
       "    <tr>\n",
       "      <th rowspan=\"2\" valign=\"top\">Mohammed_Al-Douri</th>\n",
       "      <th>7</th>\n",
       "      <td>14</td>\n",
       "    </tr>\n",
       "    <tr>\n",
       "      <th>9</th>\n",
       "      <td>1</td>\n",
       "    </tr>\n",
       "    <tr>\n",
       "      <th>Paul_Martin</th>\n",
       "      <th>5</th>\n",
       "      <td>8</td>\n",
       "    </tr>\n",
       "    <tr>\n",
       "      <th>Paul_Wolfowitz</th>\n",
       "      <th>6</th>\n",
       "      <td>10</td>\n",
       "    </tr>\n",
       "  </tbody>\n",
       "</table>\n",
       "</div>"
      ],
      "text/plain": [
       "                              qtd\n",
       "name                 Cluster     \n",
       "Alejandro_Toledo     1         14\n",
       "                     6          1\n",
       "                     10        23\n",
       "Catherine_Zeta-Jones 9         11\n",
       "Charlton_Heston      8          6\n",
       "John_Negroponte      3         28\n",
       "                     7          3\n",
       "Juan_Carlos_Ferrero  2         28\n",
       "Justin_Timberlake    0          8\n",
       "Meryl_Streep         4         14\n",
       "                     7          1\n",
       "Mohammed_Al-Douri    7         14\n",
       "                     9          1\n",
       "Paul_Martin          5          8\n",
       "Paul_Wolfowitz       6         10"
      ]
     },
     "execution_count": 45,
     "metadata": {},
     "output_type": "execute_result"
    }
   ],
   "source": [
    "qtd_clusters = people_clusters.groupby(['name','Cluster']).count()\n",
    "qtd_clusters"
   ]
  },
  {
   "cell_type": "code",
   "execution_count": 46,
   "metadata": {},
   "outputs": [
    {
     "data": {
      "text/html": [
       "<div>\n",
       "<style scoped>\n",
       "    .dataframe tbody tr th:only-of-type {\n",
       "        vertical-align: middle;\n",
       "    }\n",
       "\n",
       "    .dataframe tbody tr th {\n",
       "        vertical-align: top;\n",
       "    }\n",
       "\n",
       "    .dataframe thead th {\n",
       "        text-align: right;\n",
       "    }\n",
       "</style>\n",
       "<table border=\"1\" class=\"dataframe\">\n",
       "  <thead>\n",
       "    <tr style=\"text-align: right;\">\n",
       "      <th>Cluster</th>\n",
       "      <th>0</th>\n",
       "      <th>1</th>\n",
       "      <th>2</th>\n",
       "      <th>3</th>\n",
       "      <th>4</th>\n",
       "      <th>5</th>\n",
       "      <th>6</th>\n",
       "      <th>7</th>\n",
       "      <th>8</th>\n",
       "      <th>9</th>\n",
       "      <th>10</th>\n",
       "    </tr>\n",
       "  </thead>\n",
       "  <tbody>\n",
       "    <tr>\n",
       "      <th>count</th>\n",
       "      <td>2048.000000</td>\n",
       "      <td>2048.000000</td>\n",
       "      <td>2048.000000</td>\n",
       "      <td>2048.000000</td>\n",
       "      <td>2048.000000</td>\n",
       "      <td>2048.000000</td>\n",
       "      <td>2048.000000</td>\n",
       "      <td>2048.000000</td>\n",
       "      <td>2048.000000</td>\n",
       "      <td>2048.000000</td>\n",
       "      <td>2048.000000</td>\n",
       "    </tr>\n",
       "    <tr>\n",
       "      <th>mean</th>\n",
       "      <td>0.116905</td>\n",
       "      <td>0.094110</td>\n",
       "      <td>0.116561</td>\n",
       "      <td>0.089923</td>\n",
       "      <td>0.099206</td>\n",
       "      <td>0.109079</td>\n",
       "      <td>0.116184</td>\n",
       "      <td>0.139203</td>\n",
       "      <td>0.118507</td>\n",
       "      <td>0.133467</td>\n",
       "      <td>0.110740</td>\n",
       "    </tr>\n",
       "    <tr>\n",
       "      <th>std</th>\n",
       "      <td>0.102821</td>\n",
       "      <td>0.080095</td>\n",
       "      <td>0.084393</td>\n",
       "      <td>0.072013</td>\n",
       "      <td>0.087328</td>\n",
       "      <td>0.095560</td>\n",
       "      <td>0.090139</td>\n",
       "      <td>0.086092</td>\n",
       "      <td>0.108735</td>\n",
       "      <td>0.098684</td>\n",
       "      <td>0.084316</td>\n",
       "    </tr>\n",
       "    <tr>\n",
       "      <th>min</th>\n",
       "      <td>0.000000</td>\n",
       "      <td>0.000000</td>\n",
       "      <td>0.000000</td>\n",
       "      <td>0.000000</td>\n",
       "      <td>0.000000</td>\n",
       "      <td>0.000000</td>\n",
       "      <td>0.000000</td>\n",
       "      <td>0.000000</td>\n",
       "      <td>0.000000</td>\n",
       "      <td>0.000000</td>\n",
       "      <td>0.000000</td>\n",
       "    </tr>\n",
       "    <tr>\n",
       "      <th>25%</th>\n",
       "      <td>0.028434</td>\n",
       "      <td>0.023899</td>\n",
       "      <td>0.044322</td>\n",
       "      <td>0.028861</td>\n",
       "      <td>0.024111</td>\n",
       "      <td>0.028192</td>\n",
       "      <td>0.037929</td>\n",
       "      <td>0.066562</td>\n",
       "      <td>0.028324</td>\n",
       "      <td>0.048607</td>\n",
       "      <td>0.036285</td>\n",
       "    </tr>\n",
       "    <tr>\n",
       "      <th>50%</th>\n",
       "      <td>0.090557</td>\n",
       "      <td>0.075047</td>\n",
       "      <td>0.100596</td>\n",
       "      <td>0.074354</td>\n",
       "      <td>0.076729</td>\n",
       "      <td>0.084687</td>\n",
       "      <td>0.096223</td>\n",
       "      <td>0.127447</td>\n",
       "      <td>0.088654</td>\n",
       "      <td>0.111022</td>\n",
       "      <td>0.093777</td>\n",
       "    </tr>\n",
       "    <tr>\n",
       "      <th>75%</th>\n",
       "      <td>0.181398</td>\n",
       "      <td>0.151157</td>\n",
       "      <td>0.187526</td>\n",
       "      <td>0.140025</td>\n",
       "      <td>0.157121</td>\n",
       "      <td>0.167385</td>\n",
       "      <td>0.179523</td>\n",
       "      <td>0.209798</td>\n",
       "      <td>0.181970</td>\n",
       "      <td>0.208619</td>\n",
       "      <td>0.178917</td>\n",
       "    </tr>\n",
       "    <tr>\n",
       "      <th>max</th>\n",
       "      <td>0.440553</td>\n",
       "      <td>0.343686</td>\n",
       "      <td>0.329669</td>\n",
       "      <td>0.338681</td>\n",
       "      <td>0.379698</td>\n",
       "      <td>0.474609</td>\n",
       "      <td>0.385227</td>\n",
       "      <td>0.371109</td>\n",
       "      <td>0.459518</td>\n",
       "      <td>0.391352</td>\n",
       "      <td>0.351226</td>\n",
       "    </tr>\n",
       "  </tbody>\n",
       "</table>\n",
       "</div>"
      ],
      "text/plain": [
       "Cluster           0            1            2            3            4   \\\n",
       "count    2048.000000  2048.000000  2048.000000  2048.000000  2048.000000   \n",
       "mean        0.116905     0.094110     0.116561     0.089923     0.099206   \n",
       "std         0.102821     0.080095     0.084393     0.072013     0.087328   \n",
       "min         0.000000     0.000000     0.000000     0.000000     0.000000   \n",
       "25%         0.028434     0.023899     0.044322     0.028861     0.024111   \n",
       "50%         0.090557     0.075047     0.100596     0.074354     0.076729   \n",
       "75%         0.181398     0.151157     0.187526     0.140025     0.157121   \n",
       "max         0.440553     0.343686     0.329669     0.338681     0.379698   \n",
       "\n",
       "Cluster           5            6            7            8            9   \\\n",
       "count    2048.000000  2048.000000  2048.000000  2048.000000  2048.000000   \n",
       "mean        0.109079     0.116184     0.139203     0.118507     0.133467   \n",
       "std         0.095560     0.090139     0.086092     0.108735     0.098684   \n",
       "min         0.000000     0.000000     0.000000     0.000000     0.000000   \n",
       "25%         0.028192     0.037929     0.066562     0.028324     0.048607   \n",
       "50%         0.084687     0.096223     0.127447     0.088654     0.111022   \n",
       "75%         0.167385     0.179523     0.209798     0.181970     0.208619   \n",
       "max         0.474609     0.385227     0.371109     0.459518     0.391352   \n",
       "\n",
       "Cluster           10  \n",
       "count    2048.000000  \n",
       "mean        0.110740  \n",
       "std         0.084316  \n",
       "min         0.000000  \n",
       "25%         0.036285  \n",
       "50%         0.093777  \n",
       "75%         0.178917  \n",
       "max         0.351226  "
      ]
     },
     "execution_count": 46,
     "metadata": {},
     "output_type": "execute_result"
    }
   ],
   "source": [
    "features_scaled.groupby('Cluster', axis = 0).std().transpose().describe()"
   ]
  },
  {
   "cell_type": "code",
   "execution_count": 47,
   "metadata": {},
   "outputs": [
    {
     "data": {
      "text/plain": [
       "qtd    170\n",
       "dtype: int64"
      ]
     },
     "execution_count": 47,
     "metadata": {},
     "output_type": "execute_result"
    }
   ],
   "source": [
    "qtd_clusters.sum()"
   ]
  },
  {
   "cell_type": "markdown",
   "metadata": {},
   "source": [
    "## Evaluation Classification\n",
    "https://scikit-learn.org/stable/modules/clustering.html#clustering-performance-evaluation"
   ]
  },
  {
   "cell_type": "code",
   "execution_count": 48,
   "metadata": {},
   "outputs": [],
   "source": [
    "dt_eval = features_names[['Cluster', 'name']].copy()"
   ]
  },
  {
   "cell_type": "code",
   "execution_count": 49,
   "metadata": {},
   "outputs": [
    {
     "data": {
      "text/plain": [
       "(170, 2)"
      ]
     },
     "execution_count": 49,
     "metadata": {},
     "output_type": "execute_result"
    }
   ],
   "source": [
    "dt_eval.shape"
   ]
  },
  {
   "cell_type": "code",
   "execution_count": 50,
   "metadata": {},
   "outputs": [],
   "source": [
    "labels_true = dt_eval['name'].values\n"
   ]
  },
  {
   "cell_type": "code",
   "execution_count": 51,
   "metadata": {},
   "outputs": [],
   "source": [
    "labels_pred = dt_eval['Cluster'].values"
   ]
  },
  {
   "cell_type": "code",
   "execution_count": 52,
   "metadata": {},
   "outputs": [
    {
     "data": {
      "text/plain": [
       "0.9484594620057041"
      ]
     },
     "execution_count": 52,
     "metadata": {},
     "output_type": "execute_result"
    }
   ],
   "source": [
    "metrics.homogeneity_score(labels_true,labels_pred)"
   ]
  },
  {
   "cell_type": "code",
   "execution_count": 60,
   "metadata": {},
   "outputs": [
    {
     "data": {
      "text/html": [
       "<div>\n",
       "<style scoped>\n",
       "    .dataframe tbody tr th:only-of-type {\n",
       "        vertical-align: middle;\n",
       "    }\n",
       "\n",
       "    .dataframe tbody tr th {\n",
       "        vertical-align: top;\n",
       "    }\n",
       "\n",
       "    .dataframe thead th {\n",
       "        text-align: right;\n",
       "    }\n",
       "</style>\n",
       "<table border=\"1\" class=\"dataframe\">\n",
       "  <thead>\n",
       "    <tr style=\"text-align: right;\">\n",
       "      <th></th>\n",
       "      <th>file</th>\n",
       "      <th>name</th>\n",
       "      <th>embeddings</th>\n",
       "      <th>complete_url</th>\n",
       "    </tr>\n",
       "  </thead>\n",
       "  <tbody>\n",
       "    <tr>\n",
       "      <th>1554</th>\n",
       "      <td>John_Negroponte_0003.jpg</td>\n",
       "      <td>John_Negroponte</td>\n",
       "      <td>[0.95598954, 0.0, 0.0, 0.0, 0.70100164, 17.697...</td>\n",
       "      <td>dataset/John_Negroponte/John_Negroponte_0003.jpg</td>\n",
       "    </tr>\n",
       "    <tr>\n",
       "      <th>1566</th>\n",
       "      <td>John_Negroponte_0004.jpg</td>\n",
       "      <td>John_Negroponte</td>\n",
       "      <td>[0.07201728, 0.011171901, 0.5596417, 0.0005444...</td>\n",
       "      <td>dataset/John_Negroponte/John_Negroponte_0004.jpg</td>\n",
       "    </tr>\n",
       "    <tr>\n",
       "      <th>1576</th>\n",
       "      <td>John_Negroponte_0023.jpg</td>\n",
       "      <td>John_Negroponte</td>\n",
       "      <td>[1.6525468, 0.0, 0.03995183, 0.0, 4.4809127, 6...</td>\n",
       "      <td>dataset/John_Negroponte/John_Negroponte_0023.jpg</td>\n",
       "    </tr>\n",
       "  </tbody>\n",
       "</table>\n",
       "</div>"
      ],
      "text/plain": [
       "                          file             name  \\\n",
       "1554  John_Negroponte_0003.jpg  John_Negroponte   \n",
       "1566  John_Negroponte_0004.jpg  John_Negroponte   \n",
       "1576  John_Negroponte_0023.jpg  John_Negroponte   \n",
       "\n",
       "                                             embeddings  \\\n",
       "1554  [0.95598954, 0.0, 0.0, 0.0, 0.70100164, 17.697...   \n",
       "1566  [0.07201728, 0.011171901, 0.5596417, 0.0005444...   \n",
       "1576  [1.6525468, 0.0, 0.03995183, 0.0, 4.4809127, 6...   \n",
       "\n",
       "                                          complete_url  \n",
       "1554  dataset/John_Negroponte/John_Negroponte_0003.jpg  \n",
       "1566  dataset/John_Negroponte/John_Negroponte_0004.jpg  \n",
       "1576  dataset/John_Negroponte/John_Negroponte_0023.jpg  "
      ]
     },
     "execution_count": 60,
     "metadata": {},
     "output_type": "execute_result"
    }
   ],
   "source": [
    "face_embeddings.loc[(dt_eval['Cluster'] == 7) & (dt_eval['name'] == 'John_Negroponte')]"
   ]
  },
  {
   "cell_type": "code",
   "execution_count": null,
   "metadata": {},
   "outputs": [],
   "source": []
  }
 ],
 "metadata": {
  "kernelspec": {
   "display_name": "Python 3",
   "language": "python",
   "name": "python3"
  },
  "language_info": {
   "codemirror_mode": {
    "name": "ipython",
    "version": 3
   },
   "file_extension": ".py",
   "mimetype": "text/x-python",
   "name": "python",
   "nbconvert_exporter": "python",
   "pygments_lexer": "ipython3",
   "version": "3.6.8"
  }
 },
 "nbformat": 4,
 "nbformat_minor": 4
}
