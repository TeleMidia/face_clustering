{
 "cells": [
  {
   "cell_type": "code",
   "execution_count": 1,
   "metadata": {},
   "outputs": [],
   "source": [
    "%matplotlib inline"
   ]
  },
  {
   "cell_type": "code",
   "execution_count": 2,
   "metadata": {},
   "outputs": [],
   "source": [
    "%load_ext autoreload\n",
    "%autoreload 2"
   ]
  },
  {
   "cell_type": "code",
   "execution_count": 3,
   "metadata": {},
   "outputs": [],
   "source": [
    "import pandas as pd\n",
    "import numpy as np\n",
    "from sklearn.preprocessing import MinMaxScaler\n",
    "from sklearn.cluster import KMeans\n",
    "from sklearn.cluster import MeanShift\n",
    "from IPython.display import Image\n",
    "from sklearn import metrics\n",
    "import random"
   ]
  },
  {
   "cell_type": "code",
   "execution_count": 4,
   "metadata": {},
   "outputs": [],
   "source": [
    "face_embeddings = pd.read_pickle('faces_leg55_embeddings.pkl')"
   ]
  },
  {
   "cell_type": "code",
   "execution_count": 5,
   "metadata": {},
   "outputs": [
    {
     "data": {
      "text/plain": [
       "(8638, 4)"
      ]
     },
     "execution_count": 5,
     "metadata": {},
     "output_type": "execute_result"
    }
   ],
   "source": [
    "face_embeddings.shape"
   ]
  },
  {
   "cell_type": "markdown",
   "metadata": {},
   "source": [
    "## Quantity of Pictures Histogram"
   ]
  },
  {
   "cell_type": "code",
   "execution_count": 6,
   "metadata": {},
   "outputs": [
    {
     "data": {
      "text/html": [
       "<div>\n",
       "<style scoped>\n",
       "    .dataframe tbody tr th:only-of-type {\n",
       "        vertical-align: middle;\n",
       "    }\n",
       "\n",
       "    .dataframe tbody tr th {\n",
       "        vertical-align: top;\n",
       "    }\n",
       "\n",
       "    .dataframe thead th {\n",
       "        text-align: right;\n",
       "    }\n",
       "</style>\n",
       "<table border=\"1\" class=\"dataframe\">\n",
       "  <thead>\n",
       "    <tr style=\"text-align: right;\">\n",
       "      <th></th>\n",
       "      <th>file</th>\n",
       "    </tr>\n",
       "  </thead>\n",
       "  <tbody>\n",
       "    <tr>\n",
       "      <th>count</th>\n",
       "      <td>514.000000</td>\n",
       "    </tr>\n",
       "    <tr>\n",
       "      <th>mean</th>\n",
       "      <td>16.805447</td>\n",
       "    </tr>\n",
       "    <tr>\n",
       "      <th>std</th>\n",
       "      <td>6.446140</td>\n",
       "    </tr>\n",
       "    <tr>\n",
       "      <th>min</th>\n",
       "      <td>1.000000</td>\n",
       "    </tr>\n",
       "    <tr>\n",
       "      <th>25%</th>\n",
       "      <td>12.000000</td>\n",
       "    </tr>\n",
       "    <tr>\n",
       "      <th>50%</th>\n",
       "      <td>17.000000</td>\n",
       "    </tr>\n",
       "    <tr>\n",
       "      <th>75%</th>\n",
       "      <td>22.000000</td>\n",
       "    </tr>\n",
       "    <tr>\n",
       "      <th>max</th>\n",
       "      <td>31.000000</td>\n",
       "    </tr>\n",
       "  </tbody>\n",
       "</table>\n",
       "</div>"
      ],
      "text/plain": [
       "             file\n",
       "count  514.000000\n",
       "mean    16.805447\n",
       "std      6.446140\n",
       "min      1.000000\n",
       "25%     12.000000\n",
       "50%     17.000000\n",
       "75%     22.000000\n",
       "max     31.000000"
      ]
     },
     "execution_count": 6,
     "metadata": {},
     "output_type": "execute_result"
    }
   ],
   "source": [
    "qtd_images = face_embeddings[[\"name\", \"file\"]].groupby('name').count()\n",
    "qtd_images.describe()"
   ]
  },
  {
   "cell_type": "code",
   "execution_count": 7,
   "metadata": {},
   "outputs": [
    {
     "data": {
      "text/plain": [
       "<matplotlib.axes._subplots.AxesSubplot at 0x1fac2499f60>"
      ]
     },
     "execution_count": 7,
     "metadata": {},
     "output_type": "execute_result"
    },
    {
     "data": {
      "image/png": "[encoded data removed]",
      "text/plain": [
       "<Figure size 864x504 with 1 Axes>"
      ]
     },
     "metadata": {
      "needs_background": "light"
     },
     "output_type": "display_data"
    }
   ],
   "source": [
    "qtd_images.plot.hist(alpha=0.3, density = True, figsize=(12,7), bins=30)"
   ]
  },
  {
   "cell_type": "markdown",
   "metadata": {},
   "source": [
    "## Selecting People"
   ]
  },
  {
   "cell_type": "code",
   "execution_count": 8,
   "metadata": {},
   "outputs": [
    {
     "data": {
      "text/plain": [
       "514"
      ]
     },
     "execution_count": 8,
     "metadata": {},
     "output_type": "execute_result"
    }
   ],
   "source": [
    "people = qtd_images.index.values\n",
    "len(people)"
   ]
  },
  {
   "cell_type": "markdown",
   "metadata": {},
   "source": [
    "random.shuffle(people)\n",
    "people = people[:25]\n",
    "people"
   ]
  },
  {
   "cell_type": "markdown",
   "metadata": {},
   "source": [
    "face_embeddings = face_embeddings.loc[face_embeddings['name'].isin(people)]"
   ]
  },
  {
   "cell_type": "markdown",
   "metadata": {},
   "source": [
    "## Features Separation"
   ]
  },
  {
   "cell_type": "code",
   "execution_count": 9,
   "metadata": {},
   "outputs": [],
   "source": [
    "features = pd.DataFrame(face_embeddings['embeddings'].values.tolist(), index = face_embeddings.index)"
   ]
  },
  {
   "cell_type": "code",
   "execution_count": 10,
   "metadata": {},
   "outputs": [
    {
     "data": {
      "text/html": [
       "<div>\n",
       "<style scoped>\n",
       "    .dataframe tbody tr th:only-of-type {\n",
       "        vertical-align: middle;\n",
       "    }\n",
       "\n",
       "    .dataframe tbody tr th {\n",
       "        vertical-align: top;\n",
       "    }\n",
       "\n",
       "    .dataframe thead th {\n",
       "        text-align: right;\n",
       "    }\n",
       "</style>\n",
       "<table border=\"1\" class=\"dataframe\">\n",
       "  <thead>\n",
       "    <tr style=\"text-align: right;\">\n",
       "      <th></th>\n",
       "      <th>0</th>\n",
       "      <th>1</th>\n",
       "      <th>2</th>\n",
       "      <th>3</th>\n",
       "      <th>4</th>\n",
       "      <th>5</th>\n",
       "      <th>6</th>\n",
       "      <th>7</th>\n",
       "      <th>8</th>\n",
       "      <th>9</th>\n",
       "      <th>...</th>\n",
       "      <th>2038</th>\n",
       "      <th>2039</th>\n",
       "      <th>2040</th>\n",
       "      <th>2041</th>\n",
       "      <th>2042</th>\n",
       "      <th>2043</th>\n",
       "      <th>2044</th>\n",
       "      <th>2045</th>\n",
       "      <th>2046</th>\n",
       "      <th>2047</th>\n",
       "    </tr>\n",
       "  </thead>\n",
       "  <tbody>\n",
       "    <tr>\n",
       "      <th>0</th>\n",
       "      <td>1.324466</td>\n",
       "      <td>0.590479</td>\n",
       "      <td>4.177269</td>\n",
       "      <td>0.794232</td>\n",
       "      <td>1.154053</td>\n",
       "      <td>0.189766</td>\n",
       "      <td>0.326489</td>\n",
       "      <td>0.063237</td>\n",
       "      <td>0.000000</td>\n",
       "      <td>0.184393</td>\n",
       "      <td>...</td>\n",
       "      <td>0.000000</td>\n",
       "      <td>0.176240</td>\n",
       "      <td>0.219538</td>\n",
       "      <td>9.977808</td>\n",
       "      <td>0.215569</td>\n",
       "      <td>0.000000</td>\n",
       "      <td>3.782899</td>\n",
       "      <td>1.052073</td>\n",
       "      <td>1.492542</td>\n",
       "      <td>0.000000</td>\n",
       "    </tr>\n",
       "    <tr>\n",
       "      <th>1</th>\n",
       "      <td>0.002210</td>\n",
       "      <td>1.062065</td>\n",
       "      <td>3.593089</td>\n",
       "      <td>0.046138</td>\n",
       "      <td>0.727612</td>\n",
       "      <td>0.000000</td>\n",
       "      <td>0.066200</td>\n",
       "      <td>0.275549</td>\n",
       "      <td>0.135222</td>\n",
       "      <td>0.578179</td>\n",
       "      <td>...</td>\n",
       "      <td>0.441180</td>\n",
       "      <td>4.045145</td>\n",
       "      <td>14.904554</td>\n",
       "      <td>1.481576</td>\n",
       "      <td>1.184693</td>\n",
       "      <td>0.172527</td>\n",
       "      <td>0.459387</td>\n",
       "      <td>0.045941</td>\n",
       "      <td>0.071523</td>\n",
       "      <td>0.026189</td>\n",
       "    </tr>\n",
       "    <tr>\n",
       "      <th>2</th>\n",
       "      <td>0.317011</td>\n",
       "      <td>1.805298</td>\n",
       "      <td>1.743578</td>\n",
       "      <td>7.373654</td>\n",
       "      <td>0.195877</td>\n",
       "      <td>0.012363</td>\n",
       "      <td>0.241778</td>\n",
       "      <td>0.123456</td>\n",
       "      <td>0.000000</td>\n",
       "      <td>0.258348</td>\n",
       "      <td>...</td>\n",
       "      <td>0.371176</td>\n",
       "      <td>0.747173</td>\n",
       "      <td>6.599727</td>\n",
       "      <td>3.803473</td>\n",
       "      <td>2.865514</td>\n",
       "      <td>0.000000</td>\n",
       "      <td>2.840656</td>\n",
       "      <td>0.000000</td>\n",
       "      <td>0.136122</td>\n",
       "      <td>0.000000</td>\n",
       "    </tr>\n",
       "    <tr>\n",
       "      <th>3</th>\n",
       "      <td>0.611791</td>\n",
       "      <td>2.538343</td>\n",
       "      <td>0.000000</td>\n",
       "      <td>0.035358</td>\n",
       "      <td>0.512663</td>\n",
       "      <td>0.840032</td>\n",
       "      <td>0.154486</td>\n",
       "      <td>0.000000</td>\n",
       "      <td>0.000000</td>\n",
       "      <td>2.098919</td>\n",
       "      <td>...</td>\n",
       "      <td>0.194207</td>\n",
       "      <td>0.000000</td>\n",
       "      <td>0.244555</td>\n",
       "      <td>7.622066</td>\n",
       "      <td>1.536317</td>\n",
       "      <td>0.000000</td>\n",
       "      <td>7.341623</td>\n",
       "      <td>0.084740</td>\n",
       "      <td>1.659206</td>\n",
       "      <td>0.000000</td>\n",
       "    </tr>\n",
       "    <tr>\n",
       "      <th>4</th>\n",
       "      <td>0.089856</td>\n",
       "      <td>2.015731</td>\n",
       "      <td>6.539081</td>\n",
       "      <td>1.612788</td>\n",
       "      <td>1.004490</td>\n",
       "      <td>0.000000</td>\n",
       "      <td>0.015355</td>\n",
       "      <td>0.000000</td>\n",
       "      <td>0.000000</td>\n",
       "      <td>0.000000</td>\n",
       "      <td>...</td>\n",
       "      <td>0.000000</td>\n",
       "      <td>0.225222</td>\n",
       "      <td>0.257106</td>\n",
       "      <td>5.957454</td>\n",
       "      <td>0.025167</td>\n",
       "      <td>0.043443</td>\n",
       "      <td>0.770127</td>\n",
       "      <td>0.237715</td>\n",
       "      <td>0.113750</td>\n",
       "      <td>0.000000</td>\n",
       "    </tr>\n",
       "  </tbody>\n",
       "</table>\n",
       "<p>5 rows × 2048 columns</p>\n",
       "</div>"
      ],
      "text/plain": [
       "       0         1         2         3         4         5         6     \\\n",
       "0  1.324466  0.590479  4.177269  0.794232  1.154053  0.189766  0.326489   \n",
       "1  0.002210  1.062065  3.593089  0.046138  0.727612  0.000000  0.066200   \n",
       "2  0.317011  1.805298  1.743578  7.373654  0.195877  0.012363  0.241778   \n",
       "3  0.611791  2.538343  0.000000  0.035358  0.512663  0.840032  0.154486   \n",
       "4  0.089856  2.015731  6.539081  1.612788  1.004490  0.000000  0.015355   \n",
       "\n",
       "       7         8         9     ...      2038      2039       2040      2041  \\\n",
       "0  0.063237  0.000000  0.184393  ...  0.000000  0.176240   0.219538  9.977808   \n",
       "1  0.275549  0.135222  0.578179  ...  0.441180  4.045145  14.904554  1.481576   \n",
       "2  0.123456  0.000000  0.258348  ...  0.371176  0.747173   6.599727  3.803473   \n",
       "3  0.000000  0.000000  2.098919  ...  0.194207  0.000000   0.244555  7.622066   \n",
       "4  0.000000  0.000000  0.000000  ...  0.000000  0.225222   0.257106  5.957454   \n",
       "\n",
       "       2042      2043      2044      2045      2046      2047  \n",
       "0  0.215569  0.000000  3.782899  1.052073  1.492542  0.000000  \n",
       "1  1.184693  0.172527  0.459387  0.045941  0.071523  0.026189  \n",
       "2  2.865514  0.000000  2.840656  0.000000  0.136122  0.000000  \n",
       "3  1.536317  0.000000  7.341623  0.084740  1.659206  0.000000  \n",
       "4  0.025167  0.043443  0.770127  0.237715  0.113750  0.000000  \n",
       "\n",
       "[5 rows x 2048 columns]"
      ]
     },
     "execution_count": 10,
     "metadata": {},
     "output_type": "execute_result"
    }
   ],
   "source": [
    "features.head()"
   ]
  },
  {
   "cell_type": "markdown",
   "metadata": {},
   "source": [
    "## Scaling"
   ]
  },
  {
   "cell_type": "code",
   "execution_count": 11,
   "metadata": {},
   "outputs": [],
   "source": [
    "scaler = MinMaxScaler()\n",
    "\n",
    "features_scaled = scaler.fit_transform(features)"
   ]
  },
  {
   "cell_type": "code",
   "execution_count": 12,
   "metadata": {},
   "outputs": [
    {
     "data": {
      "text/plain": [
       "array([[7.76573976e-02, 2.76238480e-02, 2.69832536e-01, ...,\n",
       "        4.67726999e-02, 8.09458319e-02, 0.00000000e+00],\n",
       "       [1.29598137e-04, 4.96856445e-02, 2.32097148e-01, ...,\n",
       "        2.04244080e-03, 3.87895902e-03, 9.81149876e-04],\n",
       "       [1.85872895e-02, 8.44556604e-02, 1.12627204e-01, ...,\n",
       "        0.00000000e+00, 7.38238785e-03, 0.00000000e+00],\n",
       "       ...,\n",
       "       [0.00000000e+00, 0.00000000e+00, 4.28247489e-04, ...,\n",
       "        2.01022656e-01, 1.26232726e-02, 3.04610079e-04],\n",
       "       [0.00000000e+00, 3.64220977e-04, 0.00000000e+00, ...,\n",
       "        3.22544733e-03, 7.68389669e-02, 1.60825482e-02],\n",
       "       [0.00000000e+00, 0.00000000e+00, 0.00000000e+00, ...,\n",
       "        0.00000000e+00, 1.59605087e-03, 0.00000000e+00]])"
      ]
     },
     "execution_count": 12,
     "metadata": {},
     "output_type": "execute_result"
    }
   ],
   "source": [
    "features_scaled"
   ]
  },
  {
   "cell_type": "markdown",
   "metadata": {},
   "source": [
    "## Silhuoette Analysis"
   ]
  },
  {
   "cell_type": "markdown",
   "metadata": {},
   "source": [
    "Look for elbow evaluation\n",
    "\n",
    "https://towardsdatascience.com/k-means-clustering-algorithm-applications-evaluation-methods-and-drawbacks-aa03e644b48a"
   ]
  },
  {
   "cell_type": "markdown",
   "metadata": {},
   "source": [
    "import silhouette_paulo"
   ]
  },
  {
   "cell_type": "markdown",
   "metadata": {
    "scrolled": false
   },
   "source": [
    "silhouette_values = silhouette_paulo.analyze(features_scaled, [i+2 for i in range(len(people)*2)], show_individual_graphs = False)"
   ]
  },
  {
   "cell_type": "markdown",
   "metadata": {},
   "source": [
    "## Clustering\n",
    "See k-means in tensorflow:  https://www.tensorflow.org/api_docs/python/tf/compat/v1/estimator/experimental/KMeans"
   ]
  },
  {
   "cell_type": "code",
   "execution_count": 13,
   "metadata": {},
   "outputs": [],
   "source": [
    "model = KMeans(n_clusters=514, verbose = 0, random_state=42)"
   ]
  },
  {
   "cell_type": "code",
   "execution_count": 14,
   "metadata": {},
   "outputs": [],
   "source": [
    "cluster_labels = model.fit_predict(features_scaled)"
   ]
  },
  {
   "cell_type": "code",
   "execution_count": 15,
   "metadata": {},
   "outputs": [
    {
     "data": {
      "text/html": [
       "<div>\n",
       "<style scoped>\n",
       "    .dataframe tbody tr th:only-of-type {\n",
       "        vertical-align: middle;\n",
       "    }\n",
       "\n",
       "    .dataframe tbody tr th {\n",
       "        vertical-align: top;\n",
       "    }\n",
       "\n",
       "    .dataframe thead th {\n",
       "        text-align: right;\n",
       "    }\n",
       "</style>\n",
       "<table border=\"1\" class=\"dataframe\">\n",
       "  <thead>\n",
       "    <tr style=\"text-align: right;\">\n",
       "      <th></th>\n",
       "      <th>0</th>\n",
       "      <th>1</th>\n",
       "      <th>2</th>\n",
       "      <th>3</th>\n",
       "      <th>4</th>\n",
       "      <th>5</th>\n",
       "      <th>6</th>\n",
       "      <th>7</th>\n",
       "      <th>8</th>\n",
       "      <th>9</th>\n",
       "      <th>...</th>\n",
       "      <th>2039</th>\n",
       "      <th>2040</th>\n",
       "      <th>2041</th>\n",
       "      <th>2042</th>\n",
       "      <th>2043</th>\n",
       "      <th>2044</th>\n",
       "      <th>2045</th>\n",
       "      <th>2046</th>\n",
       "      <th>2047</th>\n",
       "      <th>Cluster</th>\n",
       "    </tr>\n",
       "  </thead>\n",
       "  <tbody>\n",
       "    <tr>\n",
       "      <th>0</th>\n",
       "      <td>1.324466</td>\n",
       "      <td>0.590479</td>\n",
       "      <td>4.177269</td>\n",
       "      <td>0.794232</td>\n",
       "      <td>1.154053</td>\n",
       "      <td>0.189766</td>\n",
       "      <td>0.326489</td>\n",
       "      <td>0.063237</td>\n",
       "      <td>0.000000</td>\n",
       "      <td>0.184393</td>\n",
       "      <td>...</td>\n",
       "      <td>0.176240</td>\n",
       "      <td>0.219538</td>\n",
       "      <td>9.977808</td>\n",
       "      <td>0.215569</td>\n",
       "      <td>0.000000</td>\n",
       "      <td>3.782899</td>\n",
       "      <td>1.052073</td>\n",
       "      <td>1.492542</td>\n",
       "      <td>0.000000</td>\n",
       "      <td>149</td>\n",
       "    </tr>\n",
       "    <tr>\n",
       "      <th>1</th>\n",
       "      <td>0.002210</td>\n",
       "      <td>1.062065</td>\n",
       "      <td>3.593089</td>\n",
       "      <td>0.046138</td>\n",
       "      <td>0.727612</td>\n",
       "      <td>0.000000</td>\n",
       "      <td>0.066200</td>\n",
       "      <td>0.275549</td>\n",
       "      <td>0.135222</td>\n",
       "      <td>0.578179</td>\n",
       "      <td>...</td>\n",
       "      <td>4.045145</td>\n",
       "      <td>14.904554</td>\n",
       "      <td>1.481576</td>\n",
       "      <td>1.184693</td>\n",
       "      <td>0.172527</td>\n",
       "      <td>0.459387</td>\n",
       "      <td>0.045941</td>\n",
       "      <td>0.071523</td>\n",
       "      <td>0.026189</td>\n",
       "      <td>149</td>\n",
       "    </tr>\n",
       "    <tr>\n",
       "      <th>2</th>\n",
       "      <td>0.317011</td>\n",
       "      <td>1.805298</td>\n",
       "      <td>1.743578</td>\n",
       "      <td>7.373654</td>\n",
       "      <td>0.195877</td>\n",
       "      <td>0.012363</td>\n",
       "      <td>0.241778</td>\n",
       "      <td>0.123456</td>\n",
       "      <td>0.000000</td>\n",
       "      <td>0.258348</td>\n",
       "      <td>...</td>\n",
       "      <td>0.747173</td>\n",
       "      <td>6.599727</td>\n",
       "      <td>3.803473</td>\n",
       "      <td>2.865514</td>\n",
       "      <td>0.000000</td>\n",
       "      <td>2.840656</td>\n",
       "      <td>0.000000</td>\n",
       "      <td>0.136122</td>\n",
       "      <td>0.000000</td>\n",
       "      <td>149</td>\n",
       "    </tr>\n",
       "    <tr>\n",
       "      <th>3</th>\n",
       "      <td>0.611791</td>\n",
       "      <td>2.538343</td>\n",
       "      <td>0.000000</td>\n",
       "      <td>0.035358</td>\n",
       "      <td>0.512663</td>\n",
       "      <td>0.840032</td>\n",
       "      <td>0.154486</td>\n",
       "      <td>0.000000</td>\n",
       "      <td>0.000000</td>\n",
       "      <td>2.098919</td>\n",
       "      <td>...</td>\n",
       "      <td>0.000000</td>\n",
       "      <td>0.244555</td>\n",
       "      <td>7.622066</td>\n",
       "      <td>1.536317</td>\n",
       "      <td>0.000000</td>\n",
       "      <td>7.341623</td>\n",
       "      <td>0.084740</td>\n",
       "      <td>1.659206</td>\n",
       "      <td>0.000000</td>\n",
       "      <td>16</td>\n",
       "    </tr>\n",
       "    <tr>\n",
       "      <th>4</th>\n",
       "      <td>0.089856</td>\n",
       "      <td>2.015731</td>\n",
       "      <td>6.539081</td>\n",
       "      <td>1.612788</td>\n",
       "      <td>1.004490</td>\n",
       "      <td>0.000000</td>\n",
       "      <td>0.015355</td>\n",
       "      <td>0.000000</td>\n",
       "      <td>0.000000</td>\n",
       "      <td>0.000000</td>\n",
       "      <td>...</td>\n",
       "      <td>0.225222</td>\n",
       "      <td>0.257106</td>\n",
       "      <td>5.957454</td>\n",
       "      <td>0.025167</td>\n",
       "      <td>0.043443</td>\n",
       "      <td>0.770127</td>\n",
       "      <td>0.237715</td>\n",
       "      <td>0.113750</td>\n",
       "      <td>0.000000</td>\n",
       "      <td>149</td>\n",
       "    </tr>\n",
       "  </tbody>\n",
       "</table>\n",
       "<p>5 rows × 2049 columns</p>\n",
       "</div>"
      ],
      "text/plain": [
       "          0         1         2         3         4         5         6  \\\n",
       "0  1.324466  0.590479  4.177269  0.794232  1.154053  0.189766  0.326489   \n",
       "1  0.002210  1.062065  3.593089  0.046138  0.727612  0.000000  0.066200   \n",
       "2  0.317011  1.805298  1.743578  7.373654  0.195877  0.012363  0.241778   \n",
       "3  0.611791  2.538343  0.000000  0.035358  0.512663  0.840032  0.154486   \n",
       "4  0.089856  2.015731  6.539081  1.612788  1.004490  0.000000  0.015355   \n",
       "\n",
       "          7         8         9  ...      2039       2040      2041      2042  \\\n",
       "0  0.063237  0.000000  0.184393  ...  0.176240   0.219538  9.977808  0.215569   \n",
       "1  0.275549  0.135222  0.578179  ...  4.045145  14.904554  1.481576  1.184693   \n",
       "2  0.123456  0.000000  0.258348  ...  0.747173   6.599727  3.803473  2.865514   \n",
       "3  0.000000  0.000000  2.098919  ...  0.000000   0.244555  7.622066  1.536317   \n",
       "4  0.000000  0.000000  0.000000  ...  0.225222   0.257106  5.957454  0.025167   \n",
       "\n",
       "       2043      2044      2045      2046      2047  Cluster  \n",
       "0  0.000000  3.782899  1.052073  1.492542  0.000000      149  \n",
       "1  0.172527  0.459387  0.045941  0.071523  0.026189      149  \n",
       "2  0.000000  2.840656  0.000000  0.136122  0.000000      149  \n",
       "3  0.000000  7.341623  0.084740  1.659206  0.000000       16  \n",
       "4  0.043443  0.770127  0.237715  0.113750  0.000000      149  \n",
       "\n",
       "[5 rows x 2049 columns]"
      ]
     },
     "execution_count": 15,
     "metadata": {},
     "output_type": "execute_result"
    }
   ],
   "source": [
    "features['Cluster'] = cluster_labels\n",
    "features.head()"
   ]
  },
  {
   "cell_type": "markdown",
   "metadata": {},
   "source": [
    "## Analyzing Clusters"
   ]
  },
  {
   "cell_type": "code",
   "execution_count": null,
   "metadata": {},
   "outputs": [],
   "source": [
    "features_names = features.copy()"
   ]
  },
  {
   "cell_type": "code",
   "execution_count": null,
   "metadata": {},
   "outputs": [],
   "source": [
    "features_names['name'] = face_embeddings['name']"
   ]
  },
  {
   "cell_type": "code",
   "execution_count": null,
   "metadata": {},
   "outputs": [],
   "source": [
    "people_clusters = features_names[['name', 'Cluster']].copy()"
   ]
  },
  {
   "cell_type": "code",
   "execution_count": null,
   "metadata": {},
   "outputs": [],
   "source": [
    "people_clusters['qtd'] = cluster_labels"
   ]
  },
  {
   "cell_type": "code",
   "execution_count": null,
   "metadata": {
    "scrolled": true
   },
   "outputs": [],
   "source": [
    "qtd_clusters = people_clusters.groupby(['Cluster', 'name']).count()\n",
    "qtd_clusters.head()"
   ]
  },
  {
   "cell_type": "code",
   "execution_count": null,
   "metadata": {},
   "outputs": [],
   "source": [
    "qtd_clusters = people_clusters.groupby(['name','Cluster']).count()\n",
    "qtd_clusters.head()"
   ]
  },
  {
   "cell_type": "code",
   "execution_count": null,
   "metadata": {},
   "outputs": [],
   "source": [
    "qtd_clusters.sum()"
   ]
  },
  {
   "cell_type": "markdown",
   "metadata": {},
   "source": [
    "## Evaluation Classification\n",
    "https://scikit-learn.org/stable/modules/clustering.html#clustering-performance-evaluation"
   ]
  },
  {
   "cell_type": "code",
   "execution_count": null,
   "metadata": {},
   "outputs": [],
   "source": [
    "dt_eval = features_names[['Cluster', 'name']].copy()"
   ]
  },
  {
   "cell_type": "code",
   "execution_count": null,
   "metadata": {},
   "outputs": [],
   "source": [
    "dt_eval.shape"
   ]
  },
  {
   "cell_type": "code",
   "execution_count": null,
   "metadata": {},
   "outputs": [],
   "source": [
    "labels_true = dt_eval['name'].values\n"
   ]
  },
  {
   "cell_type": "code",
   "execution_count": null,
   "metadata": {},
   "outputs": [],
   "source": [
    "labels_pred = dt_eval['Cluster'].values"
   ]
  },
  {
   "cell_type": "code",
   "execution_count": null,
   "metadata": {},
   "outputs": [],
   "source": [
    "metrics.homogeneity_score(labels_true,labels_pred)"
   ]
  },
  {
   "cell_type": "code",
   "execution_count": null,
   "metadata": {},
   "outputs": [],
   "source": [
    "metrics.completeness_score(labels_true, labels_pred)"
   ]
  },
  {
   "cell_type": "code",
   "execution_count": null,
   "metadata": {},
   "outputs": [],
   "source": [
    "metrics.v_measure_score(labels_true, labels_pred)"
   ]
  },
  {
   "cell_type": "raw",
   "metadata": {},
   "source": [
    "Todo\n",
    "\n",
    "testar backbone1:resnet kmeans e outras variantes\n"
   ]
  }
 ],
 "metadata": {
  "kernelspec": {
   "display_name": "Python 3",
   "language": "python",
   "name": "python3"
  },
  "language_info": {
   "codemirror_mode": {
    "name": "ipython",
    "version": 3
   },
   "file_extension": ".py",
   "mimetype": "text/x-python",
   "name": "python",
   "nbconvert_exporter": "python",
   "pygments_lexer": "ipython3",
   "version": "3.6.8"
  }
 },
 "nbformat": 4,
 "nbformat_minor": 4
}
