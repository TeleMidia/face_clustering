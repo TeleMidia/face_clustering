{
 "cells": [
  {
   "cell_type": "code",
   "execution_count": 4,
   "metadata": {},
   "outputs": [],
   "source": [
    "%matplotlib inline"
   ]
  },
  {
   "cell_type": "code",
   "execution_count": 5,
   "metadata": {},
   "outputs": [
    {
     "name": "stdout",
     "output_type": "stream",
     "text": [
      "The autoreload extension is already loaded. To reload it, use:\n",
      "  %reload_ext autoreload\n"
     ]
    }
   ],
   "source": [
    "%load_ext autoreload\n",
    "%autoreload 2"
   ]
  },
  {
   "cell_type": "code",
   "execution_count": 6,
   "metadata": {},
   "outputs": [],
   "source": [
    "import pandas as pd\n",
    "import numpy as np\n",
    "from sklearn.preprocessing import MinMaxScaler\n",
    "from IPython.display import Image\n",
    "from sklearn import metrics\n",
    "import random"
   ]
  },
  {
   "cell_type": "code",
   "execution_count": 7,
   "metadata": {},
   "outputs": [],
   "source": [
    "backbone = 'senet50'"
   ]
  },
  {
   "cell_type": "code",
   "execution_count": 8,
   "metadata": {},
   "outputs": [],
   "source": [
    "face_embeddings = pd.read_pickle(f'faces_leg55_embeddings_{backbone}.pkl')"
   ]
  },
  {
   "cell_type": "code",
   "execution_count": 9,
   "metadata": {},
   "outputs": [
    {
     "data": {
      "text/plain": [
       "(8638, 4)"
      ]
     },
     "execution_count": 9,
     "metadata": {},
     "output_type": "execute_result"
    }
   ],
   "source": [
    "face_embeddings.shape"
   ]
  },
  {
   "cell_type": "markdown",
   "metadata": {},
   "source": [
    "## Quantity of Pictures Histogram"
   ]
  },
  {
   "cell_type": "code",
   "execution_count": 10,
   "metadata": {},
   "outputs": [
    {
     "data": {
      "text/html": [
       "<div>\n",
       "<style scoped>\n",
       "    .dataframe tbody tr th:only-of-type {\n",
       "        vertical-align: middle;\n",
       "    }\n",
       "\n",
       "    .dataframe tbody tr th {\n",
       "        vertical-align: top;\n",
       "    }\n",
       "\n",
       "    .dataframe thead th {\n",
       "        text-align: right;\n",
       "    }\n",
       "</style>\n",
       "<table border=\"1\" class=\"dataframe\">\n",
       "  <thead>\n",
       "    <tr style=\"text-align: right;\">\n",
       "      <th></th>\n",
       "      <th>file</th>\n",
       "    </tr>\n",
       "  </thead>\n",
       "  <tbody>\n",
       "    <tr>\n",
       "      <th>count</th>\n",
       "      <td>514.000000</td>\n",
       "    </tr>\n",
       "    <tr>\n",
       "      <th>mean</th>\n",
       "      <td>16.805447</td>\n",
       "    </tr>\n",
       "    <tr>\n",
       "      <th>std</th>\n",
       "      <td>6.446140</td>\n",
       "    </tr>\n",
       "    <tr>\n",
       "      <th>min</th>\n",
       "      <td>1.000000</td>\n",
       "    </tr>\n",
       "    <tr>\n",
       "      <th>25%</th>\n",
       "      <td>12.000000</td>\n",
       "    </tr>\n",
       "    <tr>\n",
       "      <th>50%</th>\n",
       "      <td>17.000000</td>\n",
       "    </tr>\n",
       "    <tr>\n",
       "      <th>75%</th>\n",
       "      <td>22.000000</td>\n",
       "    </tr>\n",
       "    <tr>\n",
       "      <th>max</th>\n",
       "      <td>31.000000</td>\n",
       "    </tr>\n",
       "  </tbody>\n",
       "</table>\n",
       "</div>"
      ],
      "text/plain": [
       "             file\n",
       "count  514.000000\n",
       "mean    16.805447\n",
       "std      6.446140\n",
       "min      1.000000\n",
       "25%     12.000000\n",
       "50%     17.000000\n",
       "75%     22.000000\n",
       "max     31.000000"
      ]
     },
     "execution_count": 10,
     "metadata": {},
     "output_type": "execute_result"
    }
   ],
   "source": [
    "qtd_images = face_embeddings[[\"name\", \"file\"]].groupby('name').count()\n",
    "qtd_images.describe()"
   ]
  },
  {
   "cell_type": "code",
   "execution_count": 11,
   "metadata": {},
   "outputs": [
    {
     "data": {
      "text/plain": [
       "<matplotlib.axes._subplots.AxesSubplot at 0x2c4e7e66128>"
      ]
     },
     "execution_count": 11,
     "metadata": {},
     "output_type": "execute_result"
    },
    {
     "data": {
      "image/png": "[encoded data removed]",
      "text/plain": [
       "<Figure size 864x504 with 1 Axes>"
      ]
     },
     "metadata": {
      "needs_background": "light"
     },
     "output_type": "display_data"
    }
   ],
   "source": [
    "qtd_images.plot.hist(alpha=0.3, density = True, figsize=(12,7), bins=30)"
   ]
  },
  {
   "cell_type": "markdown",
   "metadata": {},
   "source": [
    "## Selecting People"
   ]
  },
  {
   "cell_type": "code",
   "execution_count": 12,
   "metadata": {},
   "outputs": [
    {
     "data": {
      "text/plain": [
       "514"
      ]
     },
     "execution_count": 12,
     "metadata": {},
     "output_type": "execute_result"
    }
   ],
   "source": [
    "people = qtd_images.index.values\n",
    "len(people)"
   ]
  },
  {
   "cell_type": "markdown",
   "metadata": {},
   "source": [
    "random.shuffle(people)\n",
    "people = people[:25]\n",
    "people"
   ]
  },
  {
   "cell_type": "markdown",
   "metadata": {},
   "source": [
    "face_embeddings = face_embeddings.loc[face_embeddings['name'].isin(people)]"
   ]
  },
  {
   "cell_type": "markdown",
   "metadata": {},
   "source": [
    "## Features Separation"
   ]
  },
  {
   "cell_type": "code",
   "execution_count": 13,
   "metadata": {},
   "outputs": [],
   "source": [
    "features = pd.DataFrame(face_embeddings['embeddings'].values.tolist(), index = face_embeddings.index)"
   ]
  },
  {
   "cell_type": "code",
   "execution_count": 14,
   "metadata": {},
   "outputs": [
    {
     "data": {
      "text/html": [
       "<div>\n",
       "<style scoped>\n",
       "    .dataframe tbody tr th:only-of-type {\n",
       "        vertical-align: middle;\n",
       "    }\n",
       "\n",
       "    .dataframe tbody tr th {\n",
       "        vertical-align: top;\n",
       "    }\n",
       "\n",
       "    .dataframe thead th {\n",
       "        text-align: right;\n",
       "    }\n",
       "</style>\n",
       "<table border=\"1\" class=\"dataframe\">\n",
       "  <thead>\n",
       "    <tr style=\"text-align: right;\">\n",
       "      <th></th>\n",
       "      <th>0</th>\n",
       "      <th>1</th>\n",
       "      <th>2</th>\n",
       "      <th>3</th>\n",
       "      <th>4</th>\n",
       "      <th>5</th>\n",
       "      <th>6</th>\n",
       "      <th>7</th>\n",
       "      <th>8</th>\n",
       "      <th>9</th>\n",
       "      <th>...</th>\n",
       "      <th>2038</th>\n",
       "      <th>2039</th>\n",
       "      <th>2040</th>\n",
       "      <th>2041</th>\n",
       "      <th>2042</th>\n",
       "      <th>2043</th>\n",
       "      <th>2044</th>\n",
       "      <th>2045</th>\n",
       "      <th>2046</th>\n",
       "      <th>2047</th>\n",
       "    </tr>\n",
       "  </thead>\n",
       "  <tbody>\n",
       "    <tr>\n",
       "      <th>0</th>\n",
       "      <td>0.099673</td>\n",
       "      <td>0.028490</td>\n",
       "      <td>0.205105</td>\n",
       "      <td>0.586825</td>\n",
       "      <td>0.001641</td>\n",
       "      <td>1.195065</td>\n",
       "      <td>9.696318</td>\n",
       "      <td>0.195944</td>\n",
       "      <td>1.285026</td>\n",
       "      <td>0.004162</td>\n",
       "      <td>...</td>\n",
       "      <td>1.476944</td>\n",
       "      <td>0.318303</td>\n",
       "      <td>0.077281</td>\n",
       "      <td>0.078882</td>\n",
       "      <td>0.016868</td>\n",
       "      <td>0.057342</td>\n",
       "      <td>2.142210</td>\n",
       "      <td>0.005792</td>\n",
       "      <td>0.093422</td>\n",
       "      <td>3.583227</td>\n",
       "    </tr>\n",
       "    <tr>\n",
       "      <th>1</th>\n",
       "      <td>0.086342</td>\n",
       "      <td>0.131128</td>\n",
       "      <td>0.001552</td>\n",
       "      <td>0.211647</td>\n",
       "      <td>3.386817</td>\n",
       "      <td>5.728385</td>\n",
       "      <td>11.388655</td>\n",
       "      <td>0.007501</td>\n",
       "      <td>0.059680</td>\n",
       "      <td>0.022477</td>\n",
       "      <td>...</td>\n",
       "      <td>2.244408</td>\n",
       "      <td>0.031219</td>\n",
       "      <td>0.064146</td>\n",
       "      <td>0.000102</td>\n",
       "      <td>0.022523</td>\n",
       "      <td>1.805351</td>\n",
       "      <td>0.111746</td>\n",
       "      <td>0.019506</td>\n",
       "      <td>0.000960</td>\n",
       "      <td>0.953488</td>\n",
       "    </tr>\n",
       "    <tr>\n",
       "      <th>2</th>\n",
       "      <td>0.104426</td>\n",
       "      <td>0.113521</td>\n",
       "      <td>0.736772</td>\n",
       "      <td>2.401755</td>\n",
       "      <td>0.082944</td>\n",
       "      <td>7.944782</td>\n",
       "      <td>2.828010</td>\n",
       "      <td>0.005558</td>\n",
       "      <td>1.955884</td>\n",
       "      <td>0.003358</td>\n",
       "      <td>...</td>\n",
       "      <td>5.146636</td>\n",
       "      <td>0.234107</td>\n",
       "      <td>0.051913</td>\n",
       "      <td>0.008406</td>\n",
       "      <td>0.017232</td>\n",
       "      <td>0.050210</td>\n",
       "      <td>0.014424</td>\n",
       "      <td>0.008064</td>\n",
       "      <td>0.007714</td>\n",
       "      <td>0.250811</td>\n",
       "    </tr>\n",
       "    <tr>\n",
       "      <th>3</th>\n",
       "      <td>0.069987</td>\n",
       "      <td>3.427307</td>\n",
       "      <td>0.000000</td>\n",
       "      <td>2.348149</td>\n",
       "      <td>0.005231</td>\n",
       "      <td>1.902854</td>\n",
       "      <td>7.775493</td>\n",
       "      <td>0.001538</td>\n",
       "      <td>0.382316</td>\n",
       "      <td>0.000116</td>\n",
       "      <td>...</td>\n",
       "      <td>0.054512</td>\n",
       "      <td>4.274777</td>\n",
       "      <td>0.003291</td>\n",
       "      <td>2.458464</td>\n",
       "      <td>0.004770</td>\n",
       "      <td>0.850302</td>\n",
       "      <td>0.034855</td>\n",
       "      <td>0.039880</td>\n",
       "      <td>0.041367</td>\n",
       "      <td>0.716258</td>\n",
       "    </tr>\n",
       "    <tr>\n",
       "      <th>4</th>\n",
       "      <td>0.109277</td>\n",
       "      <td>0.121035</td>\n",
       "      <td>2.425440</td>\n",
       "      <td>0.027886</td>\n",
       "      <td>0.004904</td>\n",
       "      <td>0.346190</td>\n",
       "      <td>5.155122</td>\n",
       "      <td>2.818014</td>\n",
       "      <td>2.030220</td>\n",
       "      <td>0.021044</td>\n",
       "      <td>...</td>\n",
       "      <td>5.236780</td>\n",
       "      <td>1.288769</td>\n",
       "      <td>0.001857</td>\n",
       "      <td>0.128116</td>\n",
       "      <td>0.009142</td>\n",
       "      <td>0.021081</td>\n",
       "      <td>1.101728</td>\n",
       "      <td>0.016977</td>\n",
       "      <td>0.019954</td>\n",
       "      <td>0.206595</td>\n",
       "    </tr>\n",
       "  </tbody>\n",
       "</table>\n",
       "<p>5 rows × 2048 columns</p>\n",
       "</div>"
      ],
      "text/plain": [
       "       0         1         2         3         4         5          6     \\\n",
       "0  0.099673  0.028490  0.205105  0.586825  0.001641  1.195065   9.696318   \n",
       "1  0.086342  0.131128  0.001552  0.211647  3.386817  5.728385  11.388655   \n",
       "2  0.104426  0.113521  0.736772  2.401755  0.082944  7.944782   2.828010   \n",
       "3  0.069987  3.427307  0.000000  2.348149  0.005231  1.902854   7.775493   \n",
       "4  0.109277  0.121035  2.425440  0.027886  0.004904  0.346190   5.155122   \n",
       "\n",
       "       7         8         9     ...      2038      2039      2040      2041  \\\n",
       "0  0.195944  1.285026  0.004162  ...  1.476944  0.318303  0.077281  0.078882   \n",
       "1  0.007501  0.059680  0.022477  ...  2.244408  0.031219  0.064146  0.000102   \n",
       "2  0.005558  1.955884  0.003358  ...  5.146636  0.234107  0.051913  0.008406   \n",
       "3  0.001538  0.382316  0.000116  ...  0.054512  4.274777  0.003291  2.458464   \n",
       "4  2.818014  2.030220  0.021044  ...  5.236780  1.288769  0.001857  0.128116   \n",
       "\n",
       "       2042      2043      2044      2045      2046      2047  \n",
       "0  0.016868  0.057342  2.142210  0.005792  0.093422  3.583227  \n",
       "1  0.022523  1.805351  0.111746  0.019506  0.000960  0.953488  \n",
       "2  0.017232  0.050210  0.014424  0.008064  0.007714  0.250811  \n",
       "3  0.004770  0.850302  0.034855  0.039880  0.041367  0.716258  \n",
       "4  0.009142  0.021081  1.101728  0.016977  0.019954  0.206595  \n",
       "\n",
       "[5 rows x 2048 columns]"
      ]
     },
     "execution_count": 14,
     "metadata": {},
     "output_type": "execute_result"
    }
   ],
   "source": [
    "features.head()"
   ]
  },
  {
   "cell_type": "markdown",
   "metadata": {},
   "source": [
    "## Scaling"
   ]
  },
  {
   "cell_type": "code",
   "execution_count": 15,
   "metadata": {},
   "outputs": [],
   "source": [
    "scaler = MinMaxScaler()\n",
    "\n",
    "features_scaled = scaler.fit_transform(features)"
   ]
  },
  {
   "cell_type": "code",
   "execution_count": 16,
   "metadata": {},
   "outputs": [
    {
     "data": {
      "text/plain": [
       "array([[4.25280270e-03, 1.21289985e-03, 8.61822863e-03, ...,\n",
       "        3.66898649e-04, 3.58578104e-03, 1.63798886e-01],\n",
       "       [3.68399086e-03, 5.58239494e-03, 6.52185369e-05, ...,\n",
       "        1.23555146e-03, 3.68359215e-05, 4.35864942e-02],\n",
       "       [4.45561808e-03, 4.83283391e-03, 3.09581721e-02, ...,\n",
       "        5.10801957e-04, 2.96086655e-04, 1.14652250e-02],\n",
       "       ...,\n",
       "       [2.45877282e-03, 5.67061218e-01, 1.19870006e-03, ...,\n",
       "        2.42975385e-03, 1.30940604e-01, 1.55417526e-02],\n",
       "       [5.58358845e-03, 3.50074115e-01, 5.68527353e-04, ...,\n",
       "        3.01111264e-03, 2.45231601e-02, 1.04589703e-03],\n",
       "       [7.17009741e-03, 9.83643355e-03, 1.62461266e-03, ...,\n",
       "        0.00000000e+00, 5.71338290e-04, 5.75097007e-03]])"
      ]
     },
     "execution_count": 16,
     "metadata": {},
     "output_type": "execute_result"
    }
   ],
   "source": [
    "features_scaled"
   ]
  },
  {
   "cell_type": "markdown",
   "metadata": {},
   "source": [
    "## Silhuoette Analysis"
   ]
  },
  {
   "cell_type": "markdown",
   "metadata": {},
   "source": [
    "Look for elbow evaluation\n",
    "\n",
    "https://towardsdatascience.com/k-means-clustering-algorithm-applications-evaluation-methods-and-drawbacks-aa03e644b48a"
   ]
  },
  {
   "cell_type": "markdown",
   "metadata": {},
   "source": [
    "import silhouette_paulo"
   ]
  },
  {
   "cell_type": "markdown",
   "metadata": {
    "scrolled": false
   },
   "source": [
    "silhouette_values = silhouette_paulo.analyze(features_scaled, [i+2 for i in range(len(people)*2)], show_individual_graphs = False)"
   ]
  },
  {
   "cell_type": "markdown",
   "metadata": {},
   "source": [
    "# Clustering\n",
    "See k-means in tensorflow:  https://www.tensorflow.org/api_docs/python/tf/compat/v1/estimator/experimental/KMeans"
   ]
  },
  {
   "cell_type": "markdown",
   "metadata": {},
   "source": [
    "### Kmeans"
   ]
  },
  {
   "cell_type": "code",
   "execution_count": 17,
   "metadata": {},
   "outputs": [],
   "source": [
    "from sklearn.cluster import KMeans"
   ]
  },
  {
   "cell_type": "code",
   "execution_count": 18,
   "metadata": {},
   "outputs": [],
   "source": [
    "model = KMeans(n_clusters=514, verbose = 0, random_state=42)"
   ]
  },
  {
   "cell_type": "code",
   "execution_count": 19,
   "metadata": {},
   "outputs": [],
   "source": [
    "cluster_labels = model.fit_predict(features_scaled)"
   ]
  },
  {
   "cell_type": "code",
   "execution_count": 20,
   "metadata": {},
   "outputs": [
    {
     "data": {
      "text/html": [
       "<div>\n",
       "<style scoped>\n",
       "    .dataframe tbody tr th:only-of-type {\n",
       "        vertical-align: middle;\n",
       "    }\n",
       "\n",
       "    .dataframe tbody tr th {\n",
       "        vertical-align: top;\n",
       "    }\n",
       "\n",
       "    .dataframe thead th {\n",
       "        text-align: right;\n",
       "    }\n",
       "</style>\n",
       "<table border=\"1\" class=\"dataframe\">\n",
       "  <thead>\n",
       "    <tr style=\"text-align: right;\">\n",
       "      <th></th>\n",
       "      <th>0</th>\n",
       "      <th>1</th>\n",
       "      <th>2</th>\n",
       "      <th>3</th>\n",
       "      <th>4</th>\n",
       "      <th>5</th>\n",
       "      <th>6</th>\n",
       "      <th>7</th>\n",
       "      <th>8</th>\n",
       "      <th>9</th>\n",
       "      <th>...</th>\n",
       "      <th>2039</th>\n",
       "      <th>2040</th>\n",
       "      <th>2041</th>\n",
       "      <th>2042</th>\n",
       "      <th>2043</th>\n",
       "      <th>2044</th>\n",
       "      <th>2045</th>\n",
       "      <th>2046</th>\n",
       "      <th>2047</th>\n",
       "      <th>cluster_Kmeans</th>\n",
       "    </tr>\n",
       "  </thead>\n",
       "  <tbody>\n",
       "    <tr>\n",
       "      <th>0</th>\n",
       "      <td>0.099673</td>\n",
       "      <td>0.02849</td>\n",
       "      <td>0.205105</td>\n",
       "      <td>0.586825</td>\n",
       "      <td>0.001641</td>\n",
       "      <td>1.195065</td>\n",
       "      <td>9.696318</td>\n",
       "      <td>0.195944</td>\n",
       "      <td>1.285026</td>\n",
       "      <td>0.004162</td>\n",
       "      <td>...</td>\n",
       "      <td>0.318303</td>\n",
       "      <td>0.077281</td>\n",
       "      <td>0.078882</td>\n",
       "      <td>0.016868</td>\n",
       "      <td>0.057342</td>\n",
       "      <td>2.14221</td>\n",
       "      <td>0.005792</td>\n",
       "      <td>0.093422</td>\n",
       "      <td>3.583227</td>\n",
       "      <td>149</td>\n",
       "    </tr>\n",
       "  </tbody>\n",
       "</table>\n",
       "<p>1 rows × 2049 columns</p>\n",
       "</div>"
      ],
      "text/plain": [
       "          0        1         2         3         4         5         6  \\\n",
       "0  0.099673  0.02849  0.205105  0.586825  0.001641  1.195065  9.696318   \n",
       "\n",
       "          7         8         9  ...      2039      2040      2041      2042  \\\n",
       "0  0.195944  1.285026  0.004162  ...  0.318303  0.077281  0.078882  0.016868   \n",
       "\n",
       "       2043     2044      2045      2046      2047  cluster_Kmeans  \n",
       "0  0.057342  2.14221  0.005792  0.093422  3.583227             149  \n",
       "\n",
       "[1 rows x 2049 columns]"
      ]
     },
     "execution_count": 20,
     "metadata": {},
     "output_type": "execute_result"
    }
   ],
   "source": [
    "features['cluster_Kmeans'] = cluster_labels\n",
    "features.head(1)"
   ]
  },
  {
   "cell_type": "raw",
   "metadata": {},
   "source": [
    "### MeanShift"
   ]
  },
  {
   "cell_type": "raw",
   "metadata": {},
   "source": [
    "from sklearn.cluster import MeanShift"
   ]
  },
  {
   "cell_type": "raw",
   "metadata": {},
   "source": [
    "model = MeanShift()"
   ]
  },
  {
   "cell_type": "raw",
   "metadata": {},
   "source": [
    "cluster_labels = model.fit_predict(features_scaled)"
   ]
  },
  {
   "cell_type": "raw",
   "metadata": {},
   "source": [
    "features['cluster_mean_shift'] = cluster_labels"
   ]
  },
  {
   "cell_type": "markdown",
   "metadata": {},
   "source": [
    "### GMM"
   ]
  },
  {
   "cell_type": "code",
   "execution_count": 33,
   "metadata": {},
   "outputs": [],
   "source": [
    "from sklearn.mixture import GaussianMixture"
   ]
  },
  {
   "cell_type": "code",
   "execution_count": 34,
   "metadata": {},
   "outputs": [],
   "source": [
    "model = GaussianMixture(n_components = 514)"
   ]
  },
  {
   "cell_type": "code",
   "execution_count": null,
   "metadata": {},
   "outputs": [],
   "source": [
    "cluster_labels = model.fit_predict(features_scaled)"
   ]
  },
  {
   "cell_type": "code",
   "execution_count": null,
   "metadata": {},
   "outputs": [],
   "source": [
    "features['cluster_gmm'] = cluster_labels"
   ]
  },
  {
   "cell_type": "markdown",
   "metadata": {},
   "source": [
    "### Affinity Propagation"
   ]
  },
  {
   "cell_type": "code",
   "execution_count": 21,
   "metadata": {},
   "outputs": [],
   "source": [
    "from sklearn.cluster import AffinityPropagation"
   ]
  },
  {
   "cell_type": "code",
   "execution_count": 22,
   "metadata": {},
   "outputs": [],
   "source": [
    "model = AffinityPropagation()"
   ]
  },
  {
   "cell_type": "code",
   "execution_count": 23,
   "metadata": {},
   "outputs": [
    {
     "name": "stderr",
     "output_type": "stream",
     "text": [
      "c:\\users\\paulo\\.virtualenvs\\face_clustering-td_v2agr\\lib\\site-packages\\sklearn\\cluster\\_affinity_propagation.py:226: ConvergenceWarning: Affinity propagation did not converge, this model will not have any cluster centers.\n",
      "  \"will not have any cluster centers.\", ConvergenceWarning)\n"
     ]
    }
   ],
   "source": [
    "cluster_labels = model.fit_predict(features_scaled)"
   ]
  },
  {
   "cell_type": "code",
   "execution_count": 24,
   "metadata": {},
   "outputs": [],
   "source": [
    "features['cluster_affinityPropagation'] = cluster_labels"
   ]
  },
  {
   "cell_type": "markdown",
   "metadata": {},
   "source": [
    "### Spectral Clustering"
   ]
  },
  {
   "cell_type": "code",
   "execution_count": 36,
   "metadata": {},
   "outputs": [],
   "source": [
    "from sklearn.cluster import SpectralClustering"
   ]
  },
  {
   "cell_type": "code",
   "execution_count": 37,
   "metadata": {},
   "outputs": [],
   "source": [
    "model = SpectralClustering(n_clusters=514, assign_labels=\"discretize\",random_state=42)"
   ]
  },
  {
   "cell_type": "code",
   "execution_count": null,
   "metadata": {},
   "outputs": [],
   "source": [
    "cluster_labels = model.fit_predict(features_scaled)"
   ]
  },
  {
   "cell_type": "code",
   "execution_count": null,
   "metadata": {},
   "outputs": [],
   "source": [
    "features['cluster_spectralClustering'] = cluster_labels"
   ]
  },
  {
   "cell_type": "markdown",
   "metadata": {},
   "source": [
    "### AgglomerativeClustering"
   ]
  },
  {
   "cell_type": "code",
   "execution_count": 25,
   "metadata": {},
   "outputs": [],
   "source": [
    "from sklearn.cluster import AgglomerativeClustering"
   ]
  },
  {
   "cell_type": "code",
   "execution_count": 26,
   "metadata": {},
   "outputs": [],
   "source": [
    "model = AgglomerativeClustering(n_clusters=514)"
   ]
  },
  {
   "cell_type": "code",
   "execution_count": 27,
   "metadata": {},
   "outputs": [],
   "source": [
    "cluster_labels = model.fit_predict(features_scaled)"
   ]
  },
  {
   "cell_type": "code",
   "execution_count": 28,
   "metadata": {},
   "outputs": [],
   "source": [
    "features['cluster_agglomerative'] = cluster_labels"
   ]
  },
  {
   "cell_type": "markdown",
   "metadata": {},
   "source": [
    "## Analyzing Clusters"
   ]
  },
  {
   "cell_type": "code",
   "execution_count": 39,
   "metadata": {},
   "outputs": [],
   "source": [
    "features_names = features.copy()"
   ]
  },
  {
   "cell_type": "code",
   "execution_count": 40,
   "metadata": {},
   "outputs": [],
   "source": [
    "features_names['name'] = face_embeddings['name']"
   ]
  },
  {
   "cell_type": "code",
   "execution_count": 41,
   "metadata": {},
   "outputs": [],
   "source": [
    "features_names.to_csv(f'features_clusters_{backbone}.csv')"
   ]
  },
  {
   "cell_type": "code",
   "execution_count": 42,
   "metadata": {},
   "outputs": [
    {
     "data": {
      "text/html": [
       "<div>\n",
       "<style scoped>\n",
       "    .dataframe tbody tr th:only-of-type {\n",
       "        vertical-align: middle;\n",
       "    }\n",
       "\n",
       "    .dataframe tbody tr th {\n",
       "        vertical-align: top;\n",
       "    }\n",
       "\n",
       "    .dataframe thead th {\n",
       "        text-align: right;\n",
       "    }\n",
       "</style>\n",
       "<table border=\"1\" class=\"dataframe\">\n",
       "  <thead>\n",
       "    <tr style=\"text-align: right;\">\n",
       "      <th></th>\n",
       "      <th>0</th>\n",
       "      <th>1</th>\n",
       "      <th>2</th>\n",
       "      <th>3</th>\n",
       "      <th>4</th>\n",
       "      <th>5</th>\n",
       "      <th>6</th>\n",
       "      <th>7</th>\n",
       "      <th>8</th>\n",
       "      <th>9</th>\n",
       "      <th>...</th>\n",
       "      <th>2042</th>\n",
       "      <th>2043</th>\n",
       "      <th>2044</th>\n",
       "      <th>2045</th>\n",
       "      <th>2046</th>\n",
       "      <th>2047</th>\n",
       "      <th>cluster_Kmeans</th>\n",
       "      <th>cluster_affinityPropagation</th>\n",
       "      <th>cluster_agglomerative</th>\n",
       "      <th>name</th>\n",
       "    </tr>\n",
       "  </thead>\n",
       "  <tbody>\n",
       "    <tr>\n",
       "      <th>0</th>\n",
       "      <td>0.099673</td>\n",
       "      <td>0.028490</td>\n",
       "      <td>0.205105</td>\n",
       "      <td>0.586825</td>\n",
       "      <td>0.001641</td>\n",
       "      <td>1.195065</td>\n",
       "      <td>9.696318</td>\n",
       "      <td>0.195944</td>\n",
       "      <td>1.285026</td>\n",
       "      <td>0.004162</td>\n",
       "      <td>...</td>\n",
       "      <td>0.016868</td>\n",
       "      <td>0.057342</td>\n",
       "      <td>2.142210</td>\n",
       "      <td>0.005792</td>\n",
       "      <td>0.093422</td>\n",
       "      <td>3.583227</td>\n",
       "      <td>149</td>\n",
       "      <td>-1</td>\n",
       "      <td>226</td>\n",
       "      <td>105112_b</td>\n",
       "    </tr>\n",
       "    <tr>\n",
       "      <th>1</th>\n",
       "      <td>0.086342</td>\n",
       "      <td>0.131128</td>\n",
       "      <td>0.001552</td>\n",
       "      <td>0.211647</td>\n",
       "      <td>3.386817</td>\n",
       "      <td>5.728385</td>\n",
       "      <td>11.388655</td>\n",
       "      <td>0.007501</td>\n",
       "      <td>0.059680</td>\n",
       "      <td>0.022477</td>\n",
       "      <td>...</td>\n",
       "      <td>0.022523</td>\n",
       "      <td>1.805351</td>\n",
       "      <td>0.111746</td>\n",
       "      <td>0.019506</td>\n",
       "      <td>0.000960</td>\n",
       "      <td>0.953488</td>\n",
       "      <td>451</td>\n",
       "      <td>-1</td>\n",
       "      <td>226</td>\n",
       "      <td>105112_b</td>\n",
       "    </tr>\n",
       "    <tr>\n",
       "      <th>2</th>\n",
       "      <td>0.104426</td>\n",
       "      <td>0.113521</td>\n",
       "      <td>0.736772</td>\n",
       "      <td>2.401755</td>\n",
       "      <td>0.082944</td>\n",
       "      <td>7.944782</td>\n",
       "      <td>2.828010</td>\n",
       "      <td>0.005558</td>\n",
       "      <td>1.955884</td>\n",
       "      <td>0.003358</td>\n",
       "      <td>...</td>\n",
       "      <td>0.017232</td>\n",
       "      <td>0.050210</td>\n",
       "      <td>0.014424</td>\n",
       "      <td>0.008064</td>\n",
       "      <td>0.007714</td>\n",
       "      <td>0.250811</td>\n",
       "      <td>146</td>\n",
       "      <td>-1</td>\n",
       "      <td>226</td>\n",
       "      <td>105112_b</td>\n",
       "    </tr>\n",
       "    <tr>\n",
       "      <th>3</th>\n",
       "      <td>0.069987</td>\n",
       "      <td>3.427307</td>\n",
       "      <td>0.000000</td>\n",
       "      <td>2.348149</td>\n",
       "      <td>0.005231</td>\n",
       "      <td>1.902854</td>\n",
       "      <td>7.775493</td>\n",
       "      <td>0.001538</td>\n",
       "      <td>0.382316</td>\n",
       "      <td>0.000116</td>\n",
       "      <td>...</td>\n",
       "      <td>0.004770</td>\n",
       "      <td>0.850302</td>\n",
       "      <td>0.034855</td>\n",
       "      <td>0.039880</td>\n",
       "      <td>0.041367</td>\n",
       "      <td>0.716258</td>\n",
       "      <td>98</td>\n",
       "      <td>-1</td>\n",
       "      <td>10</td>\n",
       "      <td>105112_b</td>\n",
       "    </tr>\n",
       "    <tr>\n",
       "      <th>4</th>\n",
       "      <td>0.109277</td>\n",
       "      <td>0.121035</td>\n",
       "      <td>2.425440</td>\n",
       "      <td>0.027886</td>\n",
       "      <td>0.004904</td>\n",
       "      <td>0.346190</td>\n",
       "      <td>5.155122</td>\n",
       "      <td>2.818014</td>\n",
       "      <td>2.030220</td>\n",
       "      <td>0.021044</td>\n",
       "      <td>...</td>\n",
       "      <td>0.009142</td>\n",
       "      <td>0.021081</td>\n",
       "      <td>1.101728</td>\n",
       "      <td>0.016977</td>\n",
       "      <td>0.019954</td>\n",
       "      <td>0.206595</td>\n",
       "      <td>146</td>\n",
       "      <td>-1</td>\n",
       "      <td>226</td>\n",
       "      <td>105112_b</td>\n",
       "    </tr>\n",
       "  </tbody>\n",
       "</table>\n",
       "<p>5 rows × 2052 columns</p>\n",
       "</div>"
      ],
      "text/plain": [
       "          0         1         2         3         4         5          6  \\\n",
       "0  0.099673  0.028490  0.205105  0.586825  0.001641  1.195065   9.696318   \n",
       "1  0.086342  0.131128  0.001552  0.211647  3.386817  5.728385  11.388655   \n",
       "2  0.104426  0.113521  0.736772  2.401755  0.082944  7.944782   2.828010   \n",
       "3  0.069987  3.427307  0.000000  2.348149  0.005231  1.902854   7.775493   \n",
       "4  0.109277  0.121035  2.425440  0.027886  0.004904  0.346190   5.155122   \n",
       "\n",
       "          7         8         9  ...      2042      2043      2044      2045  \\\n",
       "0  0.195944  1.285026  0.004162  ...  0.016868  0.057342  2.142210  0.005792   \n",
       "1  0.007501  0.059680  0.022477  ...  0.022523  1.805351  0.111746  0.019506   \n",
       "2  0.005558  1.955884  0.003358  ...  0.017232  0.050210  0.014424  0.008064   \n",
       "3  0.001538  0.382316  0.000116  ...  0.004770  0.850302  0.034855  0.039880   \n",
       "4  2.818014  2.030220  0.021044  ...  0.009142  0.021081  1.101728  0.016977   \n",
       "\n",
       "       2046      2047  cluster_Kmeans  cluster_affinityPropagation  \\\n",
       "0  0.093422  3.583227             149                           -1   \n",
       "1  0.000960  0.953488             451                           -1   \n",
       "2  0.007714  0.250811             146                           -1   \n",
       "3  0.041367  0.716258              98                           -1   \n",
       "4  0.019954  0.206595             146                           -1   \n",
       "\n",
       "   cluster_agglomerative      name  \n",
       "0                    226  105112_b  \n",
       "1                    226  105112_b  \n",
       "2                    226  105112_b  \n",
       "3                     10  105112_b  \n",
       "4                    226  105112_b  \n",
       "\n",
       "[5 rows x 2052 columns]"
      ]
     },
     "execution_count": 42,
     "metadata": {},
     "output_type": "execute_result"
    }
   ],
   "source": [
    "features_names.head()"
   ]
  },
  {
   "cell_type": "raw",
   "metadata": {},
   "source": [
    "people_clusters = features_names[['name', 'Cluster']].copy()"
   ]
  },
  {
   "cell_type": "raw",
   "metadata": {},
   "source": [
    "people_clusters['qtd'] = cluster_labels"
   ]
  },
  {
   "cell_type": "raw",
   "metadata": {
    "scrolled": true
   },
   "source": [
    "qtd_clusters = people_clusters.groupby(['Cluster', 'name']).count()\n",
    "qtd_clusters.head()"
   ]
  },
  {
   "cell_type": "raw",
   "metadata": {},
   "source": [
    "qtd_clusters = people_clusters.groupby(['name','Cluster']).count()\n",
    "qtd_clusters.head()"
   ]
  },
  {
   "cell_type": "raw",
   "metadata": {},
   "source": [
    "qtd_clusters.sum()"
   ]
  },
  {
   "cell_type": "markdown",
   "metadata": {},
   "source": [
    "## Evaluation Classification\n",
    "https://scikit-learn.org/stable/modules/clustering.html#clustering-performance-evaluation"
   ]
  },
  {
   "cell_type": "code",
   "execution_count": 43,
   "metadata": {},
   "outputs": [],
   "source": [
    "cluster_cols = [c for c in features_names.columns if str(c).startswith('cluster')]"
   ]
  },
  {
   "cell_type": "code",
   "execution_count": 44,
   "metadata": {},
   "outputs": [],
   "source": [
    "labels_true = features_names['name'].values"
   ]
  },
  {
   "cell_type": "code",
   "execution_count": 45,
   "metadata": {},
   "outputs": [],
   "source": [
    "dict_results = {}\n",
    "for col in cluster_cols:\n",
    "    labels_pred = features_names[col].values\n",
    "    \n",
    "    dict_results[col] = [metrics.homogeneity_score(labels_true,labels_pred),\n",
    "                        metrics.completeness_score(labels_true, labels_pred),\n",
    "                        metrics.v_measure_score(labels_true, labels_pred)]"
   ]
  },
  {
   "cell_type": "code",
   "execution_count": 46,
   "metadata": {},
   "outputs": [
    {
     "data": {
      "text/html": [
       "<div>\n",
       "<style scoped>\n",
       "    .dataframe tbody tr th:only-of-type {\n",
       "        vertical-align: middle;\n",
       "    }\n",
       "\n",
       "    .dataframe tbody tr th {\n",
       "        vertical-align: top;\n",
       "    }\n",
       "\n",
       "    .dataframe thead th {\n",
       "        text-align: right;\n",
       "    }\n",
       "</style>\n",
       "<table border=\"1\" class=\"dataframe\">\n",
       "  <thead>\n",
       "    <tr style=\"text-align: right;\">\n",
       "      <th></th>\n",
       "      <th>Homogeneity Score</th>\n",
       "      <th>Completeness Score</th>\n",
       "      <th>V-Measure</th>\n",
       "    </tr>\n",
       "  </thead>\n",
       "  <tbody>\n",
       "    <tr>\n",
       "      <th>cluster_Kmeans</th>\n",
       "      <td>9.392060e-01</td>\n",
       "      <td>0.949768</td>\n",
       "      <td>9.444576e-01</td>\n",
       "    </tr>\n",
       "    <tr>\n",
       "      <th>cluster_affinityPropagation</th>\n",
       "      <td>-5.087186e-17</td>\n",
       "      <td>1.000000</td>\n",
       "      <td>-1.017437e-16</td>\n",
       "    </tr>\n",
       "    <tr>\n",
       "      <th>cluster_agglomerative</th>\n",
       "      <td>9.532640e-01</td>\n",
       "      <td>0.961188</td>\n",
       "      <td>9.572094e-01</td>\n",
       "    </tr>\n",
       "  </tbody>\n",
       "</table>\n",
       "</div>"
      ],
      "text/plain": [
       "                             Homogeneity Score  Completeness Score  \\\n",
       "cluster_Kmeans                    9.392060e-01            0.949768   \n",
       "cluster_affinityPropagation      -5.087186e-17            1.000000   \n",
       "cluster_agglomerative             9.532640e-01            0.961188   \n",
       "\n",
       "                                V-Measure  \n",
       "cluster_Kmeans               9.444576e-01  \n",
       "cluster_affinityPropagation -1.017437e-16  \n",
       "cluster_agglomerative        9.572094e-01  "
      ]
     },
     "execution_count": 46,
     "metadata": {},
     "output_type": "execute_result"
    }
   ],
   "source": [
    "df_results = pd.DataFrame.from_dict(dict_results, orient='index', columns=['Homogeneity Score', 'Completeness Score', 'V-Measure'])\n",
    "df_results"
   ]
  },
  {
   "cell_type": "code",
   "execution_count": 47,
   "metadata": {},
   "outputs": [],
   "source": [
    "df_results.to_csv(f'results_{backbone}.csv')"
   ]
  },
  {
   "cell_type": "code",
   "execution_count": null,
   "metadata": {},
   "outputs": [],
   "source": []
  }
 ],
 "metadata": {
  "kernelspec": {
   "display_name": "Python 3",
   "language": "python",
   "name": "python3"
  },
  "language_info": {
   "codemirror_mode": {
    "name": "ipython",
    "version": 3
   },
   "file_extension": ".py",
   "mimetype": "text/x-python",
   "name": "python",
   "nbconvert_exporter": "python",
   "pygments_lexer": "ipython3",
   "version": "3.6.8"
  }
 },
 "nbformat": 4,
 "nbformat_minor": 4
}
